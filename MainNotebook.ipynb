{
  "nbformat": 4,
  "nbformat_minor": 0,
  "metadata": {
    "colab": {
      "name": "Copy of AutoKeras MainNotebook",
      "provenance": [],
      "collapsed_sections": [],
      "mount_file_id": "1BCwiGglBmC7bxxANekjGqMCvEj2Fc4jP",
      "authorship_tag": "ABX9TyOEv04UbCdAdVqI4iA3jvSA",
      "include_colab_link": true
    },
    "kernelspec": {
      "name": "python3",
      "display_name": "Python 3"
    }
  },
  "cells": [
    {
      "cell_type": "markdown",
      "metadata": {
        "id": "view-in-github",
        "colab_type": "text"
      },
      "source": [
        "<a href=\"https://colab.research.google.com/github/CianOSull/AutoML_With_SA_FYP_2021/blob/AutoKeras/MainNotebook.ipynb\" target=\"_parent\"><img src=\"https://colab.research.google.com/assets/colab-badge.svg\" alt=\"Open In Colab\"/></a>"
      ]
    },
    {
      "cell_type": "markdown",
      "metadata": {
        "id": "i_zrt8fk5AJt"
      },
      "source": [
        "# Generic Notebook for running all the libraries\r\n",
        "\r\n",
        "How this notebook works is that it contains the code\r\n",
        "for loading and cleaning the dataset.\r\n",
        "\r\n",
        "Then there is multiple branches created on the\r\n",
        "Github that include the code for running each library.\r\n",
        "\r\n",
        "E.g. MLBox branch has the code for running MLBox."
      ]
    },
    {
      "cell_type": "markdown",
      "metadata": {
        "id": "OFljFvk_9b_e"
      },
      "source": [
        "# CURRENT BRANCH = AUTOKERAS"
      ]
    },
    {
      "cell_type": "markdown",
      "metadata": {
        "id": "ew8tq1lj6v1L"
      },
      "source": [
        "# Install the necessary library\r\n",
        "Run the install code in the code cell below."
      ]
    },
    {
      "cell_type": "code",
      "metadata": {
        "id": "5wFpyMaK6tMs",
        "colab": {
          "base_uri": "https://localhost:8080/"
        },
        "outputId": "76182a3e-b20d-47e8-ea2c-eec7ce224ba6"
      },
      "source": [
        "# Insert any install comamnds in this cell\r\n",
        "!pip3 install autokeras"
      ],
      "execution_count": null,
      "outputs": [
        {
          "output_type": "stream",
          "text": [
            "Requirement already satisfied: autokeras in /usr/local/lib/python3.7/dist-packages (1.0.12)\n",
            "Requirement already satisfied: packaging in /usr/local/lib/python3.7/dist-packages (from autokeras) (20.9)\n",
            "Requirement already satisfied: keras-tuner>=1.0.2 in /usr/local/lib/python3.7/dist-packages (from autokeras) (1.0.2)\n",
            "Requirement already satisfied: tensorflow>=2.3.0 in /usr/local/lib/python3.7/dist-packages (from autokeras) (2.4.1)\n",
            "Requirement already satisfied: pandas in /usr/local/lib/python3.7/dist-packages (from autokeras) (1.1.5)\n",
            "Requirement already satisfied: scikit-learn in /usr/local/lib/python3.7/dist-packages (from autokeras) (0.22.2.post1)\n",
            "Requirement already satisfied: pyparsing>=2.0.2 in /usr/local/lib/python3.7/dist-packages (from packaging->autokeras) (2.4.7)\n",
            "Requirement already satisfied: tabulate in /usr/local/lib/python3.7/dist-packages (from keras-tuner>=1.0.2->autokeras) (0.8.9)\n",
            "Requirement already satisfied: scipy in /usr/local/lib/python3.7/dist-packages (from keras-tuner>=1.0.2->autokeras) (1.4.1)\n",
            "Requirement already satisfied: future in /usr/local/lib/python3.7/dist-packages (from keras-tuner>=1.0.2->autokeras) (0.16.0)\n",
            "Requirement already satisfied: colorama in /usr/local/lib/python3.7/dist-packages (from keras-tuner>=1.0.2->autokeras) (0.4.4)\n",
            "Requirement already satisfied: tqdm in /usr/local/lib/python3.7/dist-packages (from keras-tuner>=1.0.2->autokeras) (4.41.1)\n",
            "Requirement already satisfied: numpy in /usr/local/lib/python3.7/dist-packages (from keras-tuner>=1.0.2->autokeras) (1.19.5)\n",
            "Requirement already satisfied: requests in /usr/local/lib/python3.7/dist-packages (from keras-tuner>=1.0.2->autokeras) (2.23.0)\n",
            "Requirement already satisfied: terminaltables in /usr/local/lib/python3.7/dist-packages (from keras-tuner>=1.0.2->autokeras) (3.1.0)\n",
            "Requirement already satisfied: typing-extensions~=3.7.4 in /usr/local/lib/python3.7/dist-packages (from tensorflow>=2.3.0->autokeras) (3.7.4.3)\n",
            "Requirement already satisfied: grpcio~=1.32.0 in /usr/local/lib/python3.7/dist-packages (from tensorflow>=2.3.0->autokeras) (1.32.0)\n",
            "Requirement already satisfied: six~=1.15.0 in /usr/local/lib/python3.7/dist-packages (from tensorflow>=2.3.0->autokeras) (1.15.0)\n",
            "Requirement already satisfied: termcolor~=1.1.0 in /usr/local/lib/python3.7/dist-packages (from tensorflow>=2.3.0->autokeras) (1.1.0)\n",
            "Requirement already satisfied: wheel~=0.35 in /usr/local/lib/python3.7/dist-packages (from tensorflow>=2.3.0->autokeras) (0.36.2)\n",
            "Requirement already satisfied: wrapt~=1.12.1 in /usr/local/lib/python3.7/dist-packages (from tensorflow>=2.3.0->autokeras) (1.12.1)\n",
            "Requirement already satisfied: tensorboard~=2.4 in /usr/local/lib/python3.7/dist-packages (from tensorflow>=2.3.0->autokeras) (2.4.1)\n",
            "Requirement already satisfied: opt-einsum~=3.3.0 in /usr/local/lib/python3.7/dist-packages (from tensorflow>=2.3.0->autokeras) (3.3.0)\n",
            "Requirement already satisfied: protobuf>=3.9.2 in /usr/local/lib/python3.7/dist-packages (from tensorflow>=2.3.0->autokeras) (3.12.4)\n",
            "Requirement already satisfied: absl-py~=0.10 in /usr/local/lib/python3.7/dist-packages (from tensorflow>=2.3.0->autokeras) (0.10.0)\n",
            "Requirement already satisfied: google-pasta~=0.2 in /usr/local/lib/python3.7/dist-packages (from tensorflow>=2.3.0->autokeras) (0.2.0)\n",
            "Requirement already satisfied: gast==0.3.3 in /usr/local/lib/python3.7/dist-packages (from tensorflow>=2.3.0->autokeras) (0.3.3)\n",
            "Requirement already satisfied: tensorflow-estimator<2.5.0,>=2.4.0 in /usr/local/lib/python3.7/dist-packages (from tensorflow>=2.3.0->autokeras) (2.4.0)\n",
            "Requirement already satisfied: h5py~=2.10.0 in /usr/local/lib/python3.7/dist-packages (from tensorflow>=2.3.0->autokeras) (2.10.0)\n",
            "Requirement already satisfied: keras-preprocessing~=1.1.2 in /usr/local/lib/python3.7/dist-packages (from tensorflow>=2.3.0->autokeras) (1.1.2)\n",
            "Requirement already satisfied: flatbuffers~=1.12.0 in /usr/local/lib/python3.7/dist-packages (from tensorflow>=2.3.0->autokeras) (1.12)\n",
            "Requirement already satisfied: astunparse~=1.6.3 in /usr/local/lib/python3.7/dist-packages (from tensorflow>=2.3.0->autokeras) (1.6.3)\n",
            "Requirement already satisfied: pytz>=2017.2 in /usr/local/lib/python3.7/dist-packages (from pandas->autokeras) (2018.9)\n",
            "Requirement already satisfied: python-dateutil>=2.7.3 in /usr/local/lib/python3.7/dist-packages (from pandas->autokeras) (2.8.1)\n",
            "Requirement already satisfied: joblib>=0.11 in /usr/local/lib/python3.7/dist-packages (from scikit-learn->autokeras) (1.0.1)\n",
            "Requirement already satisfied: chardet<4,>=3.0.2 in /usr/local/lib/python3.7/dist-packages (from requests->keras-tuner>=1.0.2->autokeras) (3.0.4)\n",
            "Requirement already satisfied: idna<3,>=2.5 in /usr/local/lib/python3.7/dist-packages (from requests->keras-tuner>=1.0.2->autokeras) (2.10)\n",
            "Requirement already satisfied: certifi>=2017.4.17 in /usr/local/lib/python3.7/dist-packages (from requests->keras-tuner>=1.0.2->autokeras) (2020.12.5)\n",
            "Requirement already satisfied: urllib3!=1.25.0,!=1.25.1,<1.26,>=1.21.1 in /usr/local/lib/python3.7/dist-packages (from requests->keras-tuner>=1.0.2->autokeras) (1.24.3)\n",
            "Requirement already satisfied: werkzeug>=0.11.15 in /usr/local/lib/python3.7/dist-packages (from tensorboard~=2.4->tensorflow>=2.3.0->autokeras) (1.0.1)\n",
            "Requirement already satisfied: tensorboard-plugin-wit>=1.6.0 in /usr/local/lib/python3.7/dist-packages (from tensorboard~=2.4->tensorflow>=2.3.0->autokeras) (1.8.0)\n",
            "Requirement already satisfied: markdown>=2.6.8 in /usr/local/lib/python3.7/dist-packages (from tensorboard~=2.4->tensorflow>=2.3.0->autokeras) (3.3.4)\n",
            "Requirement already satisfied: setuptools>=41.0.0 in /usr/local/lib/python3.7/dist-packages (from tensorboard~=2.4->tensorflow>=2.3.0->autokeras) (54.0.0)\n",
            "Requirement already satisfied: google-auth-oauthlib<0.5,>=0.4.1 in /usr/local/lib/python3.7/dist-packages (from tensorboard~=2.4->tensorflow>=2.3.0->autokeras) (0.4.2)\n",
            "Requirement already satisfied: google-auth<2,>=1.6.3 in /usr/local/lib/python3.7/dist-packages (from tensorboard~=2.4->tensorflow>=2.3.0->autokeras) (1.27.0)\n",
            "Requirement already satisfied: importlib-metadata; python_version < \"3.8\" in /usr/local/lib/python3.7/dist-packages (from markdown>=2.6.8->tensorboard~=2.4->tensorflow>=2.3.0->autokeras) (3.7.0)\n",
            "Requirement already satisfied: requests-oauthlib>=0.7.0 in /usr/local/lib/python3.7/dist-packages (from google-auth-oauthlib<0.5,>=0.4.1->tensorboard~=2.4->tensorflow>=2.3.0->autokeras) (1.3.0)\n",
            "Requirement already satisfied: rsa<5,>=3.1.4; python_version >= \"3.6\" in /usr/local/lib/python3.7/dist-packages (from google-auth<2,>=1.6.3->tensorboard~=2.4->tensorflow>=2.3.0->autokeras) (4.7.2)\n",
            "Requirement already satisfied: pyasn1-modules>=0.2.1 in /usr/local/lib/python3.7/dist-packages (from google-auth<2,>=1.6.3->tensorboard~=2.4->tensorflow>=2.3.0->autokeras) (0.2.8)\n",
            "Requirement already satisfied: cachetools<5.0,>=2.0.0 in /usr/local/lib/python3.7/dist-packages (from google-auth<2,>=1.6.3->tensorboard~=2.4->tensorflow>=2.3.0->autokeras) (4.2.1)\n",
            "Requirement already satisfied: zipp>=0.5 in /usr/local/lib/python3.7/dist-packages (from importlib-metadata; python_version < \"3.8\"->markdown>=2.6.8->tensorboard~=2.4->tensorflow>=2.3.0->autokeras) (3.4.0)\n",
            "Requirement already satisfied: oauthlib>=3.0.0 in /usr/local/lib/python3.7/dist-packages (from requests-oauthlib>=0.7.0->google-auth-oauthlib<0.5,>=0.4.1->tensorboard~=2.4->tensorflow>=2.3.0->autokeras) (3.1.0)\n",
            "Requirement already satisfied: pyasn1>=0.1.3 in /usr/local/lib/python3.7/dist-packages (from rsa<5,>=3.1.4; python_version >= \"3.6\"->google-auth<2,>=1.6.3->tensorboard~=2.4->tensorflow>=2.3.0->autokeras) (0.4.8)\n"
          ],
          "name": "stdout"
        }
      ]
    },
    {
      "cell_type": "markdown",
      "metadata": {
        "id": "7TNIZJ6c5hcF"
      },
      "source": [
        "# Preprocessing Section"
      ]
    },
    {
      "cell_type": "code",
      "metadata": {
        "id": "njEYGcZQ42t-"
      },
      "source": [
        "# Import the necessary modules for cleaning\r\n",
        "import math\r\n",
        "import time \r\n",
        "import pandas as pd\r\n",
        "import numpy as np\r\n",
        "from nltk.stem import WordNetLemmatizer\r\n",
        "from nltk.tokenize import word_tokenize \r\n",
        "from sklearn.utils import shuffle\r\n",
        "from sklearn.linear_model import LogisticRegression\r\n",
        "from xgboost import XGBClassifier\r\n",
        "from sklearn.metrics import accuracy_score"
      ],
      "execution_count": null,
      "outputs": []
    },
    {
      "cell_type": "code",
      "metadata": {
        "id": "8sPOCEGS5Xgn"
      },
      "source": [
        "# Create the set of stopwords for cleaning text\r\n",
        "stopwords = set(w.rstrip() for w in open('/content/drive/MyDrive/CIT/FYP/ImplementationFiles/stopwords.txt'))"
      ],
      "execution_count": null,
      "outputs": []
    },
    {
      "cell_type": "code",
      "metadata": {
        "colab": {
          "base_uri": "https://localhost:8080/"
        },
        "id": "93NNPX-A5srS",
        "outputId": "1428def0-ae8f-4080-8f61-067d773e9507"
      },
      "source": [
        "# Download the necessary parts for the NLTK module\r\n",
        "import nltk\r\n",
        "nltk.download('punkt')\r\n",
        "nltk.download('wordnet')"
      ],
      "execution_count": null,
      "outputs": [
        {
          "output_type": "stream",
          "text": [
            "[nltk_data] Downloading package punkt to /root/nltk_data...\n",
            "[nltk_data]   Package punkt is already up-to-date!\n",
            "[nltk_data] Downloading package wordnet to /root/nltk_data...\n",
            "[nltk_data]   Package wordnet is already up-to-date!\n"
          ],
          "name": "stdout"
        },
        {
          "output_type": "execute_result",
          "data": {
            "text/plain": [
              "True"
            ]
          },
          "metadata": {
            "tags": []
          },
          "execution_count": 24
        }
      ]
    },
    {
      "cell_type": "code",
      "metadata": {
        "id": "j4ptneBc5tAN"
      },
      "source": [
        "# This funciton handles celaning text\r\n",
        "def clean_text(text):\r\n",
        "    # Create the lemmatizer\r\n",
        "    wordnet_lemmatizer = WordNetLemmatizer()\r\n",
        "    \r\n",
        "    # Get rid of non alpha characters except \"'\" as it is needed for the lemment\r\n",
        "    text = \"\".join(c for c in text if c.isalnum() or c == \" \" or \"'\")\r\n",
        "    \r\n",
        "    # Get rid of capitals\r\n",
        "    text = text.lower()\r\n",
        "    \r\n",
        "    # Tokenize the words    \r\n",
        "    # Create tokens of each word\r\n",
        "    token_text = word_tokenize(text)\r\n",
        "    \r\n",
        "    # Get rid of any piece of text that isn't over 2 characters\r\n",
        "    token_text = [t for t in token_text if len(t) > 2] \r\n",
        "    \r\n",
        "    # Put words in base form by doing lemmatization\r\n",
        "    token_text = [wordnet_lemmatizer.lemmatize(t) for t in token_text]\r\n",
        "\r\n",
        "    # Remove stopwords\r\n",
        "    token_text = [t for t in token_text if t not in stopwords]\r\n",
        "    \r\n",
        "    # Return the tokens\r\n",
        "    return token_text"
      ],
      "execution_count": null,
      "outputs": []
    },
    {
      "cell_type": "code",
      "metadata": {
        "id": "xu5dFDM75tjR"
      },
      "source": [
        "# This function will get the term frequencies for word in the review\r\n",
        "# TF = Term I frequency in document/total words in document\r\n",
        "def calc_tf(term_count, review_corpus):\r\n",
        "    # A dictionary of all the term frequencies found\r\n",
        "    tf_freq = dict.fromkeys(term_count.keys(), 0)   \r\n",
        "    \r\n",
        "    # Review corpus is a tokenized list so the total words iteh length\r\n",
        "    total_words = len(review_corpus)\r\n",
        "    \r\n",
        "    # Calculate the term frequency for each word\r\n",
        "    for word, count in term_count.items():\r\n",
        "        tf_freq[word] = count/total_words\r\n",
        "        \r\n",
        "    return tf_freq"
      ],
      "execution_count": null,
      "outputs": []
    },
    {
      "cell_type": "code",
      "metadata": {
        "id": "i64Bq0rH5uN0"
      },
      "source": [
        "# This calcualtes the idf\r\n",
        "# IDF = log(2)*(Total number of Documents/documents frequency or documents with term)\r\n",
        "def calc_idf(unique_terms, list_doc_terms):   \r\n",
        "    # A dicitonary of all the inverse document frequencies\r\n",
        "    idf = dict.fromkeys(unique_terms, 0)\r\n",
        "    \r\n",
        "    # Basically list_doc_terms has all the documents with the term count for each word\r\n",
        "    # You go through each document count the terms where they occured\r\n",
        "    for doc_terms in list_doc_terms:  \r\n",
        "        # This for loop is counting the amount of document a word was in\r\n",
        "        for word, value in doc_terms.items():\r\n",
        "            if 0 < value:\r\n",
        "                idf[word] += 1\r\n",
        "        \r\n",
        "    # Now we calculate idf\r\n",
        "    for word, value in idf.items():\r\n",
        "        idf[word] = math.log10(10 / float(value))\r\n",
        "    \r\n",
        "    return idf"
      ],
      "execution_count": null,
      "outputs": []
    },
    {
      "cell_type": "code",
      "metadata": {
        "id": "9XTmL87F5uaU"
      },
      "source": [
        "# Modified this function to return a list as dictionaries arn't needed anymore\r\n",
        "def calc_tf_idf(tf, idf, n_terms):\r\n",
        "    # Create an array that is of length of the number of unique terms\r\n",
        "    tf_idf_array = np.zeros(n_terms)\r\n",
        "    \r\n",
        "    for index, (word, value) in enumerate(tf.items()):\r\n",
        "        # Add the tfidf to the array\r\n",
        "        tf_idf_array[index] = value*idf[word]\r\n",
        "    \r\n",
        "    return tf_idf_array"
      ],
      "execution_count": null,
      "outputs": []
    },
    {
      "cell_type": "code",
      "metadata": {
        "id": "XzOme9px5uks"
      },
      "source": [
        "def process_text(text_data):\r\n",
        "    # A list of all the cleaned reviews\r\n",
        "    doc_list = []\r\n",
        "    \r\n",
        "    # List of all the unique terms\r\n",
        "    unique_terms = []\r\n",
        "    \r\n",
        "    # A list of all the term frequencies\r\n",
        "    tf_list = []\r\n",
        "    \r\n",
        "    for review in text_data:\r\n",
        "        # First clean the review\r\n",
        "        clean_review = clean_text(review)\r\n",
        "        \r\n",
        "        # Keeps track of the term counts for each word\r\n",
        "        count_dict = {}\r\n",
        "        \r\n",
        "        # Now lets find the total count for each word\r\n",
        "        for token in clean_review:\r\n",
        "            if token not in count_dict:\r\n",
        "                count_dict[token] = 1\r\n",
        "            else:\r\n",
        "                count_dict[token] += 1\r\n",
        "        \r\n",
        "        # Caclulate the term frequencies for each document\r\n",
        "        tf_list.append(calc_tf(count_dict, clean_review))\r\n",
        "        \r\n",
        "        # Then add the dictionary of counts for each document to the list\r\n",
        "        doc_list.append(count_dict)\r\n",
        "        \r\n",
        "        # Then add the new unique terms\r\n",
        "        unique_terms = set(unique_terms).union(set(clean_review))\r\n",
        "    \r\n",
        "    # Calculate the inverse document frequency value\r\n",
        "    idf = calc_idf(unique_terms, doc_list)\r\n",
        "    \r\n",
        "    # This array will contain the tfidf values for each term in each review\r\n",
        "    tfidf_values = np.zeros((len(tf_list), len(unique_terms)))\r\n",
        "    \r\n",
        "    # Now we can get the TFIDF for each document\r\n",
        "    for index, term_freq in enumerate(tf_list):\r\n",
        "        # This will return an array of the tfidf values calculated.\r\n",
        "        # The length of the unique terms list is passed in so that the \r\n",
        "        # Array that is returned matches the tfidf array\r\n",
        "        tf_idf_array = calc_tf_idf(term_freq, idf, len(unique_terms))\r\n",
        "        # Add this to the overall tfidf values calculated\r\n",
        "        tfidf_values[index,:] = tf_idf_array\r\n",
        "    \r\n",
        "    return tfidf_values"
      ],
      "execution_count": null,
      "outputs": []
    },
    {
      "cell_type": "code",
      "metadata": {
        "id": "JUz1Vq_D6Ett"
      },
      "source": [
        "# Prepare the data\r\n",
        "def prepare_data():\r\n",
        "    print(\"=\"*50)\r\n",
        "\r\n",
        "    # Load the dataset\r\n",
        "    # imdb_df = pd.read_csv(\"IMDB Dataset.csv\")\r\n",
        "    imdb_df = pd.read_csv(\"/content/drive/MyDrive/CIT/FYP/ImplementationFiles/IMDB_Dataset.csv\")\r\n",
        "    print(\"Dataset loaded\")\r\n",
        "    print(\"=\"*50)\r\n",
        "\r\n",
        "    \r\n",
        "    # Change each positive and negative value to 1 and 0 respectively    \r\n",
        "    imdb_df['sentiment'] = imdb_df['sentiment'].map({'negative' : 0, 'positive' : 1})\r\n",
        "    \r\n",
        "    # For testing, a much smaller dataset is going to be used\r\n",
        "    imdb_df = imdb_df.head(5000)\r\n",
        "\r\n",
        "    # Group all the negative reviews and get the first 2500\r\n",
        "    imdb_df_neg = (imdb_df[imdb_df['sentiment'] == 0])[0:2500]\r\n",
        "    # Group all the positive and get the first 2500\r\n",
        "    imdb_df_pos = imdb_df[imdb_df['sentiment'] == 1]\r\n",
        "    \r\n",
        "    test_df = pd.concat([imdb_df_neg, imdb_df_pos]) \r\n",
        "    # print(test_df)\r\n",
        "    \r\n",
        "    # .values on a column of a dataframe returns a numpy array\r\n",
        "    # This is a numpy array of all the reviews\r\n",
        "    # initial_reviews = imdb_df['review'].values\r\n",
        "    initial_reviews = test_df['review'].values\r\n",
        "    \r\n",
        "    # This is a numpy array of all the positive and negativelabels\r\n",
        "    # labels = imdb_df['sentiment'].values\r\n",
        "    labels = test_df['sentiment'].values\r\n",
        "    \r\n",
        "    print(\"Creating Feature Vector\")\r\n",
        "    print(\"=\"*50)\r\n",
        "    start = time.time()\r\n",
        "    # Process the text data and create teh feature vector\r\n",
        "    feature_vector = process_text(initial_reviews)\r\n",
        "    end = time.time()\r\n",
        "    print(\"Feature Vector Created\")\r\n",
        "    print(f\"Execution time is {end - start} secs\")\r\n",
        "    print(\"=\"*50)\r\n",
        "    \r\n",
        "    # Shuffle the labesl and feature vector using sklearn shuffle\r\n",
        "    feature_vector, labels = shuffle(feature_vector, labels)\r\n",
        "    \r\n",
        "    # Creating train and test data\r\n",
        "    # The splits will be 80:20 \r\n",
        "    no_samples = 0.8\r\n",
        "    \r\n",
        "    # This gets the percentage of indexes from feature vector and uses those for training\r\n",
        "    X_train = feature_vector[0:int(no_samples*len(feature_vector))]\r\n",
        "    y_train = labels[0:int(no_samples*len(labels))]\r\n",
        "    \r\n",
        "    # Go from the index that was used for training to the final\r\n",
        "    X_test = feature_vector[int(no_samples*len(feature_vector)):len(feature_vector)]\r\n",
        "    y_test = labels[int(no_samples*len(labels)):len(labels)]\r\n",
        "\r\n",
        "    return X_train, y_train, X_test, y_test"
      ],
      "execution_count": null,
      "outputs": []
    },
    {
      "cell_type": "markdown",
      "metadata": {
        "id": "9xJJPc-lCwmr"
      },
      "source": [
        "# Create Model Section \r\n",
        "\r\n",
        "**Exporting models:**\r\n",
        "\r\n",
        "https://autokeras.com/tutorial/export/"
      ]
    },
    {
      "cell_type": "markdown",
      "metadata": {
        "id": "3UMmDW00xJrU"
      },
      "source": [
        "Auto Keras has a built in text classifier that takes in strings so going to test using that?\r\n",
        "\r\n"
      ]
    },
    {
      "cell_type": "markdown",
      "metadata": {
        "id": "JDpSCut3fXCL"
      },
      "source": [
        "Look into checking the validation accuracy in autokeras\r\n",
        "Early stopping based on the accuracy and loss for the validation to stop once it platous\r\n",
        "Validation shows when training is not learning anymore\r\n"
      ]
    },
    {
      "cell_type": "code",
      "metadata": {
        "id": "cPmp7nYR5mZb"
      },
      "source": [
        "import autokeras as ak"
      ],
      "execution_count": null,
      "outputs": []
    },
    {
      "cell_type": "code",
      "metadata": {
        "colab": {
          "base_uri": "https://localhost:8080/"
        },
        "id": "D_1aYh1j5mUM",
        "outputId": "a0023511-e1d6-4251-b151-0537826dd234"
      },
      "source": [
        "# Load the dataset\r\n",
        "imdb_df = pd.read_csv(\"/content/drive/MyDrive/CIT/FYP/ImplementationFiles/IMDB_Dataset.csv\")\r\n",
        "# print(imdb_df.head())\r\n",
        "\r\n",
        "# For testing, a much smaller dataset is going to be used\r\n",
        "# imdb_df = imdb_df.head(4000)\r\n",
        "# print(imdb_df.head())\r\n",
        "\r\n",
        "imdb_df['sentiment'] = imdb_df['sentiment'].map({'negative' : 0, 'positive' : 1})\r\n",
        "\r\n",
        "# Group all the negative reviews and get the first 25000\r\n",
        "# imdb_df_neg = (imdb_df[imdb_df['sentiment'] == \"negative\"])[0:2500]\r\n",
        "imdb_df_neg = (imdb_df[imdb_df['sentiment'] == 0])[0:2500]\r\n",
        "# Group all the positive and get the first 25000\r\n",
        "# imdb_df_pos = imdb_df[imdb_df['sentiment'] == \"positive\"][0:2500]\r\n",
        "imdb_df_pos = imdb_df[imdb_df['sentiment'] == 1][0:2500]\r\n",
        "\r\n",
        "# Combine the two split positives and negatives into one dataframe\r\n",
        "imdb_df = pd.concat([imdb_df_neg, imdb_df_pos]) \r\n",
        "\r\n",
        "# .values on a column of a dataframe returns a numpy array\r\n",
        "# This is a numpy array of all the reviews\r\n",
        "# initial_reviews = imdb_df['review'].values\r\n",
        "feature_vector = imdb_df['review'].values\r\n",
        "# print(feature_vector)\r\n",
        "\r\n",
        "# This is a numpy array of all the positive and negativelabels\r\n",
        "labels = imdb_df['sentiment'].values\r\n",
        "\r\n",
        "# Shuffle the labesl and feature vector using sklearn shuffle\r\n",
        "feature_vector, labels = shuffle(feature_vector, labels)\r\n",
        "\r\n",
        "# Creating train and test data\r\n",
        "# The splits will be 80:20 \r\n",
        "no_samples = 0.8\r\n",
        "\r\n",
        "# This gets the percentage of indexes from feature vector and uses those for training\r\n",
        "X_train = feature_vector[0:int(no_samples*len(feature_vector))]\r\n",
        "y_train = labels[0:int(no_samples*len(labels))]\r\n",
        "\r\n",
        "# Go from the index that was used for training to the final\r\n",
        "X_test = feature_vector[int(no_samples*len(feature_vector)):len(feature_vector)]\r\n",
        "y_test = labels[int(no_samples*len(labels)):len(labels)]\r\n",
        "\r\n",
        "print(X_train.shape)\r\n",
        "print(type(X_train))"
      ],
      "execution_count": null,
      "outputs": [
        {
          "output_type": "stream",
          "text": [
            "(4000,)\n",
            "<class 'numpy.ndarray'>\n"
          ],
          "name": "stdout"
        }
      ]
    },
    {
      "cell_type": "code",
      "metadata": {
        "id": "tHCUSQn35mQ_"
      },
      "source": [
        "# Create the text classifier\r\n",
        "# It is only going to do 1 model but change max trials for more\r\n",
        "# Has a built in project name, default is text_classifier\r\n",
        "# Trials is the amount of keras models to use, default is 1000 and might stop before reaching that number\r\n",
        "# Directory sets where search outputs will be saved\r\n",
        "# Objective is what it needs to prioritise, default is val_loss but val_accuracy can be used\r\n",
        "# Naming convention = ak_epochs_dataNo_trials\r\n",
        "clf = ak.TextClassifier(overwrite=True, project_name=\"ak_10_5000_2\", max_trials=2, directory=\"/content/drive/MyDrive/CIT/FYP/ImplementationFiles/ExportedModels/AutoKeras/SearchOuputs\", objective=\"val_loss\")"
      ],
      "execution_count": null,
      "outputs": []
    },
    {
      "cell_type": "code",
      "metadata": {
        "id": "ieccGP7y5mMZ",
        "colab": {
          "base_uri": "https://localhost:8080/"
        },
        "outputId": "2dc8111d-9dde-43be-d7f6-78f4392896e1"
      },
      "source": [
        "# Call the fit function and train the models for only 2 epochs\r\n",
        "# Leave empty for adaptive epochs\r\n",
        "# By default, auto keras will use the last 20% of training data for validation\r\n",
        "# Setting validation to 0.2 in this case to just to demonstrate\r\n",
        "print(\"Creating Fit the model\")\r\n",
        "print(\"=\"*50)\r\n",
        "start = time.time()\r\n",
        "# Default epochs is 1000\r\n",
        "clf.fit(X_train, y_train, validation_split=0.2, epochs=10, verbose=1)\r\n",
        "end = time.time()\r\n",
        "print(\"Model Fitting Finished\")\r\n",
        "print(f\"Execution time is {end - start} secs\")\r\n",
        "print(\"=\"*50)"
      ],
      "execution_count": null,
      "outputs": [
        {
          "output_type": "stream",
          "text": [
            "Trial 5 Complete [00h 01m 49s]\n",
            "val_loss: 0.41294097900390625\n",
            "\n",
            "Best val_loss So Far: 0.3686973452568054\n",
            "Total elapsed time: 00h 06m 19s\n",
            "INFO:tensorflow:Oracle triggered exit\n",
            "Epoch 1/10\n",
            "125/125 [==============================] - 28s 218ms/step - loss: 0.6949 - accuracy: 0.5109\n",
            "Epoch 2/10\n",
            "125/125 [==============================] - 27s 216ms/step - loss: 0.5801 - accuracy: 0.7188\n",
            "Epoch 3/10\n",
            "125/125 [==============================] - 27s 216ms/step - loss: 0.3292 - accuracy: 0.8626\n",
            "Epoch 4/10\n",
            "125/125 [==============================] - 27s 217ms/step - loss: 0.1563 - accuracy: 0.9417\n",
            "Epoch 5/10\n",
            "125/125 [==============================] - 27s 218ms/step - loss: 0.0731 - accuracy: 0.9765\n",
            "Epoch 6/10\n",
            "125/125 [==============================] - 27s 216ms/step - loss: 0.0569 - accuracy: 0.9778\n",
            "Epoch 7/10\n",
            "125/125 [==============================] - 27s 218ms/step - loss: 0.0883 - accuracy: 0.9624\n",
            "Epoch 8/10\n",
            "125/125 [==============================] - 27s 217ms/step - loss: 0.0484 - accuracy: 0.9821\n",
            "Epoch 9/10\n",
            "125/125 [==============================] - 27s 217ms/step - loss: 0.0128 - accuracy: 0.9950\n",
            "Epoch 10/10\n",
            "125/125 [==============================] - 27s 217ms/step - loss: 0.0028 - accuracy: 1.0000\n",
            "INFO:tensorflow:Assets written to: /content/drive/MyDrive/CIT/FYP/ImplementationFiles/ExportedModels/AutoKeras/SearchOuputs/ak_10_5000_2/best_model/assets\n",
            "Model Fitting Finished\n",
            "Execution time is 620.6432580947876 secs\n",
            "==================================================\n"
          ],
          "name": "stdout"
        }
      ]
    },
    {
      "cell_type": "code",
      "metadata": {
        "id": "JX5qeVhC5l1g",
        "colab": {
          "base_uri": "https://localhost:8080/"
        },
        "outputId": "39559673-ad2c-4860-d6e1-61fa3a90ad19"
      },
      "source": [
        "# Create some predictions\r\n",
        "predicted_y = clf.predict(X_test)\r\n",
        "\r\n",
        "# Evaluate the model used\r\n",
        "print(clf.evaluate(X_test, y_test, verbose = 1))"
      ],
      "execution_count": null,
      "outputs": [
        {
          "output_type": "stream",
          "text": [
            "WARNING:tensorflow:11 out of the last 11 calls to <function recreate_function.<locals>.restored_function_body at 0x7f17ed721170> triggered tf.function retracing. Tracing is expensive and the excessive number of tracings could be due to (1) creating @tf.function repeatedly in a loop, (2) passing tensors with different shapes, (3) passing Python objects instead of tensors. For (1), please define your @tf.function outside of the loop. For (2), @tf.function has experimental_relax_shapes=True option that relaxes argument shapes that can avoid unnecessary retracing. For (3), please refer to https://www.tensorflow.org/guide/function#controlling_retracing and https://www.tensorflow.org/api_docs/python/tf/function for  more details.\n",
            "WARNING:tensorflow:11 out of the last 11 calls to <function recreate_function.<locals>.restored_function_body at 0x7f17eb6b47a0> triggered tf.function retracing. Tracing is expensive and the excessive number of tracings could be due to (1) creating @tf.function repeatedly in a loop, (2) passing tensors with different shapes, (3) passing Python objects instead of tensors. For (1), please define your @tf.function outside of the loop. For (2), @tf.function has experimental_relax_shapes=True option that relaxes argument shapes that can avoid unnecessary retracing. For (3), please refer to https://www.tensorflow.org/guide/function#controlling_retracing and https://www.tensorflow.org/api_docs/python/tf/function for  more details.\n",
            "32/32 [==============================] - 2s 62ms/step - loss: 0.7892 - accuracy: 0.8340\n",
            "[0.7891743183135986, 0.8339999914169312]\n"
          ],
          "name": "stdout"
        }
      ]
    },
    {
      "cell_type": "code",
      "metadata": {
        "id": "ulaxxEW76Kyq",
        "colab": {
          "base_uri": "https://localhost:8080/"
        },
        "outputId": "9f44f3b4-698f-40b2-926f-b07ef6e87060"
      },
      "source": [
        "best_model = clf.export_model()\r\n",
        "\r\n",
        "# Naming convenction = ModelAutoKeras_epochs_dataNo_trials\r\n",
        "try:\r\n",
        "    best_model.save(\"/content/drive/MyDrive/CIT/FYP/ImplementationFiles/ExportedModels/AutoKeras/Models/mak_10_5000_2\", save_format=\"tf\")\r\n",
        "except:\r\n",
        "    best_model.save(\"/content/drive/MyDrive/CIT/FYP/ImplementationFiles/ExportedModels/AutoKeras/Models/mak_10_5000_2.h5\")"
      ],
      "execution_count": null,
      "outputs": [
        {
          "output_type": "stream",
          "text": [
            "WARNING:tensorflow:11 out of the last 11 calls to <function recreate_function.<locals>.restored_function_body at 0x7f17f21ddb00> triggered tf.function retracing. Tracing is expensive and the excessive number of tracings could be due to (1) creating @tf.function repeatedly in a loop, (2) passing tensors with different shapes, (3) passing Python objects instead of tensors. For (1), please define your @tf.function outside of the loop. For (2), @tf.function has experimental_relax_shapes=True option that relaxes argument shapes that can avoid unnecessary retracing. For (3), please refer to https://www.tensorflow.org/guide/function#controlling_retracing and https://www.tensorflow.org/api_docs/python/tf/function for  more details.\n",
            "INFO:tensorflow:Assets written to: /content/drive/MyDrive/CIT/FYP/ImplementationFiles/ExportedModels/AutoKeras/Models/mak_10_5000_2/assets\n"
          ],
          "name": "stdout"
        }
      ]
    },
    {
      "cell_type": "code",
      "metadata": {
        "id": "BaHxJr4U9jgN"
      },
      "source": [
        "# Test loading a model\r\n",
        "import tensorflow as tf\r\n",
        "import tensorflow.keras"
      ],
      "execution_count": null,
      "outputs": []
    },
    {
      "cell_type": "code",
      "metadata": {
        "colab": {
          "base_uri": "https://localhost:8080/"
        },
        "id": "PCqdwe5R5SNZ",
        "outputId": "3179143f-63c6-408a-bef8-8bfb04e50917"
      },
      "source": [
        "from tensorflow.keras.models import load_model\r\n",
        "loaded_model = load_model(\"/content/drive/MyDrive/CIT/FYP/ImplementationFiles/ExportedModels/AutoKeras/Models/mak_100_5000_2\", custom_objects=ak.CUSTOM_OBJECTS)"
      ],
      "execution_count": null,
      "outputs": [
        {
          "output_type": "stream",
          "text": [
            "WARNING:tensorflow:11 out of the last 11 calls to <function recreate_function.<locals>.restored_function_body at 0x7f17ebc23710> triggered tf.function retracing. Tracing is expensive and the excessive number of tracings could be due to (1) creating @tf.function repeatedly in a loop, (2) passing tensors with different shapes, (3) passing Python objects instead of tensors. For (1), please define your @tf.function outside of the loop. For (2), @tf.function has experimental_relax_shapes=True option that relaxes argument shapes that can avoid unnecessary retracing. For (3), please refer to https://www.tensorflow.org/guide/function#controlling_retracing and https://www.tensorflow.org/api_docs/python/tf/function for  more details.\n"
          ],
          "name": "stdout"
        }
      ]
    },
    {
      "cell_type": "code",
      "metadata": {
        "colab": {
          "base_uri": "https://localhost:8080/"
        },
        "id": "u4ZB104GzLr8",
        "outputId": "d2485214-e115-4b0b-f51a-886655970034"
      },
      "source": [
        "predicted_y = loaded_model.predict(tf.expand_dims(X_test, -1))\r\n",
        "# print(predicted_y)\r\n",
        "print(loaded_model.evaluate(X_test, y_test, verbose = 1))"
      ],
      "execution_count": null,
      "outputs": [
        {
          "output_type": "stream",
          "text": [
            "32/32 [==============================] - 2s 60ms/step - loss: 0.1744 - accuracy: 0.9670\n",
            "[0.17436569929122925, 0.9670000076293945]\n"
          ],
          "name": "stdout"
        }
      ]
    },
    {
      "cell_type": "markdown",
      "metadata": {
        "id": "NwtLCc7KNEvS"
      },
      "source": [
        "# Test on test dataset"
      ]
    },
    {
      "cell_type": "code",
      "metadata": {
        "colab": {
          "base_uri": "https://localhost:8080/"
        },
        "id": "wrApvzjNR1wu",
        "outputId": "14cf2add-256d-4a47-fc33-6dd21332007f"
      },
      "source": [
        "# Load the dataset\r\n",
        "imdb_df = pd.read_csv(\"/content/drive/MyDrive/CIT/FYP/ImplementationFiles/NPS_TestContent.csv\", encoding='utf8', engine='c')\r\n",
        "# imdb_df = pd.read_excel(\"/content/drive/MyDrive/CIT/FYP/ImplementationFiles/NPS_TestContent.xlsx\")\r\n",
        "\r\n",
        "print(imdb_df.head(10))\r\n",
        "print(imdb_df.columns)"
      ],
      "execution_count": null,
      "outputs": [
        {
          "output_type": "stream",
          "text": [
            "                                                test sentiment\n",
            "0                               Normal use is light.  Positive\n",
            "1                                   I use it myself.  Positive\n",
            "2                         There's no way to compare.  Positive\n",
            "3                  Each person has his or her taste.  Positive\n",
            "4               I think there's a sense of security.  Positive\n",
            "5  Because I use it from the introduction of a pr...  Positive\n",
            "6  I've been using it for 20 years and I've never...  Positive\n",
            "7                        I'm using it in my company.  Positive\n",
            "8  It is a reliable security software. However, b...  Positive\n",
            "9  There are a lot of updates and additional noti...  Negative\n",
            "Index(['test', 'sentiment'], dtype='object')\n"
          ],
          "name": "stdout"
        }
      ]
    },
    {
      "cell_type": "code",
      "metadata": {
        "colab": {
          "base_uri": "https://localhost:8080/"
        },
        "id": "XUcKdKxfNEfd",
        "outputId": "75594f1e-8f2b-4b35-8787-eaa31ab29079"
      },
      "source": [
        "# Load the dataset\r\n",
        "imdb_df = pd.read_csv(\"/content/drive/MyDrive/CIT/FYP/ImplementationFiles/NPS_TestContent.csv\", encoding='utf8', engine='c')\r\n",
        "# imdb_df = pd.read_excel(\"/content/drive/MyDrive/CIT/FYP/ImplementationFiles/NPS_TestContent.xlsx\")\r\n",
        "\r\n",
        "imdb_df['sentiment'] = imdb_df['sentiment'].map({'Negative' : 0, 'Positive' : 1})\r\n",
        "\r\n",
        "# Group all the negative reviews and get the first 25000\r\n",
        "# imdb_df_neg = (imdb_df[imdb_df['sentiment'] == \"negative\"])[0:2500]\r\n",
        "imdb_df_neg = (imdb_df[imdb_df['sentiment'] == 0])\r\n",
        "# Group all the positive and get the first 25000\r\n",
        "# imdb_df_pos = imdb_df[imdb_df['sentiment'] == \"positive\"][0:2500]\r\n",
        "imdb_df_pos = imdb_df[imdb_df['sentiment'] == 1]\r\n",
        "\r\n",
        "# Combine the two split positives and negatives into one dataframe\r\n",
        "imdb_df = pd.concat([imdb_df_neg, imdb_df_pos]) \r\n",
        "\r\n",
        "# .values on a column of a dataframe returns a numpy array\r\n",
        "# This is a numpy array of all the reviews\r\n",
        "# initial_reviews = imdb_df['review'].values\r\n",
        "feature_vector = imdb_df['test'].values\r\n",
        "# print(feature_vector)\r\n",
        "\r\n",
        "# This is a numpy array of all the positive and negativelabels\r\n",
        "labels = imdb_df['sentiment'].values\r\n",
        "\r\n",
        "# Shuffle the labesl and feature vector using sklearn shuffle\r\n",
        "feature_vector, labels = shuffle(feature_vector, labels)\r\n",
        "\r\n",
        "# Creating train and test data\r\n",
        "# The splits will be 80:20 \r\n",
        "no_samples = 0.8\r\n",
        "\r\n",
        "# This gets the percentage of indexes from feature vector and uses those for training\r\n",
        "X_train = feature_vector[0:int(no_samples*len(feature_vector))]\r\n",
        "y_train = labels[0:int(no_samples*len(labels))]\r\n",
        "\r\n",
        "# Go from the index that was used for training to the final\r\n",
        "X_test = feature_vector[int(no_samples*len(feature_vector)):len(feature_vector)]\r\n",
        "y_test = labels[int(no_samples*len(labels)):len(labels)]\r\n",
        "\r\n",
        "print(X_train.shape)\r\n",
        "print(type(X_train))"
      ],
      "execution_count": null,
      "outputs": [
        {
          "output_type": "stream",
          "text": [
            "(1198,)\n",
            "<class 'numpy.ndarray'>\n"
          ],
          "name": "stdout"
        }
      ]
    },
    {
      "cell_type": "code",
      "metadata": {
        "colab": {
          "base_uri": "https://localhost:8080/"
        },
        "id": "fXLdWyEzSArT",
        "outputId": "bad998fa-fdcb-4ba7-a138-f01da7098634"
      },
      "source": [
        "predicted_y = loaded_model.predict(tf.expand_dims(X_test, -1))\r\n",
        "# print(predicted_y)\r\n",
        "print(loaded_model.evaluate(X_test, y_test, verbose = 1))"
      ],
      "execution_count": null,
      "outputs": [
        {
          "output_type": "stream",
          "text": [
            "10/10 [==============================] - 1s 56ms/step - loss: 1.2689 - accuracy: 0.4467\n",
            "[1.2688533067703247, 0.4466666579246521]\n"
          ],
          "name": "stdout"
        }
      ]
    }
  ]
}