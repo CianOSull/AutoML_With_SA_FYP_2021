{
  "nbformat": 4,
  "nbformat_minor": 0,
  "metadata": {
    "colab": {
      "name": "Copy of SKlearn MainNotebook",
      "provenance": [],
      "collapsed_sections": [],
      "mount_file_id": "1nC_pUXXhTcxEwVxmaeFUvL3F40t7v7YC",
      "authorship_tag": "ABX9TyNknWRkYREiGjey66JcpMGt",
      "include_colab_link": true
    },
    "kernelspec": {
      "display_name": "Python 3",
      "name": "python3"
    }
  },
  "cells": [
    {
      "cell_type": "markdown",
      "metadata": {
        "id": "view-in-github",
        "colab_type": "text"
      },
      "source": [
        "<a href=\"https://colab.research.google.com/github/CianOSull/AutoML_With_SA_FYP_2021/blob/AutoSklearn/MainNotebook.ipynb\" target=\"_parent\"><img src=\"https://colab.research.google.com/assets/colab-badge.svg\" alt=\"Open In Colab\"/></a>"
      ]
    },
    {
      "cell_type": "markdown",
      "metadata": {
        "id": "i_zrt8fk5AJt"
      },
      "source": [
        "# Generic Notebook for running all the libraries\n",
        "\n",
        "How this notebook works is that it contains the code\n",
        "for loading and cleaning the dataset.\n",
        "\n",
        "Then there is multiple branches created on the\n",
        "Github that include the code for running each library.\n",
        "\n",
        "E.g. MLBox branch has the code for running MLBox."
      ]
    },
    {
      "cell_type": "markdown",
      "metadata": {
        "id": "YOhpD-9g-DyM"
      },
      "source": [
        "# CURRENT BRANCH = AUTOSKLEARN"
      ]
    },
    {
      "cell_type": "markdown",
      "metadata": {
        "id": "ew8tq1lj6v1L"
      },
      "source": [
        "# Install the necessary library\n",
        "Run the install code in the code cell below."
      ]
    },
    {
      "cell_type": "markdown",
      "metadata": {
        "id": "ut_ejh54rtRt"
      },
      "source": [
        "# Install 3 \n",
        "\n",
        "From youtube: \n",
        "\n",
        "https://www.youtube.com/watch?v=0jXwYlX8wPk\n",
        "\n",
        "Notebook:\n",
        "\n",
        "https://github.com/bhattbhavesh91/auto-sklearn-tutorial/blob/master/autosklearn-classification.ipynb"
      ]
    },
    {
      "cell_type": "code",
      "metadata": {
        "colab": {
          "base_uri": "https://localhost:8080/"
        },
        "id": "XuUsFR8gsdIX",
        "outputId": "8eb9ac75-cb3b-428d-f3ed-45f8b087aaac"
      },
      "source": [
        "!sudo apt-get install swig -y\n",
        "!pip install Cython numpy"
      ],
      "execution_count": 1,
      "outputs": [
        {
          "output_type": "stream",
          "text": [
            "Reading package lists... Done\n",
            "Building dependency tree       \n",
            "Reading state information... Done\n",
            "The following additional packages will be installed:\n",
            "  swig3.0\n",
            "Suggested packages:\n",
            "  swig-doc swig-examples swig3.0-examples swig3.0-doc\n",
            "The following NEW packages will be installed:\n",
            "  swig swig3.0\n",
            "0 upgraded, 2 newly installed, 0 to remove and 30 not upgraded.\n",
            "Need to get 1,100 kB of archives.\n",
            "After this operation, 5,822 kB of additional disk space will be used.\n",
            "Get:1 http://archive.ubuntu.com/ubuntu bionic/universe amd64 swig3.0 amd64 3.0.12-1 [1,094 kB]\n",
            "Get:2 http://archive.ubuntu.com/ubuntu bionic/universe amd64 swig amd64 3.0.12-1 [6,460 B]\n",
            "Fetched 1,100 kB in 1s (1,284 kB/s)\n",
            "debconf: unable to initialize frontend: Dialog\n",
            "debconf: (No usable dialog-like program is installed, so the dialog based frontend cannot be used. at /usr/share/perl5/Debconf/FrontEnd/Dialog.pm line 76, <> line 2.)\n",
            "debconf: falling back to frontend: Readline\n",
            "debconf: unable to initialize frontend: Readline\n",
            "debconf: (This frontend requires a controlling tty.)\n",
            "debconf: falling back to frontend: Teletype\n",
            "dpkg-preconfigure: unable to re-open stdin: \n",
            "Selecting previously unselected package swig3.0.\n",
            "(Reading database ... 160980 files and directories currently installed.)\n",
            "Preparing to unpack .../swig3.0_3.0.12-1_amd64.deb ...\n",
            "Unpacking swig3.0 (3.0.12-1) ...\n",
            "Selecting previously unselected package swig.\n",
            "Preparing to unpack .../swig_3.0.12-1_amd64.deb ...\n",
            "Unpacking swig (3.0.12-1) ...\n",
            "Setting up swig3.0 (3.0.12-1) ...\n",
            "Setting up swig (3.0.12-1) ...\n",
            "Processing triggers for man-db (2.8.3-2ubuntu0.1) ...\n",
            "Requirement already satisfied: Cython in /usr/local/lib/python3.7/dist-packages (0.29.22)\n",
            "Requirement already satisfied: numpy in /usr/local/lib/python3.7/dist-packages (1.19.5)\n"
          ],
          "name": "stdout"
        }
      ]
    },
    {
      "cell_type": "code",
      "metadata": {
        "colab": {
          "base_uri": "https://localhost:8080/"
        },
        "id": "iL6dziMPsg0J",
        "outputId": "c6b2c041-cd6a-4900-92b8-8604eb0e98bb"
      },
      "source": [
        "!pip install pipelineprofiler"
      ],
      "execution_count": 2,
      "outputs": [
        {
          "output_type": "stream",
          "text": [
            "Collecting pipelineprofiler\n",
            "\u001b[?25l  Downloading https://files.pythonhosted.org/packages/fd/70/00921d385c047af75e43063d62542055f68bf2d760216223045f5972cf48/pipelineprofiler-0.1.17-py3-none-any.whl (880kB)\n",
            "\u001b[K     |████████████████████████████████| 880kB 5.7MB/s \n",
            "\u001b[?25hRequirement already satisfied: scikit-learn in /usr/local/lib/python3.7/dist-packages (from pipelineprofiler) (0.22.2.post1)\n",
            "Requirement already satisfied: python-dateutil in /usr/local/lib/python3.7/dist-packages (from pipelineprofiler) (2.8.1)\n",
            "Requirement already satisfied: scipy in /usr/local/lib/python3.7/dist-packages (from pipelineprofiler) (1.4.1)\n",
            "Requirement already satisfied: numpy in /usr/local/lib/python3.7/dist-packages (from pipelineprofiler) (1.19.5)\n",
            "Requirement already satisfied: notebook in /usr/local/lib/python3.7/dist-packages (from pipelineprofiler) (5.3.1)\n",
            "Requirement already satisfied: networkx in /usr/local/lib/python3.7/dist-packages (from pipelineprofiler) (2.5)\n",
            "Requirement already satisfied: joblib>=0.11 in /usr/local/lib/python3.7/dist-packages (from scikit-learn->pipelineprofiler) (1.0.1)\n",
            "Requirement already satisfied: six>=1.5 in /usr/local/lib/python3.7/dist-packages (from python-dateutil->pipelineprofiler) (1.15.0)\n",
            "Requirement already satisfied: Send2Trash in /usr/local/lib/python3.7/dist-packages (from notebook->pipelineprofiler) (1.5.0)\n",
            "Requirement already satisfied: nbconvert in /usr/local/lib/python3.7/dist-packages (from notebook->pipelineprofiler) (5.6.1)\n",
            "Requirement already satisfied: jupyter-core>=4.4.0 in /usr/local/lib/python3.7/dist-packages (from notebook->pipelineprofiler) (4.7.1)\n",
            "Requirement already satisfied: tornado>=4 in /usr/local/lib/python3.7/dist-packages (from notebook->pipelineprofiler) (5.1.1)\n",
            "Requirement already satisfied: ipython-genutils in /usr/local/lib/python3.7/dist-packages (from notebook->pipelineprofiler) (0.2.0)\n",
            "Requirement already satisfied: jupyter-client>=5.2.0 in /usr/local/lib/python3.7/dist-packages (from notebook->pipelineprofiler) (5.3.5)\n",
            "Requirement already satisfied: ipykernel in /usr/local/lib/python3.7/dist-packages (from notebook->pipelineprofiler) (4.10.1)\n",
            "Requirement already satisfied: jinja2 in /usr/local/lib/python3.7/dist-packages (from notebook->pipelineprofiler) (2.11.3)\n",
            "Requirement already satisfied: traitlets>=4.2.1 in /usr/local/lib/python3.7/dist-packages (from notebook->pipelineprofiler) (5.0.5)\n",
            "Requirement already satisfied: nbformat in /usr/local/lib/python3.7/dist-packages (from notebook->pipelineprofiler) (5.1.2)\n",
            "Requirement already satisfied: terminado>=0.8.1 in /usr/local/lib/python3.7/dist-packages (from notebook->pipelineprofiler) (0.9.2)\n",
            "Requirement already satisfied: decorator>=4.3.0 in /usr/local/lib/python3.7/dist-packages (from networkx->pipelineprofiler) (4.4.2)\n",
            "Requirement already satisfied: defusedxml in /usr/local/lib/python3.7/dist-packages (from nbconvert->notebook->pipelineprofiler) (0.7.1)\n",
            "Requirement already satisfied: testpath in /usr/local/lib/python3.7/dist-packages (from nbconvert->notebook->pipelineprofiler) (0.4.4)\n",
            "Requirement already satisfied: pandocfilters>=1.4.1 in /usr/local/lib/python3.7/dist-packages (from nbconvert->notebook->pipelineprofiler) (1.4.3)\n",
            "Requirement already satisfied: mistune<2,>=0.8.1 in /usr/local/lib/python3.7/dist-packages (from nbconvert->notebook->pipelineprofiler) (0.8.4)\n",
            "Requirement already satisfied: entrypoints>=0.2.2 in /usr/local/lib/python3.7/dist-packages (from nbconvert->notebook->pipelineprofiler) (0.3)\n",
            "Requirement already satisfied: bleach in /usr/local/lib/python3.7/dist-packages (from nbconvert->notebook->pipelineprofiler) (3.3.0)\n",
            "Requirement already satisfied: pygments in /usr/local/lib/python3.7/dist-packages (from nbconvert->notebook->pipelineprofiler) (2.6.1)\n",
            "Requirement already satisfied: pyzmq>=13 in /usr/local/lib/python3.7/dist-packages (from jupyter-client>=5.2.0->notebook->pipelineprofiler) (22.0.3)\n",
            "Requirement already satisfied: ipython>=4.0.0 in /usr/local/lib/python3.7/dist-packages (from ipykernel->notebook->pipelineprofiler) (5.5.0)\n",
            "Requirement already satisfied: MarkupSafe>=0.23 in /usr/local/lib/python3.7/dist-packages (from jinja2->notebook->pipelineprofiler) (1.1.1)\n",
            "Requirement already satisfied: jsonschema!=2.5.0,>=2.4 in /usr/local/lib/python3.7/dist-packages (from nbformat->notebook->pipelineprofiler) (2.6.0)\n",
            "Requirement already satisfied: ptyprocess; os_name != \"nt\" in /usr/local/lib/python3.7/dist-packages (from terminado>=0.8.1->notebook->pipelineprofiler) (0.7.0)\n",
            "Requirement already satisfied: packaging in /usr/local/lib/python3.7/dist-packages (from bleach->nbconvert->notebook->pipelineprofiler) (20.9)\n",
            "Requirement already satisfied: webencodings in /usr/local/lib/python3.7/dist-packages (from bleach->nbconvert->notebook->pipelineprofiler) (0.5.1)\n",
            "Requirement already satisfied: pickleshare in /usr/local/lib/python3.7/dist-packages (from ipython>=4.0.0->ipykernel->notebook->pipelineprofiler) (0.7.5)\n",
            "Requirement already satisfied: simplegeneric>0.8 in /usr/local/lib/python3.7/dist-packages (from ipython>=4.0.0->ipykernel->notebook->pipelineprofiler) (0.8.1)\n",
            "Requirement already satisfied: pexpect; sys_platform != \"win32\" in /usr/local/lib/python3.7/dist-packages (from ipython>=4.0.0->ipykernel->notebook->pipelineprofiler) (4.8.0)\n",
            "Requirement already satisfied: setuptools>=18.5 in /usr/local/lib/python3.7/dist-packages (from ipython>=4.0.0->ipykernel->notebook->pipelineprofiler) (54.1.2)\n",
            "Requirement already satisfied: prompt-toolkit<2.0.0,>=1.0.4 in /usr/local/lib/python3.7/dist-packages (from ipython>=4.0.0->ipykernel->notebook->pipelineprofiler) (1.0.18)\n",
            "Requirement already satisfied: pyparsing>=2.0.2 in /usr/local/lib/python3.7/dist-packages (from packaging->bleach->nbconvert->notebook->pipelineprofiler) (2.4.7)\n",
            "Requirement already satisfied: wcwidth in /usr/local/lib/python3.7/dist-packages (from prompt-toolkit<2.0.0,>=1.0.4->ipython>=4.0.0->ipykernel->notebook->pipelineprofiler) (0.2.5)\n",
            "Installing collected packages: pipelineprofiler\n",
            "Successfully installed pipelineprofiler-0.1.17\n"
          ],
          "name": "stdout"
        }
      ]
    },
    {
      "cell_type": "code",
      "metadata": {
        "colab": {
          "base_uri": "https://localhost:8080/"
        },
        "id": "YrZvaxvMn0BT",
        "outputId": "6d6e6465-1668-4a10-ee1f-92d648f27e85"
      },
      "source": [
        "!pip uninstall scikit-learn"
      ],
      "execution_count": 18,
      "outputs": [
        {
          "output_type": "stream",
          "text": [
            "Uninstalling scikit-learn-0.24.1:\n",
            "  Would remove:\n",
            "    /usr/local/lib/python3.7/dist-packages/scikit_learn-0.24.1.dist-info/*\n",
            "    /usr/local/lib/python3.7/dist-packages/scikit_learn.libs/libgomp-f7e03b3e.so.1.0.0\n",
            "    /usr/local/lib/python3.7/dist-packages/sklearn/*\n",
            "Proceed (y/n)? y\n",
            "  Successfully uninstalled scikit-learn-0.24.1\n"
          ],
          "name": "stdout"
        }
      ]
    },
    {
      "cell_type": "code",
      "metadata": {
        "colab": {
          "base_uri": "https://localhost:8080/",
          "height": 697
        },
        "id": "3tkqdUaQsjOo",
        "outputId": "dfcf2eab-c3ae-42bf-8a6a-756eac8b46de"
      },
      "source": [
        "!pip install auto-sklearn"
      ],
      "execution_count": 19,
      "outputs": [
        {
          "output_type": "stream",
          "text": [
            "Requirement already satisfied: auto-sklearn in /usr/local/lib/python3.7/dist-packages (0.12.4)\n",
            "Requirement already satisfied: dask in /usr/local/lib/python3.7/dist-packages (from auto-sklearn) (2021.3.0)\n",
            "Requirement already satisfied: liac-arff in /usr/local/lib/python3.7/dist-packages (from auto-sklearn) (2.5.0)\n",
            "Requirement already satisfied: distributed>=2.2.0 in /usr/local/lib/python3.7/dist-packages (from auto-sklearn) (2021.3.0)\n",
            "Requirement already satisfied: setuptools in /usr/local/lib/python3.7/dist-packages (from auto-sklearn) (54.1.2)\n",
            "Requirement already satisfied: pyrfr<0.9,>=0.8.1 in /usr/local/lib/python3.7/dist-packages (from auto-sklearn) (0.8.1)\n",
            "Requirement already satisfied: joblib in /usr/local/lib/python3.7/dist-packages (from auto-sklearn) (1.0.1)\n",
            "Requirement already satisfied: pandas>=1.0 in /usr/local/lib/python3.7/dist-packages (from auto-sklearn) (1.1.5)\n",
            "Requirement already satisfied: smac<0.14,>=0.13.1 in /usr/local/lib/python3.7/dist-packages (from auto-sklearn) (0.13.1)\n",
            "Requirement already satisfied: numpy>=1.9.0 in /usr/local/lib/python3.7/dist-packages (from auto-sklearn) (1.19.5)\n",
            "Requirement already satisfied: ConfigSpace<0.5,>=0.4.14 in /usr/local/lib/python3.7/dist-packages (from auto-sklearn) (0.4.18)\n",
            "Requirement already satisfied: pynisher>=0.6.3 in /usr/local/lib/python3.7/dist-packages (from auto-sklearn) (0.6.4)\n",
            "Requirement already satisfied: pyyaml in /usr/local/lib/python3.7/dist-packages (from auto-sklearn) (3.13)\n",
            "Requirement already satisfied: scipy>=0.14.1 in /usr/local/lib/python3.7/dist-packages (from auto-sklearn) (1.4.1)\n",
            "Collecting scikit-learn<0.25.0,>=0.24.0\n",
            "  Using cached https://files.pythonhosted.org/packages/f3/74/eb899f41d55f957e2591cde5528e75871f817d9fb46d4732423ecaca736d/scikit_learn-0.24.1-cp37-cp37m-manylinux2010_x86_64.whl\n",
            "Requirement already satisfied: sortedcontainers!=2.0.0,!=2.0.1 in /usr/local/lib/python3.7/dist-packages (from distributed>=2.2.0->auto-sklearn) (2.3.0)\n",
            "Requirement already satisfied: msgpack>=0.6.0 in /usr/local/lib/python3.7/dist-packages (from distributed>=2.2.0->auto-sklearn) (1.0.2)\n",
            "Requirement already satisfied: zict>=0.1.3 in /usr/local/lib/python3.7/dist-packages (from distributed>=2.2.0->auto-sklearn) (2.0.0)\n",
            "Requirement already satisfied: tornado>=5; python_version < \"3.8\" in /usr/local/lib/python3.7/dist-packages (from distributed>=2.2.0->auto-sklearn) (5.1.1)\n",
            "Requirement already satisfied: toolz>=0.8.2 in /usr/local/lib/python3.7/dist-packages (from distributed>=2.2.0->auto-sklearn) (0.11.1)\n",
            "Requirement already satisfied: tblib>=1.6.0 in /usr/local/lib/python3.7/dist-packages (from distributed>=2.2.0->auto-sklearn) (1.7.0)\n",
            "Requirement already satisfied: psutil>=5.0 in /usr/local/lib/python3.7/dist-packages (from distributed>=2.2.0->auto-sklearn) (5.4.8)\n",
            "Requirement already satisfied: click>=6.6 in /usr/local/lib/python3.7/dist-packages (from distributed>=2.2.0->auto-sklearn) (7.1.2)\n",
            "Requirement already satisfied: cloudpickle>=1.5.0 in /usr/local/lib/python3.7/dist-packages (from distributed>=2.2.0->auto-sklearn) (1.6.0)\n",
            "Requirement already satisfied: pytz>=2017.2 in /usr/local/lib/python3.7/dist-packages (from pandas>=1.0->auto-sklearn) (2018.9)\n",
            "Requirement already satisfied: python-dateutil>=2.7.3 in /usr/local/lib/python3.7/dist-packages (from pandas>=1.0->auto-sklearn) (2.8.1)\n",
            "Requirement already satisfied: lazy-import in /usr/local/lib/python3.7/dist-packages (from smac<0.14,>=0.13.1->auto-sklearn) (0.2.2)\n",
            "Requirement already satisfied: cython in /usr/local/lib/python3.7/dist-packages (from ConfigSpace<0.5,>=0.4.14->auto-sklearn) (0.29.22)\n",
            "Requirement already satisfied: pyparsing in /usr/local/lib/python3.7/dist-packages (from ConfigSpace<0.5,>=0.4.14->auto-sklearn) (2.4.7)\n",
            "Requirement already satisfied: threadpoolctl>=2.0.0 in /usr/local/lib/python3.7/dist-packages (from scikit-learn<0.25.0,>=0.24.0->auto-sklearn) (2.1.0)\n",
            "Requirement already satisfied: heapdict in /usr/local/lib/python3.7/dist-packages (from zict>=0.1.3->distributed>=2.2.0->auto-sklearn) (1.0.1)\n",
            "Requirement already satisfied: six>=1.5 in /usr/local/lib/python3.7/dist-packages (from python-dateutil>=2.7.3->pandas>=1.0->auto-sklearn) (1.15.0)\n",
            "Installing collected packages: scikit-learn\n",
            "Successfully installed scikit-learn-0.24.1\n"
          ],
          "name": "stdout"
        },
        {
          "output_type": "display_data",
          "data": {
            "application/vnd.colab-display-data+json": {
              "pip_warning": {
                "packages": [
                  "sklearn"
                ]
              }
            }
          },
          "metadata": {
            "tags": []
          }
        }
      ]
    },
    {
      "cell_type": "code",
      "metadata": {
        "colab": {
          "base_uri": "https://localhost:8080/"
        },
        "id": "_SRIm53mttjW",
        "outputId": "9a358344-f315-47a3-be7c-236f8dc99ccf"
      },
      "source": [
        "!pip install dask distributed --upgrade"
      ],
      "execution_count": 9,
      "outputs": [
        {
          "output_type": "stream",
          "text": [
            "Requirement already up-to-date: dask in /usr/local/lib/python3.7/dist-packages (2021.3.0)\n",
            "Requirement already up-to-date: distributed in /usr/local/lib/python3.7/dist-packages (2021.3.0)\n",
            "Requirement already satisfied, skipping upgrade: pyyaml in /usr/local/lib/python3.7/dist-packages (from dask) (3.13)\n",
            "Requirement already satisfied, skipping upgrade: msgpack>=0.6.0 in /usr/local/lib/python3.7/dist-packages (from distributed) (1.0.2)\n",
            "Requirement already satisfied, skipping upgrade: setuptools in /usr/local/lib/python3.7/dist-packages (from distributed) (54.1.2)\n",
            "Requirement already satisfied, skipping upgrade: sortedcontainers!=2.0.0,!=2.0.1 in /usr/local/lib/python3.7/dist-packages (from distributed) (2.3.0)\n",
            "Requirement already satisfied, skipping upgrade: zict>=0.1.3 in /usr/local/lib/python3.7/dist-packages (from distributed) (2.0.0)\n",
            "Requirement already satisfied, skipping upgrade: tblib>=1.6.0 in /usr/local/lib/python3.7/dist-packages (from distributed) (1.7.0)\n",
            "Requirement already satisfied, skipping upgrade: click>=6.6 in /usr/local/lib/python3.7/dist-packages (from distributed) (7.1.2)\n",
            "Requirement already satisfied, skipping upgrade: cloudpickle>=1.5.0 in /usr/local/lib/python3.7/dist-packages (from distributed) (1.6.0)\n",
            "Requirement already satisfied, skipping upgrade: psutil>=5.0 in /usr/local/lib/python3.7/dist-packages (from distributed) (5.4.8)\n",
            "Requirement already satisfied, skipping upgrade: tornado>=5; python_version < \"3.8\" in /usr/local/lib/python3.7/dist-packages (from distributed) (5.1.1)\n",
            "Requirement already satisfied, skipping upgrade: toolz>=0.8.2 in /usr/local/lib/python3.7/dist-packages (from distributed) (0.11.1)\n",
            "Requirement already satisfied, skipping upgrade: heapdict in /usr/local/lib/python3.7/dist-packages (from zict>=0.1.3->distributed) (1.0.1)\n"
          ],
          "name": "stdout"
        }
      ]
    },
    {
      "cell_type": "markdown",
      "metadata": {
        "id": "7TNIZJ6c5hcF"
      },
      "source": [
        "# Preprocessing Section"
      ]
    },
    {
      "cell_type": "code",
      "metadata": {
        "id": "njEYGcZQ42t-"
      },
      "source": [
        "# Import the necessary modules for cleaning\n",
        "import math\n",
        "import time \n",
        "import pandas as pd\n",
        "import numpy as np\n",
        "from nltk.stem import WordNetLemmatizer\n",
        "from nltk.tokenize import word_tokenize \n",
        "from sklearn.utils import shuffle\n",
        "from sklearn.linear_model import LogisticRegression\n",
        "from xgboost import XGBClassifier\n",
        "from sklearn.metrics import accuracy_score"
      ],
      "execution_count": 1,
      "outputs": []
    },
    {
      "cell_type": "code",
      "metadata": {
        "id": "8sPOCEGS5Xgn"
      },
      "source": [
        "# Create the set of stopwords for cleaning text\n",
        "stopwords = set(w.rstrip() for w in open('/content/drive/MyDrive/CIT/FYP/ImplementationFiles/stopwords.txt'))"
      ],
      "execution_count": 2,
      "outputs": []
    },
    {
      "cell_type": "code",
      "metadata": {
        "colab": {
          "base_uri": "https://localhost:8080/"
        },
        "id": "93NNPX-A5srS",
        "outputId": "140369ba-1329-4e71-b75c-04278bddcbd8"
      },
      "source": [
        "# Download the necessary parts for the NLTK module\n",
        "import nltk\n",
        "nltk.download('punkt')\n",
        "nltk.download('wordnet')"
      ],
      "execution_count": 3,
      "outputs": [
        {
          "output_type": "stream",
          "text": [
            "[nltk_data] Downloading package punkt to /root/nltk_data...\n",
            "[nltk_data]   Package punkt is already up-to-date!\n",
            "[nltk_data] Downloading package wordnet to /root/nltk_data...\n",
            "[nltk_data]   Package wordnet is already up-to-date!\n"
          ],
          "name": "stdout"
        },
        {
          "output_type": "execute_result",
          "data": {
            "text/plain": [
              "True"
            ]
          },
          "metadata": {
            "tags": []
          },
          "execution_count": 3
        }
      ]
    },
    {
      "cell_type": "code",
      "metadata": {
        "id": "j4ptneBc5tAN"
      },
      "source": [
        "# This funciton handles celaning text\n",
        "def clean_text(text):\n",
        "    # Create the lemmatizer\n",
        "    wordnet_lemmatizer = WordNetLemmatizer()\n",
        "    \n",
        "    # Get rid of non alpha characters except \"'\" as it is needed for the lemment\n",
        "    text = \"\".join(c for c in text if c.isalnum() or c == \" \" or \"'\")\n",
        "    \n",
        "    # Get rid of capitals\n",
        "    text = text.lower()\n",
        "    \n",
        "    # Tokenize the words    \n",
        "    # Create tokens of each word\n",
        "    token_text = word_tokenize(text)\n",
        "    \n",
        "    # Get rid of any piece of text that isn't over 2 characters\n",
        "    token_text = [t for t in token_text if len(t) > 2] \n",
        "    \n",
        "    # Put words in base form by doing lemmatization\n",
        "    token_text = [wordnet_lemmatizer.lemmatize(t) for t in token_text]\n",
        "\n",
        "    # Remove stopwords\n",
        "    token_text = [t for t in token_text if t not in stopwords]\n",
        "    \n",
        "    # Return the tokens\n",
        "    return token_text"
      ],
      "execution_count": 4,
      "outputs": []
    },
    {
      "cell_type": "code",
      "metadata": {
        "id": "xu5dFDM75tjR"
      },
      "source": [
        "# This function will get the term frequencies for word in the review\n",
        "# TF = Term I frequency in document/total words in document\n",
        "def calc_tf(term_count, review_corpus):\n",
        "    # A dictionary of all the term frequencies found\n",
        "    tf_freq = dict.fromkeys(term_count.keys(), 0)   \n",
        "    \n",
        "    # Review corpus is a tokenized list so the total words iteh length\n",
        "    total_words = len(review_corpus)\n",
        "    \n",
        "    # Calculate the term frequency for each word\n",
        "    for word, count in term_count.items():\n",
        "        tf_freq[word] = count/total_words\n",
        "        \n",
        "    return tf_freq"
      ],
      "execution_count": 5,
      "outputs": []
    },
    {
      "cell_type": "code",
      "metadata": {
        "id": "i64Bq0rH5uN0"
      },
      "source": [
        "# This calcualtes the idf\n",
        "# IDF = log(2)*(Total number of Documents/documents frequency or documents with term)\n",
        "def calc_idf(unique_terms, list_doc_terms):   \n",
        "    # A dicitonary of all the inverse document frequencies\n",
        "    idf = dict.fromkeys(unique_terms, 0)\n",
        "    \n",
        "    # Basically list_doc_terms has all the documents with the term count for each word\n",
        "    # You go through each document count the terms where they occured\n",
        "    for doc_terms in list_doc_terms:  \n",
        "        # This for loop is counting the amount of document a word was in\n",
        "        for word, value in doc_terms.items():\n",
        "            if 0 < value:\n",
        "                idf[word] += 1\n",
        "        \n",
        "    # Now we calculate idf\n",
        "    for word, value in idf.items():\n",
        "        idf[word] = math.log10(10 / float(value))\n",
        "    \n",
        "    return idf"
      ],
      "execution_count": 6,
      "outputs": []
    },
    {
      "cell_type": "code",
      "metadata": {
        "id": "9XTmL87F5uaU"
      },
      "source": [
        "# Modified this function to return a list as dictionaries arn't needed anymore\n",
        "def calc_tf_idf(tf, idf, n_terms):\n",
        "    # Create an array that is of length of the number of unique terms\n",
        "    tf_idf_array = np.zeros(n_terms)\n",
        "    \n",
        "    for index, (word, value) in enumerate(tf.items()):\n",
        "        # Add the tfidf to the array\n",
        "        tf_idf_array[index] = value*idf[word]\n",
        "    \n",
        "    return tf_idf_array"
      ],
      "execution_count": 7,
      "outputs": []
    },
    {
      "cell_type": "code",
      "metadata": {
        "id": "XzOme9px5uks"
      },
      "source": [
        "def process_text(text_data):\n",
        "    # A list of all the cleaned reviews\n",
        "    doc_list = []\n",
        "    \n",
        "    # List of all the unique terms\n",
        "    unique_terms = []\n",
        "    \n",
        "    # A list of all the term frequencies\n",
        "    tf_list = []\n",
        "    \n",
        "    for review in text_data:\n",
        "        # First clean the review\n",
        "        clean_review = clean_text(review)\n",
        "        \n",
        "        # Keeps track of the term counts for each word\n",
        "        count_dict = {}\n",
        "        \n",
        "        # Now lets find the total count for each word\n",
        "        for token in clean_review:\n",
        "            if token not in count_dict:\n",
        "                count_dict[token] = 1\n",
        "            else:\n",
        "                count_dict[token] += 1\n",
        "        \n",
        "        # Caclulate the term frequencies for each document\n",
        "        tf_list.append(calc_tf(count_dict, clean_review))\n",
        "        \n",
        "        # Then add the dictionary of counts for each document to the list\n",
        "        doc_list.append(count_dict)\n",
        "        \n",
        "        # Then add the new unique terms\n",
        "        unique_terms = set(unique_terms).union(set(clean_review))\n",
        "    \n",
        "    # Calculate the inverse document frequency value\n",
        "    idf = calc_idf(unique_terms, doc_list)\n",
        "    \n",
        "    # This array will contain the tfidf values for each term in each review\n",
        "    tfidf_values = np.zeros((len(tf_list), len(unique_terms)))\n",
        "    \n",
        "    # Now we can get the TFIDF for each document\n",
        "    for index, term_freq in enumerate(tf_list):\n",
        "        # This will return an array of the tfidf values calculated.\n",
        "        # The length of the unique terms list is passed in so that the \n",
        "        # Array that is returned matches the tfidf array\n",
        "        tf_idf_array = calc_tf_idf(term_freq, idf, len(unique_terms))\n",
        "        # Add this to the overall tfidf values calculated\n",
        "        tfidf_values[index,:] = tf_idf_array\n",
        "    \n",
        "    return tfidf_values"
      ],
      "execution_count": 8,
      "outputs": []
    },
    {
      "cell_type": "code",
      "metadata": {
        "id": "JUz1Vq_D6Ett"
      },
      "source": [
        "# Prepare the data\n",
        "def prepare_data(num):\n",
        "    print(\"=\"*50)\n",
        "\n",
        "    # Load the dataset\n",
        "    # imdb_df = pd.read_csv(\"IMDB Dataset.csv\")\n",
        "    imdb_df = pd.read_csv(\"/content/drive/MyDrive/CIT/FYP/ImplementationFiles/IMDB_Dataset.csv\")\n",
        "    print(\"Dataset loaded\")\n",
        "    print(\"=\"*50)\n",
        "\n",
        "    \n",
        "    # Change each positive and negative value to 1 and 0 respectively    \n",
        "    imdb_df['sentiment'] = imdb_df['sentiment'].map({'negative' : 0, 'positive' : 1})\n",
        "    \n",
        "    # For testing, a much smaller dataset is going to be used\n",
        "    imdb_df = imdb_df.head(5000)\n",
        "\n",
        "    # Group all the negative reviews and get the first 2500\n",
        "    imdb_df_neg = (imdb_df[imdb_df['sentiment'] == 0])[0:num]\n",
        "    # Group all the positive and get the first 2500\n",
        "    imdb_df_pos = imdb_df[imdb_df['sentiment'] == 1][0:num]\n",
        "    \n",
        "    test_df = pd.concat([imdb_df_neg, imdb_df_pos]) \n",
        "    # print(test_df)\n",
        "    \n",
        "    # .values on a column of a dataframe returns a numpy array\n",
        "    # This is a numpy array of all the reviews\n",
        "    # initial_reviews = imdb_df['review'].values\n",
        "    initial_reviews = test_df['review'].values\n",
        "    \n",
        "    # This is a numpy array of all the positive and negativelabels\n",
        "    # labels = imdb_df['sentiment'].values\n",
        "    labels = test_df['sentiment'].values\n",
        "    \n",
        "    print(\"Creating Feature Vector\")\n",
        "    print(\"=\"*50)\n",
        "    start = time.time()\n",
        "    # Process the text data and create teh feature vector\n",
        "    feature_vector = process_text(initial_reviews)\n",
        "    end = time.time()\n",
        "    print(\"Feature Vector Created\")\n",
        "    print(f\"Execution time is {end - start} secs\")\n",
        "    print(\"=\"*50)\n",
        "    \n",
        "    # Shuffle the labesl and feature vector using sklearn shuffle\n",
        "    feature_vector, labels = shuffle(feature_vector, labels)\n",
        "    \n",
        "    # Creating train and test data\n",
        "    # The splits will be 80:20 \n",
        "    no_samples = 0.8\n",
        "    \n",
        "    # This gets the percentage of indexes from feature vector and uses those for training\n",
        "    X_train = feature_vector[0:int(no_samples*len(feature_vector))]\n",
        "    y_train = labels[0:int(no_samples*len(labels))]\n",
        "    \n",
        "    # Go from the index that was used for training to the final\n",
        "    X_test = feature_vector[int(no_samples*len(feature_vector)):len(feature_vector)]\n",
        "    y_test = labels[int(no_samples*len(labels)):len(labels)]\n",
        "\n",
        "    return X_train, y_train, X_test, y_test"
      ],
      "execution_count": 9,
      "outputs": []
    },
    {
      "cell_type": "markdown",
      "metadata": {
        "id": "-EDB7HY7C0QB"
      },
      "source": [
        "# Create model"
      ]
    },
    {
      "cell_type": "code",
      "metadata": {
        "id": "97TWUpFhsoR_",
        "colab": {
          "base_uri": "https://localhost:8080/"
        },
        "outputId": "1bf1eec4-ed36-4279-e952-1f330ab72ea3"
      },
      "source": [
        "import pandas as pd\n",
        "import numpy as np\n",
        "import PipelineProfiler\n",
        "from sklearn.model_selection import train_test_split\n",
        "from sklearn.metrics import accuracy_score\n",
        "from autosklearn.classification import AutoSklearnClassifier"
      ],
      "execution_count": 10,
      "outputs": [
        {
          "output_type": "stream",
          "text": [
            "/usr/local/lib/python3.7/dist-packages/pyparsing.py:3190: FutureWarning: Possible set intersection at position 3\n",
            "  self.re = re.compile(self.reString)\n"
          ],
          "name": "stderr"
        }
      ]
    },
    {
      "cell_type": "code",
      "metadata": {
        "colab": {
          "base_uri": "https://localhost:8080/"
        },
        "id": "mit4Y_lispoo",
        "outputId": "5e1e5274-6f4b-4952-cc1e-9866a1b33477"
      },
      "source": [
        "# Prepare the data\n",
        "X_train, y_train, X_test, y_test = prepare_data(500)"
      ],
      "execution_count": 11,
      "outputs": [
        {
          "output_type": "stream",
          "text": [
            "==================================================\n"
          ],
          "name": "stdout"
        },
        {
          "output_type": "stream",
          "text": [
            "INFO:numexpr.utils:NumExpr defaulting to 2 threads.\n"
          ],
          "name": "stderr"
        },
        {
          "output_type": "stream",
          "text": [
            "Dataset loaded\n",
            "==================================================\n",
            "Creating Feature Vector\n",
            "==================================================\n",
            "Feature Vector Created\n",
            "Execution time is 5.787853002548218 secs\n",
            "==================================================\n"
          ],
          "name": "stdout"
        }
      ]
    },
    {
      "cell_type": "markdown",
      "metadata": {
        "id": "RPpzZKU4HPIQ"
      },
      "source": [
        "# AutoSklearn parameters:\n",
        "https://automl.github.io/auto-sklearn/master/_modules/autosklearn/estimators.html\n",
        "\n",
        "# Useful links\n",
        "\n",
        "https://github.com/srivatsan88/YouTubeLI/blob/master/AutoSklearn.ipynb\n",
        "\n",
        "https://www.youtube.com/watch?v=SMUNVfbr3Mc\n",
        "\n",
        "https://automl.github.io/auto-sklearn/master/examples/20_basic/example_classification.html\n",
        "\n",
        "\n",
        "# List of classificaiton estimators:\n",
        "https://github.com/automl/auto-sklearn/tree/master/autosklearn/pipeline/components/classification"
      ]
    },
    {
      "cell_type": "code",
      "metadata": {
        "colab": {
          "base_uri": "https://localhost:8080/"
        },
        "id": "V10rGi5atuMm",
        "outputId": "bfc0eebc-32e2-4304-ee9f-95219c749025"
      },
      "source": [
        "# This takes less than 10 seconds to run. Need to increase time parameters\n",
        "# This will set it to run for 1 hour and only spend 6 minutes on each model\n",
        "# n_jobs=X is a parameter that sets up multithreading\n",
        "model = AutoSklearnClassifier(time_left_for_this_task=3600, per_run_time_limit=3600, \n",
        "                              include_estimators=[\"gradient_boosting\", \"sgd\"], exclude_estimators=None, \n",
        "                              include_preprocessors=[\"no_preprocessing\"], exclude_preprocessors=None)\n",
        "print(\"Finished defining model\")"
      ],
      "execution_count": 12,
      "outputs": [
        {
          "output_type": "stream",
          "text": [
            "Finished defining model\n"
          ],
          "name": "stdout"
        }
      ]
    },
    {
      "cell_type": "code",
      "metadata": {
        "colab": {
          "base_uri": "https://localhost:8080/"
        },
        "id": "8vQu2_U7tyaS",
        "outputId": "54fdc368-08a0-48f1-d36d-28151f2dd7b5"
      },
      "source": [
        "model.fit(X_train, y_train)\n",
        "print(\"Finished Fitting model\")"
      ],
      "execution_count": 13,
      "outputs": [
        {
          "output_type": "stream",
          "text": [
            "[WARNING] [2021-03-24 20:36:40,522:Client-AutoML(1):a2818dbe-8ce0-11eb-828b-0242ac1c0002] Time limit for a single run is higher than total time limit. Capping the limit for a single run to the total time given to SMAC (3598.904829)\n",
            "[WARNING] [2021-03-24 20:36:40,523:Client-AutoML(1):a2818dbe-8ce0-11eb-828b-0242ac1c0002] Capping the per_run_time_limit to 1799.0 to have time for a least 2 models in each process.\n",
            "[WARNING] [2021-03-24 20:36:42,050:Client-AutoMLSMBO(1)::a2818dbe-8ce0-11eb-828b-0242ac1c0002] Configuration 363 not found\n",
            "[WARNING] [2021-03-24 20:36:42,051:Client-AutoMLSMBO(1)::a2818dbe-8ce0-11eb-828b-0242ac1c0002] Configuration 199 not found\n",
            "[WARNING] [2021-03-24 20:36:42,051:Client-AutoMLSMBO(1)::a2818dbe-8ce0-11eb-828b-0242ac1c0002] Configuration 548 not found\n",
            "[WARNING] [2021-03-24 20:36:42,051:Client-AutoMLSMBO(1)::a2818dbe-8ce0-11eb-828b-0242ac1c0002] Configuration 596 not found\n",
            "[WARNING] [2021-03-24 20:36:42,051:Client-AutoMLSMBO(1)::a2818dbe-8ce0-11eb-828b-0242ac1c0002] Configuration 317 not found\n",
            "[WARNING] [2021-03-24 20:36:42,051:Client-AutoMLSMBO(1)::a2818dbe-8ce0-11eb-828b-0242ac1c0002] Configuration 304 not found\n",
            "[WARNING] [2021-03-24 20:36:42,051:Client-AutoMLSMBO(1)::a2818dbe-8ce0-11eb-828b-0242ac1c0002] Configuration 503 not found\n",
            "[WARNING] [2021-03-24 20:36:42,051:Client-AutoMLSMBO(1)::a2818dbe-8ce0-11eb-828b-0242ac1c0002] Configuration 120 not found\n",
            "[WARNING] [2021-03-24 20:36:42,051:Client-AutoMLSMBO(1)::a2818dbe-8ce0-11eb-828b-0242ac1c0002] Configuration 536 not found\n",
            "[WARNING] [2021-03-24 20:36:42,052:Client-AutoMLSMBO(1)::a2818dbe-8ce0-11eb-828b-0242ac1c0002] Configuration 640 not found\n",
            "[WARNING] [2021-03-24 20:36:42,052:Client-AutoMLSMBO(1)::a2818dbe-8ce0-11eb-828b-0242ac1c0002] Configuration 393 not found\n",
            "[WARNING] [2021-03-24 20:36:42,052:Client-AutoMLSMBO(1)::a2818dbe-8ce0-11eb-828b-0242ac1c0002] Configuration 145 not found\n",
            "[WARNING] [2021-03-24 20:36:42,052:Client-AutoMLSMBO(1)::a2818dbe-8ce0-11eb-828b-0242ac1c0002] Configuration 687 not found\n",
            "[WARNING] [2021-03-24 20:36:42,052:Client-AutoMLSMBO(1)::a2818dbe-8ce0-11eb-828b-0242ac1c0002] Configuration 81 not found\n",
            "[WARNING] [2021-03-24 20:36:42,053:Client-AutoMLSMBO(1)::a2818dbe-8ce0-11eb-828b-0242ac1c0002] Configuration 9 not found\n",
            "[WARNING] [2021-03-24 20:36:42,053:Client-AutoMLSMBO(1)::a2818dbe-8ce0-11eb-828b-0242ac1c0002] Configuration 452 not found\n",
            "[WARNING] [2021-03-24 20:36:42,053:Client-AutoMLSMBO(1)::a2818dbe-8ce0-11eb-828b-0242ac1c0002] Configuration 546 not found\n",
            "[WARNING] [2021-03-24 20:36:42,053:Client-AutoMLSMBO(1)::a2818dbe-8ce0-11eb-828b-0242ac1c0002] Configuration 230 not found\n",
            "[WARNING] [2021-03-24 20:36:42,053:Client-AutoMLSMBO(1)::a2818dbe-8ce0-11eb-828b-0242ac1c0002] Configuration 473 not found\n",
            "[WARNING] [2021-03-24 20:36:42,053:Client-AutoMLSMBO(1)::a2818dbe-8ce0-11eb-828b-0242ac1c0002] Configuration 440 not found\n",
            "[WARNING] [2021-03-24 20:36:42,053:Client-AutoMLSMBO(1)::a2818dbe-8ce0-11eb-828b-0242ac1c0002] Configuration 460 not found\n",
            "[WARNING] [2021-03-24 20:36:42,053:Client-AutoMLSMBO(1)::a2818dbe-8ce0-11eb-828b-0242ac1c0002] Configuration 211 not found\n",
            "[WARNING] [2021-03-24 20:36:42,053:Client-AutoMLSMBO(1)::a2818dbe-8ce0-11eb-828b-0242ac1c0002] Configuration 585 not found\n",
            "[WARNING] [2021-03-24 20:36:42,053:Client-AutoMLSMBO(1)::a2818dbe-8ce0-11eb-828b-0242ac1c0002] Configuration 32 not found\n",
            "[WARNING] [2021-03-24 20:36:42,053:Client-AutoMLSMBO(1)::a2818dbe-8ce0-11eb-828b-0242ac1c0002] Configuration 61 not found\n",
            "[WARNING] [2021-03-24 20:36:42,053:Client-AutoMLSMBO(1)::a2818dbe-8ce0-11eb-828b-0242ac1c0002] Configuration 332 not found\n",
            "[WARNING] [2021-03-24 20:36:42,053:Client-AutoMLSMBO(1)::a2818dbe-8ce0-11eb-828b-0242ac1c0002] Configuration 476 not found\n",
            "[WARNING] [2021-03-24 20:36:42,053:Client-AutoMLSMBO(1)::a2818dbe-8ce0-11eb-828b-0242ac1c0002] Configuration 345 not found\n",
            "[WARNING] [2021-03-24 20:36:42,054:Client-AutoMLSMBO(1)::a2818dbe-8ce0-11eb-828b-0242ac1c0002] Configuration 222 not found\n",
            "[WARNING] [2021-03-24 20:36:42,054:Client-AutoMLSMBO(1)::a2818dbe-8ce0-11eb-828b-0242ac1c0002] Configuration 184 not found\n",
            "[WARNING] [2021-03-24 20:36:42,054:Client-AutoMLSMBO(1)::a2818dbe-8ce0-11eb-828b-0242ac1c0002] Configuration 329 not found\n",
            "[WARNING] [2021-03-24 20:36:42,054:Client-AutoMLSMBO(1)::a2818dbe-8ce0-11eb-828b-0242ac1c0002] Configuration 560 not found\n",
            "[WARNING] [2021-03-24 20:36:42,054:Client-AutoMLSMBO(1)::a2818dbe-8ce0-11eb-828b-0242ac1c0002] Configuration 149 not found\n",
            "[WARNING] [2021-03-24 20:36:42,054:Client-AutoMLSMBO(1)::a2818dbe-8ce0-11eb-828b-0242ac1c0002] Configuration 399 not found\n",
            "[WARNING] [2021-03-24 20:36:42,054:Client-AutoMLSMBO(1)::a2818dbe-8ce0-11eb-828b-0242ac1c0002] Configuration 358 not found\n",
            "[WARNING] [2021-03-24 20:36:42,054:Client-AutoMLSMBO(1)::a2818dbe-8ce0-11eb-828b-0242ac1c0002] Configuration 590 not found\n",
            "[WARNING] [2021-03-24 20:36:42,055:Client-AutoMLSMBO(1)::a2818dbe-8ce0-11eb-828b-0242ac1c0002] Configuration 663 not found\n",
            "[WARNING] [2021-03-24 20:36:42,055:Client-AutoMLSMBO(1)::a2818dbe-8ce0-11eb-828b-0242ac1c0002] Configuration 407 not found\n",
            "[WARNING] [2021-03-24 20:36:42,055:Client-AutoMLSMBO(1)::a2818dbe-8ce0-11eb-828b-0242ac1c0002] Configuration 532 not found\n",
            "[WARNING] [2021-03-24 20:36:42,055:Client-AutoMLSMBO(1)::a2818dbe-8ce0-11eb-828b-0242ac1c0002] Configuration 176 not found\n",
            "[WARNING] [2021-03-24 20:36:42,055:Client-AutoMLSMBO(1)::a2818dbe-8ce0-11eb-828b-0242ac1c0002] Configuration 601 not found\n",
            "[WARNING] [2021-03-24 20:36:42,055:Client-AutoMLSMBO(1)::a2818dbe-8ce0-11eb-828b-0242ac1c0002] Configuration 257 not found\n",
            "[WARNING] [2021-03-24 20:36:42,055:Client-AutoMLSMBO(1)::a2818dbe-8ce0-11eb-828b-0242ac1c0002] Configuration 454 not found\n",
            "[WARNING] [2021-03-24 20:36:42,055:Client-AutoMLSMBO(1)::a2818dbe-8ce0-11eb-828b-0242ac1c0002] Configuration 1 not found\n",
            "[WARNING] [2021-03-24 20:36:42,055:Client-AutoMLSMBO(1)::a2818dbe-8ce0-11eb-828b-0242ac1c0002] Configuration 566 not found\n",
            "[WARNING] [2021-03-24 20:36:42,056:Client-AutoMLSMBO(1)::a2818dbe-8ce0-11eb-828b-0242ac1c0002] Configuration 690 not found\n",
            "[WARNING] [2021-03-24 20:36:42,056:Client-AutoMLSMBO(1)::a2818dbe-8ce0-11eb-828b-0242ac1c0002] Configuration 347 not found\n",
            "[WARNING] [2021-03-24 20:36:42,056:Client-AutoMLSMBO(1)::a2818dbe-8ce0-11eb-828b-0242ac1c0002] Configuration 138 not found\n",
            "[WARNING] [2021-03-24 20:36:42,056:Client-AutoMLSMBO(1)::a2818dbe-8ce0-11eb-828b-0242ac1c0002] Configuration 162 not found\n",
            "[WARNING] [2021-03-24 20:36:42,056:Client-AutoMLSMBO(1)::a2818dbe-8ce0-11eb-828b-0242ac1c0002] Configuration 188 not found\n",
            "[WARNING] [2021-03-24 20:36:42,056:Client-AutoMLSMBO(1)::a2818dbe-8ce0-11eb-828b-0242ac1c0002] Configuration 67 not found\n",
            "[WARNING] [2021-03-24 20:36:42,056:Client-AutoMLSMBO(1)::a2818dbe-8ce0-11eb-828b-0242ac1c0002] Configuration 220 not found\n",
            "[WARNING] [2021-03-24 20:36:42,056:Client-AutoMLSMBO(1)::a2818dbe-8ce0-11eb-828b-0242ac1c0002] Configuration 506 not found\n",
            "[WARNING] [2021-03-24 20:36:42,056:Client-AutoMLSMBO(1)::a2818dbe-8ce0-11eb-828b-0242ac1c0002] Configuration 576 not found\n",
            "[WARNING] [2021-03-24 20:36:42,056:Client-AutoMLSMBO(1)::a2818dbe-8ce0-11eb-828b-0242ac1c0002] Configuration 624 not found\n",
            "[WARNING] [2021-03-24 20:36:42,056:Client-AutoMLSMBO(1)::a2818dbe-8ce0-11eb-828b-0242ac1c0002] Configuration 674 not found\n",
            "[WARNING] [2021-03-24 20:36:42,056:Client-AutoMLSMBO(1)::a2818dbe-8ce0-11eb-828b-0242ac1c0002] Configuration 327 not found\n",
            "[WARNING] [2021-03-24 20:36:42,056:Client-AutoMLSMBO(1)::a2818dbe-8ce0-11eb-828b-0242ac1c0002] Configuration 283 not found\n",
            "[WARNING] [2021-03-24 20:36:42,056:Client-AutoMLSMBO(1)::a2818dbe-8ce0-11eb-828b-0242ac1c0002] Configuration 22 not found\n",
            "[WARNING] [2021-03-24 20:36:42,056:Client-AutoMLSMBO(1)::a2818dbe-8ce0-11eb-828b-0242ac1c0002] Configuration 492 not found\n",
            "[WARNING] [2021-03-24 20:36:42,056:Client-AutoMLSMBO(1)::a2818dbe-8ce0-11eb-828b-0242ac1c0002] Configuration 227 not found\n",
            "[WARNING] [2021-03-24 20:36:42,056:Client-AutoMLSMBO(1)::a2818dbe-8ce0-11eb-828b-0242ac1c0002] Configuration 579 not found\n",
            "[WARNING] [2021-03-24 20:36:42,056:Client-AutoMLSMBO(1)::a2818dbe-8ce0-11eb-828b-0242ac1c0002] Configuration 702 not found\n",
            "[WARNING] [2021-03-24 20:36:42,056:Client-AutoMLSMBO(1)::a2818dbe-8ce0-11eb-828b-0242ac1c0002] Configuration 147 not found\n",
            "[WARNING] [2021-03-24 20:36:42,057:Client-AutoMLSMBO(1)::a2818dbe-8ce0-11eb-828b-0242ac1c0002] Configuration 563 not found\n",
            "[WARNING] [2021-03-24 20:36:42,057:Client-AutoMLSMBO(1)::a2818dbe-8ce0-11eb-828b-0242ac1c0002] Configuration 7 not found\n",
            "[WARNING] [2021-03-24 20:36:42,057:Client-AutoMLSMBO(1)::a2818dbe-8ce0-11eb-828b-0242ac1c0002] Configuration 521 not found\n",
            "[WARNING] [2021-03-24 20:36:42,057:Client-AutoMLSMBO(1)::a2818dbe-8ce0-11eb-828b-0242ac1c0002] Configuration 315 not found\n",
            "[WARNING] [2021-03-24 20:36:42,057:Client-AutoMLSMBO(1)::a2818dbe-8ce0-11eb-828b-0242ac1c0002] Configuration 91 not found\n",
            "[WARNING] [2021-03-24 20:36:42,057:Client-AutoMLSMBO(1)::a2818dbe-8ce0-11eb-828b-0242ac1c0002] Configuration 191 not found\n",
            "[WARNING] [2021-03-24 20:36:42,057:Client-AutoMLSMBO(1)::a2818dbe-8ce0-11eb-828b-0242ac1c0002] Configuration 108 not found\n",
            "[WARNING] [2021-03-24 20:36:42,057:Client-AutoMLSMBO(1)::a2818dbe-8ce0-11eb-828b-0242ac1c0002] Configuration 631 not found\n",
            "[WARNING] [2021-03-24 20:36:42,057:Client-AutoMLSMBO(1)::a2818dbe-8ce0-11eb-828b-0242ac1c0002] Configuration 238 not found\n",
            "[WARNING] [2021-03-24 20:36:42,057:Client-AutoMLSMBO(1)::a2818dbe-8ce0-11eb-828b-0242ac1c0002] Configuration 183 not found\n",
            "[WARNING] [2021-03-24 20:36:42,057:Client-AutoMLSMBO(1)::a2818dbe-8ce0-11eb-828b-0242ac1c0002] Configuration 467 not found\n",
            "[WARNING] [2021-03-24 20:36:42,057:Client-AutoMLSMBO(1)::a2818dbe-8ce0-11eb-828b-0242ac1c0002] Configuration 338 not found\n",
            "[WARNING] [2021-03-24 20:36:42,057:Client-AutoMLSMBO(1)::a2818dbe-8ce0-11eb-828b-0242ac1c0002] Configuration 43 not found\n",
            "[WARNING] [2021-03-24 20:36:42,057:Client-AutoMLSMBO(1)::a2818dbe-8ce0-11eb-828b-0242ac1c0002] Configuration 386 not found\n",
            "[WARNING] [2021-03-24 20:36:42,057:Client-AutoMLSMBO(1)::a2818dbe-8ce0-11eb-828b-0242ac1c0002] Configuration 518 not found\n",
            "[WARNING] [2021-03-24 20:36:42,057:Client-AutoMLSMBO(1)::a2818dbe-8ce0-11eb-828b-0242ac1c0002] Configuration 657 not found\n",
            "[WARNING] [2021-03-24 20:36:42,057:Client-AutoMLSMBO(1)::a2818dbe-8ce0-11eb-828b-0242ac1c0002] Configuration 282 not found\n",
            "[WARNING] [2021-03-24 20:36:42,057:Client-AutoMLSMBO(1)::a2818dbe-8ce0-11eb-828b-0242ac1c0002] Configuration 444 not found\n",
            "[WARNING] [2021-03-24 20:36:42,057:Client-AutoMLSMBO(1)::a2818dbe-8ce0-11eb-828b-0242ac1c0002] Configuration 254 not found\n",
            "[WARNING] [2021-03-24 20:36:42,057:Client-AutoMLSMBO(1)::a2818dbe-8ce0-11eb-828b-0242ac1c0002] Configuration 71 not found\n",
            "[WARNING] [2021-03-24 20:36:42,057:Client-AutoMLSMBO(1)::a2818dbe-8ce0-11eb-828b-0242ac1c0002] Configuration 680 not found\n",
            "[WARNING] [2021-03-24 20:36:42,057:Client-AutoMLSMBO(1)::a2818dbe-8ce0-11eb-828b-0242ac1c0002] Configuration 480 not found\n",
            "[WARNING] [2021-03-24 20:36:42,058:Client-AutoMLSMBO(1)::a2818dbe-8ce0-11eb-828b-0242ac1c0002] Configuration 206 not found\n",
            "[WARNING] [2021-03-24 20:36:42,058:Client-AutoMLSMBO(1)::a2818dbe-8ce0-11eb-828b-0242ac1c0002] Configuration 694 not found\n",
            "[WARNING] [2021-03-24 20:36:42,058:Client-AutoMLSMBO(1)::a2818dbe-8ce0-11eb-828b-0242ac1c0002] Configuration 701 not found\n",
            "[WARNING] [2021-03-24 20:36:42,058:Client-AutoMLSMBO(1)::a2818dbe-8ce0-11eb-828b-0242ac1c0002] Configuration 426 not found\n",
            "[WARNING] [2021-03-24 20:36:42,058:Client-AutoMLSMBO(1)::a2818dbe-8ce0-11eb-828b-0242ac1c0002] Configuration 131 not found\n",
            "[WARNING] [2021-03-24 20:36:42,058:Client-AutoMLSMBO(1)::a2818dbe-8ce0-11eb-828b-0242ac1c0002] Configuration 14 not found\n",
            "[WARNING] [2021-03-24 20:36:42,058:Client-AutoMLSMBO(1)::a2818dbe-8ce0-11eb-828b-0242ac1c0002] Configuration 555 not found\n",
            "[WARNING] [2021-03-24 20:36:42,058:Client-AutoMLSMBO(1)::a2818dbe-8ce0-11eb-828b-0242ac1c0002] Configuration 574 not found\n",
            "[WARNING] [2021-03-24 20:36:42,058:Client-AutoMLSMBO(1)::a2818dbe-8ce0-11eb-828b-0242ac1c0002] Configuration 605 not found\n",
            "[WARNING] [2021-03-24 20:36:42,058:Client-AutoMLSMBO(1)::a2818dbe-8ce0-11eb-828b-0242ac1c0002] Configuration 28 not found\n",
            "[WARNING] [2021-03-24 20:36:42,058:Client-AutoMLSMBO(1)::a2818dbe-8ce0-11eb-828b-0242ac1c0002] Configuration 262 not found\n",
            "[WARNING] [2021-03-24 20:36:42,058:Client-AutoMLSMBO(1)::a2818dbe-8ce0-11eb-828b-0242ac1c0002] Configuration 112 not found\n",
            "[WARNING] [2021-03-24 20:36:42,059:Client-AutoMLSMBO(1)::a2818dbe-8ce0-11eb-828b-0242ac1c0002] Configuration 388 not found\n",
            "[WARNING] [2021-03-24 20:36:42,059:Client-AutoMLSMBO(1)::a2818dbe-8ce0-11eb-828b-0242ac1c0002] Configuration 430 not found\n",
            "[WARNING] [2021-03-24 20:36:42,059:Client-AutoMLSMBO(1)::a2818dbe-8ce0-11eb-828b-0242ac1c0002] Configuration 266 not found\n",
            "[WARNING] [2021-03-24 20:36:42,059:Client-AutoMLSMBO(1)::a2818dbe-8ce0-11eb-828b-0242ac1c0002] Configuration 367 not found\n",
            "[WARNING] [2021-03-24 20:36:42,059:Client-AutoMLSMBO(1)::a2818dbe-8ce0-11eb-828b-0242ac1c0002] Configuration 160 not found\n",
            "[WARNING] [2021-03-24 20:36:42,059:Client-AutoMLSMBO(1)::a2818dbe-8ce0-11eb-828b-0242ac1c0002] Configuration 670 not found\n",
            "[WARNING] [2021-03-24 20:36:42,059:Client-AutoMLSMBO(1)::a2818dbe-8ce0-11eb-828b-0242ac1c0002] Configuration 414 not found\n",
            "[WARNING] [2021-03-24 20:36:42,059:Client-AutoMLSMBO(1)::a2818dbe-8ce0-11eb-828b-0242ac1c0002] Configuration 264 not found\n",
            "[WARNING] [2021-03-24 20:36:42,059:Client-AutoMLSMBO(1)::a2818dbe-8ce0-11eb-828b-0242ac1c0002] Configuration 648 not found\n",
            "[WARNING] [2021-03-24 20:36:42,060:Client-AutoMLSMBO(1)::a2818dbe-8ce0-11eb-828b-0242ac1c0002] Configuration 485 not found\n",
            "[WARNING] [2021-03-24 20:36:42,060:Client-AutoMLSMBO(1)::a2818dbe-8ce0-11eb-828b-0242ac1c0002] Configuration 251 not found\n",
            "[WARNING] [2021-03-24 20:36:42,060:Client-AutoMLSMBO(1)::a2818dbe-8ce0-11eb-828b-0242ac1c0002] Configuration 369 not found\n",
            "[WARNING] [2021-03-24 20:36:42,060:Client-AutoMLSMBO(1)::a2818dbe-8ce0-11eb-828b-0242ac1c0002] Configuration 237 not found\n",
            "[WARNING] [2021-03-24 20:36:42,060:Client-AutoMLSMBO(1)::a2818dbe-8ce0-11eb-828b-0242ac1c0002] Configuration 97 not found\n",
            "[WARNING] [2021-03-24 20:36:42,060:Client-AutoMLSMBO(1)::a2818dbe-8ce0-11eb-828b-0242ac1c0002] Configuration 357 not found\n",
            "[WARNING] [2021-03-24 20:36:42,060:Client-AutoMLSMBO(1)::a2818dbe-8ce0-11eb-828b-0242ac1c0002] Configuration 571 not found\n",
            "[WARNING] [2021-03-24 20:36:42,060:Client-AutoMLSMBO(1)::a2818dbe-8ce0-11eb-828b-0242ac1c0002] Configuration 214 not found\n",
            "[WARNING] [2021-03-24 20:36:42,060:Client-AutoMLSMBO(1)::a2818dbe-8ce0-11eb-828b-0242ac1c0002] Configuration 595 not found\n",
            "[WARNING] [2021-03-24 20:36:42,060:Client-AutoMLSMBO(1)::a2818dbe-8ce0-11eb-828b-0242ac1c0002] Configuration 129 not found\n",
            "[WARNING] [2021-03-24 20:36:42,060:Client-AutoMLSMBO(1)::a2818dbe-8ce0-11eb-828b-0242ac1c0002] Configuration 676 not found\n",
            "[WARNING] [2021-03-24 20:36:42,060:Client-AutoMLSMBO(1)::a2818dbe-8ce0-11eb-828b-0242ac1c0002] Configuration 83 not found\n",
            "[WARNING] [2021-03-24 20:36:42,060:Client-AutoMLSMBO(1)::a2818dbe-8ce0-11eb-828b-0242ac1c0002] Configuration 48 not found\n",
            "[WARNING] [2021-03-24 20:36:42,061:Client-AutoMLSMBO(1)::a2818dbe-8ce0-11eb-828b-0242ac1c0002] Configuration 197 not found\n",
            "[WARNING] [2021-03-24 20:36:42,061:Client-AutoMLSMBO(1)::a2818dbe-8ce0-11eb-828b-0242ac1c0002] Configuration 56 not found\n",
            "[WARNING] [2021-03-24 20:36:42,061:Client-AutoMLSMBO(1)::a2818dbe-8ce0-11eb-828b-0242ac1c0002] Configuration 114 not found\n",
            "[WARNING] [2021-03-24 20:36:42,061:Client-AutoMLSMBO(1)::a2818dbe-8ce0-11eb-828b-0242ac1c0002] Configuration 613 not found\n",
            "[WARNING] [2021-03-24 20:36:42,061:Client-AutoMLSMBO(1)::a2818dbe-8ce0-11eb-828b-0242ac1c0002] Configuration 121 not found\n",
            "[WARNING] [2021-03-24 20:36:42,061:Client-AutoMLSMBO(1)::a2818dbe-8ce0-11eb-828b-0242ac1c0002] Configuration 524 not found\n",
            "[WARNING] [2021-03-24 20:36:42,061:Client-AutoMLSMBO(1)::a2818dbe-8ce0-11eb-828b-0242ac1c0002] Configuration 445 not found\n",
            "[WARNING] [2021-03-24 20:36:42,061:Client-AutoMLSMBO(1)::a2818dbe-8ce0-11eb-828b-0242ac1c0002] Configuration 382 not found\n",
            "[WARNING] [2021-03-24 20:36:42,061:Client-AutoMLSMBO(1)::a2818dbe-8ce0-11eb-828b-0242ac1c0002] Configuration 352 not found\n",
            "[WARNING] [2021-03-24 20:36:42,061:Client-AutoMLSMBO(1)::a2818dbe-8ce0-11eb-828b-0242ac1c0002] Configuration 124 not found\n",
            "[WARNING] [2021-03-24 20:36:42,061:Client-AutoMLSMBO(1)::a2818dbe-8ce0-11eb-828b-0242ac1c0002] Configuration 470 not found\n",
            "[WARNING] [2021-03-24 20:36:42,061:Client-AutoMLSMBO(1)::a2818dbe-8ce0-11eb-828b-0242ac1c0002] Configuration 683 not found\n",
            "[WARNING] [2021-03-24 20:36:42,061:Client-AutoMLSMBO(1)::a2818dbe-8ce0-11eb-828b-0242ac1c0002] Configuration 707 not found\n",
            "[WARNING] [2021-03-24 20:36:42,061:Client-AutoMLSMBO(1)::a2818dbe-8ce0-11eb-828b-0242ac1c0002] Configuration 53 not found\n",
            "[WARNING] [2021-03-24 20:36:42,061:Client-AutoMLSMBO(1)::a2818dbe-8ce0-11eb-828b-0242ac1c0002] Configuration 40 not found\n",
            "[WARNING] [2021-03-24 20:36:42,061:Client-AutoMLSMBO(1)::a2818dbe-8ce0-11eb-828b-0242ac1c0002] Configuration 193 not found\n",
            "[WARNING] [2021-03-24 20:36:42,061:Client-AutoMLSMBO(1)::a2818dbe-8ce0-11eb-828b-0242ac1c0002] Configuration 88 not found\n",
            "[WARNING] [2021-03-24 20:36:42,061:Client-AutoMLSMBO(1)::a2818dbe-8ce0-11eb-828b-0242ac1c0002] Configuration 512 not found\n",
            "[WARNING] [2021-03-24 20:36:42,061:Client-AutoMLSMBO(1)::a2818dbe-8ce0-11eb-828b-0242ac1c0002] Configuration 499 not found\n",
            "[WARNING] [2021-03-24 20:36:42,061:Client-AutoMLSMBO(1)::a2818dbe-8ce0-11eb-828b-0242ac1c0002] Configuration 99 not found\n",
            "[WARNING] [2021-03-24 20:36:42,062:Client-AutoMLSMBO(1)::a2818dbe-8ce0-11eb-828b-0242ac1c0002] Configuration 422 not found\n",
            "[WARNING] [2021-03-24 20:36:42,062:Client-AutoMLSMBO(1)::a2818dbe-8ce0-11eb-828b-0242ac1c0002] Configuration 270 not found\n",
            "[WARNING] [2021-03-24 20:36:42,062:Client-AutoMLSMBO(1)::a2818dbe-8ce0-11eb-828b-0242ac1c0002] Configuration 434 not found\n",
            "[WARNING] [2021-03-24 20:36:42,062:Client-AutoMLSMBO(1)::a2818dbe-8ce0-11eb-828b-0242ac1c0002] Configuration 615 not found\n",
            "[WARNING] [2021-03-24 20:36:42,062:Client-AutoMLSMBO(1)::a2818dbe-8ce0-11eb-828b-0242ac1c0002] Configuration 528 not found\n",
            "[WARNING] [2021-03-24 20:36:42,062:Client-AutoMLSMBO(1)::a2818dbe-8ce0-11eb-828b-0242ac1c0002] Configuration 403 not found\n",
            "[WARNING] [2021-03-24 20:36:42,062:Client-AutoMLSMBO(1)::a2818dbe-8ce0-11eb-828b-0242ac1c0002] Configuration 635 not found\n",
            "[WARNING] [2021-03-24 20:36:42,062:Client-AutoMLSMBO(1)::a2818dbe-8ce0-11eb-828b-0242ac1c0002] Configuration 277 not found\n",
            "[WARNING] [2021-03-24 20:36:42,062:Client-AutoMLSMBO(1)::a2818dbe-8ce0-11eb-828b-0242ac1c0002] Configuration 494 not found\n",
            "[WARNING] [2021-03-24 20:36:42,062:Client-AutoMLSMBO(1)::a2818dbe-8ce0-11eb-828b-0242ac1c0002] Configuration 204 not found\n",
            "[WARNING] [2021-03-24 20:36:42,062:Client-AutoMLSMBO(1)::a2818dbe-8ce0-11eb-828b-0242ac1c0002] Configuration 378 not found\n",
            "[WARNING] [2021-03-24 20:36:42,062:Client-AutoMLSMBO(1)::a2818dbe-8ce0-11eb-828b-0242ac1c0002] Configuration 340 not found\n",
            "[WARNING] [2021-03-24 20:36:42,062:Client-AutoMLSMBO(1)::a2818dbe-8ce0-11eb-828b-0242ac1c0002] Configuration 247 not found\n",
            "[WARNING] [2021-03-24 20:36:42,062:Client-AutoMLSMBO(1)::a2818dbe-8ce0-11eb-828b-0242ac1c0002] Configuration 25 not found\n",
            "[WARNING] [2021-03-24 20:36:42,063:Client-AutoMLSMBO(1)::a2818dbe-8ce0-11eb-828b-0242ac1c0002] Configuration 647 not found\n",
            "[WARNING] [2021-03-24 20:36:42,063:Client-AutoMLSMBO(1)::a2818dbe-8ce0-11eb-828b-0242ac1c0002] Configuration 232 not found\n",
            "[WARNING] [2021-03-24 20:36:42,063:Client-AutoMLSMBO(1)::a2818dbe-8ce0-11eb-828b-0242ac1c0002] Configuration 293 not found\n",
            "[WARNING] [2021-03-24 20:36:42,063:Client-AutoMLSMBO(1)::a2818dbe-8ce0-11eb-828b-0242ac1c0002] Configuration 154 not found\n",
            "[WARNING] [2021-03-24 20:36:42,063:Client-AutoMLSMBO(1)::a2818dbe-8ce0-11eb-828b-0242ac1c0002] Configuration 302 not found\n",
            "[WARNING] [2021-03-24 20:36:42,063:Client-AutoMLSMBO(1)::a2818dbe-8ce0-11eb-828b-0242ac1c0002] Configuration 172 not found\n",
            "[WARNING] [2021-03-24 20:36:42,063:Client-AutoMLSMBO(1)::a2818dbe-8ce0-11eb-828b-0242ac1c0002] Configuration 173 not found\n",
            "[WARNING] [2021-03-24 20:36:42,063:Client-AutoMLSMBO(1)::a2818dbe-8ce0-11eb-828b-0242ac1c0002] Configuration 17 not found\n",
            "[WARNING] [2021-03-24 20:36:42,063:Client-AutoMLSMBO(1)::a2818dbe-8ce0-11eb-828b-0242ac1c0002] Configuration 171 not found\n",
            "[WARNING] [2021-03-24 20:36:42,063:Client-AutoMLSMBO(1)::a2818dbe-8ce0-11eb-828b-0242ac1c0002] Configuration 515 not found\n",
            "[WARNING] [2021-03-24 20:36:42,063:Client-AutoMLSMBO(1)::a2818dbe-8ce0-11eb-828b-0242ac1c0002] Configuration 448 not found\n",
            "[WARNING] [2021-03-24 20:36:42,063:Client-AutoMLSMBO(1)::a2818dbe-8ce0-11eb-828b-0242ac1c0002] Configuration 395 not found\n",
            "[WARNING] [2021-03-24 20:36:42,063:Client-AutoMLSMBO(1)::a2818dbe-8ce0-11eb-828b-0242ac1c0002] Configuration 486 not found\n",
            "[WARNING] [2021-03-24 20:36:42,063:Client-AutoMLSMBO(1)::a2818dbe-8ce0-11eb-828b-0242ac1c0002] Configuration 587 not found\n",
            "[WARNING] [2021-03-24 20:36:42,063:Client-AutoMLSMBO(1)::a2818dbe-8ce0-11eb-828b-0242ac1c0002] Configuration 653 not found\n",
            "[WARNING] [2021-03-24 20:36:42,063:Client-AutoMLSMBO(1)::a2818dbe-8ce0-11eb-828b-0242ac1c0002] Configuration 461 not found\n",
            "[WARNING] [2021-03-24 20:36:42,063:Client-AutoMLSMBO(1)::a2818dbe-8ce0-11eb-828b-0242ac1c0002] Configuration 298 not found\n",
            "[WARNING] [2021-03-24 20:36:42,063:Client-AutoMLSMBO(1)::a2818dbe-8ce0-11eb-828b-0242ac1c0002] Configuration 69 not found\n",
            "[WARNING] [2021-03-24 20:36:42,064:Client-AutoMLSMBO(1)::a2818dbe-8ce0-11eb-828b-0242ac1c0002] Configuration 437 not found\n",
            "[WARNING] [2021-03-24 20:36:42,065:Client-AutoMLSMBO(1)::a2818dbe-8ce0-11eb-828b-0242ac1c0002] Configuration 142 not found\n",
            "[WARNING] [2021-03-24 20:36:42,065:Client-AutoMLSMBO(1)::a2818dbe-8ce0-11eb-828b-0242ac1c0002] Configuration 243 not found\n",
            "[WARNING] [2021-03-24 20:36:42,065:Client-AutoMLSMBO(1)::a2818dbe-8ce0-11eb-828b-0242ac1c0002] Configuration 310 not found\n",
            "[WARNING] [2021-03-24 20:36:42,065:Client-AutoMLSMBO(1)::a2818dbe-8ce0-11eb-828b-0242ac1c0002] Configuration 288 not found\n",
            "[WARNING] [2021-03-24 20:36:42,065:Client-AutoMLSMBO(1)::a2818dbe-8ce0-11eb-828b-0242ac1c0002] Configuration 313 not found\n",
            "[WARNING] [2021-03-24 20:36:42,065:Client-AutoMLSMBO(1)::a2818dbe-8ce0-11eb-828b-0242ac1c0002] Configuration 165 not found\n",
            "[WARNING] [2021-03-24 20:36:42,065:Client-AutoMLSMBO(1)::a2818dbe-8ce0-11eb-828b-0242ac1c0002] Configuration 543 not found\n",
            "[WARNING] [2021-03-24 20:36:42,066:Client-AutoMLSMBO(1)::a2818dbe-8ce0-11eb-828b-0242ac1c0002] Configuration 622 not found\n",
            "[WARNING] [2021-03-24 20:36:42,066:Client-AutoMLSMBO(1)::a2818dbe-8ce0-11eb-828b-0242ac1c0002] Configuration 553 not found\n",
            "[WARNING] [2021-03-24 20:36:42,066:Client-AutoMLSMBO(1)::a2818dbe-8ce0-11eb-828b-0242ac1c0002] Configuration 412 not found\n",
            "[WARNING] [2021-03-24 20:36:42,066:Client-AutoMLSMBO(1)::a2818dbe-8ce0-11eb-828b-0242ac1c0002] Configuration 19 not found\n",
            "[WARNING] [2021-03-24 20:36:42,066:Client-AutoMLSMBO(1)::a2818dbe-8ce0-11eb-828b-0242ac1c0002] Configuration 643 not found\n",
            "[WARNING] [2021-03-24 20:36:42,066:Client-AutoMLSMBO(1)::a2818dbe-8ce0-11eb-828b-0242ac1c0002] Configuration 58 not found\n",
            "[WARNING] [2021-03-24 20:36:42,066:Client-AutoMLSMBO(1)::a2818dbe-8ce0-11eb-828b-0242ac1c0002] Configuration 509 not found\n",
            "[WARNING] [2021-03-24 20:36:42,066:Client-AutoMLSMBO(1)::a2818dbe-8ce0-11eb-828b-0242ac1c0002] Configuration 419 not found\n",
            "[WARNING] [2021-03-24 20:36:42,066:Client-AutoMLSMBO(1)::a2818dbe-8ce0-11eb-828b-0242ac1c0002] Configuration 538 not found\n",
            "[WARNING] [2021-03-24 20:36:42,066:Client-AutoMLSMBO(1)::a2818dbe-8ce0-11eb-828b-0242ac1c0002] Configuration 375 not found\n",
            "[WARNING] [2021-03-24 20:36:42,066:Client-AutoMLSMBO(1)::a2818dbe-8ce0-11eb-828b-0242ac1c0002] Configuration 291 not found\n",
            "[WARNING] [2021-03-24 20:36:42,066:Client-AutoMLSMBO(1)::a2818dbe-8ce0-11eb-828b-0242ac1c0002] Configuration 322 not found\n",
            "[WARNING] [2021-03-24 20:36:42,066:Client-AutoMLSMBO(1)::a2818dbe-8ce0-11eb-828b-0242ac1c0002] Configuration 86 not found\n",
            "[WARNING] [2021-03-24 20:36:42,066:Client-AutoMLSMBO(1)::a2818dbe-8ce0-11eb-828b-0242ac1c0002] Configuration 275 not found\n",
            "[WARNING] [2021-03-24 20:36:42,067:Client-AutoMLSMBO(1)::a2818dbe-8ce0-11eb-828b-0242ac1c0002] Configuration 150 not found\n",
            "Finished Fitting model\n"
          ],
          "name": "stdout"
        }
      ]
    },
    {
      "cell_type": "markdown",
      "metadata": {
        "id": "fLdZVCEOBeE6"
      },
      "source": [
        "# Get Metrics"
      ]
    },
    {
      "cell_type": "code",
      "metadata": {
        "colab": {
          "base_uri": "https://localhost:8080/",
          "height": 357
        },
        "id": "miK7uHenM03Q",
        "outputId": "be9da77d-ff66-4f00-a3db-7e79aa2eb2f7"
      },
      "source": [
        "# Most recent\n",
        "y_pred = model.predict(X_test)\n",
        "testing_accuracy = accuracy_score(y_test, y_pred)\n",
        "print(\"Test Accuracy score {0}\".format(testing_accuracy))"
      ],
      "execution_count": 18,
      "outputs": [
        {
          "output_type": "error",
          "ename": "ValueError",
          "evalue": "ignored",
          "traceback": [
            "\u001b[0;31m---------------------------------------------------------------------------\u001b[0m",
            "\u001b[0;31mValueError\u001b[0m                                Traceback (most recent call last)",
            "\u001b[0;32m<ipython-input-18-3b4eacc4f018>\u001b[0m in \u001b[0;36m<module>\u001b[0;34m()\u001b[0m\n\u001b[1;32m      1\u001b[0m \u001b[0;31m# Most recent\u001b[0m\u001b[0;34m\u001b[0m\u001b[0;34m\u001b[0m\u001b[0;34m\u001b[0m\u001b[0m\n\u001b[0;32m----> 2\u001b[0;31m \u001b[0my_pred\u001b[0m \u001b[0;34m=\u001b[0m \u001b[0mmodel\u001b[0m\u001b[0;34m.\u001b[0m\u001b[0mpredict\u001b[0m\u001b[0;34m(\u001b[0m\u001b[0mX_test\u001b[0m\u001b[0;34m)\u001b[0m\u001b[0;34m\u001b[0m\u001b[0;34m\u001b[0m\u001b[0m\n\u001b[0m\u001b[1;32m      3\u001b[0m \u001b[0mtesting_accuracy\u001b[0m \u001b[0;34m=\u001b[0m \u001b[0maccuracy_score\u001b[0m\u001b[0;34m(\u001b[0m\u001b[0my_test\u001b[0m\u001b[0;34m,\u001b[0m \u001b[0my_pred\u001b[0m\u001b[0;34m)\u001b[0m\u001b[0;34m\u001b[0m\u001b[0;34m\u001b[0m\u001b[0m\n\u001b[1;32m      4\u001b[0m \u001b[0mprint\u001b[0m\u001b[0;34m(\u001b[0m\u001b[0;34m\"Test Accuracy score {0}\"\u001b[0m\u001b[0;34m.\u001b[0m\u001b[0mformat\u001b[0m\u001b[0;34m(\u001b[0m\u001b[0mtesting_accuracy\u001b[0m\u001b[0;34m)\u001b[0m\u001b[0;34m)\u001b[0m\u001b[0;34m\u001b[0m\u001b[0;34m\u001b[0m\u001b[0m\n",
            "\u001b[0;32m/usr/local/lib/python3.7/dist-packages/autosklearn/estimators.py\u001b[0m in \u001b[0;36mpredict\u001b[0;34m(self, X, batch_size, n_jobs)\u001b[0m\n\u001b[1;32m    619\u001b[0m \u001b[0;34m\u001b[0m\u001b[0m\n\u001b[1;32m    620\u001b[0m         \"\"\"\n\u001b[0;32m--> 621\u001b[0;31m         \u001b[0;32mreturn\u001b[0m \u001b[0msuper\u001b[0m\u001b[0;34m(\u001b[0m\u001b[0;34m)\u001b[0m\u001b[0;34m.\u001b[0m\u001b[0mpredict\u001b[0m\u001b[0;34m(\u001b[0m\u001b[0mX\u001b[0m\u001b[0;34m,\u001b[0m \u001b[0mbatch_size\u001b[0m\u001b[0;34m=\u001b[0m\u001b[0mbatch_size\u001b[0m\u001b[0;34m,\u001b[0m \u001b[0mn_jobs\u001b[0m\u001b[0;34m=\u001b[0m\u001b[0mn_jobs\u001b[0m\u001b[0;34m)\u001b[0m\u001b[0;34m\u001b[0m\u001b[0;34m\u001b[0m\u001b[0m\n\u001b[0m\u001b[1;32m    622\u001b[0m \u001b[0;34m\u001b[0m\u001b[0m\n\u001b[1;32m    623\u001b[0m     \u001b[0;32mdef\u001b[0m \u001b[0mpredict_proba\u001b[0m\u001b[0;34m(\u001b[0m\u001b[0mself\u001b[0m\u001b[0;34m,\u001b[0m \u001b[0mX\u001b[0m\u001b[0;34m,\u001b[0m \u001b[0mbatch_size\u001b[0m\u001b[0;34m=\u001b[0m\u001b[0;32mNone\u001b[0m\u001b[0;34m,\u001b[0m \u001b[0mn_jobs\u001b[0m\u001b[0;34m=\u001b[0m\u001b[0;36m1\u001b[0m\u001b[0;34m)\u001b[0m\u001b[0;34m:\u001b[0m\u001b[0;34m\u001b[0m\u001b[0;34m\u001b[0m\u001b[0m\n",
            "\u001b[0;32m/usr/local/lib/python3.7/dist-packages/autosklearn/estimators.py\u001b[0m in \u001b[0;36mpredict\u001b[0;34m(self, X, batch_size, n_jobs)\u001b[0m\n\u001b[1;32m    452\u001b[0m \u001b[0;34m\u001b[0m\u001b[0m\n\u001b[1;32m    453\u001b[0m     \u001b[0;32mdef\u001b[0m \u001b[0mpredict\u001b[0m\u001b[0;34m(\u001b[0m\u001b[0mself\u001b[0m\u001b[0;34m,\u001b[0m \u001b[0mX\u001b[0m\u001b[0;34m,\u001b[0m \u001b[0mbatch_size\u001b[0m\u001b[0;34m=\u001b[0m\u001b[0;32mNone\u001b[0m\u001b[0;34m,\u001b[0m \u001b[0mn_jobs\u001b[0m\u001b[0;34m=\u001b[0m\u001b[0;36m1\u001b[0m\u001b[0;34m)\u001b[0m\u001b[0;34m:\u001b[0m\u001b[0;34m\u001b[0m\u001b[0;34m\u001b[0m\u001b[0m\n\u001b[0;32m--> 454\u001b[0;31m         \u001b[0;32mreturn\u001b[0m \u001b[0mself\u001b[0m\u001b[0;34m.\u001b[0m\u001b[0mautoml_\u001b[0m\u001b[0;34m.\u001b[0m\u001b[0mpredict\u001b[0m\u001b[0;34m(\u001b[0m\u001b[0mX\u001b[0m\u001b[0;34m,\u001b[0m \u001b[0mbatch_size\u001b[0m\u001b[0;34m=\u001b[0m\u001b[0mbatch_size\u001b[0m\u001b[0;34m,\u001b[0m \u001b[0mn_jobs\u001b[0m\u001b[0;34m=\u001b[0m\u001b[0mn_jobs\u001b[0m\u001b[0;34m)\u001b[0m\u001b[0;34m\u001b[0m\u001b[0;34m\u001b[0m\u001b[0m\n\u001b[0m\u001b[1;32m    455\u001b[0m \u001b[0;34m\u001b[0m\u001b[0m\n\u001b[1;32m    456\u001b[0m     \u001b[0;32mdef\u001b[0m \u001b[0mpredict_proba\u001b[0m\u001b[0;34m(\u001b[0m\u001b[0mself\u001b[0m\u001b[0;34m,\u001b[0m \u001b[0mX\u001b[0m\u001b[0;34m,\u001b[0m \u001b[0mbatch_size\u001b[0m\u001b[0;34m=\u001b[0m\u001b[0;32mNone\u001b[0m\u001b[0;34m,\u001b[0m \u001b[0mn_jobs\u001b[0m\u001b[0;34m=\u001b[0m\u001b[0;36m1\u001b[0m\u001b[0;34m)\u001b[0m\u001b[0;34m:\u001b[0m\u001b[0;34m\u001b[0m\u001b[0;34m\u001b[0m\u001b[0m\n",
            "\u001b[0;32m/usr/local/lib/python3.7/dist-packages/autosklearn/automl.py\u001b[0m in \u001b[0;36mpredict\u001b[0;34m(self, X, batch_size, n_jobs)\u001b[0m\n\u001b[1;32m   1425\u001b[0m     \u001b[0;32mdef\u001b[0m \u001b[0mpredict\u001b[0m\u001b[0;34m(\u001b[0m\u001b[0mself\u001b[0m\u001b[0;34m,\u001b[0m \u001b[0mX\u001b[0m\u001b[0;34m,\u001b[0m \u001b[0mbatch_size\u001b[0m\u001b[0;34m=\u001b[0m\u001b[0;32mNone\u001b[0m\u001b[0;34m,\u001b[0m \u001b[0mn_jobs\u001b[0m\u001b[0;34m=\u001b[0m\u001b[0;36m1\u001b[0m\u001b[0;34m)\u001b[0m\u001b[0;34m:\u001b[0m\u001b[0;34m\u001b[0m\u001b[0;34m\u001b[0m\u001b[0m\n\u001b[1;32m   1426\u001b[0m         predicted_probabilities = super().predict(X, batch_size=batch_size,\n\u001b[0;32m-> 1427\u001b[0;31m                                                   n_jobs=n_jobs)\n\u001b[0m\u001b[1;32m   1428\u001b[0m \u001b[0;34m\u001b[0m\u001b[0m\n\u001b[1;32m   1429\u001b[0m         \u001b[0;32mif\u001b[0m \u001b[0mself\u001b[0m\u001b[0;34m.\u001b[0m\u001b[0mInputValidator\u001b[0m \u001b[0;32mis\u001b[0m \u001b[0;32mNone\u001b[0m \u001b[0;32mor\u001b[0m \u001b[0;32mnot\u001b[0m \u001b[0mself\u001b[0m\u001b[0;34m.\u001b[0m\u001b[0mInputValidator\u001b[0m\u001b[0;34m.\u001b[0m\u001b[0m_is_fitted\u001b[0m\u001b[0;34m:\u001b[0m\u001b[0;34m\u001b[0m\u001b[0;34m\u001b[0m\u001b[0m\n",
            "\u001b[0;32m/usr/local/lib/python3.7/dist-packages/autosklearn/automl.py\u001b[0m in \u001b[0;36mpredict\u001b[0;34m(self, X, batch_size, n_jobs)\u001b[0m\n\u001b[1;32m    984\u001b[0m                 \u001b[0mmodels\u001b[0m\u001b[0;34m[\u001b[0m\u001b[0midentifier\u001b[0m\u001b[0;34m]\u001b[0m\u001b[0;34m,\u001b[0m \u001b[0mX\u001b[0m\u001b[0;34m,\u001b[0m \u001b[0mbatch_size\u001b[0m\u001b[0;34m,\u001b[0m \u001b[0mself\u001b[0m\u001b[0;34m.\u001b[0m\u001b[0m_logger\u001b[0m\u001b[0;34m,\u001b[0m \u001b[0mself\u001b[0m\u001b[0;34m.\u001b[0m\u001b[0m_task\u001b[0m\u001b[0;34m\u001b[0m\u001b[0;34m\u001b[0m\u001b[0m\n\u001b[1;32m    985\u001b[0m             )\n\u001b[0;32m--> 986\u001b[0;31m             \u001b[0;32mfor\u001b[0m \u001b[0midentifier\u001b[0m \u001b[0;32min\u001b[0m \u001b[0mself\u001b[0m\u001b[0;34m.\u001b[0m\u001b[0mensemble_\u001b[0m\u001b[0;34m.\u001b[0m\u001b[0mget_selected_model_identifiers\u001b[0m\u001b[0;34m(\u001b[0m\u001b[0;34m)\u001b[0m\u001b[0;34m\u001b[0m\u001b[0;34m\u001b[0m\u001b[0m\n\u001b[0m\u001b[1;32m    987\u001b[0m         )\n\u001b[1;32m    988\u001b[0m \u001b[0;34m\u001b[0m\u001b[0m\n",
            "\u001b[0;32m/usr/local/lib/python3.7/dist-packages/joblib/parallel.py\u001b[0m in \u001b[0;36m__call__\u001b[0;34m(self, iterable)\u001b[0m\n\u001b[1;32m   1042\u001b[0m                 \u001b[0mself\u001b[0m\u001b[0;34m.\u001b[0m\u001b[0m_iterating\u001b[0m \u001b[0;34m=\u001b[0m \u001b[0mself\u001b[0m\u001b[0;34m.\u001b[0m\u001b[0m_original_iterator\u001b[0m \u001b[0;32mis\u001b[0m \u001b[0;32mnot\u001b[0m \u001b[0;32mNone\u001b[0m\u001b[0;34m\u001b[0m\u001b[0;34m\u001b[0m\u001b[0m\n\u001b[1;32m   1043\u001b[0m \u001b[0;34m\u001b[0m\u001b[0m\n\u001b[0;32m-> 1044\u001b[0;31m             \u001b[0;32mwhile\u001b[0m \u001b[0mself\u001b[0m\u001b[0;34m.\u001b[0m\u001b[0mdispatch_one_batch\u001b[0m\u001b[0;34m(\u001b[0m\u001b[0miterator\u001b[0m\u001b[0;34m)\u001b[0m\u001b[0;34m:\u001b[0m\u001b[0;34m\u001b[0m\u001b[0;34m\u001b[0m\u001b[0m\n\u001b[0m\u001b[1;32m   1045\u001b[0m                 \u001b[0;32mpass\u001b[0m\u001b[0;34m\u001b[0m\u001b[0;34m\u001b[0m\u001b[0m\n\u001b[1;32m   1046\u001b[0m \u001b[0;34m\u001b[0m\u001b[0m\n",
            "\u001b[0;32m/usr/local/lib/python3.7/dist-packages/joblib/parallel.py\u001b[0m in \u001b[0;36mdispatch_one_batch\u001b[0;34m(self, iterator)\u001b[0m\n\u001b[1;32m    857\u001b[0m                 \u001b[0;32mreturn\u001b[0m \u001b[0;32mFalse\u001b[0m\u001b[0;34m\u001b[0m\u001b[0;34m\u001b[0m\u001b[0m\n\u001b[1;32m    858\u001b[0m             \u001b[0;32melse\u001b[0m\u001b[0;34m:\u001b[0m\u001b[0;34m\u001b[0m\u001b[0;34m\u001b[0m\u001b[0m\n\u001b[0;32m--> 859\u001b[0;31m                 \u001b[0mself\u001b[0m\u001b[0;34m.\u001b[0m\u001b[0m_dispatch\u001b[0m\u001b[0;34m(\u001b[0m\u001b[0mtasks\u001b[0m\u001b[0;34m)\u001b[0m\u001b[0;34m\u001b[0m\u001b[0;34m\u001b[0m\u001b[0m\n\u001b[0m\u001b[1;32m    860\u001b[0m                 \u001b[0;32mreturn\u001b[0m \u001b[0;32mTrue\u001b[0m\u001b[0;34m\u001b[0m\u001b[0;34m\u001b[0m\u001b[0m\n\u001b[1;32m    861\u001b[0m \u001b[0;34m\u001b[0m\u001b[0m\n",
            "\u001b[0;32m/usr/local/lib/python3.7/dist-packages/joblib/parallel.py\u001b[0m in \u001b[0;36m_dispatch\u001b[0;34m(self, batch)\u001b[0m\n\u001b[1;32m    775\u001b[0m         \u001b[0;32mwith\u001b[0m \u001b[0mself\u001b[0m\u001b[0;34m.\u001b[0m\u001b[0m_lock\u001b[0m\u001b[0;34m:\u001b[0m\u001b[0;34m\u001b[0m\u001b[0;34m\u001b[0m\u001b[0m\n\u001b[1;32m    776\u001b[0m             \u001b[0mjob_idx\u001b[0m \u001b[0;34m=\u001b[0m \u001b[0mlen\u001b[0m\u001b[0;34m(\u001b[0m\u001b[0mself\u001b[0m\u001b[0;34m.\u001b[0m\u001b[0m_jobs\u001b[0m\u001b[0;34m)\u001b[0m\u001b[0;34m\u001b[0m\u001b[0;34m\u001b[0m\u001b[0m\n\u001b[0;32m--> 777\u001b[0;31m             \u001b[0mjob\u001b[0m \u001b[0;34m=\u001b[0m \u001b[0mself\u001b[0m\u001b[0;34m.\u001b[0m\u001b[0m_backend\u001b[0m\u001b[0;34m.\u001b[0m\u001b[0mapply_async\u001b[0m\u001b[0;34m(\u001b[0m\u001b[0mbatch\u001b[0m\u001b[0;34m,\u001b[0m \u001b[0mcallback\u001b[0m\u001b[0;34m=\u001b[0m\u001b[0mcb\u001b[0m\u001b[0;34m)\u001b[0m\u001b[0;34m\u001b[0m\u001b[0;34m\u001b[0m\u001b[0m\n\u001b[0m\u001b[1;32m    778\u001b[0m             \u001b[0;31m# A job can complete so quickly than its callback is\u001b[0m\u001b[0;34m\u001b[0m\u001b[0;34m\u001b[0m\u001b[0;34m\u001b[0m\u001b[0m\n\u001b[1;32m    779\u001b[0m             \u001b[0;31m# called before we get here, causing self._jobs to\u001b[0m\u001b[0;34m\u001b[0m\u001b[0;34m\u001b[0m\u001b[0;34m\u001b[0m\u001b[0m\n",
            "\u001b[0;32m/usr/local/lib/python3.7/dist-packages/joblib/_parallel_backends.py\u001b[0m in \u001b[0;36mapply_async\u001b[0;34m(self, func, callback)\u001b[0m\n\u001b[1;32m    206\u001b[0m     \u001b[0;32mdef\u001b[0m \u001b[0mapply_async\u001b[0m\u001b[0;34m(\u001b[0m\u001b[0mself\u001b[0m\u001b[0;34m,\u001b[0m \u001b[0mfunc\u001b[0m\u001b[0;34m,\u001b[0m \u001b[0mcallback\u001b[0m\u001b[0;34m=\u001b[0m\u001b[0;32mNone\u001b[0m\u001b[0;34m)\u001b[0m\u001b[0;34m:\u001b[0m\u001b[0;34m\u001b[0m\u001b[0;34m\u001b[0m\u001b[0m\n\u001b[1;32m    207\u001b[0m         \u001b[0;34m\"\"\"Schedule a func to be run\"\"\"\u001b[0m\u001b[0;34m\u001b[0m\u001b[0;34m\u001b[0m\u001b[0m\n\u001b[0;32m--> 208\u001b[0;31m         \u001b[0mresult\u001b[0m \u001b[0;34m=\u001b[0m \u001b[0mImmediateResult\u001b[0m\u001b[0;34m(\u001b[0m\u001b[0mfunc\u001b[0m\u001b[0;34m)\u001b[0m\u001b[0;34m\u001b[0m\u001b[0;34m\u001b[0m\u001b[0m\n\u001b[0m\u001b[1;32m    209\u001b[0m         \u001b[0;32mif\u001b[0m \u001b[0mcallback\u001b[0m\u001b[0;34m:\u001b[0m\u001b[0;34m\u001b[0m\u001b[0;34m\u001b[0m\u001b[0m\n\u001b[1;32m    210\u001b[0m             \u001b[0mcallback\u001b[0m\u001b[0;34m(\u001b[0m\u001b[0mresult\u001b[0m\u001b[0;34m)\u001b[0m\u001b[0;34m\u001b[0m\u001b[0;34m\u001b[0m\u001b[0m\n",
            "\u001b[0;32m/usr/local/lib/python3.7/dist-packages/joblib/_parallel_backends.py\u001b[0m in \u001b[0;36m__init__\u001b[0;34m(self, batch)\u001b[0m\n\u001b[1;32m    570\u001b[0m         \u001b[0;31m# Don't delay the application, to avoid keeping the input\u001b[0m\u001b[0;34m\u001b[0m\u001b[0;34m\u001b[0m\u001b[0;34m\u001b[0m\u001b[0m\n\u001b[1;32m    571\u001b[0m         \u001b[0;31m# arguments in memory\u001b[0m\u001b[0;34m\u001b[0m\u001b[0;34m\u001b[0m\u001b[0;34m\u001b[0m\u001b[0m\n\u001b[0;32m--> 572\u001b[0;31m         \u001b[0mself\u001b[0m\u001b[0;34m.\u001b[0m\u001b[0mresults\u001b[0m \u001b[0;34m=\u001b[0m \u001b[0mbatch\u001b[0m\u001b[0;34m(\u001b[0m\u001b[0;34m)\u001b[0m\u001b[0;34m\u001b[0m\u001b[0;34m\u001b[0m\u001b[0m\n\u001b[0m\u001b[1;32m    573\u001b[0m \u001b[0;34m\u001b[0m\u001b[0m\n\u001b[1;32m    574\u001b[0m     \u001b[0;32mdef\u001b[0m \u001b[0mget\u001b[0m\u001b[0;34m(\u001b[0m\u001b[0mself\u001b[0m\u001b[0;34m)\u001b[0m\u001b[0;34m:\u001b[0m\u001b[0;34m\u001b[0m\u001b[0;34m\u001b[0m\u001b[0m\n",
            "\u001b[0;32m/usr/local/lib/python3.7/dist-packages/joblib/parallel.py\u001b[0m in \u001b[0;36m__call__\u001b[0;34m(self)\u001b[0m\n\u001b[1;32m    261\u001b[0m         \u001b[0;32mwith\u001b[0m \u001b[0mparallel_backend\u001b[0m\u001b[0;34m(\u001b[0m\u001b[0mself\u001b[0m\u001b[0;34m.\u001b[0m\u001b[0m_backend\u001b[0m\u001b[0;34m,\u001b[0m \u001b[0mn_jobs\u001b[0m\u001b[0;34m=\u001b[0m\u001b[0mself\u001b[0m\u001b[0;34m.\u001b[0m\u001b[0m_n_jobs\u001b[0m\u001b[0;34m)\u001b[0m\u001b[0;34m:\u001b[0m\u001b[0;34m\u001b[0m\u001b[0;34m\u001b[0m\u001b[0m\n\u001b[1;32m    262\u001b[0m             return [func(*args, **kwargs)\n\u001b[0;32m--> 263\u001b[0;31m                     for func, args, kwargs in self.items]\n\u001b[0m\u001b[1;32m    264\u001b[0m \u001b[0;34m\u001b[0m\u001b[0m\n\u001b[1;32m    265\u001b[0m     \u001b[0;32mdef\u001b[0m \u001b[0m__reduce__\u001b[0m\u001b[0;34m(\u001b[0m\u001b[0mself\u001b[0m\u001b[0;34m)\u001b[0m\u001b[0;34m:\u001b[0m\u001b[0;34m\u001b[0m\u001b[0;34m\u001b[0m\u001b[0m\n",
            "\u001b[0;32m/usr/local/lib/python3.7/dist-packages/joblib/parallel.py\u001b[0m in \u001b[0;36m<listcomp>\u001b[0;34m(.0)\u001b[0m\n\u001b[1;32m    261\u001b[0m         \u001b[0;32mwith\u001b[0m \u001b[0mparallel_backend\u001b[0m\u001b[0;34m(\u001b[0m\u001b[0mself\u001b[0m\u001b[0;34m.\u001b[0m\u001b[0m_backend\u001b[0m\u001b[0;34m,\u001b[0m \u001b[0mn_jobs\u001b[0m\u001b[0;34m=\u001b[0m\u001b[0mself\u001b[0m\u001b[0;34m.\u001b[0m\u001b[0m_n_jobs\u001b[0m\u001b[0;34m)\u001b[0m\u001b[0;34m:\u001b[0m\u001b[0;34m\u001b[0m\u001b[0;34m\u001b[0m\u001b[0m\n\u001b[1;32m    262\u001b[0m             return [func(*args, **kwargs)\n\u001b[0;32m--> 263\u001b[0;31m                     for func, args, kwargs in self.items]\n\u001b[0m\u001b[1;32m    264\u001b[0m \u001b[0;34m\u001b[0m\u001b[0m\n\u001b[1;32m    265\u001b[0m     \u001b[0;32mdef\u001b[0m \u001b[0m__reduce__\u001b[0m\u001b[0;34m(\u001b[0m\u001b[0mself\u001b[0m\u001b[0;34m)\u001b[0m\u001b[0;34m:\u001b[0m\u001b[0;34m\u001b[0m\u001b[0;34m\u001b[0m\u001b[0m\n",
            "\u001b[0;32m/usr/local/lib/python3.7/dist-packages/autosklearn/automl.py\u001b[0m in \u001b[0;36m_model_predict\u001b[0;34m(model, X, batch_size, logger, task)\u001b[0m\n\u001b[1;32m     86\u001b[0m                 \u001b[0mprediction\u001b[0m \u001b[0;34m=\u001b[0m \u001b[0mmodel\u001b[0m\u001b[0;34m.\u001b[0m\u001b[0mpredict_proba\u001b[0m\u001b[0;34m(\u001b[0m\u001b[0mX_\u001b[0m\u001b[0;34m,\u001b[0m \u001b[0mbatch_size\u001b[0m\u001b[0;34m=\u001b[0m\u001b[0mbatch_size\u001b[0m\u001b[0;34m)\u001b[0m\u001b[0;34m\u001b[0m\u001b[0;34m\u001b[0m\u001b[0m\n\u001b[1;32m     87\u001b[0m             \u001b[0;32melse\u001b[0m\u001b[0;34m:\u001b[0m\u001b[0;34m\u001b[0m\u001b[0;34m\u001b[0m\u001b[0m\n\u001b[0;32m---> 88\u001b[0;31m                 \u001b[0mprediction\u001b[0m \u001b[0;34m=\u001b[0m \u001b[0mmodel\u001b[0m\u001b[0;34m.\u001b[0m\u001b[0mpredict_proba\u001b[0m\u001b[0;34m(\u001b[0m\u001b[0mX_\u001b[0m\u001b[0;34m)\u001b[0m\u001b[0;34m\u001b[0m\u001b[0;34m\u001b[0m\u001b[0m\n\u001b[0m\u001b[1;32m     89\u001b[0m \u001b[0;34m\u001b[0m\u001b[0m\n\u001b[1;32m     90\u001b[0m             \u001b[0;31m# Check that all probability values lie between 0 and 1.\u001b[0m\u001b[0;34m\u001b[0m\u001b[0;34m\u001b[0m\u001b[0;34m\u001b[0m\u001b[0m\n",
            "\u001b[0;32m/usr/local/lib/python3.7/dist-packages/autosklearn/pipeline/classification.py\u001b[0m in \u001b[0;36mpredict_proba\u001b[0;34m(self, X, batch_size)\u001b[0m\n\u001b[1;32m    117\u001b[0m         \"\"\"\n\u001b[1;32m    118\u001b[0m         \u001b[0;32mif\u001b[0m \u001b[0mbatch_size\u001b[0m \u001b[0;32mis\u001b[0m \u001b[0;32mNone\u001b[0m\u001b[0;34m:\u001b[0m\u001b[0;34m\u001b[0m\u001b[0;34m\u001b[0m\u001b[0m\n\u001b[0;32m--> 119\u001b[0;31m             \u001b[0;32mreturn\u001b[0m \u001b[0msuper\u001b[0m\u001b[0;34m(\u001b[0m\u001b[0;34m)\u001b[0m\u001b[0;34m.\u001b[0m\u001b[0mpredict_proba\u001b[0m\u001b[0;34m(\u001b[0m\u001b[0mX\u001b[0m\u001b[0;34m)\u001b[0m\u001b[0;34m\u001b[0m\u001b[0;34m\u001b[0m\u001b[0m\n\u001b[0m\u001b[1;32m    120\u001b[0m \u001b[0;34m\u001b[0m\u001b[0m\n\u001b[1;32m    121\u001b[0m         \u001b[0;32melse\u001b[0m\u001b[0;34m:\u001b[0m\u001b[0;34m\u001b[0m\u001b[0;34m\u001b[0m\u001b[0m\n",
            "\u001b[0;32m/usr/local/lib/python3.7/dist-packages/sklearn/utils/metaestimators.py\u001b[0m in \u001b[0;36m<lambda>\u001b[0;34m(*args, **kwargs)\u001b[0m\n\u001b[1;32m    118\u001b[0m \u001b[0;34m\u001b[0m\u001b[0m\n\u001b[1;32m    119\u001b[0m         \u001b[0;31m# lambda, but not partial, allows help() to work with update_wrapper\u001b[0m\u001b[0;34m\u001b[0m\u001b[0;34m\u001b[0m\u001b[0;34m\u001b[0m\u001b[0m\n\u001b[0;32m--> 120\u001b[0;31m         \u001b[0mout\u001b[0m \u001b[0;34m=\u001b[0m \u001b[0;32mlambda\u001b[0m \u001b[0;34m*\u001b[0m\u001b[0margs\u001b[0m\u001b[0;34m,\u001b[0m \u001b[0;34m**\u001b[0m\u001b[0mkwargs\u001b[0m\u001b[0;34m:\u001b[0m \u001b[0mself\u001b[0m\u001b[0;34m.\u001b[0m\u001b[0mfn\u001b[0m\u001b[0;34m(\u001b[0m\u001b[0mobj\u001b[0m\u001b[0;34m,\u001b[0m \u001b[0;34m*\u001b[0m\u001b[0margs\u001b[0m\u001b[0;34m,\u001b[0m \u001b[0;34m**\u001b[0m\u001b[0mkwargs\u001b[0m\u001b[0;34m)\u001b[0m\u001b[0;34m\u001b[0m\u001b[0;34m\u001b[0m\u001b[0m\n\u001b[0m\u001b[1;32m    121\u001b[0m         \u001b[0;31m# update the docstring of the returned function\u001b[0m\u001b[0;34m\u001b[0m\u001b[0;34m\u001b[0m\u001b[0;34m\u001b[0m\u001b[0m\n\u001b[1;32m    122\u001b[0m         \u001b[0mupdate_wrapper\u001b[0m\u001b[0;34m(\u001b[0m\u001b[0mout\u001b[0m\u001b[0;34m,\u001b[0m \u001b[0mself\u001b[0m\u001b[0;34m.\u001b[0m\u001b[0mfn\u001b[0m\u001b[0;34m)\u001b[0m\u001b[0;34m\u001b[0m\u001b[0;34m\u001b[0m\u001b[0m\n",
            "\u001b[0;32m/usr/local/lib/python3.7/dist-packages/sklearn/pipeline.py\u001b[0m in \u001b[0;36mpredict_proba\u001b[0;34m(self, X)\u001b[0m\n\u001b[1;32m    472\u001b[0m         \u001b[0mXt\u001b[0m \u001b[0;34m=\u001b[0m \u001b[0mX\u001b[0m\u001b[0;34m\u001b[0m\u001b[0;34m\u001b[0m\u001b[0m\n\u001b[1;32m    473\u001b[0m         \u001b[0;32mfor\u001b[0m \u001b[0m_\u001b[0m\u001b[0;34m,\u001b[0m \u001b[0mname\u001b[0m\u001b[0;34m,\u001b[0m \u001b[0mtransform\u001b[0m \u001b[0;32min\u001b[0m \u001b[0mself\u001b[0m\u001b[0;34m.\u001b[0m\u001b[0m_iter\u001b[0m\u001b[0;34m(\u001b[0m\u001b[0mwith_final\u001b[0m\u001b[0;34m=\u001b[0m\u001b[0;32mFalse\u001b[0m\u001b[0;34m)\u001b[0m\u001b[0;34m:\u001b[0m\u001b[0;34m\u001b[0m\u001b[0;34m\u001b[0m\u001b[0m\n\u001b[0;32m--> 474\u001b[0;31m             \u001b[0mXt\u001b[0m \u001b[0;34m=\u001b[0m \u001b[0mtransform\u001b[0m\u001b[0;34m.\u001b[0m\u001b[0mtransform\u001b[0m\u001b[0;34m(\u001b[0m\u001b[0mXt\u001b[0m\u001b[0;34m)\u001b[0m\u001b[0;34m\u001b[0m\u001b[0;34m\u001b[0m\u001b[0m\n\u001b[0m\u001b[1;32m    475\u001b[0m         \u001b[0;32mreturn\u001b[0m \u001b[0mself\u001b[0m\u001b[0;34m.\u001b[0m\u001b[0msteps\u001b[0m\u001b[0;34m[\u001b[0m\u001b[0;34m-\u001b[0m\u001b[0;36m1\u001b[0m\u001b[0;34m]\u001b[0m\u001b[0;34m[\u001b[0m\u001b[0;34m-\u001b[0m\u001b[0;36m1\u001b[0m\u001b[0;34m]\u001b[0m\u001b[0;34m.\u001b[0m\u001b[0mpredict_proba\u001b[0m\u001b[0;34m(\u001b[0m\u001b[0mXt\u001b[0m\u001b[0;34m)\u001b[0m\u001b[0;34m\u001b[0m\u001b[0;34m\u001b[0m\u001b[0m\n\u001b[1;32m    476\u001b[0m \u001b[0;34m\u001b[0m\u001b[0m\n",
            "\u001b[0;32m/usr/local/lib/python3.7/dist-packages/autosklearn/pipeline/components/data_preprocessing/data_preprocessing.py\u001b[0m in \u001b[0;36mtransform\u001b[0;34m(self, X)\u001b[0m\n\u001b[1;32m    112\u001b[0m                              \u001b[0;34m\"while trying to fit the model.\"\u001b[0m\u001b[0;34m\u001b[0m\u001b[0;34m\u001b[0m\u001b[0m\n\u001b[1;32m    113\u001b[0m                              )\n\u001b[0;32m--> 114\u001b[0;31m         \u001b[0;32mreturn\u001b[0m \u001b[0mself\u001b[0m\u001b[0;34m.\u001b[0m\u001b[0mcolumn_transformer\u001b[0m\u001b[0;34m.\u001b[0m\u001b[0mtransform\u001b[0m\u001b[0;34m(\u001b[0m\u001b[0mX\u001b[0m\u001b[0;34m)\u001b[0m\u001b[0;34m\u001b[0m\u001b[0;34m\u001b[0m\u001b[0m\n\u001b[0m\u001b[1;32m    115\u001b[0m \u001b[0;34m\u001b[0m\u001b[0m\n\u001b[1;32m    116\u001b[0m     \u001b[0;32mdef\u001b[0m \u001b[0mfit_transform\u001b[0m\u001b[0;34m(\u001b[0m\u001b[0mself\u001b[0m\u001b[0;34m,\u001b[0m \u001b[0mX\u001b[0m\u001b[0;34m,\u001b[0m \u001b[0my\u001b[0m\u001b[0;34m=\u001b[0m\u001b[0;32mNone\u001b[0m\u001b[0;34m)\u001b[0m\u001b[0;34m:\u001b[0m\u001b[0;34m\u001b[0m\u001b[0;34m\u001b[0m\u001b[0m\n",
            "\u001b[0;32m/usr/local/lib/python3.7/dist-packages/sklearn/compose/_column_transformer.py\u001b[0m in \u001b[0;36mtransform\u001b[0;34m(self, X)\u001b[0m\n\u001b[1;32m    563\u001b[0m                 \u001b[0;34m\"data given during fit.\"\u001b[0m\u001b[0;34m\u001b[0m\u001b[0;34m\u001b[0m\u001b[0m\n\u001b[1;32m    564\u001b[0m             )\n\u001b[0;32m--> 565\u001b[0;31m         \u001b[0mXs\u001b[0m \u001b[0;34m=\u001b[0m \u001b[0mself\u001b[0m\u001b[0;34m.\u001b[0m\u001b[0m_fit_transform\u001b[0m\u001b[0;34m(\u001b[0m\u001b[0mX\u001b[0m\u001b[0;34m,\u001b[0m \u001b[0;32mNone\u001b[0m\u001b[0;34m,\u001b[0m \u001b[0m_transform_one\u001b[0m\u001b[0;34m,\u001b[0m \u001b[0mfitted\u001b[0m\u001b[0;34m=\u001b[0m\u001b[0;32mTrue\u001b[0m\u001b[0;34m)\u001b[0m\u001b[0;34m\u001b[0m\u001b[0;34m\u001b[0m\u001b[0m\n\u001b[0m\u001b[1;32m    566\u001b[0m         \u001b[0mself\u001b[0m\u001b[0;34m.\u001b[0m\u001b[0m_validate_output\u001b[0m\u001b[0;34m(\u001b[0m\u001b[0mXs\u001b[0m\u001b[0;34m)\u001b[0m\u001b[0;34m\u001b[0m\u001b[0;34m\u001b[0m\u001b[0m\n\u001b[1;32m    567\u001b[0m \u001b[0;34m\u001b[0m\u001b[0m\n",
            "\u001b[0;32m/usr/local/lib/python3.7/dist-packages/sklearn/compose/_column_transformer.py\u001b[0m in \u001b[0;36m_fit_transform\u001b[0;34m(self, X, y, func, fitted)\u001b[0m\n\u001b[1;32m    442\u001b[0m                     message=self._log_message(name, idx, len(transformers)))\n\u001b[1;32m    443\u001b[0m                 for idx, (name, trans, column, weight) in enumerate(\n\u001b[0;32m--> 444\u001b[0;31m                         self._iter(fitted=fitted, replace_strings=True), 1))\n\u001b[0m\u001b[1;32m    445\u001b[0m         \u001b[0;32mexcept\u001b[0m \u001b[0mValueError\u001b[0m \u001b[0;32mas\u001b[0m \u001b[0me\u001b[0m\u001b[0;34m:\u001b[0m\u001b[0;34m\u001b[0m\u001b[0;34m\u001b[0m\u001b[0m\n\u001b[1;32m    446\u001b[0m             \u001b[0;32mif\u001b[0m \u001b[0;34m\"Expected 2D array, got 1D array instead\"\u001b[0m \u001b[0;32min\u001b[0m \u001b[0mstr\u001b[0m\u001b[0;34m(\u001b[0m\u001b[0me\u001b[0m\u001b[0;34m)\u001b[0m\u001b[0;34m:\u001b[0m\u001b[0;34m\u001b[0m\u001b[0;34m\u001b[0m\u001b[0m\n",
            "\u001b[0;32m/usr/local/lib/python3.7/dist-packages/joblib/parallel.py\u001b[0m in \u001b[0;36m__call__\u001b[0;34m(self, iterable)\u001b[0m\n\u001b[1;32m   1039\u001b[0m             \u001b[0;31m# remaining jobs.\u001b[0m\u001b[0;34m\u001b[0m\u001b[0;34m\u001b[0m\u001b[0;34m\u001b[0m\u001b[0m\n\u001b[1;32m   1040\u001b[0m             \u001b[0mself\u001b[0m\u001b[0;34m.\u001b[0m\u001b[0m_iterating\u001b[0m \u001b[0;34m=\u001b[0m \u001b[0;32mFalse\u001b[0m\u001b[0;34m\u001b[0m\u001b[0;34m\u001b[0m\u001b[0m\n\u001b[0;32m-> 1041\u001b[0;31m             \u001b[0;32mif\u001b[0m \u001b[0mself\u001b[0m\u001b[0;34m.\u001b[0m\u001b[0mdispatch_one_batch\u001b[0m\u001b[0;34m(\u001b[0m\u001b[0miterator\u001b[0m\u001b[0;34m)\u001b[0m\u001b[0;34m:\u001b[0m\u001b[0;34m\u001b[0m\u001b[0;34m\u001b[0m\u001b[0m\n\u001b[0m\u001b[1;32m   1042\u001b[0m                 \u001b[0mself\u001b[0m\u001b[0;34m.\u001b[0m\u001b[0m_iterating\u001b[0m \u001b[0;34m=\u001b[0m \u001b[0mself\u001b[0m\u001b[0;34m.\u001b[0m\u001b[0m_original_iterator\u001b[0m \u001b[0;32mis\u001b[0m \u001b[0;32mnot\u001b[0m \u001b[0;32mNone\u001b[0m\u001b[0;34m\u001b[0m\u001b[0;34m\u001b[0m\u001b[0m\n\u001b[1;32m   1043\u001b[0m \u001b[0;34m\u001b[0m\u001b[0m\n",
            "\u001b[0;32m/usr/local/lib/python3.7/dist-packages/joblib/parallel.py\u001b[0m in \u001b[0;36mdispatch_one_batch\u001b[0;34m(self, iterator)\u001b[0m\n\u001b[1;32m    857\u001b[0m                 \u001b[0;32mreturn\u001b[0m \u001b[0;32mFalse\u001b[0m\u001b[0;34m\u001b[0m\u001b[0;34m\u001b[0m\u001b[0m\n\u001b[1;32m    858\u001b[0m             \u001b[0;32melse\u001b[0m\u001b[0;34m:\u001b[0m\u001b[0;34m\u001b[0m\u001b[0;34m\u001b[0m\u001b[0m\n\u001b[0;32m--> 859\u001b[0;31m                 \u001b[0mself\u001b[0m\u001b[0;34m.\u001b[0m\u001b[0m_dispatch\u001b[0m\u001b[0;34m(\u001b[0m\u001b[0mtasks\u001b[0m\u001b[0;34m)\u001b[0m\u001b[0;34m\u001b[0m\u001b[0;34m\u001b[0m\u001b[0m\n\u001b[0m\u001b[1;32m    860\u001b[0m                 \u001b[0;32mreturn\u001b[0m \u001b[0;32mTrue\u001b[0m\u001b[0;34m\u001b[0m\u001b[0;34m\u001b[0m\u001b[0m\n\u001b[1;32m    861\u001b[0m \u001b[0;34m\u001b[0m\u001b[0m\n",
            "\u001b[0;32m/usr/local/lib/python3.7/dist-packages/joblib/parallel.py\u001b[0m in \u001b[0;36m_dispatch\u001b[0;34m(self, batch)\u001b[0m\n\u001b[1;32m    775\u001b[0m         \u001b[0;32mwith\u001b[0m \u001b[0mself\u001b[0m\u001b[0;34m.\u001b[0m\u001b[0m_lock\u001b[0m\u001b[0;34m:\u001b[0m\u001b[0;34m\u001b[0m\u001b[0;34m\u001b[0m\u001b[0m\n\u001b[1;32m    776\u001b[0m             \u001b[0mjob_idx\u001b[0m \u001b[0;34m=\u001b[0m \u001b[0mlen\u001b[0m\u001b[0;34m(\u001b[0m\u001b[0mself\u001b[0m\u001b[0;34m.\u001b[0m\u001b[0m_jobs\u001b[0m\u001b[0;34m)\u001b[0m\u001b[0;34m\u001b[0m\u001b[0;34m\u001b[0m\u001b[0m\n\u001b[0;32m--> 777\u001b[0;31m             \u001b[0mjob\u001b[0m \u001b[0;34m=\u001b[0m \u001b[0mself\u001b[0m\u001b[0;34m.\u001b[0m\u001b[0m_backend\u001b[0m\u001b[0;34m.\u001b[0m\u001b[0mapply_async\u001b[0m\u001b[0;34m(\u001b[0m\u001b[0mbatch\u001b[0m\u001b[0;34m,\u001b[0m \u001b[0mcallback\u001b[0m\u001b[0;34m=\u001b[0m\u001b[0mcb\u001b[0m\u001b[0;34m)\u001b[0m\u001b[0;34m\u001b[0m\u001b[0;34m\u001b[0m\u001b[0m\n\u001b[0m\u001b[1;32m    778\u001b[0m             \u001b[0;31m# A job can complete so quickly than its callback is\u001b[0m\u001b[0;34m\u001b[0m\u001b[0;34m\u001b[0m\u001b[0;34m\u001b[0m\u001b[0m\n\u001b[1;32m    779\u001b[0m             \u001b[0;31m# called before we get here, causing self._jobs to\u001b[0m\u001b[0;34m\u001b[0m\u001b[0;34m\u001b[0m\u001b[0;34m\u001b[0m\u001b[0m\n",
            "\u001b[0;32m/usr/local/lib/python3.7/dist-packages/joblib/_parallel_backends.py\u001b[0m in \u001b[0;36mapply_async\u001b[0;34m(self, func, callback)\u001b[0m\n\u001b[1;32m    206\u001b[0m     \u001b[0;32mdef\u001b[0m \u001b[0mapply_async\u001b[0m\u001b[0;34m(\u001b[0m\u001b[0mself\u001b[0m\u001b[0;34m,\u001b[0m \u001b[0mfunc\u001b[0m\u001b[0;34m,\u001b[0m \u001b[0mcallback\u001b[0m\u001b[0;34m=\u001b[0m\u001b[0;32mNone\u001b[0m\u001b[0;34m)\u001b[0m\u001b[0;34m:\u001b[0m\u001b[0;34m\u001b[0m\u001b[0;34m\u001b[0m\u001b[0m\n\u001b[1;32m    207\u001b[0m         \u001b[0;34m\"\"\"Schedule a func to be run\"\"\"\u001b[0m\u001b[0;34m\u001b[0m\u001b[0;34m\u001b[0m\u001b[0m\n\u001b[0;32m--> 208\u001b[0;31m         \u001b[0mresult\u001b[0m \u001b[0;34m=\u001b[0m \u001b[0mImmediateResult\u001b[0m\u001b[0;34m(\u001b[0m\u001b[0mfunc\u001b[0m\u001b[0;34m)\u001b[0m\u001b[0;34m\u001b[0m\u001b[0;34m\u001b[0m\u001b[0m\n\u001b[0m\u001b[1;32m    209\u001b[0m         \u001b[0;32mif\u001b[0m \u001b[0mcallback\u001b[0m\u001b[0;34m:\u001b[0m\u001b[0;34m\u001b[0m\u001b[0;34m\u001b[0m\u001b[0m\n\u001b[1;32m    210\u001b[0m             \u001b[0mcallback\u001b[0m\u001b[0;34m(\u001b[0m\u001b[0mresult\u001b[0m\u001b[0;34m)\u001b[0m\u001b[0;34m\u001b[0m\u001b[0;34m\u001b[0m\u001b[0m\n",
            "\u001b[0;32m/usr/local/lib/python3.7/dist-packages/joblib/_parallel_backends.py\u001b[0m in \u001b[0;36m__init__\u001b[0;34m(self, batch)\u001b[0m\n\u001b[1;32m    570\u001b[0m         \u001b[0;31m# Don't delay the application, to avoid keeping the input\u001b[0m\u001b[0;34m\u001b[0m\u001b[0;34m\u001b[0m\u001b[0;34m\u001b[0m\u001b[0m\n\u001b[1;32m    571\u001b[0m         \u001b[0;31m# arguments in memory\u001b[0m\u001b[0;34m\u001b[0m\u001b[0;34m\u001b[0m\u001b[0;34m\u001b[0m\u001b[0m\n\u001b[0;32m--> 572\u001b[0;31m         \u001b[0mself\u001b[0m\u001b[0;34m.\u001b[0m\u001b[0mresults\u001b[0m \u001b[0;34m=\u001b[0m \u001b[0mbatch\u001b[0m\u001b[0;34m(\u001b[0m\u001b[0;34m)\u001b[0m\u001b[0;34m\u001b[0m\u001b[0;34m\u001b[0m\u001b[0m\n\u001b[0m\u001b[1;32m    573\u001b[0m \u001b[0;34m\u001b[0m\u001b[0m\n\u001b[1;32m    574\u001b[0m     \u001b[0;32mdef\u001b[0m \u001b[0mget\u001b[0m\u001b[0;34m(\u001b[0m\u001b[0mself\u001b[0m\u001b[0;34m)\u001b[0m\u001b[0;34m:\u001b[0m\u001b[0;34m\u001b[0m\u001b[0;34m\u001b[0m\u001b[0m\n",
            "\u001b[0;32m/usr/local/lib/python3.7/dist-packages/joblib/parallel.py\u001b[0m in \u001b[0;36m__call__\u001b[0;34m(self)\u001b[0m\n\u001b[1;32m    261\u001b[0m         \u001b[0;32mwith\u001b[0m \u001b[0mparallel_backend\u001b[0m\u001b[0;34m(\u001b[0m\u001b[0mself\u001b[0m\u001b[0;34m.\u001b[0m\u001b[0m_backend\u001b[0m\u001b[0;34m,\u001b[0m \u001b[0mn_jobs\u001b[0m\u001b[0;34m=\u001b[0m\u001b[0mself\u001b[0m\u001b[0;34m.\u001b[0m\u001b[0m_n_jobs\u001b[0m\u001b[0;34m)\u001b[0m\u001b[0;34m:\u001b[0m\u001b[0;34m\u001b[0m\u001b[0;34m\u001b[0m\u001b[0m\n\u001b[1;32m    262\u001b[0m             return [func(*args, **kwargs)\n\u001b[0;32m--> 263\u001b[0;31m                     for func, args, kwargs in self.items]\n\u001b[0m\u001b[1;32m    264\u001b[0m \u001b[0;34m\u001b[0m\u001b[0m\n\u001b[1;32m    265\u001b[0m     \u001b[0;32mdef\u001b[0m \u001b[0m__reduce__\u001b[0m\u001b[0;34m(\u001b[0m\u001b[0mself\u001b[0m\u001b[0;34m)\u001b[0m\u001b[0;34m:\u001b[0m\u001b[0;34m\u001b[0m\u001b[0;34m\u001b[0m\u001b[0m\n",
            "\u001b[0;32m/usr/local/lib/python3.7/dist-packages/joblib/parallel.py\u001b[0m in \u001b[0;36m<listcomp>\u001b[0;34m(.0)\u001b[0m\n\u001b[1;32m    261\u001b[0m         \u001b[0;32mwith\u001b[0m \u001b[0mparallel_backend\u001b[0m\u001b[0;34m(\u001b[0m\u001b[0mself\u001b[0m\u001b[0;34m.\u001b[0m\u001b[0m_backend\u001b[0m\u001b[0;34m,\u001b[0m \u001b[0mn_jobs\u001b[0m\u001b[0;34m=\u001b[0m\u001b[0mself\u001b[0m\u001b[0;34m.\u001b[0m\u001b[0m_n_jobs\u001b[0m\u001b[0;34m)\u001b[0m\u001b[0;34m:\u001b[0m\u001b[0;34m\u001b[0m\u001b[0;34m\u001b[0m\u001b[0m\n\u001b[1;32m    262\u001b[0m             return [func(*args, **kwargs)\n\u001b[0;32m--> 263\u001b[0;31m                     for func, args, kwargs in self.items]\n\u001b[0m\u001b[1;32m    264\u001b[0m \u001b[0;34m\u001b[0m\u001b[0m\n\u001b[1;32m    265\u001b[0m     \u001b[0;32mdef\u001b[0m \u001b[0m__reduce__\u001b[0m\u001b[0;34m(\u001b[0m\u001b[0mself\u001b[0m\u001b[0;34m)\u001b[0m\u001b[0;34m:\u001b[0m\u001b[0;34m\u001b[0m\u001b[0;34m\u001b[0m\u001b[0m\n",
            "\u001b[0;32m/usr/local/lib/python3.7/dist-packages/sklearn/utils/fixes.py\u001b[0m in \u001b[0;36m__call__\u001b[0;34m(self, *args, **kwargs)\u001b[0m\n\u001b[1;32m    220\u001b[0m     \u001b[0;32mdef\u001b[0m \u001b[0m__call__\u001b[0m\u001b[0;34m(\u001b[0m\u001b[0mself\u001b[0m\u001b[0;34m,\u001b[0m \u001b[0;34m*\u001b[0m\u001b[0margs\u001b[0m\u001b[0;34m,\u001b[0m \u001b[0;34m**\u001b[0m\u001b[0mkwargs\u001b[0m\u001b[0;34m)\u001b[0m\u001b[0;34m:\u001b[0m\u001b[0;34m\u001b[0m\u001b[0;34m\u001b[0m\u001b[0m\n\u001b[1;32m    221\u001b[0m         \u001b[0;32mwith\u001b[0m \u001b[0mconfig_context\u001b[0m\u001b[0;34m(\u001b[0m\u001b[0;34m**\u001b[0m\u001b[0mself\u001b[0m\u001b[0;34m.\u001b[0m\u001b[0mconfig\u001b[0m\u001b[0;34m)\u001b[0m\u001b[0;34m:\u001b[0m\u001b[0;34m\u001b[0m\u001b[0;34m\u001b[0m\u001b[0m\n\u001b[0;32m--> 222\u001b[0;31m             \u001b[0;32mreturn\u001b[0m \u001b[0mself\u001b[0m\u001b[0;34m.\u001b[0m\u001b[0mfunction\u001b[0m\u001b[0;34m(\u001b[0m\u001b[0;34m*\u001b[0m\u001b[0margs\u001b[0m\u001b[0;34m,\u001b[0m \u001b[0;34m**\u001b[0m\u001b[0mkwargs\u001b[0m\u001b[0;34m)\u001b[0m\u001b[0;34m\u001b[0m\u001b[0;34m\u001b[0m\u001b[0m\n\u001b[0m",
            "\u001b[0;32m/usr/local/lib/python3.7/dist-packages/sklearn/pipeline.py\u001b[0m in \u001b[0;36m_transform_one\u001b[0;34m(transformer, X, y, weight, **fit_params)\u001b[0m\n\u001b[1;32m    731\u001b[0m \u001b[0;34m\u001b[0m\u001b[0m\n\u001b[1;32m    732\u001b[0m \u001b[0;32mdef\u001b[0m \u001b[0m_transform_one\u001b[0m\u001b[0;34m(\u001b[0m\u001b[0mtransformer\u001b[0m\u001b[0;34m,\u001b[0m \u001b[0mX\u001b[0m\u001b[0;34m,\u001b[0m \u001b[0my\u001b[0m\u001b[0;34m,\u001b[0m \u001b[0mweight\u001b[0m\u001b[0;34m,\u001b[0m \u001b[0;34m**\u001b[0m\u001b[0mfit_params\u001b[0m\u001b[0;34m)\u001b[0m\u001b[0;34m:\u001b[0m\u001b[0;34m\u001b[0m\u001b[0;34m\u001b[0m\u001b[0m\n\u001b[0;32m--> 733\u001b[0;31m     \u001b[0mres\u001b[0m \u001b[0;34m=\u001b[0m \u001b[0mtransformer\u001b[0m\u001b[0;34m.\u001b[0m\u001b[0mtransform\u001b[0m\u001b[0;34m(\u001b[0m\u001b[0mX\u001b[0m\u001b[0;34m)\u001b[0m\u001b[0;34m\u001b[0m\u001b[0;34m\u001b[0m\u001b[0m\n\u001b[0m\u001b[1;32m    734\u001b[0m     \u001b[0;31m# if we have a weight for this transformer, multiply output\u001b[0m\u001b[0;34m\u001b[0m\u001b[0;34m\u001b[0m\u001b[0;34m\u001b[0m\u001b[0m\n\u001b[1;32m    735\u001b[0m     \u001b[0;32mif\u001b[0m \u001b[0mweight\u001b[0m \u001b[0;32mis\u001b[0m \u001b[0;32mNone\u001b[0m\u001b[0;34m:\u001b[0m\u001b[0;34m\u001b[0m\u001b[0;34m\u001b[0m\u001b[0m\n",
            "\u001b[0;32m/usr/local/lib/python3.7/dist-packages/sklearn/pipeline.py\u001b[0m in \u001b[0;36m_transform\u001b[0;34m(self, X)\u001b[0m\n\u001b[1;32m    558\u001b[0m         \u001b[0mXt\u001b[0m \u001b[0;34m=\u001b[0m \u001b[0mX\u001b[0m\u001b[0;34m\u001b[0m\u001b[0;34m\u001b[0m\u001b[0m\n\u001b[1;32m    559\u001b[0m         \u001b[0;32mfor\u001b[0m \u001b[0m_\u001b[0m\u001b[0;34m,\u001b[0m \u001b[0m_\u001b[0m\u001b[0;34m,\u001b[0m \u001b[0mtransform\u001b[0m \u001b[0;32min\u001b[0m \u001b[0mself\u001b[0m\u001b[0;34m.\u001b[0m\u001b[0m_iter\u001b[0m\u001b[0;34m(\u001b[0m\u001b[0;34m)\u001b[0m\u001b[0;34m:\u001b[0m\u001b[0;34m\u001b[0m\u001b[0;34m\u001b[0m\u001b[0m\n\u001b[0;32m--> 560\u001b[0;31m             \u001b[0mXt\u001b[0m \u001b[0;34m=\u001b[0m \u001b[0mtransform\u001b[0m\u001b[0;34m.\u001b[0m\u001b[0mtransform\u001b[0m\u001b[0;34m(\u001b[0m\u001b[0mXt\u001b[0m\u001b[0;34m)\u001b[0m\u001b[0;34m\u001b[0m\u001b[0;34m\u001b[0m\u001b[0m\n\u001b[0m\u001b[1;32m    561\u001b[0m         \u001b[0;32mreturn\u001b[0m \u001b[0mXt\u001b[0m\u001b[0;34m\u001b[0m\u001b[0;34m\u001b[0m\u001b[0m\n\u001b[1;32m    562\u001b[0m \u001b[0;34m\u001b[0m\u001b[0m\n",
            "\u001b[0;32m/usr/local/lib/python3.7/dist-packages/autosklearn/pipeline/components/data_preprocessing/rescaling/__init__.py\u001b[0m in \u001b[0;36mtransform\u001b[0;34m(self, X)\u001b[0m\n\u001b[1;32m     69\u001b[0m \u001b[0;34m\u001b[0m\u001b[0m\n\u001b[1;32m     70\u001b[0m     \u001b[0;32mdef\u001b[0m \u001b[0mtransform\u001b[0m\u001b[0;34m(\u001b[0m\u001b[0mself\u001b[0m\u001b[0;34m,\u001b[0m \u001b[0mX\u001b[0m\u001b[0;34m)\u001b[0m\u001b[0;34m:\u001b[0m\u001b[0;34m\u001b[0m\u001b[0;34m\u001b[0m\u001b[0m\n\u001b[0;32m---> 71\u001b[0;31m         \u001b[0;32mreturn\u001b[0m \u001b[0mself\u001b[0m\u001b[0;34m.\u001b[0m\u001b[0mchoice\u001b[0m\u001b[0;34m.\u001b[0m\u001b[0mtransform\u001b[0m\u001b[0;34m(\u001b[0m\u001b[0mX\u001b[0m\u001b[0;34m)\u001b[0m\u001b[0;34m\u001b[0m\u001b[0;34m\u001b[0m\u001b[0m\n\u001b[0m",
            "\u001b[0;32m/usr/local/lib/python3.7/dist-packages/autosklearn/pipeline/components/data_preprocessing/rescaling/abstract_rescaling.py\u001b[0m in \u001b[0;36mtransform\u001b[0;34m(self, X)\u001b[0m\n\u001b[1;32m     12\u001b[0m         \u001b[0;32mif\u001b[0m \u001b[0mself\u001b[0m\u001b[0;34m.\u001b[0m\u001b[0mpreprocessor\u001b[0m \u001b[0;32mis\u001b[0m \u001b[0;32mNone\u001b[0m\u001b[0;34m:\u001b[0m\u001b[0;34m\u001b[0m\u001b[0;34m\u001b[0m\u001b[0m\n\u001b[1;32m     13\u001b[0m             \u001b[0;32mraise\u001b[0m \u001b[0mNotImplementedError\u001b[0m\u001b[0;34m(\u001b[0m\u001b[0;34m)\u001b[0m\u001b[0;34m\u001b[0m\u001b[0;34m\u001b[0m\u001b[0m\n\u001b[0;32m---> 14\u001b[0;31m         \u001b[0;32mreturn\u001b[0m \u001b[0mself\u001b[0m\u001b[0;34m.\u001b[0m\u001b[0mpreprocessor\u001b[0m\u001b[0;34m.\u001b[0m\u001b[0mtransform\u001b[0m\u001b[0;34m(\u001b[0m\u001b[0mX\u001b[0m\u001b[0;34m)\u001b[0m\u001b[0;34m\u001b[0m\u001b[0;34m\u001b[0m\u001b[0m\n\u001b[0m\u001b[1;32m     15\u001b[0m \u001b[0;34m\u001b[0m\u001b[0m\n\u001b[1;32m     16\u001b[0m     \u001b[0;34m@\u001b[0m\u001b[0mstaticmethod\u001b[0m\u001b[0;34m\u001b[0m\u001b[0;34m\u001b[0m\u001b[0m\n",
            "\u001b[0;32m/usr/local/lib/python3.7/dist-packages/sklearn/preprocessing/_data.py\u001b[0m in \u001b[0;36mtransform\u001b[0;34m(self, X)\u001b[0m\n\u001b[1;32m   3105\u001b[0m \u001b[0;34m\u001b[0m\u001b[0m\n\u001b[1;32m   3106\u001b[0m         \u001b[0;32mif\u001b[0m \u001b[0mself\u001b[0m\u001b[0;34m.\u001b[0m\u001b[0mstandardize\u001b[0m\u001b[0;34m:\u001b[0m\u001b[0;34m\u001b[0m\u001b[0;34m\u001b[0m\u001b[0m\n\u001b[0;32m-> 3107\u001b[0;31m             \u001b[0mX\u001b[0m \u001b[0;34m=\u001b[0m \u001b[0mself\u001b[0m\u001b[0;34m.\u001b[0m\u001b[0m_scaler\u001b[0m\u001b[0;34m.\u001b[0m\u001b[0mtransform\u001b[0m\u001b[0;34m(\u001b[0m\u001b[0mX\u001b[0m\u001b[0;34m)\u001b[0m\u001b[0;34m\u001b[0m\u001b[0;34m\u001b[0m\u001b[0m\n\u001b[0m\u001b[1;32m   3108\u001b[0m \u001b[0;34m\u001b[0m\u001b[0m\n\u001b[1;32m   3109\u001b[0m         \u001b[0;32mreturn\u001b[0m \u001b[0mX\u001b[0m\u001b[0;34m\u001b[0m\u001b[0;34m\u001b[0m\u001b[0m\n",
            "\u001b[0;32m/usr/local/lib/python3.7/dist-packages/sklearn/preprocessing/_data.py\u001b[0m in \u001b[0;36mtransform\u001b[0;34m(self, X, copy)\u001b[0m\n\u001b[1;32m    884\u001b[0m                                 \u001b[0maccept_sparse\u001b[0m\u001b[0;34m=\u001b[0m\u001b[0;34m'csr'\u001b[0m\u001b[0;34m,\u001b[0m \u001b[0mcopy\u001b[0m\u001b[0;34m=\u001b[0m\u001b[0mcopy\u001b[0m\u001b[0;34m,\u001b[0m\u001b[0;34m\u001b[0m\u001b[0;34m\u001b[0m\u001b[0m\n\u001b[1;32m    885\u001b[0m                                 \u001b[0mestimator\u001b[0m\u001b[0;34m=\u001b[0m\u001b[0mself\u001b[0m\u001b[0;34m,\u001b[0m \u001b[0mdtype\u001b[0m\u001b[0;34m=\u001b[0m\u001b[0mFLOAT_DTYPES\u001b[0m\u001b[0;34m,\u001b[0m\u001b[0;34m\u001b[0m\u001b[0;34m\u001b[0m\u001b[0m\n\u001b[0;32m--> 886\u001b[0;31m                                 force_all_finite='allow-nan')\n\u001b[0m\u001b[1;32m    887\u001b[0m \u001b[0;34m\u001b[0m\u001b[0m\n\u001b[1;32m    888\u001b[0m         \u001b[0;32mif\u001b[0m \u001b[0msparse\u001b[0m\u001b[0;34m.\u001b[0m\u001b[0missparse\u001b[0m\u001b[0;34m(\u001b[0m\u001b[0mX\u001b[0m\u001b[0;34m)\u001b[0m\u001b[0;34m:\u001b[0m\u001b[0;34m\u001b[0m\u001b[0;34m\u001b[0m\u001b[0m\n",
            "\u001b[0;32m/usr/local/lib/python3.7/dist-packages/sklearn/base.py\u001b[0m in \u001b[0;36m_validate_data\u001b[0;34m(self, X, y, reset, validate_separately, **check_params)\u001b[0m\n\u001b[1;32m    419\u001b[0m             \u001b[0mout\u001b[0m \u001b[0;34m=\u001b[0m \u001b[0mX\u001b[0m\u001b[0;34m\u001b[0m\u001b[0;34m\u001b[0m\u001b[0m\n\u001b[1;32m    420\u001b[0m         \u001b[0;32melif\u001b[0m \u001b[0misinstance\u001b[0m\u001b[0;34m(\u001b[0m\u001b[0my\u001b[0m\u001b[0;34m,\u001b[0m \u001b[0mstr\u001b[0m\u001b[0;34m)\u001b[0m \u001b[0;32mand\u001b[0m \u001b[0my\u001b[0m \u001b[0;34m==\u001b[0m \u001b[0;34m'no_validation'\u001b[0m\u001b[0;34m:\u001b[0m\u001b[0;34m\u001b[0m\u001b[0;34m\u001b[0m\u001b[0m\n\u001b[0;32m--> 421\u001b[0;31m             \u001b[0mX\u001b[0m \u001b[0;34m=\u001b[0m \u001b[0mcheck_array\u001b[0m\u001b[0;34m(\u001b[0m\u001b[0mX\u001b[0m\u001b[0;34m,\u001b[0m \u001b[0;34m**\u001b[0m\u001b[0mcheck_params\u001b[0m\u001b[0;34m)\u001b[0m\u001b[0;34m\u001b[0m\u001b[0;34m\u001b[0m\u001b[0m\n\u001b[0m\u001b[1;32m    422\u001b[0m             \u001b[0mout\u001b[0m \u001b[0;34m=\u001b[0m \u001b[0mX\u001b[0m\u001b[0;34m\u001b[0m\u001b[0;34m\u001b[0m\u001b[0m\n\u001b[1;32m    423\u001b[0m         \u001b[0;32melse\u001b[0m\u001b[0;34m:\u001b[0m\u001b[0;34m\u001b[0m\u001b[0;34m\u001b[0m\u001b[0m\n",
            "\u001b[0;32m/usr/local/lib/python3.7/dist-packages/sklearn/utils/validation.py\u001b[0m in \u001b[0;36minner_f\u001b[0;34m(*args, **kwargs)\u001b[0m\n\u001b[1;32m     61\u001b[0m             \u001b[0mextra_args\u001b[0m \u001b[0;34m=\u001b[0m \u001b[0mlen\u001b[0m\u001b[0;34m(\u001b[0m\u001b[0margs\u001b[0m\u001b[0;34m)\u001b[0m \u001b[0;34m-\u001b[0m \u001b[0mlen\u001b[0m\u001b[0;34m(\u001b[0m\u001b[0mall_args\u001b[0m\u001b[0;34m)\u001b[0m\u001b[0;34m\u001b[0m\u001b[0;34m\u001b[0m\u001b[0m\n\u001b[1;32m     62\u001b[0m             \u001b[0;32mif\u001b[0m \u001b[0mextra_args\u001b[0m \u001b[0;34m<=\u001b[0m \u001b[0;36m0\u001b[0m\u001b[0;34m:\u001b[0m\u001b[0;34m\u001b[0m\u001b[0;34m\u001b[0m\u001b[0m\n\u001b[0;32m---> 63\u001b[0;31m                 \u001b[0;32mreturn\u001b[0m \u001b[0mf\u001b[0m\u001b[0;34m(\u001b[0m\u001b[0;34m*\u001b[0m\u001b[0margs\u001b[0m\u001b[0;34m,\u001b[0m \u001b[0;34m**\u001b[0m\u001b[0mkwargs\u001b[0m\u001b[0;34m)\u001b[0m\u001b[0;34m\u001b[0m\u001b[0;34m\u001b[0m\u001b[0m\n\u001b[0m\u001b[1;32m     64\u001b[0m \u001b[0;34m\u001b[0m\u001b[0m\n\u001b[1;32m     65\u001b[0m             \u001b[0;31m# extra_args > 0\u001b[0m\u001b[0;34m\u001b[0m\u001b[0;34m\u001b[0m\u001b[0;34m\u001b[0m\u001b[0m\n",
            "\u001b[0;32m/usr/local/lib/python3.7/dist-packages/sklearn/utils/validation.py\u001b[0m in \u001b[0;36mcheck_array\u001b[0;34m(array, accept_sparse, accept_large_sparse, dtype, order, copy, force_all_finite, ensure_2d, allow_nd, ensure_min_samples, ensure_min_features, estimator)\u001b[0m\n\u001b[1;32m    662\u001b[0m         \u001b[0;32mif\u001b[0m \u001b[0mforce_all_finite\u001b[0m\u001b[0;34m:\u001b[0m\u001b[0;34m\u001b[0m\u001b[0;34m\u001b[0m\u001b[0m\n\u001b[1;32m    663\u001b[0m             _assert_all_finite(array,\n\u001b[0;32m--> 664\u001b[0;31m                                allow_nan=force_all_finite == 'allow-nan')\n\u001b[0m\u001b[1;32m    665\u001b[0m \u001b[0;34m\u001b[0m\u001b[0m\n\u001b[1;32m    666\u001b[0m     \u001b[0;32mif\u001b[0m \u001b[0mensure_min_samples\u001b[0m \u001b[0;34m>\u001b[0m \u001b[0;36m0\u001b[0m\u001b[0;34m:\u001b[0m\u001b[0;34m\u001b[0m\u001b[0;34m\u001b[0m\u001b[0m\n",
            "\u001b[0;32m/usr/local/lib/python3.7/dist-packages/sklearn/utils/validation.py\u001b[0m in \u001b[0;36m_assert_all_finite\u001b[0;34m(X, allow_nan, msg_dtype)\u001b[0m\n\u001b[1;32m    104\u001b[0m                     \u001b[0mmsg_err\u001b[0m\u001b[0;34m.\u001b[0m\u001b[0mformat\u001b[0m\u001b[0;34m\u001b[0m\u001b[0;34m\u001b[0m\u001b[0m\n\u001b[1;32m    105\u001b[0m                     (type_err,\n\u001b[0;32m--> 106\u001b[0;31m                      msg_dtype if msg_dtype is not None else X.dtype)\n\u001b[0m\u001b[1;32m    107\u001b[0m             )\n\u001b[1;32m    108\u001b[0m     \u001b[0;31m# for object dtype data, we only check for NaNs (GH-13254)\u001b[0m\u001b[0;34m\u001b[0m\u001b[0;34m\u001b[0m\u001b[0;34m\u001b[0m\u001b[0m\n",
            "\u001b[0;31mValueError\u001b[0m: Input contains infinity or a value too large for dtype('float64')."
          ]
        }
      ]
    },
    {
      "cell_type": "code",
      "metadata": {
        "colab": {
          "base_uri": "https://localhost:8080/"
        },
        "id": "nqKKUeKhM3u5",
        "outputId": "a0ad0074-cc2e-49c7-9717-34f1e3e3d6ae"
      },
      "source": [
        "from sklearn import metrics\n",
        "\n",
        "# paramters are y_true, y_pred\n",
        "C = metrics.confusion_matrix(y_test, y_pred)\n",
        "\n",
        "# lists for the confusion matrix\n",
        "true_positive = []\n",
        "true_negative = []\n",
        "false_postiive = []\n",
        "false_negatives = []\n",
        "\n",
        "true_positive.append(C[0,0])\n",
        "true_negative.append(C[1,1])            \n",
        "false_postiive.append(C[1,0])\n",
        "false_negatives.append(C[0,1])\n",
        "\n",
        "print(C)\n",
        "\n",
        "print((\"=\"*50))\n",
        "\n",
        "print(\"True positives:\", round(np.sum(true_positive)/len(y_test), 5), \"%\")\n",
        "print(\"True negatives:\", round(np.sum(true_negative)/len(y_test), 5), \"%\")\n",
        "print(\"False positives:\", round(np.sum(false_postiive)/len(y_test), 5), \"%\")\n",
        "print(\"False negatives:\", round(np.sum(false_negatives)/len(y_test), 5), \"%\")"
      ],
      "execution_count": 65,
      "outputs": [
        {
          "output_type": "stream",
          "text": [
            "[[49 51]\n",
            " [47 53]]\n",
            "==================================================\n",
            "True positives: 0.245 %\n",
            "True negatives: 0.265 %\n",
            "False positives: 0.235 %\n",
            "False negatives: 0.255 %\n"
          ],
          "name": "stdout"
        }
      ]
    },
    {
      "cell_type": "code",
      "metadata": {
        "id": "5m5B5Yh_3RpC"
      },
      "source": [
        "true_positive = C[0,0]\n",
        "true_negative = C[1,1]            \n",
        "false_postiive = C[1,0]\n",
        "false_negatives = C[0,1]\n",
        "\n",
        "precision = true_positive/(true_positive+false_postiive)\n",
        "recall = true_positive/(true_positive/false_negatives)"
      ],
      "execution_count": 68,
      "outputs": []
    },
    {
      "cell_type": "code",
      "metadata": {
        "colab": {
          "base_uri": "https://localhost:8080/"
        },
        "id": "PQM2WDZu-Ykl",
        "outputId": "dcff328f-caaa-4b26-a96f-0868900666c8"
      },
      "source": [
        "f1_score = (precision*recall)/(precision+recall)\n",
        "\n",
        "print(f1_score)"
      ],
      "execution_count": 69,
      "outputs": [
        {
          "output_type": "stream",
          "text": [
            "0.5053589484327603\n"
          ],
          "name": "stdout"
        }
      ]
    },
    {
      "cell_type": "code",
      "metadata": {
        "colab": {
          "base_uri": "https://localhost:8080/"
        },
        "id": "nxoSE2qq-aLD",
        "outputId": "fbc9e7ea-4c39-43c0-f4d8-02b679774f77"
      },
      "source": [
        "FPR = false_postiive/(false_postiive+true_negative)\n",
        "print(FPR)"
      ],
      "execution_count": 70,
      "outputs": [
        {
          "output_type": "stream",
          "text": [
            "0.47\n"
          ],
          "name": "stdout"
        }
      ]
    },
    {
      "cell_type": "code",
      "metadata": {
        "colab": {
          "base_uri": "https://localhost:8080/"
        },
        "id": "F5RWdLFZBaHA",
        "outputId": "cd9a0318-5f95-4054-b2c2-7e3ab64f8e88"
      },
      "source": [
        "fpr, tpr, thresh = metrics.roc_curve(y_test, y_pred)\n",
        "\n",
        "auc = metrics.auc(fpr, tpr)\n",
        "\n",
        "print(\"AUC:\", auc)"
      ],
      "execution_count": 72,
      "outputs": [
        {
          "output_type": "stream",
          "text": [
            "AUC: 0.51\n"
          ],
          "name": "stdout"
        }
      ]
    },
    {
      "cell_type": "code",
      "metadata": {
        "colab": {
          "base_uri": "https://localhost:8080/",
          "height": 295
        },
        "id": "MIITayHeBcF9",
        "outputId": "3d78d5fa-e530-4add-fa23-f1b8bf1b3140"
      },
      "source": [
        "import matplotlib.pyplot as plt\n",
        "\n",
        "plt.plot(fpr, tpr, label='ROC curve (area = %.2f)' %auc)\n",
        "plt.plot([0, 1], [0, 1], linestyle='--', lw=2, color='r', label='Random guess')\n",
        "plt.title('ROC curve AutoSklearn')\n",
        "plt.xlabel('False Positive Rate')\n",
        "plt.ylabel('True Positive Rate')\n",
        "plt.grid()\n",
        "plt.legend()\n",
        "plt.show()"
      ],
      "execution_count": 74,
      "outputs": [
        {
          "output_type": "display_data",
          "data": {
            "image/png": "[encoded data removed]",
            "text/plain": [
              "<Figure size 432x288 with 1 Axes>"
            ]
          },
          "metadata": {
            "tags": [],
            "needs_background": "light"
          }
        }
      ]
    },
    {
      "cell_type": "markdown",
      "metadata": {
        "id": "y6edY4MYC4Ya"
      },
      "source": [
        "# Test model"
      ]
    },
    {
      "cell_type": "code",
      "metadata": {
        "id": "Sriu1owhC4Il"
      },
      "source": [
        "def test_dt():\n",
        "  # Load the dataset\n",
        "  nps_df = pd.read_csv(\"/content/drive/MyDrive/CIT/FYP/ImplementationFiles/NPS_TestContent.csv\", encoding='utf8', engine='c')\n",
        "  # imdb_df = pd.read_excel(\"/content/drive/MyDrive/CIT/FYP/ImplementationFiles/NPS_TestContent.xlsx\")\n",
        "\n",
        "  nps_df['sentiment'] = nps_df['sentiment'].map({'Negative' : 0, 'Positive' : 1})\n",
        "\n",
        "  # Group all the negative reviews and get the first 25000\n",
        "  # imdb_df_neg = (imdb_df[imdb_df['sentiment'] == \"negative\"])[0:2500]\n",
        "  nps_df_neg = (nps_df[nps_df['sentiment'] == 0])\n",
        "  # Group all the positive and get the first 25000\n",
        "  # imdb_df_pos = imdb_df[imdb_df['sentiment'] == \"positive\"][0:2500]\n",
        "  nps_df_pos = nps_df[nps_df['sentiment'] == 1]\n",
        "\n",
        "  # Combine the two split positives and negatives into one dataframe\n",
        "  nps_df = pd.concat([nps_df_neg, nps_df_pos]) \n",
        "\n",
        "  # .values on a column of a dataframe returns a numpy array\n",
        "  # This is a numpy array of all the reviews\n",
        "  initial_reviews = nps_df['test'].values\n",
        "  print(\"Creating Feature Vector\")\n",
        "  print(\"=\"*50)\n",
        "  start = time.time()\n",
        "  # Process the text data and create teh feature vector\n",
        "  feature_vector = process_text(initial_reviews)\n",
        "  end = time.time()\n",
        "  print(\"Feature Vector Created\")\n",
        "  print(f\"Execution time is {end - start} secs\")\n",
        "  print(\"=\"*50)\n",
        "  # print(feature_vector)\n",
        "\n",
        "  # This is a numpy array of all the positive and negativelabels\n",
        "  labels = nps_df['sentiment'].values\n",
        "\n",
        "  # Shuffle the labesl and feature vector using sklearn shuffle\n",
        "  feature_vector, labels = shuffle(feature_vector, labels)\n",
        "\n",
        "  return feature_vector, labels \n"
      ],
      "execution_count": null,
      "outputs": []
    },
    {
      "cell_type": "code",
      "metadata": {
        "colab": {
          "base_uri": "https://localhost:8080/"
        },
        "id": "oTy1ytoTDK2r",
        "outputId": "3254b456-a700-45c3-cea9-a5fb00ecc440"
      },
      "source": [
        "features, labels = test_dt()\n",
        "\n",
        "# print(features)\n",
        "\n",
        "y_pred = model.predict(features)\n",
        "testing_accuracy = accuracy_score(labels, y_pred)\n",
        "print(\"Test Accuracy score {0}\".format(testing_accuracy))"
      ],
      "execution_count": null,
      "outputs": [
        {
          "output_type": "stream",
          "text": [
            "Creating Feature Vector\n",
            "==================================================\n",
            "Feature Vector Created\n",
            "Execution time is 0.48108744621276855 secs\n",
            "==================================================\n",
            "Test Accuracy score 0.2096128170894526\n"
          ],
          "name": "stdout"
        }
      ]
    },
    {
      "cell_type": "markdown",
      "metadata": {
        "id": "ma3GGSsLHZ6k"
      },
      "source": [
        "# Outputting model"
      ]
    },
    {
      "cell_type": "code",
      "metadata": {
        "id": "9M1jcddyHZIi"
      },
      "source": [
        "# This is meant to be able to output the model\n",
        "import pickle\n",
        "x = automl.show_models()\n",
        "results = {\"ensemble\": x}\n",
        "pickle.dump(results, open('churn.pickle','wb'))"
      ],
      "execution_count": null,
      "outputs": []
    },
    {
      "cell_type": "markdown",
      "metadata": {
        "id": "Cr8DGr66Bg0Y"
      },
      "source": [
        "# =========================================================\n",
        "# Old Results and should be ignored"
      ]
    },
    {
      "cell_type": "code",
      "metadata": {
        "colab": {
          "base_uri": "https://localhost:8080/"
        },
        "id": "M-h4KOEvJH0X",
        "outputId": "91defafa-66d5-4e89-e64e-475f3e6e379b"
      },
      "source": [
        "# 21600 7200 Estimators and Preprocess off\n",
        "y_pred = model.predict(X_test)\n",
        "testing_accuracy = accuracy_score(y_test, y_pred)\n",
        "print(\"Test Accuracy score {0}\".format(testing_accuracy))"
      ],
      "execution_count": 23,
      "outputs": [
        {
          "output_type": "stream",
          "text": [
            "Test Accuracy score 0.435\n"
          ],
          "name": "stdout"
        }
      ]
    },
    {
      "cell_type": "code",
      "metadata": {
        "colab": {
          "base_uri": "https://localhost:8080/"
        },
        "id": "i6q8vuc9mM2d",
        "outputId": "21bd02a5-405c-4aea-eb3b-128d773a1046"
      },
      "source": [
        "# 3600 1800 No Estimators and Preprocess on\n",
        "y_pred = model.predict(X_test)\n",
        "testing_accuracy = accuracy_score(y_test, y_pred)\n",
        "print(\"Test Accuracy score {0}\".format(testing_accuracy))"
      ],
      "execution_count": null,
      "outputs": [
        {
          "output_type": "stream",
          "text": [
            "Test Accuracy score 0.532\n"
          ],
          "name": "stdout"
        }
      ]
    },
    {
      "cell_type": "code",
      "metadata": {
        "colab": {
          "base_uri": "https://localhost:8080/"
        },
        "id": "Z7CTxvgK8Yv6",
        "outputId": "fff2ca18-c9d3-4b17-dcf2-7147c89d2337"
      },
      "source": [
        "# 3600 1800 No Estimators and Preprocess on\n",
        "y_pred = model.predict(X_test)\n",
        "testing_accuracy = accuracy_score(y_test, y_pred)\n",
        "print(\"Test Accuracy score {0}\".format(testing_accuracy))"
      ],
      "execution_count": null,
      "outputs": [
        {
          "output_type": "stream",
          "text": [
            "Test Accuracy score 0.492\n"
          ],
          "name": "stdout"
        }
      ]
    },
    {
      "cell_type": "code",
      "metadata": {
        "colab": {
          "base_uri": "https://localhost:8080/"
        },
        "id": "a3UZMo8dHzfZ",
        "outputId": "60e21829-e349-400d-ee3b-d94e2e2dfd48"
      },
      "source": [
        "# This was done with tt = 3600 and pl = 360\n",
        "y_pred = model.predict(X_test)\n",
        "testing_accuracy = accuracy_score(y_test, y_pred)\n",
        "print(\"Test Accuracy score {0}\".format(testing_accuracy))"
      ],
      "execution_count": null,
      "outputs": [
        {
          "output_type": "stream",
          "text": [
            "Test Accuracy score 0.492\n"
          ],
          "name": "stdout"
        }
      ]
    },
    {
      "cell_type": "code",
      "metadata": {
        "colab": {
          "base_uri": "https://localhost:8080/"
        },
        "id": "-9T-ZRaSHiSD",
        "outputId": "db4253a8-5a74-4319-c844-e3356c0e6b2a"
      },
      "source": [
        "# Gives information and should show best model\n",
        "model.cv_results_['params'][np.argmax(model.cv_results_['mean_test_score'])]"
      ],
      "execution_count": null,
      "outputs": [
        {
          "output_type": "execute_result",
          "data": {
            "text/plain": [
              "{'balancing:strategy': 'none',\n",
              " 'classifier:__choice__': 'random_forest',\n",
              " 'classifier:random_forest:bootstrap': 'True',\n",
              " 'classifier:random_forest:criterion': 'gini',\n",
              " 'classifier:random_forest:max_depth': 'None',\n",
              " 'classifier:random_forest:max_features': 0.5,\n",
              " 'classifier:random_forest:max_leaf_nodes': 'None',\n",
              " 'classifier:random_forest:min_impurity_decrease': 0.0,\n",
              " 'classifier:random_forest:min_samples_leaf': 1,\n",
              " 'classifier:random_forest:min_samples_split': 2,\n",
              " 'classifier:random_forest:min_weight_fraction_leaf': 0.0,\n",
              " 'data_preprocessing:categorical_transformer:categorical_encoding:__choice__': 'one_hot_encoding',\n",
              " 'data_preprocessing:categorical_transformer:category_coalescence:__choice__': 'minority_coalescer',\n",
              " 'data_preprocessing:categorical_transformer:category_coalescence:minority_coalescer:minimum_fraction': 0.01,\n",
              " 'data_preprocessing:numerical_transformer:imputation:strategy': 'mean',\n",
              " 'data_preprocessing:numerical_transformer:rescaling:__choice__': 'standardize',\n",
              " 'feature_preprocessor:__choice__': 'no_preprocessing'}"
            ]
          },
          "metadata": {
            "tags": []
          },
          "execution_count": 53
        }
      ]
    },
    {
      "cell_type": "markdown",
      "metadata": {
        "id": "JVjxz1-up_Pa"
      },
      "source": [
        "# =============================================================="
      ]
    },
    {
      "cell_type": "markdown",
      "metadata": {
        "id": "QWh_aZ0wB_0o"
      },
      "source": [
        "# Information about model\n",
        "https://automl.github.io/auto-sklearn/master/examples/40_advanced/example_get_pipeline_components.html#sphx-glr-examples-40-advanced-example-get-pipeline-components-py"
      ]
    },
    {
      "cell_type": "code",
      "metadata": {
        "colab": {
          "base_uri": "https://localhost:8080/",
          "height": 86
        },
        "id": "GKV_35LC8NB3",
        "outputId": "3cfe0c69-907e-43be-9885-9f6bf4a298b4"
      },
      "source": [
        "model.sprint_statistics()"
      ],
      "execution_count": null,
      "outputs": [
        {
          "output_type": "execute_result",
          "data": {
            "application/vnd.google.colaboratory.intrinsic+json": {
              "type": "string"
            },
            "text/plain": [
              "'auto-sklearn results:\\n  Dataset name: 41f0bf74-866b-11eb-8257-0242ac1c0002\\n  Metric: accuracy\\n  Number of target algorithm runs: 2599\\n  Number of successful target algorithm runs: 0\\n  Number of crashed target algorithm runs: 0\\n  Number of target algorithms that exceeded the time limit: 0\\n  Number of target algorithms that exceeded the memory limit: 2599\\n'"
            ]
          },
          "metadata": {
            "tags": []
          },
          "execution_count": 19
        }
      ]
    },
    {
      "cell_type": "code",
      "metadata": {
        "colab": {
          "base_uri": "https://localhost:8080/",
          "height": 306
        },
        "id": "N0cuDs7g-dHd",
        "outputId": "78ee3237-11f0-4f45-ca97-17487a84dbd1"
      },
      "source": [
        "print(model.get_models_with_weights())"
      ],
      "execution_count": null,
      "outputs": [
        {
          "output_type": "error",
          "ename": "AttributeError",
          "evalue": "ignored",
          "traceback": [
            "\u001b[0;31m---------------------------------------------------------------------------\u001b[0m",
            "\u001b[0;31mAttributeError\u001b[0m                            Traceback (most recent call last)",
            "\u001b[0;32m<ipython-input-29-c4a7197e2c32>\u001b[0m in \u001b[0;36m<module>\u001b[0;34m()\u001b[0m\n\u001b[0;32m----> 1\u001b[0;31m \u001b[0mprint\u001b[0m\u001b[0;34m(\u001b[0m\u001b[0mmodel\u001b[0m\u001b[0;34m.\u001b[0m\u001b[0mget_models_with_weights\u001b[0m\u001b[0;34m(\u001b[0m\u001b[0;34m)\u001b[0m\u001b[0;34m)\u001b[0m\u001b[0;34m\u001b[0m\u001b[0;34m\u001b[0m\u001b[0m\n\u001b[0m",
            "\u001b[0;32m/usr/local/lib/python3.7/dist-packages/sklearn/base.py\u001b[0m in \u001b[0;36m__repr__\u001b[0;34m(self, N_CHAR_MAX)\u001b[0m\n\u001b[1;32m    258\u001b[0m             n_max_elements_to_show=N_MAX_ELEMENTS_TO_SHOW)\n\u001b[1;32m    259\u001b[0m \u001b[0;34m\u001b[0m\u001b[0m\n\u001b[0;32m--> 260\u001b[0;31m         \u001b[0mrepr_\u001b[0m \u001b[0;34m=\u001b[0m \u001b[0mpp\u001b[0m\u001b[0;34m.\u001b[0m\u001b[0mpformat\u001b[0m\u001b[0;34m(\u001b[0m\u001b[0mself\u001b[0m\u001b[0;34m)\u001b[0m\u001b[0;34m\u001b[0m\u001b[0;34m\u001b[0m\u001b[0m\n\u001b[0m\u001b[1;32m    261\u001b[0m \u001b[0;34m\u001b[0m\u001b[0m\n\u001b[1;32m    262\u001b[0m         \u001b[0;31m# Use bruteforce ellipsis when there are a lot of non-blank characters\u001b[0m\u001b[0;34m\u001b[0m\u001b[0;34m\u001b[0m\u001b[0;34m\u001b[0m\u001b[0m\n",
            "\u001b[0;32m/usr/lib/python3.7/pprint.py\u001b[0m in \u001b[0;36mpformat\u001b[0;34m(self, object)\u001b[0m\n\u001b[1;32m    142\u001b[0m     \u001b[0;32mdef\u001b[0m \u001b[0mpformat\u001b[0m\u001b[0;34m(\u001b[0m\u001b[0mself\u001b[0m\u001b[0;34m,\u001b[0m \u001b[0mobject\u001b[0m\u001b[0;34m)\u001b[0m\u001b[0;34m:\u001b[0m\u001b[0;34m\u001b[0m\u001b[0;34m\u001b[0m\u001b[0m\n\u001b[1;32m    143\u001b[0m         \u001b[0msio\u001b[0m \u001b[0;34m=\u001b[0m \u001b[0m_StringIO\u001b[0m\u001b[0;34m(\u001b[0m\u001b[0;34m)\u001b[0m\u001b[0;34m\u001b[0m\u001b[0;34m\u001b[0m\u001b[0m\n\u001b[0;32m--> 144\u001b[0;31m         \u001b[0mself\u001b[0m\u001b[0;34m.\u001b[0m\u001b[0m_format\u001b[0m\u001b[0;34m(\u001b[0m\u001b[0mobject\u001b[0m\u001b[0;34m,\u001b[0m \u001b[0msio\u001b[0m\u001b[0;34m,\u001b[0m \u001b[0;36m0\u001b[0m\u001b[0;34m,\u001b[0m \u001b[0;36m0\u001b[0m\u001b[0;34m,\u001b[0m \u001b[0;34m{\u001b[0m\u001b[0;34m}\u001b[0m\u001b[0;34m,\u001b[0m \u001b[0;36m0\u001b[0m\u001b[0;34m)\u001b[0m\u001b[0;34m\u001b[0m\u001b[0;34m\u001b[0m\u001b[0m\n\u001b[0m\u001b[1;32m    145\u001b[0m         \u001b[0;32mreturn\u001b[0m \u001b[0msio\u001b[0m\u001b[0;34m.\u001b[0m\u001b[0mgetvalue\u001b[0m\u001b[0;34m(\u001b[0m\u001b[0;34m)\u001b[0m\u001b[0;34m\u001b[0m\u001b[0;34m\u001b[0m\u001b[0m\n\u001b[1;32m    146\u001b[0m \u001b[0;34m\u001b[0m\u001b[0m\n",
            "\u001b[0;32m/usr/lib/python3.7/pprint.py\u001b[0m in \u001b[0;36m_format\u001b[0;34m(self, object, stream, indent, allowance, context, level)\u001b[0m\n\u001b[1;32m    159\u001b[0m             \u001b[0mself\u001b[0m\u001b[0;34m.\u001b[0m\u001b[0m_readable\u001b[0m \u001b[0;34m=\u001b[0m \u001b[0;32mFalse\u001b[0m\u001b[0;34m\u001b[0m\u001b[0;34m\u001b[0m\u001b[0m\n\u001b[1;32m    160\u001b[0m             \u001b[0;32mreturn\u001b[0m\u001b[0;34m\u001b[0m\u001b[0;34m\u001b[0m\u001b[0m\n\u001b[0;32m--> 161\u001b[0;31m         \u001b[0mrep\u001b[0m \u001b[0;34m=\u001b[0m \u001b[0mself\u001b[0m\u001b[0;34m.\u001b[0m\u001b[0m_repr\u001b[0m\u001b[0;34m(\u001b[0m\u001b[0mobject\u001b[0m\u001b[0;34m,\u001b[0m \u001b[0mcontext\u001b[0m\u001b[0;34m,\u001b[0m \u001b[0mlevel\u001b[0m\u001b[0;34m)\u001b[0m\u001b[0;34m\u001b[0m\u001b[0;34m\u001b[0m\u001b[0m\n\u001b[0m\u001b[1;32m    162\u001b[0m         \u001b[0mmax_width\u001b[0m \u001b[0;34m=\u001b[0m \u001b[0mself\u001b[0m\u001b[0;34m.\u001b[0m\u001b[0m_width\u001b[0m \u001b[0;34m-\u001b[0m \u001b[0mindent\u001b[0m \u001b[0;34m-\u001b[0m \u001b[0mallowance\u001b[0m\u001b[0;34m\u001b[0m\u001b[0;34m\u001b[0m\u001b[0m\n\u001b[1;32m    163\u001b[0m         \u001b[0;32mif\u001b[0m \u001b[0mlen\u001b[0m\u001b[0;34m(\u001b[0m\u001b[0mrep\u001b[0m\u001b[0;34m)\u001b[0m \u001b[0;34m>\u001b[0m \u001b[0mmax_width\u001b[0m\u001b[0;34m:\u001b[0m\u001b[0;34m\u001b[0m\u001b[0;34m\u001b[0m\u001b[0m\n",
            "\u001b[0;32m/usr/lib/python3.7/pprint.py\u001b[0m in \u001b[0;36m_repr\u001b[0;34m(self, object, context, level)\u001b[0m\n\u001b[1;32m    391\u001b[0m     \u001b[0;32mdef\u001b[0m \u001b[0m_repr\u001b[0m\u001b[0;34m(\u001b[0m\u001b[0mself\u001b[0m\u001b[0;34m,\u001b[0m \u001b[0mobject\u001b[0m\u001b[0;34m,\u001b[0m \u001b[0mcontext\u001b[0m\u001b[0;34m,\u001b[0m \u001b[0mlevel\u001b[0m\u001b[0;34m)\u001b[0m\u001b[0;34m:\u001b[0m\u001b[0;34m\u001b[0m\u001b[0;34m\u001b[0m\u001b[0m\n\u001b[1;32m    392\u001b[0m         repr, readable, recursive = self.format(object, context.copy(),\n\u001b[0;32m--> 393\u001b[0;31m                                                 self._depth, level)\n\u001b[0m\u001b[1;32m    394\u001b[0m         \u001b[0;32mif\u001b[0m \u001b[0;32mnot\u001b[0m \u001b[0mreadable\u001b[0m\u001b[0;34m:\u001b[0m\u001b[0;34m\u001b[0m\u001b[0;34m\u001b[0m\u001b[0m\n\u001b[1;32m    395\u001b[0m             \u001b[0mself\u001b[0m\u001b[0;34m.\u001b[0m\u001b[0m_readable\u001b[0m \u001b[0;34m=\u001b[0m \u001b[0;32mFalse\u001b[0m\u001b[0;34m\u001b[0m\u001b[0;34m\u001b[0m\u001b[0m\n",
            "\u001b[0;32m/usr/local/lib/python3.7/dist-packages/sklearn/utils/_pprint.py\u001b[0m in \u001b[0;36mformat\u001b[0;34m(self, object, context, maxlevels, level)\u001b[0m\n\u001b[1;32m    179\u001b[0m     \u001b[0;32mdef\u001b[0m \u001b[0mformat\u001b[0m\u001b[0;34m(\u001b[0m\u001b[0mself\u001b[0m\u001b[0;34m,\u001b[0m \u001b[0mobject\u001b[0m\u001b[0;34m,\u001b[0m \u001b[0mcontext\u001b[0m\u001b[0;34m,\u001b[0m \u001b[0mmaxlevels\u001b[0m\u001b[0;34m,\u001b[0m \u001b[0mlevel\u001b[0m\u001b[0;34m)\u001b[0m\u001b[0;34m:\u001b[0m\u001b[0;34m\u001b[0m\u001b[0;34m\u001b[0m\u001b[0m\n\u001b[1;32m    180\u001b[0m         return _safe_repr(object, context, maxlevels, level,\n\u001b[0;32m--> 181\u001b[0;31m                           changed_only=self._changed_only)\n\u001b[0m\u001b[1;32m    182\u001b[0m \u001b[0;34m\u001b[0m\u001b[0m\n\u001b[1;32m    183\u001b[0m     def _pprint_estimator(self, object, stream, indent, allowance, context,\n",
            "\u001b[0;32m/usr/local/lib/python3.7/dist-packages/sklearn/utils/_pprint.py\u001b[0m in \u001b[0;36m_safe_repr\u001b[0;34m(object, context, maxlevels, level, changed_only)\u001b[0m\n\u001b[1;32m    423\u001b[0m         \u001b[0mrecursive\u001b[0m \u001b[0;34m=\u001b[0m \u001b[0;32mFalse\u001b[0m\u001b[0;34m\u001b[0m\u001b[0;34m\u001b[0m\u001b[0m\n\u001b[1;32m    424\u001b[0m         \u001b[0;32mif\u001b[0m \u001b[0mchanged_only\u001b[0m\u001b[0;34m:\u001b[0m\u001b[0;34m\u001b[0m\u001b[0;34m\u001b[0m\u001b[0m\n\u001b[0;32m--> 425\u001b[0;31m             \u001b[0mparams\u001b[0m \u001b[0;34m=\u001b[0m \u001b[0m_changed_params\u001b[0m\u001b[0;34m(\u001b[0m\u001b[0mobject\u001b[0m\u001b[0;34m)\u001b[0m\u001b[0;34m\u001b[0m\u001b[0;34m\u001b[0m\u001b[0m\n\u001b[0m\u001b[1;32m    426\u001b[0m         \u001b[0;32melse\u001b[0m\u001b[0;34m:\u001b[0m\u001b[0;34m\u001b[0m\u001b[0;34m\u001b[0m\u001b[0m\n\u001b[1;32m    427\u001b[0m             \u001b[0mparams\u001b[0m \u001b[0;34m=\u001b[0m \u001b[0mobject\u001b[0m\u001b[0;34m.\u001b[0m\u001b[0mget_params\u001b[0m\u001b[0;34m(\u001b[0m\u001b[0mdeep\u001b[0m\u001b[0;34m=\u001b[0m\u001b[0;32mFalse\u001b[0m\u001b[0;34m)\u001b[0m\u001b[0;34m\u001b[0m\u001b[0;34m\u001b[0m\u001b[0m\n",
            "\u001b[0;32m/usr/local/lib/python3.7/dist-packages/sklearn/utils/_pprint.py\u001b[0m in \u001b[0;36m_changed_params\u001b[0;34m(estimator)\u001b[0m\n\u001b[1;32m     89\u001b[0m     estimator with non-default values.\"\"\"\n\u001b[1;32m     90\u001b[0m \u001b[0;34m\u001b[0m\u001b[0m\n\u001b[0;32m---> 91\u001b[0;31m     \u001b[0mparams\u001b[0m \u001b[0;34m=\u001b[0m \u001b[0mestimator\u001b[0m\u001b[0;34m.\u001b[0m\u001b[0mget_params\u001b[0m\u001b[0;34m(\u001b[0m\u001b[0mdeep\u001b[0m\u001b[0;34m=\u001b[0m\u001b[0;32mFalse\u001b[0m\u001b[0;34m)\u001b[0m\u001b[0;34m\u001b[0m\u001b[0;34m\u001b[0m\u001b[0m\n\u001b[0m\u001b[1;32m     92\u001b[0m     init_func = getattr(estimator.__init__, 'deprecated_original',\n\u001b[1;32m     93\u001b[0m                         estimator.__init__)\n",
            "\u001b[0;32m/usr/local/lib/python3.7/dist-packages/sklearn/base.py\u001b[0m in \u001b[0;36mget_params\u001b[0;34m(self, deep)\u001b[0m\n\u001b[1;32m    193\u001b[0m         \u001b[0mout\u001b[0m \u001b[0;34m=\u001b[0m \u001b[0mdict\u001b[0m\u001b[0;34m(\u001b[0m\u001b[0;34m)\u001b[0m\u001b[0;34m\u001b[0m\u001b[0;34m\u001b[0m\u001b[0m\n\u001b[1;32m    194\u001b[0m         \u001b[0;32mfor\u001b[0m \u001b[0mkey\u001b[0m \u001b[0;32min\u001b[0m \u001b[0mself\u001b[0m\u001b[0;34m.\u001b[0m\u001b[0m_get_param_names\u001b[0m\u001b[0;34m(\u001b[0m\u001b[0;34m)\u001b[0m\u001b[0;34m:\u001b[0m\u001b[0;34m\u001b[0m\u001b[0;34m\u001b[0m\u001b[0m\n\u001b[0;32m--> 195\u001b[0;31m             \u001b[0mvalue\u001b[0m \u001b[0;34m=\u001b[0m \u001b[0mgetattr\u001b[0m\u001b[0;34m(\u001b[0m\u001b[0mself\u001b[0m\u001b[0;34m,\u001b[0m \u001b[0mkey\u001b[0m\u001b[0;34m)\u001b[0m\u001b[0;34m\u001b[0m\u001b[0;34m\u001b[0m\u001b[0m\n\u001b[0m\u001b[1;32m    196\u001b[0m             \u001b[0;32mif\u001b[0m \u001b[0mdeep\u001b[0m \u001b[0;32mand\u001b[0m \u001b[0mhasattr\u001b[0m\u001b[0;34m(\u001b[0m\u001b[0mvalue\u001b[0m\u001b[0;34m,\u001b[0m \u001b[0;34m'get_params'\u001b[0m\u001b[0;34m)\u001b[0m\u001b[0;34m:\u001b[0m\u001b[0;34m\u001b[0m\u001b[0;34m\u001b[0m\u001b[0m\n\u001b[1;32m    197\u001b[0m                 \u001b[0mdeep_items\u001b[0m \u001b[0;34m=\u001b[0m \u001b[0mvalue\u001b[0m\u001b[0;34m.\u001b[0m\u001b[0mget_params\u001b[0m\u001b[0;34m(\u001b[0m\u001b[0;34m)\u001b[0m\u001b[0;34m.\u001b[0m\u001b[0mitems\u001b[0m\u001b[0;34m(\u001b[0m\u001b[0;34m)\u001b[0m\u001b[0;34m\u001b[0m\u001b[0;34m\u001b[0m\u001b[0m\n",
            "\u001b[0;31mAttributeError\u001b[0m: 'MyDummyClassifier' object has no attribute 'dataset_properties'"
          ]
        }
      ]
    },
    {
      "cell_type": "code",
      "metadata": {
        "colab": {
          "base_uri": "https://localhost:8080/"
        },
        "id": "1xnUoemc_wur",
        "outputId": "ba5c81e6-c4d1-40e3-831f-b784d9134e3d"
      },
      "source": [
        "model.get_params()"
      ],
      "execution_count": null,
      "outputs": [
        {
          "output_type": "execute_result",
          "data": {
            "text/plain": [
              "{'dask_client': None,\n",
              " 'delete_output_folder_after_terminate': True,\n",
              " 'delete_tmp_folder_after_terminate': True,\n",
              " 'disable_evaluator_output': False,\n",
              " 'ensemble_nbest': 50,\n",
              " 'ensemble_size': 50,\n",
              " 'exclude_estimators': None,\n",
              " 'exclude_preprocessors': None,\n",
              " 'get_smac_object_callback': None,\n",
              " 'include_estimators': None,\n",
              " 'include_preprocessors': None,\n",
              " 'initial_configurations_via_metalearning': 25,\n",
              " 'load_models': True,\n",
              " 'logging_config': None,\n",
              " 'max_models_on_disc': 50,\n",
              " 'memory_limit': 3072,\n",
              " 'metadata_directory': None,\n",
              " 'metric': None,\n",
              " 'n_jobs': None,\n",
              " 'output_folder': None,\n",
              " 'per_run_time_limit': 7200,\n",
              " 'resampling_strategy': 'holdout',\n",
              " 'resampling_strategy_arguments': None,\n",
              " 'scoring_functions': None,\n",
              " 'seed': 1,\n",
              " 'smac_scenario_args': None,\n",
              " 'time_left_for_this_task': 21600,\n",
              " 'tmp_folder': None}"
            ]
          },
          "metadata": {
            "tags": []
          },
          "execution_count": 27
        }
      ]
    },
    {
      "cell_type": "code",
      "metadata": {
        "colab": {
          "base_uri": "https://localhost:8080/",
          "height": 306
        },
        "id": "6yL9h66p_1Zd",
        "outputId": "887eae6f-c666-4b04-89d4-5b5ff37a93ac"
      },
      "source": [
        "print(model.show_models())"
      ],
      "execution_count": null,
      "outputs": [
        {
          "output_type": "error",
          "ename": "AttributeError",
          "evalue": "ignored",
          "traceback": [
            "\u001b[0;31m---------------------------------------------------------------------------\u001b[0m",
            "\u001b[0;31mAttributeError\u001b[0m                            Traceback (most recent call last)",
            "\u001b[0;32m<ipython-input-36-74f70b715013>\u001b[0m in \u001b[0;36m<module>\u001b[0;34m()\u001b[0m\n\u001b[0;32m----> 1\u001b[0;31m \u001b[0mprint\u001b[0m\u001b[0;34m(\u001b[0m\u001b[0mmodel\u001b[0m\u001b[0;34m.\u001b[0m\u001b[0mshow_models\u001b[0m\u001b[0;34m(\u001b[0m\u001b[0;34m)\u001b[0m\u001b[0;34m)\u001b[0m\u001b[0;34m\u001b[0m\u001b[0;34m\u001b[0m\u001b[0m\n\u001b[0m",
            "\u001b[0;32m/usr/local/lib/python3.7/dist-packages/autosklearn/estimators.py\u001b[0m in \u001b[0;36mshow_models\u001b[0;34m(self)\u001b[0m\n\u001b[1;32m    469\u001b[0m \u001b[0;34m\u001b[0m\u001b[0m\n\u001b[1;32m    470\u001b[0m         \"\"\"\n\u001b[0;32m--> 471\u001b[0;31m         \u001b[0;32mreturn\u001b[0m \u001b[0mself\u001b[0m\u001b[0;34m.\u001b[0m\u001b[0mautoml_\u001b[0m\u001b[0;34m.\u001b[0m\u001b[0mshow_models\u001b[0m\u001b[0;34m(\u001b[0m\u001b[0;34m)\u001b[0m\u001b[0;34m\u001b[0m\u001b[0;34m\u001b[0m\u001b[0m\n\u001b[0m\u001b[1;32m    472\u001b[0m \u001b[0;34m\u001b[0m\u001b[0m\n\u001b[1;32m    473\u001b[0m     \u001b[0;32mdef\u001b[0m \u001b[0mget_models_with_weights\u001b[0m\u001b[0;34m(\u001b[0m\u001b[0mself\u001b[0m\u001b[0;34m)\u001b[0m\u001b[0;34m:\u001b[0m\u001b[0;34m\u001b[0m\u001b[0;34m\u001b[0m\u001b[0m\n",
            "\u001b[0;32m/usr/local/lib/python3.7/dist-packages/autosklearn/automl.py\u001b[0m in \u001b[0;36mshow_models\u001b[0;34m(self)\u001b[0m\n\u001b[1;32m   1328\u001b[0m             \u001b[0msio\u001b[0m\u001b[0;34m.\u001b[0m\u001b[0mwrite\u001b[0m\u001b[0;34m(\u001b[0m\u001b[0;34m\"[\"\u001b[0m\u001b[0;34m)\u001b[0m\u001b[0;34m\u001b[0m\u001b[0;34m\u001b[0m\u001b[0m\n\u001b[1;32m   1329\u001b[0m             \u001b[0;32mfor\u001b[0m \u001b[0mweight\u001b[0m\u001b[0;34m,\u001b[0m \u001b[0mmodel\u001b[0m \u001b[0;32min\u001b[0m \u001b[0mmodels_with_weights\u001b[0m\u001b[0;34m:\u001b[0m\u001b[0;34m\u001b[0m\u001b[0;34m\u001b[0m\u001b[0m\n\u001b[0;32m-> 1330\u001b[0;31m                 \u001b[0msio\u001b[0m\u001b[0;34m.\u001b[0m\u001b[0mwrite\u001b[0m\u001b[0;34m(\u001b[0m\u001b[0;34m\"(%f, %s),\\n\"\u001b[0m \u001b[0;34m%\u001b[0m \u001b[0;34m(\u001b[0m\u001b[0mweight\u001b[0m\u001b[0;34m,\u001b[0m \u001b[0mmodel\u001b[0m\u001b[0;34m)\u001b[0m\u001b[0;34m)\u001b[0m\u001b[0;34m\u001b[0m\u001b[0;34m\u001b[0m\u001b[0m\n\u001b[0m\u001b[1;32m   1331\u001b[0m             \u001b[0msio\u001b[0m\u001b[0;34m.\u001b[0m\u001b[0mwrite\u001b[0m\u001b[0;34m(\u001b[0m\u001b[0;34m\"]\"\u001b[0m\u001b[0;34m)\u001b[0m\u001b[0;34m\u001b[0m\u001b[0;34m\u001b[0m\u001b[0m\n\u001b[1;32m   1332\u001b[0m \u001b[0;34m\u001b[0m\u001b[0m\n",
            "\u001b[0;32m/usr/local/lib/python3.7/dist-packages/sklearn/base.py\u001b[0m in \u001b[0;36m__repr__\u001b[0;34m(self, N_CHAR_MAX)\u001b[0m\n\u001b[1;32m    258\u001b[0m             n_max_elements_to_show=N_MAX_ELEMENTS_TO_SHOW)\n\u001b[1;32m    259\u001b[0m \u001b[0;34m\u001b[0m\u001b[0m\n\u001b[0;32m--> 260\u001b[0;31m         \u001b[0mrepr_\u001b[0m \u001b[0;34m=\u001b[0m \u001b[0mpp\u001b[0m\u001b[0;34m.\u001b[0m\u001b[0mpformat\u001b[0m\u001b[0;34m(\u001b[0m\u001b[0mself\u001b[0m\u001b[0;34m)\u001b[0m\u001b[0;34m\u001b[0m\u001b[0;34m\u001b[0m\u001b[0m\n\u001b[0m\u001b[1;32m    261\u001b[0m \u001b[0;34m\u001b[0m\u001b[0m\n\u001b[1;32m    262\u001b[0m         \u001b[0;31m# Use bruteforce ellipsis when there are a lot of non-blank characters\u001b[0m\u001b[0;34m\u001b[0m\u001b[0;34m\u001b[0m\u001b[0;34m\u001b[0m\u001b[0m\n",
            "\u001b[0;32m/usr/lib/python3.7/pprint.py\u001b[0m in \u001b[0;36mpformat\u001b[0;34m(self, object)\u001b[0m\n\u001b[1;32m    142\u001b[0m     \u001b[0;32mdef\u001b[0m \u001b[0mpformat\u001b[0m\u001b[0;34m(\u001b[0m\u001b[0mself\u001b[0m\u001b[0;34m,\u001b[0m \u001b[0mobject\u001b[0m\u001b[0;34m)\u001b[0m\u001b[0;34m:\u001b[0m\u001b[0;34m\u001b[0m\u001b[0;34m\u001b[0m\u001b[0m\n\u001b[1;32m    143\u001b[0m         \u001b[0msio\u001b[0m \u001b[0;34m=\u001b[0m \u001b[0m_StringIO\u001b[0m\u001b[0;34m(\u001b[0m\u001b[0;34m)\u001b[0m\u001b[0;34m\u001b[0m\u001b[0;34m\u001b[0m\u001b[0m\n\u001b[0;32m--> 144\u001b[0;31m         \u001b[0mself\u001b[0m\u001b[0;34m.\u001b[0m\u001b[0m_format\u001b[0m\u001b[0;34m(\u001b[0m\u001b[0mobject\u001b[0m\u001b[0;34m,\u001b[0m \u001b[0msio\u001b[0m\u001b[0;34m,\u001b[0m \u001b[0;36m0\u001b[0m\u001b[0;34m,\u001b[0m \u001b[0;36m0\u001b[0m\u001b[0;34m,\u001b[0m \u001b[0;34m{\u001b[0m\u001b[0;34m}\u001b[0m\u001b[0;34m,\u001b[0m \u001b[0;36m0\u001b[0m\u001b[0;34m)\u001b[0m\u001b[0;34m\u001b[0m\u001b[0;34m\u001b[0m\u001b[0m\n\u001b[0m\u001b[1;32m    145\u001b[0m         \u001b[0;32mreturn\u001b[0m \u001b[0msio\u001b[0m\u001b[0;34m.\u001b[0m\u001b[0mgetvalue\u001b[0m\u001b[0;34m(\u001b[0m\u001b[0;34m)\u001b[0m\u001b[0;34m\u001b[0m\u001b[0;34m\u001b[0m\u001b[0m\n\u001b[1;32m    146\u001b[0m \u001b[0;34m\u001b[0m\u001b[0m\n",
            "\u001b[0;32m/usr/lib/python3.7/pprint.py\u001b[0m in \u001b[0;36m_format\u001b[0;34m(self, object, stream, indent, allowance, context, level)\u001b[0m\n\u001b[1;32m    159\u001b[0m             \u001b[0mself\u001b[0m\u001b[0;34m.\u001b[0m\u001b[0m_readable\u001b[0m \u001b[0;34m=\u001b[0m \u001b[0;32mFalse\u001b[0m\u001b[0;34m\u001b[0m\u001b[0;34m\u001b[0m\u001b[0m\n\u001b[1;32m    160\u001b[0m             \u001b[0;32mreturn\u001b[0m\u001b[0;34m\u001b[0m\u001b[0;34m\u001b[0m\u001b[0m\n\u001b[0;32m--> 161\u001b[0;31m         \u001b[0mrep\u001b[0m \u001b[0;34m=\u001b[0m \u001b[0mself\u001b[0m\u001b[0;34m.\u001b[0m\u001b[0m_repr\u001b[0m\u001b[0;34m(\u001b[0m\u001b[0mobject\u001b[0m\u001b[0;34m,\u001b[0m \u001b[0mcontext\u001b[0m\u001b[0;34m,\u001b[0m \u001b[0mlevel\u001b[0m\u001b[0;34m)\u001b[0m\u001b[0;34m\u001b[0m\u001b[0;34m\u001b[0m\u001b[0m\n\u001b[0m\u001b[1;32m    162\u001b[0m         \u001b[0mmax_width\u001b[0m \u001b[0;34m=\u001b[0m \u001b[0mself\u001b[0m\u001b[0;34m.\u001b[0m\u001b[0m_width\u001b[0m \u001b[0;34m-\u001b[0m \u001b[0mindent\u001b[0m \u001b[0;34m-\u001b[0m \u001b[0mallowance\u001b[0m\u001b[0;34m\u001b[0m\u001b[0;34m\u001b[0m\u001b[0m\n\u001b[1;32m    163\u001b[0m         \u001b[0;32mif\u001b[0m \u001b[0mlen\u001b[0m\u001b[0;34m(\u001b[0m\u001b[0mrep\u001b[0m\u001b[0;34m)\u001b[0m \u001b[0;34m>\u001b[0m \u001b[0mmax_width\u001b[0m\u001b[0;34m:\u001b[0m\u001b[0;34m\u001b[0m\u001b[0;34m\u001b[0m\u001b[0m\n",
            "\u001b[0;32m/usr/lib/python3.7/pprint.py\u001b[0m in \u001b[0;36m_repr\u001b[0;34m(self, object, context, level)\u001b[0m\n\u001b[1;32m    391\u001b[0m     \u001b[0;32mdef\u001b[0m \u001b[0m_repr\u001b[0m\u001b[0;34m(\u001b[0m\u001b[0mself\u001b[0m\u001b[0;34m,\u001b[0m \u001b[0mobject\u001b[0m\u001b[0;34m,\u001b[0m \u001b[0mcontext\u001b[0m\u001b[0;34m,\u001b[0m \u001b[0mlevel\u001b[0m\u001b[0;34m)\u001b[0m\u001b[0;34m:\u001b[0m\u001b[0;34m\u001b[0m\u001b[0;34m\u001b[0m\u001b[0m\n\u001b[1;32m    392\u001b[0m         repr, readable, recursive = self.format(object, context.copy(),\n\u001b[0;32m--> 393\u001b[0;31m                                                 self._depth, level)\n\u001b[0m\u001b[1;32m    394\u001b[0m         \u001b[0;32mif\u001b[0m \u001b[0;32mnot\u001b[0m \u001b[0mreadable\u001b[0m\u001b[0;34m:\u001b[0m\u001b[0;34m\u001b[0m\u001b[0;34m\u001b[0m\u001b[0m\n\u001b[1;32m    395\u001b[0m             \u001b[0mself\u001b[0m\u001b[0;34m.\u001b[0m\u001b[0m_readable\u001b[0m \u001b[0;34m=\u001b[0m \u001b[0;32mFalse\u001b[0m\u001b[0;34m\u001b[0m\u001b[0;34m\u001b[0m\u001b[0m\n",
            "\u001b[0;32m/usr/local/lib/python3.7/dist-packages/sklearn/utils/_pprint.py\u001b[0m in \u001b[0;36mformat\u001b[0;34m(self, object, context, maxlevels, level)\u001b[0m\n\u001b[1;32m    179\u001b[0m     \u001b[0;32mdef\u001b[0m \u001b[0mformat\u001b[0m\u001b[0;34m(\u001b[0m\u001b[0mself\u001b[0m\u001b[0;34m,\u001b[0m \u001b[0mobject\u001b[0m\u001b[0;34m,\u001b[0m \u001b[0mcontext\u001b[0m\u001b[0;34m,\u001b[0m \u001b[0mmaxlevels\u001b[0m\u001b[0;34m,\u001b[0m \u001b[0mlevel\u001b[0m\u001b[0;34m)\u001b[0m\u001b[0;34m:\u001b[0m\u001b[0;34m\u001b[0m\u001b[0;34m\u001b[0m\u001b[0m\n\u001b[1;32m    180\u001b[0m         return _safe_repr(object, context, maxlevels, level,\n\u001b[0;32m--> 181\u001b[0;31m                           changed_only=self._changed_only)\n\u001b[0m\u001b[1;32m    182\u001b[0m \u001b[0;34m\u001b[0m\u001b[0m\n\u001b[1;32m    183\u001b[0m     def _pprint_estimator(self, object, stream, indent, allowance, context,\n",
            "\u001b[0;32m/usr/local/lib/python3.7/dist-packages/sklearn/utils/_pprint.py\u001b[0m in \u001b[0;36m_safe_repr\u001b[0;34m(object, context, maxlevels, level, changed_only)\u001b[0m\n\u001b[1;32m    423\u001b[0m         \u001b[0mrecursive\u001b[0m \u001b[0;34m=\u001b[0m \u001b[0;32mFalse\u001b[0m\u001b[0;34m\u001b[0m\u001b[0;34m\u001b[0m\u001b[0m\n\u001b[1;32m    424\u001b[0m         \u001b[0;32mif\u001b[0m \u001b[0mchanged_only\u001b[0m\u001b[0;34m:\u001b[0m\u001b[0;34m\u001b[0m\u001b[0;34m\u001b[0m\u001b[0m\n\u001b[0;32m--> 425\u001b[0;31m             \u001b[0mparams\u001b[0m \u001b[0;34m=\u001b[0m \u001b[0m_changed_params\u001b[0m\u001b[0;34m(\u001b[0m\u001b[0mobject\u001b[0m\u001b[0;34m)\u001b[0m\u001b[0;34m\u001b[0m\u001b[0;34m\u001b[0m\u001b[0m\n\u001b[0m\u001b[1;32m    426\u001b[0m         \u001b[0;32melse\u001b[0m\u001b[0;34m:\u001b[0m\u001b[0;34m\u001b[0m\u001b[0;34m\u001b[0m\u001b[0m\n\u001b[1;32m    427\u001b[0m             \u001b[0mparams\u001b[0m \u001b[0;34m=\u001b[0m \u001b[0mobject\u001b[0m\u001b[0;34m.\u001b[0m\u001b[0mget_params\u001b[0m\u001b[0;34m(\u001b[0m\u001b[0mdeep\u001b[0m\u001b[0;34m=\u001b[0m\u001b[0;32mFalse\u001b[0m\u001b[0;34m)\u001b[0m\u001b[0;34m\u001b[0m\u001b[0;34m\u001b[0m\u001b[0m\n",
            "\u001b[0;32m/usr/local/lib/python3.7/dist-packages/sklearn/utils/_pprint.py\u001b[0m in \u001b[0;36m_changed_params\u001b[0;34m(estimator)\u001b[0m\n\u001b[1;32m     89\u001b[0m     estimator with non-default values.\"\"\"\n\u001b[1;32m     90\u001b[0m \u001b[0;34m\u001b[0m\u001b[0m\n\u001b[0;32m---> 91\u001b[0;31m     \u001b[0mparams\u001b[0m \u001b[0;34m=\u001b[0m \u001b[0mestimator\u001b[0m\u001b[0;34m.\u001b[0m\u001b[0mget_params\u001b[0m\u001b[0;34m(\u001b[0m\u001b[0mdeep\u001b[0m\u001b[0;34m=\u001b[0m\u001b[0;32mFalse\u001b[0m\u001b[0;34m)\u001b[0m\u001b[0;34m\u001b[0m\u001b[0;34m\u001b[0m\u001b[0m\n\u001b[0m\u001b[1;32m     92\u001b[0m     init_func = getattr(estimator.__init__, 'deprecated_original',\n\u001b[1;32m     93\u001b[0m                         estimator.__init__)\n",
            "\u001b[0;32m/usr/local/lib/python3.7/dist-packages/sklearn/base.py\u001b[0m in \u001b[0;36mget_params\u001b[0;34m(self, deep)\u001b[0m\n\u001b[1;32m    193\u001b[0m         \u001b[0mout\u001b[0m \u001b[0;34m=\u001b[0m \u001b[0mdict\u001b[0m\u001b[0;34m(\u001b[0m\u001b[0;34m)\u001b[0m\u001b[0;34m\u001b[0m\u001b[0;34m\u001b[0m\u001b[0m\n\u001b[1;32m    194\u001b[0m         \u001b[0;32mfor\u001b[0m \u001b[0mkey\u001b[0m \u001b[0;32min\u001b[0m \u001b[0mself\u001b[0m\u001b[0;34m.\u001b[0m\u001b[0m_get_param_names\u001b[0m\u001b[0;34m(\u001b[0m\u001b[0;34m)\u001b[0m\u001b[0;34m:\u001b[0m\u001b[0;34m\u001b[0m\u001b[0;34m\u001b[0m\u001b[0m\n\u001b[0;32m--> 195\u001b[0;31m             \u001b[0mvalue\u001b[0m \u001b[0;34m=\u001b[0m \u001b[0mgetattr\u001b[0m\u001b[0;34m(\u001b[0m\u001b[0mself\u001b[0m\u001b[0;34m,\u001b[0m \u001b[0mkey\u001b[0m\u001b[0;34m)\u001b[0m\u001b[0;34m\u001b[0m\u001b[0;34m\u001b[0m\u001b[0m\n\u001b[0m\u001b[1;32m    196\u001b[0m             \u001b[0;32mif\u001b[0m \u001b[0mdeep\u001b[0m \u001b[0;32mand\u001b[0m \u001b[0mhasattr\u001b[0m\u001b[0;34m(\u001b[0m\u001b[0mvalue\u001b[0m\u001b[0;34m,\u001b[0m \u001b[0;34m'get_params'\u001b[0m\u001b[0;34m)\u001b[0m\u001b[0;34m:\u001b[0m\u001b[0;34m\u001b[0m\u001b[0;34m\u001b[0m\u001b[0m\n\u001b[1;32m    197\u001b[0m                 \u001b[0mdeep_items\u001b[0m \u001b[0;34m=\u001b[0m \u001b[0mvalue\u001b[0m\u001b[0;34m.\u001b[0m\u001b[0mget_params\u001b[0m\u001b[0;34m(\u001b[0m\u001b[0;34m)\u001b[0m\u001b[0;34m.\u001b[0m\u001b[0mitems\u001b[0m\u001b[0;34m(\u001b[0m\u001b[0;34m)\u001b[0m\u001b[0;34m\u001b[0m\u001b[0;34m\u001b[0m\u001b[0m\n",
            "\u001b[0;31mAttributeError\u001b[0m: 'MyDummyClassifier' object has no attribute 'dataset_properties'"
          ]
        }
      ]
    }
  ]
}