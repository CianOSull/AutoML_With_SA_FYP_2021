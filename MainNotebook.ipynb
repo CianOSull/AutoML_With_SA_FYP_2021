{
  "nbformat": 4,
  "nbformat_minor": 0,
  "metadata": {
    "colab": {
      "name": "Copy of SKlearn MainNotebook",
      "provenance": [],
      "collapsed_sections": [],
      "mount_file_id": "1nC_pUXXhTcxEwVxmaeFUvL3F40t7v7YC",
      "authorship_tag": "ABX9TyOAckVS6RJzZSQ9XlC/7kns",
      "include_colab_link": true
    },
    "kernelspec": {
      "display_name": "Python 3",
      "name": "python3"
    }
  },
  "cells": [
    {
      "cell_type": "markdown",
      "metadata": {
        "id": "view-in-github",
        "colab_type": "text"
      },
      "source": [
        "<a href=\"https://colab.research.google.com/github/CianOSull/AutoML_With_SA_FYP_2021/blob/AutoKeras/MainNotebook.ipynb\" target=\"_parent\"><img src=\"https://colab.research.google.com/assets/colab-badge.svg\" alt=\"Open In Colab\"/></a>"
      ]
    },
    {
      "cell_type": "markdown",
      "metadata": {
        "id": "i_zrt8fk5AJt"
      },
      "source": [
        "# Generic Notebook for running all the libraries\n",
        "\n",
        "How this notebook works is that it contains the code\n",
        "for loading and cleaning the dataset.\n",
        "\n",
        "Then there is multiple branches created on the\n",
        "Github that include the code for running each library.\n",
        "\n",
        "E.g. MLBox branch has the code for running MLBox."
      ]
    },
    {
      "cell_type": "markdown",
      "metadata": {
        "id": "YOhpD-9g-DyM"
      },
      "source": [
        "# CURRENT BRANCH = AUTOSKLEARN"
      ]
    },
    {
      "cell_type": "markdown",
      "metadata": {
        "id": "ew8tq1lj6v1L"
      },
      "source": [
        "# Install the necessary library\n",
        "Run the install code in the code cell below."
      ]
    },
    {
      "cell_type": "markdown",
      "metadata": {
        "id": "ut_ejh54rtRt"
      },
      "source": [
        "# Install 3 \n",
        "\n",
        "From youtube: \n",
        "\n",
        "https://www.youtube.com/watch?v=0jXwYlX8wPk\n",
        "\n",
        "Notebook:\n",
        "\n",
        "https://github.com/bhattbhavesh91/auto-sklearn-tutorial/blob/master/autosklearn-classification.ipynb"
      ]
    },
    {
      "cell_type": "code",
      "metadata": {
        "colab": {
          "base_uri": "https://localhost:8080/"
        },
        "id": "XuUsFR8gsdIX",
        "outputId": "f6ddab4b-00cd-4e69-e2df-f7cc4fc69e8f"
      },
      "source": [
        "!sudo apt-get install swig -y\n",
        "!pip install Cython numpy"
      ],
      "execution_count": null,
      "outputs": [
        {
          "output_type": "stream",
          "text": [
            "Reading package lists... Done\n",
            "Building dependency tree       \n",
            "Reading state information... Done\n",
            "The following package was automatically installed and is no longer required:\n",
            "  libnvidia-common-460\n",
            "Use 'sudo apt autoremove' to remove it.\n",
            "The following additional packages will be installed:\n",
            "  swig3.0\n",
            "Suggested packages:\n",
            "  swig-doc swig-examples swig3.0-examples swig3.0-doc\n",
            "The following NEW packages will be installed:\n",
            "  swig swig3.0\n",
            "0 upgraded, 2 newly installed, 0 to remove and 34 not upgraded.\n",
            "Need to get 1,100 kB of archives.\n",
            "After this operation, 5,822 kB of additional disk space will be used.\n",
            "Get:1 http://archive.ubuntu.com/ubuntu bionic/universe amd64 swig3.0 amd64 3.0.12-1 [1,094 kB]\n",
            "Get:2 http://archive.ubuntu.com/ubuntu bionic/universe amd64 swig amd64 3.0.12-1 [6,460 B]\n",
            "Fetched 1,100 kB in 1s (1,477 kB/s)\n",
            "debconf: unable to initialize frontend: Dialog\n",
            "debconf: (No usable dialog-like program is installed, so the dialog based frontend cannot be used. at /usr/share/perl5/Debconf/FrontEnd/Dialog.pm line 76, <> line 2.)\n",
            "debconf: falling back to frontend: Readline\n",
            "debconf: unable to initialize frontend: Readline\n",
            "debconf: (This frontend requires a controlling tty.)\n",
            "debconf: falling back to frontend: Teletype\n",
            "dpkg-preconfigure: unable to re-open stdin: \n",
            "Selecting previously unselected package swig3.0.\n",
            "(Reading database ... 160690 files and directories currently installed.)\n",
            "Preparing to unpack .../swig3.0_3.0.12-1_amd64.deb ...\n",
            "Unpacking swig3.0 (3.0.12-1) ...\n",
            "Selecting previously unselected package swig.\n",
            "Preparing to unpack .../swig_3.0.12-1_amd64.deb ...\n",
            "Unpacking swig (3.0.12-1) ...\n",
            "Setting up swig3.0 (3.0.12-1) ...\n",
            "Setting up swig (3.0.12-1) ...\n",
            "Processing triggers for man-db (2.8.3-2ubuntu0.1) ...\n",
            "Requirement already satisfied: Cython in /usr/local/lib/python3.7/dist-packages (0.29.22)\n",
            "Requirement already satisfied: numpy in /usr/local/lib/python3.7/dist-packages (1.19.5)\n"
          ],
          "name": "stdout"
        }
      ]
    },
    {
      "cell_type": "code",
      "metadata": {
        "colab": {
          "base_uri": "https://localhost:8080/"
        },
        "id": "iL6dziMPsg0J",
        "outputId": "abbbbda4-9406-400c-bb0b-f121c9010fd8"
      },
      "source": [
        "!pip install pipelineprofiler"
      ],
      "execution_count": null,
      "outputs": [
        {
          "output_type": "stream",
          "text": [
            "Collecting pipelineprofiler\n",
            "\u001b[?25l  Downloading https://files.pythonhosted.org/packages/fd/70/00921d385c047af75e43063d62542055f68bf2d760216223045f5972cf48/pipelineprofiler-0.1.17-py3-none-any.whl (880kB)\n",
            "\r\u001b[K     |▍                               | 10kB 13.4MB/s eta 0:00:01\r\u001b[K     |▊                               | 20kB 19.3MB/s eta 0:00:01\r\u001b[K     |█▏                              | 30kB 23.5MB/s eta 0:00:01\r\u001b[K     |█▌                              | 40kB 26.3MB/s eta 0:00:01\r\u001b[K     |█▉                              | 51kB 28.9MB/s eta 0:00:01\r\u001b[K     |██▎                             | 61kB 30.9MB/s eta 0:00:01\r\u001b[K     |██▋                             | 71kB 28.7MB/s eta 0:00:01\r\u001b[K     |███                             | 81kB 19.2MB/s eta 0:00:01\r\u001b[K     |███▍                            | 92kB 18.1MB/s eta 0:00:01\r\u001b[K     |███▊                            | 102kB 17.9MB/s eta 0:00:01\r\u001b[K     |████                            | 112kB 17.9MB/s eta 0:00:01\r\u001b[K     |████▌                           | 122kB 17.9MB/s eta 0:00:01\r\u001b[K     |████▉                           | 133kB 17.9MB/s eta 0:00:01\r\u001b[K     |█████▏                          | 143kB 17.9MB/s eta 0:00:01\r\u001b[K     |█████▋                          | 153kB 17.9MB/s eta 0:00:01\r\u001b[K     |██████                          | 163kB 17.9MB/s eta 0:00:01\r\u001b[K     |██████▎                         | 174kB 17.9MB/s eta 0:00:01\r\u001b[K     |██████▊                         | 184kB 17.9MB/s eta 0:00:01\r\u001b[K     |███████                         | 194kB 17.9MB/s eta 0:00:01\r\u001b[K     |███████▌                        | 204kB 17.9MB/s eta 0:00:01\r\u001b[K     |███████▉                        | 215kB 17.9MB/s eta 0:00:01\r\u001b[K     |████████▏                       | 225kB 17.9MB/s eta 0:00:01\r\u001b[K     |████████▋                       | 235kB 17.9MB/s eta 0:00:01\r\u001b[K     |█████████                       | 245kB 17.9MB/s eta 0:00:01\r\u001b[K     |█████████▎                      | 256kB 17.9MB/s eta 0:00:01\r\u001b[K     |█████████▊                      | 266kB 17.9MB/s eta 0:00:01\r\u001b[K     |██████████                      | 276kB 17.9MB/s eta 0:00:01\r\u001b[K     |██████████▍                     | 286kB 17.9MB/s eta 0:00:01\r\u001b[K     |██████████▉                     | 296kB 17.9MB/s eta 0:00:01\r\u001b[K     |███████████▏                    | 307kB 17.9MB/s eta 0:00:01\r\u001b[K     |███████████▌                    | 317kB 17.9MB/s eta 0:00:01\r\u001b[K     |████████████                    | 327kB 17.9MB/s eta 0:00:01\r\u001b[K     |████████████▎                   | 337kB 17.9MB/s eta 0:00:01\r\u001b[K     |████████████▋                   | 348kB 17.9MB/s eta 0:00:01\r\u001b[K     |█████████████                   | 358kB 17.9MB/s eta 0:00:01\r\u001b[K     |█████████████▍                  | 368kB 17.9MB/s eta 0:00:01\r\u001b[K     |█████████████▊                  | 378kB 17.9MB/s eta 0:00:01\r\u001b[K     |██████████████▏                 | 389kB 17.9MB/s eta 0:00:01\r\u001b[K     |██████████████▌                 | 399kB 17.9MB/s eta 0:00:01\r\u001b[K     |███████████████                 | 409kB 17.9MB/s eta 0:00:01\r\u001b[K     |███████████████▎                | 419kB 17.9MB/s eta 0:00:01\r\u001b[K     |███████████████▋                | 430kB 17.9MB/s eta 0:00:01\r\u001b[K     |████████████████                | 440kB 17.9MB/s eta 0:00:01\r\u001b[K     |████████████████▍               | 450kB 17.9MB/s eta 0:00:01\r\u001b[K     |████████████████▊               | 460kB 17.9MB/s eta 0:00:01\r\u001b[K     |█████████████████▏              | 471kB 17.9MB/s eta 0:00:01\r\u001b[K     |█████████████████▌              | 481kB 17.9MB/s eta 0:00:01\r\u001b[K     |█████████████████▉              | 491kB 17.9MB/s eta 0:00:01\r\u001b[K     |██████████████████▎             | 501kB 17.9MB/s eta 0:00:01\r\u001b[K     |██████████████████▋             | 512kB 17.9MB/s eta 0:00:01\r\u001b[K     |███████████████████             | 522kB 17.9MB/s eta 0:00:01\r\u001b[K     |███████████████████▍            | 532kB 17.9MB/s eta 0:00:01\r\u001b[K     |███████████████████▊            | 542kB 17.9MB/s eta 0:00:01\r\u001b[K     |████████████████████            | 552kB 17.9MB/s eta 0:00:01\r\u001b[K     |████████████████████▌           | 563kB 17.9MB/s eta 0:00:01\r\u001b[K     |████████████████████▉           | 573kB 17.9MB/s eta 0:00:01\r\u001b[K     |█████████████████████▏          | 583kB 17.9MB/s eta 0:00:01\r\u001b[K     |█████████████████████▋          | 593kB 17.9MB/s eta 0:00:01\r\u001b[K     |██████████████████████          | 604kB 17.9MB/s eta 0:00:01\r\u001b[K     |██████████████████████▍         | 614kB 17.9MB/s eta 0:00:01\r\u001b[K     |██████████████████████▊         | 624kB 17.9MB/s eta 0:00:01\r\u001b[K     |███████████████████████         | 634kB 17.9MB/s eta 0:00:01\r\u001b[K     |███████████████████████▌        | 645kB 17.9MB/s eta 0:00:01\r\u001b[K     |███████████████████████▉        | 655kB 17.9MB/s eta 0:00:01\r\u001b[K     |████████████████████████▏       | 665kB 17.9MB/s eta 0:00:01\r\u001b[K     |████████████████████████▋       | 675kB 17.9MB/s eta 0:00:01\r\u001b[K     |█████████████████████████       | 686kB 17.9MB/s eta 0:00:01\r\u001b[K     |█████████████████████████▎      | 696kB 17.9MB/s eta 0:00:01\r\u001b[K     |█████████████████████████▊      | 706kB 17.9MB/s eta 0:00:01\r\u001b[K     |██████████████████████████      | 716kB 17.9MB/s eta 0:00:01\r\u001b[K     |██████████████████████████▍     | 727kB 17.9MB/s eta 0:00:01\r\u001b[K     |██████████████████████████▉     | 737kB 17.9MB/s eta 0:00:01\r\u001b[K     |███████████████████████████▏    | 747kB 17.9MB/s eta 0:00:01\r\u001b[K     |███████████████████████████▌    | 757kB 17.9MB/s eta 0:00:01\r\u001b[K     |████████████████████████████    | 768kB 17.9MB/s eta 0:00:01\r\u001b[K     |████████████████████████████▎   | 778kB 17.9MB/s eta 0:00:01\r\u001b[K     |████████████████████████████▊   | 788kB 17.9MB/s eta 0:00:01\r\u001b[K     |█████████████████████████████   | 798kB 17.9MB/s eta 0:00:01\r\u001b[K     |█████████████████████████████▍  | 808kB 17.9MB/s eta 0:00:01\r\u001b[K     |█████████████████████████████▉  | 819kB 17.9MB/s eta 0:00:01\r\u001b[K     |██████████████████████████████▏ | 829kB 17.9MB/s eta 0:00:01\r\u001b[K     |██████████████████████████████▌ | 839kB 17.9MB/s eta 0:00:01\r\u001b[K     |███████████████████████████████ | 849kB 17.9MB/s eta 0:00:01\r\u001b[K     |███████████████████████████████▎| 860kB 17.9MB/s eta 0:00:01\r\u001b[K     |███████████████████████████████▋| 870kB 17.9MB/s eta 0:00:01\r\u001b[K     |████████████████████████████████| 880kB 17.9MB/s \n",
            "\u001b[?25hRequirement already satisfied: python-dateutil in /usr/local/lib/python3.7/dist-packages (from pipelineprofiler) (2.8.1)\n",
            "Requirement already satisfied: numpy in /usr/local/lib/python3.7/dist-packages (from pipelineprofiler) (1.19.5)\n",
            "Requirement already satisfied: scipy in /usr/local/lib/python3.7/dist-packages (from pipelineprofiler) (1.4.1)\n",
            "Requirement already satisfied: scikit-learn in /usr/local/lib/python3.7/dist-packages (from pipelineprofiler) (0.22.2.post1)\n",
            "Requirement already satisfied: notebook in /usr/local/lib/python3.7/dist-packages (from pipelineprofiler) (5.3.1)\n",
            "Requirement already satisfied: networkx in /usr/local/lib/python3.7/dist-packages (from pipelineprofiler) (2.5.1)\n",
            "Requirement already satisfied: six>=1.5 in /usr/local/lib/python3.7/dist-packages (from python-dateutil->pipelineprofiler) (1.15.0)\n",
            "Requirement already satisfied: joblib>=0.11 in /usr/local/lib/python3.7/dist-packages (from scikit-learn->pipelineprofiler) (1.0.1)\n",
            "Requirement already satisfied: ipython-genutils in /usr/local/lib/python3.7/dist-packages (from notebook->pipelineprofiler) (0.2.0)\n",
            "Requirement already satisfied: terminado>=0.8.1 in /usr/local/lib/python3.7/dist-packages (from notebook->pipelineprofiler) (0.9.4)\n",
            "Requirement already satisfied: ipykernel in /usr/local/lib/python3.7/dist-packages (from notebook->pipelineprofiler) (4.10.1)\n",
            "Requirement already satisfied: jupyter-client>=5.2.0 in /usr/local/lib/python3.7/dist-packages (from notebook->pipelineprofiler) (5.3.5)\n",
            "Requirement already satisfied: jinja2 in /usr/local/lib/python3.7/dist-packages (from notebook->pipelineprofiler) (2.11.3)\n",
            "Requirement already satisfied: jupyter-core>=4.4.0 in /usr/local/lib/python3.7/dist-packages (from notebook->pipelineprofiler) (4.7.1)\n",
            "Requirement already satisfied: traitlets>=4.2.1 in /usr/local/lib/python3.7/dist-packages (from notebook->pipelineprofiler) (5.0.5)\n",
            "Requirement already satisfied: nbformat in /usr/local/lib/python3.7/dist-packages (from notebook->pipelineprofiler) (5.1.3)\n",
            "Requirement already satisfied: nbconvert in /usr/local/lib/python3.7/dist-packages (from notebook->pipelineprofiler) (5.6.1)\n",
            "Requirement already satisfied: Send2Trash in /usr/local/lib/python3.7/dist-packages (from notebook->pipelineprofiler) (1.5.0)\n",
            "Requirement already satisfied: tornado>=4 in /usr/local/lib/python3.7/dist-packages (from notebook->pipelineprofiler) (5.1.1)\n",
            "Requirement already satisfied: decorator<5,>=4.3 in /usr/local/lib/python3.7/dist-packages (from networkx->pipelineprofiler) (4.4.2)\n",
            "Requirement already satisfied: ptyprocess; os_name != \"nt\" in /usr/local/lib/python3.7/dist-packages (from terminado>=0.8.1->notebook->pipelineprofiler) (0.7.0)\n",
            "Requirement already satisfied: ipython>=4.0.0 in /usr/local/lib/python3.7/dist-packages (from ipykernel->notebook->pipelineprofiler) (5.5.0)\n",
            "Requirement already satisfied: pyzmq>=13 in /usr/local/lib/python3.7/dist-packages (from jupyter-client>=5.2.0->notebook->pipelineprofiler) (22.0.3)\n",
            "Requirement already satisfied: MarkupSafe>=0.23 in /usr/local/lib/python3.7/dist-packages (from jinja2->notebook->pipelineprofiler) (1.1.1)\n",
            "Requirement already satisfied: jsonschema!=2.5.0,>=2.4 in /usr/local/lib/python3.7/dist-packages (from nbformat->notebook->pipelineprofiler) (2.6.0)\n",
            "Requirement already satisfied: entrypoints>=0.2.2 in /usr/local/lib/python3.7/dist-packages (from nbconvert->notebook->pipelineprofiler) (0.3)\n",
            "Requirement already satisfied: pandocfilters>=1.4.1 in /usr/local/lib/python3.7/dist-packages (from nbconvert->notebook->pipelineprofiler) (1.4.3)\n",
            "Requirement already satisfied: testpath in /usr/local/lib/python3.7/dist-packages (from nbconvert->notebook->pipelineprofiler) (0.4.4)\n",
            "Requirement already satisfied: defusedxml in /usr/local/lib/python3.7/dist-packages (from nbconvert->notebook->pipelineprofiler) (0.7.1)\n",
            "Requirement already satisfied: pygments in /usr/local/lib/python3.7/dist-packages (from nbconvert->notebook->pipelineprofiler) (2.6.1)\n",
            "Requirement already satisfied: bleach in /usr/local/lib/python3.7/dist-packages (from nbconvert->notebook->pipelineprofiler) (3.3.0)\n",
            "Requirement already satisfied: mistune<2,>=0.8.1 in /usr/local/lib/python3.7/dist-packages (from nbconvert->notebook->pipelineprofiler) (0.8.4)\n",
            "Requirement already satisfied: simplegeneric>0.8 in /usr/local/lib/python3.7/dist-packages (from ipython>=4.0.0->ipykernel->notebook->pipelineprofiler) (0.8.1)\n",
            "Requirement already satisfied: pickleshare in /usr/local/lib/python3.7/dist-packages (from ipython>=4.0.0->ipykernel->notebook->pipelineprofiler) (0.7.5)\n",
            "Requirement already satisfied: setuptools>=18.5 in /usr/local/lib/python3.7/dist-packages (from ipython>=4.0.0->ipykernel->notebook->pipelineprofiler) (56.0.0)\n",
            "Requirement already satisfied: prompt-toolkit<2.0.0,>=1.0.4 in /usr/local/lib/python3.7/dist-packages (from ipython>=4.0.0->ipykernel->notebook->pipelineprofiler) (1.0.18)\n",
            "Requirement already satisfied: pexpect; sys_platform != \"win32\" in /usr/local/lib/python3.7/dist-packages (from ipython>=4.0.0->ipykernel->notebook->pipelineprofiler) (4.8.0)\n",
            "Requirement already satisfied: webencodings in /usr/local/lib/python3.7/dist-packages (from bleach->nbconvert->notebook->pipelineprofiler) (0.5.1)\n",
            "Requirement already satisfied: packaging in /usr/local/lib/python3.7/dist-packages (from bleach->nbconvert->notebook->pipelineprofiler) (20.9)\n",
            "Requirement already satisfied: wcwidth in /usr/local/lib/python3.7/dist-packages (from prompt-toolkit<2.0.0,>=1.0.4->ipython>=4.0.0->ipykernel->notebook->pipelineprofiler) (0.2.5)\n",
            "Requirement already satisfied: pyparsing>=2.0.2 in /usr/local/lib/python3.7/dist-packages (from packaging->bleach->nbconvert->notebook->pipelineprofiler) (2.4.7)\n",
            "Installing collected packages: pipelineprofiler\n",
            "Successfully installed pipelineprofiler-0.1.17\n"
          ],
          "name": "stdout"
        }
      ]
    },
    {
      "cell_type": "code",
      "metadata": {
        "colab": {
          "base_uri": "https://localhost:8080/"
        },
        "id": "YrZvaxvMn0BT",
        "outputId": "5d5bdf48-ad29-4431-cd8e-332f0a304afd"
      },
      "source": [
        "!pip uninstall scikit-learn"
      ],
      "execution_count": null,
      "outputs": [
        {
          "output_type": "stream",
          "text": [
            "Uninstalling scikit-learn-0.24.2:\n",
            "  Would remove:\n",
            "    /usr/local/lib/python3.7/dist-packages/scikit_learn-0.24.2.dist-info/*\n",
            "    /usr/local/lib/python3.7/dist-packages/scikit_learn.libs/libgomp-f7e03b3e.so.1.0.0\n",
            "    /usr/local/lib/python3.7/dist-packages/sklearn/*\n",
            "Proceed (y/n)? y\n",
            "  Successfully uninstalled scikit-learn-0.24.2\n"
          ],
          "name": "stdout"
        }
      ]
    },
    {
      "cell_type": "code",
      "metadata": {
        "colab": {
          "base_uri": "https://localhost:8080/",
          "height": 748
        },
        "id": "3tkqdUaQsjOo",
        "outputId": "78a13663-fc6f-482d-e367-62f425a89bf6"
      },
      "source": [
        "!pip install auto-sklearn"
      ],
      "execution_count": null,
      "outputs": [
        {
          "output_type": "stream",
          "text": [
            "Requirement already satisfied: auto-sklearn in /usr/local/lib/python3.7/dist-packages (0.12.6)\n",
            "Requirement already satisfied: liac-arff in /usr/local/lib/python3.7/dist-packages (from auto-sklearn) (2.5.0)\n",
            "Requirement already satisfied: numpy>=1.9.0 in /usr/local/lib/python3.7/dist-packages (from auto-sklearn) (1.19.5)\n",
            "Requirement already satisfied: distributed>=2.2.0 in /usr/local/lib/python3.7/dist-packages (from auto-sklearn) (2021.4.1)\n",
            "Requirement already satisfied: pyrfr<0.9,>=0.8.1 in /usr/local/lib/python3.7/dist-packages (from auto-sklearn) (0.8.2)\n",
            "Requirement already satisfied: joblib in /usr/local/lib/python3.7/dist-packages (from auto-sklearn) (1.0.1)\n",
            "Requirement already satisfied: dask in /usr/local/lib/python3.7/dist-packages (from auto-sklearn) (2021.4.1)\n",
            "Requirement already satisfied: setuptools in /usr/local/lib/python3.7/dist-packages (from auto-sklearn) (56.0.0)\n",
            "Requirement already satisfied: ConfigSpace<0.5,>=0.4.14 in /usr/local/lib/python3.7/dist-packages (from auto-sklearn) (0.4.18)\n",
            "Requirement already satisfied: scipy>=0.14.1 in /usr/local/lib/python3.7/dist-packages (from auto-sklearn) (1.4.1)\n",
            "Requirement already satisfied: pynisher>=0.6.3 in /usr/local/lib/python3.7/dist-packages (from auto-sklearn) (0.6.4)\n",
            "Requirement already satisfied: smac<0.14,>=0.13.1 in /usr/local/lib/python3.7/dist-packages (from auto-sklearn) (0.13.1)\n",
            "Collecting scikit-learn<0.25.0,>=0.24.0\n",
            "  Using cached https://files.pythonhosted.org/packages/a8/eb/a48f25c967526b66d5f1fa7a984594f0bf0a5afafa94a8c4dbc317744620/scikit_learn-0.24.2-cp37-cp37m-manylinux2010_x86_64.whl\n",
            "Requirement already satisfied: pyyaml in /usr/local/lib/python3.7/dist-packages (from auto-sklearn) (3.13)\n",
            "Requirement already satisfied: pandas>=1.0 in /usr/local/lib/python3.7/dist-packages (from auto-sklearn) (1.1.5)\n",
            "Requirement already satisfied: psutil>=5.0 in /usr/local/lib/python3.7/dist-packages (from distributed>=2.2.0->auto-sklearn) (5.4.8)\n",
            "Requirement already satisfied: tblib>=1.6.0 in /usr/local/lib/python3.7/dist-packages (from distributed>=2.2.0->auto-sklearn) (1.7.0)\n",
            "Requirement already satisfied: zict>=0.1.3 in /usr/local/lib/python3.7/dist-packages (from distributed>=2.2.0->auto-sklearn) (2.0.0)\n",
            "Requirement already satisfied: msgpack>=0.6.0 in /usr/local/lib/python3.7/dist-packages (from distributed>=2.2.0->auto-sklearn) (1.0.2)\n",
            "Requirement already satisfied: toolz>=0.8.2 in /usr/local/lib/python3.7/dist-packages (from distributed>=2.2.0->auto-sklearn) (0.11.1)\n",
            "Requirement already satisfied: click>=6.6 in /usr/local/lib/python3.7/dist-packages (from distributed>=2.2.0->auto-sklearn) (7.1.2)\n",
            "Requirement already satisfied: tornado>=5; python_version < \"3.8\" in /usr/local/lib/python3.7/dist-packages (from distributed>=2.2.0->auto-sklearn) (5.1.1)\n",
            "Requirement already satisfied: cloudpickle>=1.5.0 in /usr/local/lib/python3.7/dist-packages (from distributed>=2.2.0->auto-sklearn) (1.6.0)\n",
            "Requirement already satisfied: sortedcontainers!=2.0.0,!=2.0.1 in /usr/local/lib/python3.7/dist-packages (from distributed>=2.2.0->auto-sklearn) (2.3.0)\n",
            "Requirement already satisfied: fsspec>=0.6.0 in /usr/local/lib/python3.7/dist-packages (from dask->auto-sklearn) (2021.4.0)\n",
            "Requirement already satisfied: partd>=0.3.10 in /usr/local/lib/python3.7/dist-packages (from dask->auto-sklearn) (1.2.0)\n",
            "Requirement already satisfied: cython in /usr/local/lib/python3.7/dist-packages (from ConfigSpace<0.5,>=0.4.14->auto-sklearn) (0.29.22)\n",
            "Requirement already satisfied: pyparsing in /usr/local/lib/python3.7/dist-packages (from ConfigSpace<0.5,>=0.4.14->auto-sklearn) (2.4.7)\n",
            "Requirement already satisfied: lazy-import in /usr/local/lib/python3.7/dist-packages (from smac<0.14,>=0.13.1->auto-sklearn) (0.2.2)\n",
            "Requirement already satisfied: threadpoolctl>=2.0.0 in /usr/local/lib/python3.7/dist-packages (from scikit-learn<0.25.0,>=0.24.0->auto-sklearn) (2.1.0)\n",
            "Requirement already satisfied: python-dateutil>=2.7.3 in /usr/local/lib/python3.7/dist-packages (from pandas>=1.0->auto-sklearn) (2.8.1)\n",
            "Requirement already satisfied: pytz>=2017.2 in /usr/local/lib/python3.7/dist-packages (from pandas>=1.0->auto-sklearn) (2018.9)\n",
            "Requirement already satisfied: heapdict in /usr/local/lib/python3.7/dist-packages (from zict>=0.1.3->distributed>=2.2.0->auto-sklearn) (1.0.1)\n",
            "Requirement already satisfied: locket in /usr/local/lib/python3.7/dist-packages (from partd>=0.3.10->dask->auto-sklearn) (0.2.1)\n",
            "Requirement already satisfied: six in /usr/local/lib/python3.7/dist-packages (from lazy-import->smac<0.14,>=0.13.1->auto-sklearn) (1.15.0)\n",
            "Installing collected packages: scikit-learn\n",
            "Successfully installed scikit-learn-0.24.2\n"
          ],
          "name": "stdout"
        },
        {
          "output_type": "display_data",
          "data": {
            "application/vnd.colab-display-data+json": {
              "pip_warning": {
                "packages": [
                  "sklearn"
                ]
              }
            }
          },
          "metadata": {
            "tags": []
          }
        }
      ]
    },
    {
      "cell_type": "code",
      "metadata": {
        "colab": {
          "base_uri": "https://localhost:8080/"
        },
        "id": "_SRIm53mttjW",
        "outputId": "c34787ee-fa7e-4b3e-aecd-67819a83b858"
      },
      "source": [
        "!pip install dask distributed --upgrade"
      ],
      "execution_count": null,
      "outputs": [
        {
          "output_type": "stream",
          "text": [
            "Collecting dask\n",
            "\u001b[?25l  Downloading https://files.pythonhosted.org/packages/c3/23/42159cdb5c9edac174296c9976e175742513883f0f7bc132cfc2a2480fab/dask-2021.4.1-py3-none-any.whl (952kB)\n",
            "\u001b[K     |████████████████████████████████| 952kB 20.4MB/s \n",
            "\u001b[?25hRequirement already up-to-date: distributed in /usr/local/lib/python3.7/dist-packages (2021.4.1)\n",
            "Collecting fsspec>=0.6.0\n",
            "\u001b[?25l  Downloading https://files.pythonhosted.org/packages/e9/91/2ef649137816850fa4f4c97c6f2eabb1a79bf0aa2c8ed198e387e373455e/fsspec-2021.4.0-py3-none-any.whl (108kB)\n",
            "\u001b[K     |████████████████████████████████| 112kB 50.9MB/s \n",
            "\u001b[?25hRequirement already satisfied, skipping upgrade: cloudpickle>=1.1.1 in /usr/local/lib/python3.7/dist-packages (from dask) (1.6.0)\n",
            "Requirement already satisfied, skipping upgrade: toolz>=0.8.2 in /usr/local/lib/python3.7/dist-packages (from dask) (0.11.1)\n",
            "Collecting partd>=0.3.10\n",
            "  Downloading https://files.pythonhosted.org/packages/41/94/360258a68b55f47859d72b2d0b2b3cfe0ca4fbbcb81b78812bd00ae86b7c/partd-1.2.0-py3-none-any.whl\n",
            "Requirement already satisfied, skipping upgrade: pyyaml in /usr/local/lib/python3.7/dist-packages (from dask) (3.13)\n",
            "Requirement already satisfied, skipping upgrade: tornado>=5; python_version < \"3.8\" in /usr/local/lib/python3.7/dist-packages (from distributed) (5.1.1)\n",
            "Requirement already satisfied, skipping upgrade: tblib>=1.6.0 in /usr/local/lib/python3.7/dist-packages (from distributed) (1.7.0)\n",
            "Requirement already satisfied, skipping upgrade: psutil>=5.0 in /usr/local/lib/python3.7/dist-packages (from distributed) (5.4.8)\n",
            "Requirement already satisfied, skipping upgrade: zict>=0.1.3 in /usr/local/lib/python3.7/dist-packages (from distributed) (2.0.0)\n",
            "Requirement already satisfied, skipping upgrade: msgpack>=0.6.0 in /usr/local/lib/python3.7/dist-packages (from distributed) (1.0.2)\n",
            "Requirement already satisfied, skipping upgrade: sortedcontainers!=2.0.0,!=2.0.1 in /usr/local/lib/python3.7/dist-packages (from distributed) (2.3.0)\n",
            "Requirement already satisfied, skipping upgrade: setuptools in /usr/local/lib/python3.7/dist-packages (from distributed) (56.0.0)\n",
            "Requirement already satisfied, skipping upgrade: click>=6.6 in /usr/local/lib/python3.7/dist-packages (from distributed) (7.1.2)\n",
            "Collecting locket\n",
            "  Downloading https://files.pythonhosted.org/packages/50/b8/e789e45b9b9c2db75e9d9e6ceb022c8d1d7e49b2c085ce8c05600f90a96b/locket-0.2.1-py2.py3-none-any.whl\n",
            "Requirement already satisfied, skipping upgrade: heapdict in /usr/local/lib/python3.7/dist-packages (from zict>=0.1.3->distributed) (1.0.1)\n",
            "Installing collected packages: fsspec, locket, partd, dask\n",
            "  Found existing installation: dask 2.12.0\n",
            "    Uninstalling dask-2.12.0:\n",
            "      Successfully uninstalled dask-2.12.0\n",
            "Successfully installed dask-2021.4.1 fsspec-2021.4.0 locket-0.2.1 partd-1.2.0\n"
          ],
          "name": "stdout"
        }
      ]
    },
    {
      "cell_type": "markdown",
      "metadata": {
        "id": "7TNIZJ6c5hcF"
      },
      "source": [
        "# Preprocessing Section"
      ]
    },
    {
      "cell_type": "code",
      "metadata": {
        "id": "njEYGcZQ42t-"
      },
      "source": [
        "# Import the necessary modules for cleaning\n",
        "import math\n",
        "import time \n",
        "import pandas as pd\n",
        "import numpy as np\n",
        "from nltk.stem import WordNetLemmatizer\n",
        "from nltk.tokenize import word_tokenize \n",
        "from sklearn.utils import shuffle\n",
        "from sklearn.linear_model import LogisticRegression\n",
        "from xgboost import XGBClassifier\n",
        "from sklearn.metrics import accuracy_score"
      ],
      "execution_count": null,
      "outputs": []
    },
    {
      "cell_type": "code",
      "metadata": {
        "colab": {
          "base_uri": "https://localhost:8080/"
        },
        "id": "93NNPX-A5srS",
        "outputId": "6049bcee-5ee5-432f-893f-aa16606d407c"
      },
      "source": [
        "# Download the necessary parts for the NLTK module\n",
        "import nltk\n",
        "nltk.download('punkt')\n",
        "nltk.download('wordnet')"
      ],
      "execution_count": null,
      "outputs": [
        {
          "output_type": "stream",
          "text": [
            "[nltk_data] Downloading package punkt to /root/nltk_data...\n",
            "[nltk_data]   Package punkt is already up-to-date!\n",
            "[nltk_data] Downloading package wordnet to /root/nltk_data...\n",
            "[nltk_data]   Package wordnet is already up-to-date!\n"
          ],
          "name": "stdout"
        },
        {
          "output_type": "execute_result",
          "data": {
            "text/plain": [
              "True"
            ]
          },
          "metadata": {
            "tags": []
          },
          "execution_count": 2
        }
      ]
    },
    {
      "cell_type": "markdown",
      "metadata": {
        "id": "-EDB7HY7C0QB"
      },
      "source": [
        "# Create model"
      ]
    },
    {
      "cell_type": "code",
      "metadata": {
        "id": "97TWUpFhsoR_",
        "colab": {
          "base_uri": "https://localhost:8080/"
        },
        "outputId": "288d14c0-eda8-4192-d9fc-d7dd0fed9db0"
      },
      "source": [
        "import pandas as pd\n",
        "import numpy as np\n",
        "import PipelineProfiler\n",
        "from sklearn.model_selection import train_test_split\n",
        "from sklearn.metrics import accuracy_score\n",
        "from autosklearn.classification import AutoSklearnClassifier"
      ],
      "execution_count": null,
      "outputs": [
        {
          "output_type": "stream",
          "text": [
            "/usr/local/lib/python3.7/dist-packages/pyparsing.py:3190: FutureWarning: Possible set intersection at position 3\n",
            "  self.re = re.compile(self.reString)\n"
          ],
          "name": "stderr"
        }
      ]
    },
    {
      "cell_type": "code",
      "metadata": {
        "id": "wkvzQ5Dpn3rV"
      },
      "source": [
        "from sklearn.feature_extraction.text import CountVectorizer\n",
        "from sklearn.feature_extraction.text import TfidfVectorizer\n",
        "\n",
        "# A dense numpy array of the sparse matrix outputted can be made by using:\n",
        "# X_train.toarray()\n",
        "def create_data(num, process):  \n",
        "  imdb_df = pd.read_csv(\"/content/drive/MyDrive/CIT/FYP/ImplementationFiles/IMDB_Dataset.csv\")\n",
        "\n",
        "  # the next step is to randomize the rows of the data\n",
        "  imdb_df = imdb_df.sample(frac=1).reset_index(drop=True)\n",
        "\n",
        "  imdb_df['sentiment'] = imdb_df['sentiment'].map({'negative' : 0, 'positive' : 1})\n",
        "\n",
        "  features = imdb_df.review.values[0:num]\n",
        "  labels = imdb_df.sentiment.values[0:num]\n",
        "\n",
        "  no_samples = 0.8\n",
        "\n",
        "  # This gets the percentage of indexes from feature vector and uses those for training\n",
        "  train_txt = features[0:int(no_samples*len(features))]\n",
        "  y_train = labels[0:int(no_samples*len(labels))]\n",
        "\n",
        "  # Go from the index that was used for training to the final\n",
        "  test_txt = features[int(no_samples*len(features)):len(features)]\n",
        "  y_test = labels[int(no_samples*len(labels)):len(labels)]\n",
        "\n",
        "  # This cell has the sk learn functions\n",
        "  # Allows you to choose which function you want to use\n",
        "  if process == 0:\n",
        "    ctv = CountVectorizer(tokenizer=word_tokenize, token_pattern=None)\n",
        "\n",
        "    ctv.fit(features)\n",
        "\n",
        "    X_train_sparse = ctv.transform(train_txt)\n",
        "    X_test_sparse = ctv.transform(test_txt)\n",
        "\n",
        "  else:\n",
        "    tfv = TfidfVectorizer(tokenizer=word_tokenize, token_pattern=None)\n",
        "\n",
        "    tfv.fit(features)\n",
        "\n",
        "    X_train_sparse = tfv.transform(train_txt)\n",
        "    X_test_sparse = tfv.transform(test_txt)\n",
        "\n",
        "  # Converting to numpy arrays for more generic format\n",
        "  X_train = X_train_sparse.toarray()\n",
        "  X_test = X_test_sparse.toarray()\n",
        "\n",
        "  return X_train, y_train, X_test, y_test"
      ],
      "execution_count": null,
      "outputs": []
    },
    {
      "cell_type": "code",
      "metadata": {
        "id": "mit4Y_lispoo"
      },
      "source": [
        "# Prepare the data\n",
        "X_train, y_train, X_test, y_test = create_data(500, 1)"
      ],
      "execution_count": null,
      "outputs": []
    },
    {
      "cell_type": "markdown",
      "metadata": {
        "id": "RPpzZKU4HPIQ"
      },
      "source": [
        "# AutoSklearn parameters:\n",
        "https://automl.github.io/auto-sklearn/master/_modules/autosklearn/estimators.html\n",
        "\n",
        "# Useful links\n",
        "\n",
        "https://github.com/srivatsan88/YouTubeLI/blob/master/AutoSklearn.ipynb\n",
        "\n",
        "https://www.youtube.com/watch?v=SMUNVfbr3Mc\n",
        "\n",
        "https://automl.github.io/auto-sklearn/master/examples/20_basic/example_classification.html\n",
        "\n",
        "\n",
        "# List of classificaiton estimators:\n",
        "https://github.com/automl/auto-sklearn/tree/master/autosklearn/pipeline/components/classification"
      ]
    },
    {
      "cell_type": "markdown",
      "metadata": {
        "id": "IVqmAEO__T1S"
      },
      "source": [
        "Results:\n",
        "\n",
        "\n",
        "---\n",
        "\n",
        "Time for task = 3600\n",
        "\n",
        "Per run time = 3600\n",
        "\n",
        "accuracy                           0.81\n",
        "\n",
        "\n",
        "---\n",
        "\n",
        "Time for task = 3600\n",
        "\n",
        "Per run time = 1800\n",
        "\n",
        "accuracy                           0.72\n",
        "\n",
        "---\n",
        "\n",
        "Time for task = 3600\n",
        "\n",
        "Per run time = 1200\n",
        "\n",
        "accuracy                           \n",
        "\n",
        "---\n",
        "\n"
      ]
    },
    {
      "cell_type": "code",
      "metadata": {
        "colab": {
          "base_uri": "https://localhost:8080/"
        },
        "id": "V10rGi5atuMm",
        "outputId": "4c004c09-29d5-4c4f-8b3a-a4955ea12576"
      },
      "source": [
        "# This takes less than 10 seconds to run. Need to increase time parameters\n",
        "# This will set it to run for 1 hour and only spend 6 minutes on each model\n",
        "# n_jobs=X is a parameter that sets up multithreading\n",
        "model = AutoSklearnClassifier(time_left_for_this_task=3600, per_run_time_limit=3600, \n",
        "                              include_estimators=[\"gradient_boosting\", \"sgd\"], exclude_estimators=None, \n",
        "                              include_preprocessors=[\"no_preprocessing\"], exclude_preprocessors=None)\n",
        "\n",
        "# model = AutoSklearnClassifier(time_left_for_this_task=3600, per_run_time_limit=1200, \n",
        "#                               include_estimators=[\"gradient_boosting\", \"sgd\"], exclude_estimators=None, \n",
        "#                               include_preprocessors=[\"no_preprocessing\"], exclude_preprocessors=None)\n",
        "print(\"Finished defining model\")"
      ],
      "execution_count": null,
      "outputs": [
        {
          "output_type": "stream",
          "text": [
            "Finished defining model\n"
          ],
          "name": "stdout"
        }
      ]
    },
    {
      "cell_type": "code",
      "metadata": {
        "colab": {
          "base_uri": "https://localhost:8080/"
        },
        "id": "8vQu2_U7tyaS",
        "outputId": "0ab14b7c-b0c1-4da4-ad71-2845992f377d"
      },
      "source": [
        "model.fit(X_train, y_train)\n",
        "print(\"Finished Fitting model\")"
      ],
      "execution_count": null,
      "outputs": [
        {
          "output_type": "stream",
          "text": [
            "[WARNING] [2021-04-29 11:21:21,758:Client-AutoML(1):05edd69c-a8dd-11eb-827b-0242ac1c0002] Time limit for a single run is higher than total time limit. Capping the limit for a single run to the total time given to SMAC (3599.459863)\n",
            "[WARNING] [2021-04-29 11:21:21,758:Client-AutoML(1):05edd69c-a8dd-11eb-827b-0242ac1c0002] Capping the per_run_time_limit to 1799.0 to have time for a least 2 models in each process.\n",
            "[WARNING] [2021-04-29 11:21:28,796:Client-AutoMLSMBO(1)::05edd69c-a8dd-11eb-827b-0242ac1c0002] Configuration 363 not found\n",
            "[WARNING] [2021-04-29 11:21:28,797:Client-AutoMLSMBO(1)::05edd69c-a8dd-11eb-827b-0242ac1c0002] Configuration 199 not found\n",
            "[WARNING] [2021-04-29 11:21:28,797:Client-AutoMLSMBO(1)::05edd69c-a8dd-11eb-827b-0242ac1c0002] Configuration 548 not found\n",
            "[WARNING] [2021-04-29 11:21:28,797:Client-AutoMLSMBO(1)::05edd69c-a8dd-11eb-827b-0242ac1c0002] Configuration 596 not found\n",
            "[WARNING] [2021-04-29 11:21:28,797:Client-AutoMLSMBO(1)::05edd69c-a8dd-11eb-827b-0242ac1c0002] Configuration 317 not found\n",
            "[WARNING] [2021-04-29 11:21:28,797:Client-AutoMLSMBO(1)::05edd69c-a8dd-11eb-827b-0242ac1c0002] Configuration 304 not found\n",
            "[WARNING] [2021-04-29 11:21:28,797:Client-AutoMLSMBO(1)::05edd69c-a8dd-11eb-827b-0242ac1c0002] Configuration 503 not found\n",
            "[WARNING] [2021-04-29 11:21:28,797:Client-AutoMLSMBO(1)::05edd69c-a8dd-11eb-827b-0242ac1c0002] Configuration 120 not found\n",
            "[WARNING] [2021-04-29 11:21:28,798:Client-AutoMLSMBO(1)::05edd69c-a8dd-11eb-827b-0242ac1c0002] Configuration 546 not found\n",
            "[WARNING] [2021-04-29 11:21:28,798:Client-AutoMLSMBO(1)::05edd69c-a8dd-11eb-827b-0242ac1c0002] Configuration 536 not found\n",
            "[WARNING] [2021-04-29 11:21:28,798:Client-AutoMLSMBO(1)::05edd69c-a8dd-11eb-827b-0242ac1c0002] Configuration 640 not found\n",
            "[WARNING] [2021-04-29 11:21:28,800:Client-AutoMLSMBO(1)::05edd69c-a8dd-11eb-827b-0242ac1c0002] Configuration 393 not found\n",
            "[WARNING] [2021-04-29 11:21:28,800:Client-AutoMLSMBO(1)::05edd69c-a8dd-11eb-827b-0242ac1c0002] Configuration 32 not found\n",
            "[WARNING] [2021-04-29 11:21:28,800:Client-AutoMLSMBO(1)::05edd69c-a8dd-11eb-827b-0242ac1c0002] Configuration 452 not found\n",
            "[WARNING] [2021-04-29 11:21:28,800:Client-AutoMLSMBO(1)::05edd69c-a8dd-11eb-827b-0242ac1c0002] Configuration 440 not found\n",
            "[WARNING] [2021-04-29 11:21:28,800:Client-AutoMLSMBO(1)::05edd69c-a8dd-11eb-827b-0242ac1c0002] Configuration 476 not found\n",
            "[WARNING] [2021-04-29 11:21:28,800:Client-AutoMLSMBO(1)::05edd69c-a8dd-11eb-827b-0242ac1c0002] Configuration 9 not found\n",
            "[WARNING] [2021-04-29 11:21:28,800:Client-AutoMLSMBO(1)::05edd69c-a8dd-11eb-827b-0242ac1c0002] Configuration 81 not found\n",
            "[WARNING] [2021-04-29 11:21:28,800:Client-AutoMLSMBO(1)::05edd69c-a8dd-11eb-827b-0242ac1c0002] Configuration 407 not found\n",
            "[WARNING] [2021-04-29 11:21:28,800:Client-AutoMLSMBO(1)::05edd69c-a8dd-11eb-827b-0242ac1c0002] Configuration 687 not found\n",
            "[WARNING] [2021-04-29 11:21:28,800:Client-AutoMLSMBO(1)::05edd69c-a8dd-11eb-827b-0242ac1c0002] Configuration 332 not found\n",
            "[WARNING] [2021-04-29 11:21:28,800:Client-AutoMLSMBO(1)::05edd69c-a8dd-11eb-827b-0242ac1c0002] Configuration 61 not found\n",
            "[WARNING] [2021-04-29 11:21:28,800:Client-AutoMLSMBO(1)::05edd69c-a8dd-11eb-827b-0242ac1c0002] Configuration 176 not found\n",
            "[WARNING] [2021-04-29 11:21:28,800:Client-AutoMLSMBO(1)::05edd69c-a8dd-11eb-827b-0242ac1c0002] Configuration 663 not found\n",
            "[WARNING] [2021-04-29 11:21:28,801:Client-AutoMLSMBO(1)::05edd69c-a8dd-11eb-827b-0242ac1c0002] Configuration 145 not found\n",
            "[WARNING] [2021-04-29 11:21:28,801:Client-AutoMLSMBO(1)::05edd69c-a8dd-11eb-827b-0242ac1c0002] Configuration 257 not found\n",
            "[WARNING] [2021-04-29 11:21:28,801:Client-AutoMLSMBO(1)::05edd69c-a8dd-11eb-827b-0242ac1c0002] Configuration 184 not found\n",
            "[WARNING] [2021-04-29 11:21:28,801:Client-AutoMLSMBO(1)::05edd69c-a8dd-11eb-827b-0242ac1c0002] Configuration 566 not found\n",
            "[WARNING] [2021-04-29 11:21:28,801:Client-AutoMLSMBO(1)::05edd69c-a8dd-11eb-827b-0242ac1c0002] Configuration 690 not found\n",
            "[WARNING] [2021-04-29 11:21:28,801:Client-AutoMLSMBO(1)::05edd69c-a8dd-11eb-827b-0242ac1c0002] Configuration 601 not found\n",
            "[WARNING] [2021-04-29 11:21:28,801:Client-AutoMLSMBO(1)::05edd69c-a8dd-11eb-827b-0242ac1c0002] Configuration 585 not found\n",
            "[WARNING] [2021-04-29 11:21:28,801:Client-AutoMLSMBO(1)::05edd69c-a8dd-11eb-827b-0242ac1c0002] Configuration 460 not found\n",
            "[WARNING] [2021-04-29 11:21:28,801:Client-AutoMLSMBO(1)::05edd69c-a8dd-11eb-827b-0242ac1c0002] Configuration 473 not found\n",
            "[WARNING] [2021-04-29 11:21:28,801:Client-AutoMLSMBO(1)::05edd69c-a8dd-11eb-827b-0242ac1c0002] Configuration 560 not found\n",
            "[WARNING] [2021-04-29 11:21:28,801:Client-AutoMLSMBO(1)::05edd69c-a8dd-11eb-827b-0242ac1c0002] Configuration 230 not found\n",
            "[WARNING] [2021-04-29 11:21:28,806:Client-AutoMLSMBO(1)::05edd69c-a8dd-11eb-827b-0242ac1c0002] Configuration 211 not found\n",
            "[WARNING] [2021-04-29 11:21:28,806:Client-AutoMLSMBO(1)::05edd69c-a8dd-11eb-827b-0242ac1c0002] Configuration 220 not found\n",
            "[WARNING] [2021-04-29 11:21:28,806:Client-AutoMLSMBO(1)::05edd69c-a8dd-11eb-827b-0242ac1c0002] Configuration 329 not found\n",
            "[WARNING] [2021-04-29 11:21:28,806:Client-AutoMLSMBO(1)::05edd69c-a8dd-11eb-827b-0242ac1c0002] Configuration 162 not found\n",
            "[WARNING] [2021-04-29 11:21:28,806:Client-AutoMLSMBO(1)::05edd69c-a8dd-11eb-827b-0242ac1c0002] Configuration 345 not found\n",
            "[WARNING] [2021-04-29 11:21:28,806:Client-AutoMLSMBO(1)::05edd69c-a8dd-11eb-827b-0242ac1c0002] Configuration 399 not found\n",
            "[WARNING] [2021-04-29 11:21:28,806:Client-AutoMLSMBO(1)::05edd69c-a8dd-11eb-827b-0242ac1c0002] Configuration 149 not found\n",
            "[WARNING] [2021-04-29 11:21:28,806:Client-AutoMLSMBO(1)::05edd69c-a8dd-11eb-827b-0242ac1c0002] Configuration 222 not found\n",
            "[WARNING] [2021-04-29 11:21:28,806:Client-AutoMLSMBO(1)::05edd69c-a8dd-11eb-827b-0242ac1c0002] Configuration 358 not found\n",
            "[WARNING] [2021-04-29 11:21:28,806:Client-AutoMLSMBO(1)::05edd69c-a8dd-11eb-827b-0242ac1c0002] Configuration 188 not found\n",
            "[WARNING] [2021-04-29 11:21:28,806:Client-AutoMLSMBO(1)::05edd69c-a8dd-11eb-827b-0242ac1c0002] Configuration 506 not found\n",
            "[WARNING] [2021-04-29 11:21:28,806:Client-AutoMLSMBO(1)::05edd69c-a8dd-11eb-827b-0242ac1c0002] Configuration 138 not found\n",
            "[WARNING] [2021-04-29 11:21:28,806:Client-AutoMLSMBO(1)::05edd69c-a8dd-11eb-827b-0242ac1c0002] Configuration 590 not found\n",
            "[WARNING] [2021-04-29 11:21:28,806:Client-AutoMLSMBO(1)::05edd69c-a8dd-11eb-827b-0242ac1c0002] Configuration 492 not found\n",
            "[WARNING] [2021-04-29 11:21:28,807:Client-AutoMLSMBO(1)::05edd69c-a8dd-11eb-827b-0242ac1c0002] Configuration 327 not found\n",
            "[WARNING] [2021-04-29 11:21:28,807:Client-AutoMLSMBO(1)::05edd69c-a8dd-11eb-827b-0242ac1c0002] Configuration 147 not found\n",
            "[WARNING] [2021-04-29 11:21:28,807:Client-AutoMLSMBO(1)::05edd69c-a8dd-11eb-827b-0242ac1c0002] Configuration 532 not found\n",
            "[WARNING] [2021-04-29 11:21:28,807:Client-AutoMLSMBO(1)::05edd69c-a8dd-11eb-827b-0242ac1c0002] Configuration 22 not found\n",
            "[WARNING] [2021-04-29 11:21:28,807:Client-AutoMLSMBO(1)::05edd69c-a8dd-11eb-827b-0242ac1c0002] Configuration 91 not found\n",
            "[WARNING] [2021-04-29 11:21:28,807:Client-AutoMLSMBO(1)::05edd69c-a8dd-11eb-827b-0242ac1c0002] Configuration 631 not found\n",
            "[WARNING] [2021-04-29 11:21:28,807:Client-AutoMLSMBO(1)::05edd69c-a8dd-11eb-827b-0242ac1c0002] Configuration 702 not found\n",
            "[WARNING] [2021-04-29 11:21:28,808:Client-AutoMLSMBO(1)::05edd69c-a8dd-11eb-827b-0242ac1c0002] Configuration 254 not found\n",
            "[WARNING] [2021-04-29 11:21:28,808:Client-AutoMLSMBO(1)::05edd69c-a8dd-11eb-827b-0242ac1c0002] Configuration 454 not found\n",
            "[WARNING] [2021-04-29 11:21:28,808:Client-AutoMLSMBO(1)::05edd69c-a8dd-11eb-827b-0242ac1c0002] Configuration 1 not found\n",
            "[WARNING] [2021-04-29 11:21:28,808:Client-AutoMLSMBO(1)::05edd69c-a8dd-11eb-827b-0242ac1c0002] Configuration 467 not found\n",
            "[WARNING] [2021-04-29 11:21:28,808:Client-AutoMLSMBO(1)::05edd69c-a8dd-11eb-827b-0242ac1c0002] Configuration 238 not found\n",
            "[WARNING] [2021-04-29 11:21:28,808:Client-AutoMLSMBO(1)::05edd69c-a8dd-11eb-827b-0242ac1c0002] Configuration 347 not found\n",
            "[WARNING] [2021-04-29 11:21:28,808:Client-AutoMLSMBO(1)::05edd69c-a8dd-11eb-827b-0242ac1c0002] Configuration 7 not found\n",
            "[WARNING] [2021-04-29 11:21:28,808:Client-AutoMLSMBO(1)::05edd69c-a8dd-11eb-827b-0242ac1c0002] Configuration 183 not found\n",
            "[WARNING] [2021-04-29 11:21:28,808:Client-AutoMLSMBO(1)::05edd69c-a8dd-11eb-827b-0242ac1c0002] Configuration 579 not found\n",
            "[WARNING] [2021-04-29 11:21:28,808:Client-AutoMLSMBO(1)::05edd69c-a8dd-11eb-827b-0242ac1c0002] Configuration 108 not found\n",
            "[WARNING] [2021-04-29 11:21:28,808:Client-AutoMLSMBO(1)::05edd69c-a8dd-11eb-827b-0242ac1c0002] Configuration 67 not found\n",
            "[WARNING] [2021-04-29 11:21:28,808:Client-AutoMLSMBO(1)::05edd69c-a8dd-11eb-827b-0242ac1c0002] Configuration 315 not found\n",
            "[WARNING] [2021-04-29 11:21:28,808:Client-AutoMLSMBO(1)::05edd69c-a8dd-11eb-827b-0242ac1c0002] Configuration 227 not found\n",
            "[WARNING] [2021-04-29 11:21:28,808:Client-AutoMLSMBO(1)::05edd69c-a8dd-11eb-827b-0242ac1c0002] Configuration 657 not found\n",
            "[WARNING] [2021-04-29 11:21:28,808:Client-AutoMLSMBO(1)::05edd69c-a8dd-11eb-827b-0242ac1c0002] Configuration 480 not found\n",
            "[WARNING] [2021-04-29 11:21:28,808:Client-AutoMLSMBO(1)::05edd69c-a8dd-11eb-827b-0242ac1c0002] Configuration 386 not found\n",
            "[WARNING] [2021-04-29 11:21:28,808:Client-AutoMLSMBO(1)::05edd69c-a8dd-11eb-827b-0242ac1c0002] Configuration 576 not found\n",
            "[WARNING] [2021-04-29 11:21:28,808:Client-AutoMLSMBO(1)::05edd69c-a8dd-11eb-827b-0242ac1c0002] Configuration 674 not found\n",
            "[WARNING] [2021-04-29 11:21:28,809:Client-AutoMLSMBO(1)::05edd69c-a8dd-11eb-827b-0242ac1c0002] Configuration 518 not found\n",
            "[WARNING] [2021-04-29 11:21:28,809:Client-AutoMLSMBO(1)::05edd69c-a8dd-11eb-827b-0242ac1c0002] Configuration 624 not found\n",
            "[WARNING] [2021-04-29 11:21:28,809:Client-AutoMLSMBO(1)::05edd69c-a8dd-11eb-827b-0242ac1c0002] Configuration 191 not found\n",
            "[WARNING] [2021-04-29 11:21:28,809:Client-AutoMLSMBO(1)::05edd69c-a8dd-11eb-827b-0242ac1c0002] Configuration 444 not found\n",
            "[WARNING] [2021-04-29 11:21:28,809:Client-AutoMLSMBO(1)::05edd69c-a8dd-11eb-827b-0242ac1c0002] Configuration 206 not found\n",
            "[WARNING] [2021-04-29 11:21:28,809:Client-AutoMLSMBO(1)::05edd69c-a8dd-11eb-827b-0242ac1c0002] Configuration 283 not found\n",
            "[WARNING] [2021-04-29 11:21:28,809:Client-AutoMLSMBO(1)::05edd69c-a8dd-11eb-827b-0242ac1c0002] Configuration 521 not found\n",
            "[WARNING] [2021-04-29 11:21:28,809:Client-AutoMLSMBO(1)::05edd69c-a8dd-11eb-827b-0242ac1c0002] Configuration 680 not found\n",
            "[WARNING] [2021-04-29 11:21:28,809:Client-AutoMLSMBO(1)::05edd69c-a8dd-11eb-827b-0242ac1c0002] Configuration 71 not found\n",
            "[WARNING] [2021-04-29 11:21:28,809:Client-AutoMLSMBO(1)::05edd69c-a8dd-11eb-827b-0242ac1c0002] Configuration 563 not found\n",
            "[WARNING] [2021-04-29 11:21:28,809:Client-AutoMLSMBO(1)::05edd69c-a8dd-11eb-827b-0242ac1c0002] Configuration 701 not found\n",
            "[WARNING] [2021-04-29 11:21:28,809:Client-AutoMLSMBO(1)::05edd69c-a8dd-11eb-827b-0242ac1c0002] Configuration 282 not found\n",
            "[WARNING] [2021-04-29 11:21:28,809:Client-AutoMLSMBO(1)::05edd69c-a8dd-11eb-827b-0242ac1c0002] Configuration 28 not found\n",
            "[WARNING] [2021-04-29 11:21:28,809:Client-AutoMLSMBO(1)::05edd69c-a8dd-11eb-827b-0242ac1c0002] Configuration 388 not found\n",
            "[WARNING] [2021-04-29 11:21:28,809:Client-AutoMLSMBO(1)::05edd69c-a8dd-11eb-827b-0242ac1c0002] Configuration 694 not found\n",
            "[WARNING] [2021-04-29 11:21:28,809:Client-AutoMLSMBO(1)::05edd69c-a8dd-11eb-827b-0242ac1c0002] Configuration 426 not found\n",
            "[WARNING] [2021-04-29 11:21:28,809:Client-AutoMLSMBO(1)::05edd69c-a8dd-11eb-827b-0242ac1c0002] Configuration 430 not found\n",
            "[WARNING] [2021-04-29 11:21:28,809:Client-AutoMLSMBO(1)::05edd69c-a8dd-11eb-827b-0242ac1c0002] Configuration 574 not found\n",
            "[WARNING] [2021-04-29 11:21:28,810:Client-AutoMLSMBO(1)::05edd69c-a8dd-11eb-827b-0242ac1c0002] Configuration 605 not found\n",
            "[WARNING] [2021-04-29 11:21:28,810:Client-AutoMLSMBO(1)::05edd69c-a8dd-11eb-827b-0242ac1c0002] Configuration 14 not found\n",
            "[WARNING] [2021-04-29 11:21:28,810:Client-AutoMLSMBO(1)::05edd69c-a8dd-11eb-827b-0242ac1c0002] Configuration 338 not found\n",
            "[WARNING] [2021-04-29 11:21:28,810:Client-AutoMLSMBO(1)::05edd69c-a8dd-11eb-827b-0242ac1c0002] Configuration 43 not found\n",
            "[WARNING] [2021-04-29 11:21:28,810:Client-AutoMLSMBO(1)::05edd69c-a8dd-11eb-827b-0242ac1c0002] Configuration 555 not found\n",
            "[WARNING] [2021-04-29 11:21:28,810:Client-AutoMLSMBO(1)::05edd69c-a8dd-11eb-827b-0242ac1c0002] Configuration 266 not found\n",
            "[WARNING] [2021-04-29 11:21:28,811:Client-AutoMLSMBO(1)::05edd69c-a8dd-11eb-827b-0242ac1c0002] Configuration 670 not found\n",
            "[WARNING] [2021-04-29 11:21:28,811:Client-AutoMLSMBO(1)::05edd69c-a8dd-11eb-827b-0242ac1c0002] Configuration 262 not found\n",
            "[WARNING] [2021-04-29 11:21:28,811:Client-AutoMLSMBO(1)::05edd69c-a8dd-11eb-827b-0242ac1c0002] Configuration 251 not found\n",
            "[WARNING] [2021-04-29 11:21:28,811:Client-AutoMLSMBO(1)::05edd69c-a8dd-11eb-827b-0242ac1c0002] Configuration 367 not found\n",
            "[WARNING] [2021-04-29 11:21:28,811:Client-AutoMLSMBO(1)::05edd69c-a8dd-11eb-827b-0242ac1c0002] Configuration 648 not found\n",
            "[WARNING] [2021-04-29 11:21:28,811:Client-AutoMLSMBO(1)::05edd69c-a8dd-11eb-827b-0242ac1c0002] Configuration 414 not found\n",
            "[WARNING] [2021-04-29 11:21:28,811:Client-AutoMLSMBO(1)::05edd69c-a8dd-11eb-827b-0242ac1c0002] Configuration 214 not found\n",
            "[WARNING] [2021-04-29 11:21:28,811:Client-AutoMLSMBO(1)::05edd69c-a8dd-11eb-827b-0242ac1c0002] Configuration 357 not found\n",
            "[WARNING] [2021-04-29 11:21:28,811:Client-AutoMLSMBO(1)::05edd69c-a8dd-11eb-827b-0242ac1c0002] Configuration 264 not found\n",
            "[WARNING] [2021-04-29 11:21:28,811:Client-AutoMLSMBO(1)::05edd69c-a8dd-11eb-827b-0242ac1c0002] Configuration 112 not found\n",
            "[WARNING] [2021-04-29 11:21:28,811:Client-AutoMLSMBO(1)::05edd69c-a8dd-11eb-827b-0242ac1c0002] Configuration 160 not found\n",
            "[WARNING] [2021-04-29 11:21:28,811:Client-AutoMLSMBO(1)::05edd69c-a8dd-11eb-827b-0242ac1c0002] Configuration 131 not found\n",
            "[WARNING] [2021-04-29 11:21:28,812:Client-AutoMLSMBO(1)::05edd69c-a8dd-11eb-827b-0242ac1c0002] Configuration 676 not found\n",
            "[WARNING] [2021-04-29 11:21:28,812:Client-AutoMLSMBO(1)::05edd69c-a8dd-11eb-827b-0242ac1c0002] Configuration 369 not found\n",
            "[WARNING] [2021-04-29 11:21:28,812:Client-AutoMLSMBO(1)::05edd69c-a8dd-11eb-827b-0242ac1c0002] Configuration 97 not found\n",
            "[WARNING] [2021-04-29 11:21:28,812:Client-AutoMLSMBO(1)::05edd69c-a8dd-11eb-827b-0242ac1c0002] Configuration 237 not found\n",
            "[WARNING] [2021-04-29 11:21:28,814:Client-AutoMLSMBO(1)::05edd69c-a8dd-11eb-827b-0242ac1c0002] Configuration 485 not found\n",
            "[WARNING] [2021-04-29 11:21:28,814:Client-AutoMLSMBO(1)::05edd69c-a8dd-11eb-827b-0242ac1c0002] Configuration 53 not found\n",
            "[WARNING] [2021-04-29 11:21:28,814:Client-AutoMLSMBO(1)::05edd69c-a8dd-11eb-827b-0242ac1c0002] Configuration 114 not found\n",
            "[WARNING] [2021-04-29 11:21:28,814:Client-AutoMLSMBO(1)::05edd69c-a8dd-11eb-827b-0242ac1c0002] Configuration 382 not found\n",
            "[WARNING] [2021-04-29 11:21:28,814:Client-AutoMLSMBO(1)::05edd69c-a8dd-11eb-827b-0242ac1c0002] Configuration 613 not found\n",
            "[WARNING] [2021-04-29 11:21:28,814:Client-AutoMLSMBO(1)::05edd69c-a8dd-11eb-827b-0242ac1c0002] Configuration 83 not found\n",
            "[WARNING] [2021-04-29 11:21:28,814:Client-AutoMLSMBO(1)::05edd69c-a8dd-11eb-827b-0242ac1c0002] Configuration 524 not found\n",
            "[WARNING] [2021-04-29 11:21:28,814:Client-AutoMLSMBO(1)::05edd69c-a8dd-11eb-827b-0242ac1c0002] Configuration 571 not found\n",
            "[WARNING] [2021-04-29 11:21:28,814:Client-AutoMLSMBO(1)::05edd69c-a8dd-11eb-827b-0242ac1c0002] Configuration 48 not found\n",
            "[WARNING] [2021-04-29 11:21:28,814:Client-AutoMLSMBO(1)::05edd69c-a8dd-11eb-827b-0242ac1c0002] Configuration 129 not found\n",
            "[WARNING] [2021-04-29 11:21:28,814:Client-AutoMLSMBO(1)::05edd69c-a8dd-11eb-827b-0242ac1c0002] Configuration 595 not found\n",
            "[WARNING] [2021-04-29 11:21:28,815:Client-AutoMLSMBO(1)::05edd69c-a8dd-11eb-827b-0242ac1c0002] Configuration 197 not found\n",
            "[WARNING] [2021-04-29 11:21:28,815:Client-AutoMLSMBO(1)::05edd69c-a8dd-11eb-827b-0242ac1c0002] Configuration 635 not found\n",
            "[WARNING] [2021-04-29 11:21:28,815:Client-AutoMLSMBO(1)::05edd69c-a8dd-11eb-827b-0242ac1c0002] Configuration 470 not found\n",
            "[WARNING] [2021-04-29 11:21:28,815:Client-AutoMLSMBO(1)::05edd69c-a8dd-11eb-827b-0242ac1c0002] Configuration 512 not found\n",
            "[WARNING] [2021-04-29 11:21:28,815:Client-AutoMLSMBO(1)::05edd69c-a8dd-11eb-827b-0242ac1c0002] Configuration 270 not found\n",
            "[WARNING] [2021-04-29 11:21:28,815:Client-AutoMLSMBO(1)::05edd69c-a8dd-11eb-827b-0242ac1c0002] Configuration 56 not found\n",
            "[WARNING] [2021-04-29 11:21:28,815:Client-AutoMLSMBO(1)::05edd69c-a8dd-11eb-827b-0242ac1c0002] Configuration 40 not found\n",
            "[WARNING] [2021-04-29 11:21:28,816:Client-AutoMLSMBO(1)::05edd69c-a8dd-11eb-827b-0242ac1c0002] Configuration 88 not found\n",
            "[WARNING] [2021-04-29 11:21:28,816:Client-AutoMLSMBO(1)::05edd69c-a8dd-11eb-827b-0242ac1c0002] Configuration 193 not found\n",
            "[WARNING] [2021-04-29 11:21:28,816:Client-AutoMLSMBO(1)::05edd69c-a8dd-11eb-827b-0242ac1c0002] Configuration 352 not found\n",
            "[WARNING] [2021-04-29 11:21:28,816:Client-AutoMLSMBO(1)::05edd69c-a8dd-11eb-827b-0242ac1c0002] Configuration 422 not found\n",
            "[WARNING] [2021-04-29 11:21:28,816:Client-AutoMLSMBO(1)::05edd69c-a8dd-11eb-827b-0242ac1c0002] Configuration 121 not found\n",
            "[WARNING] [2021-04-29 11:21:28,816:Client-AutoMLSMBO(1)::05edd69c-a8dd-11eb-827b-0242ac1c0002] Configuration 683 not found\n",
            "[WARNING] [2021-04-29 11:21:28,816:Client-AutoMLSMBO(1)::05edd69c-a8dd-11eb-827b-0242ac1c0002] Configuration 445 not found\n",
            "[WARNING] [2021-04-29 11:21:28,816:Client-AutoMLSMBO(1)::05edd69c-a8dd-11eb-827b-0242ac1c0002] Configuration 293 not found\n",
            "[WARNING] [2021-04-29 11:21:28,816:Client-AutoMLSMBO(1)::05edd69c-a8dd-11eb-827b-0242ac1c0002] Configuration 302 not found\n",
            "[WARNING] [2021-04-29 11:21:28,816:Client-AutoMLSMBO(1)::05edd69c-a8dd-11eb-827b-0242ac1c0002] Configuration 124 not found\n",
            "[WARNING] [2021-04-29 11:21:28,817:Client-AutoMLSMBO(1)::05edd69c-a8dd-11eb-827b-0242ac1c0002] Configuration 154 not found\n",
            "[WARNING] [2021-04-29 11:21:28,817:Client-AutoMLSMBO(1)::05edd69c-a8dd-11eb-827b-0242ac1c0002] Configuration 707 not found\n",
            "[WARNING] [2021-04-29 11:21:28,817:Client-AutoMLSMBO(1)::05edd69c-a8dd-11eb-827b-0242ac1c0002] Configuration 99 not found\n",
            "[WARNING] [2021-04-29 11:21:28,817:Client-AutoMLSMBO(1)::05edd69c-a8dd-11eb-827b-0242ac1c0002] Configuration 172 not found\n",
            "[WARNING] [2021-04-29 11:21:28,818:Client-AutoMLSMBO(1)::05edd69c-a8dd-11eb-827b-0242ac1c0002] Configuration 232 not found\n",
            "[WARNING] [2021-04-29 11:21:28,818:Client-AutoMLSMBO(1)::05edd69c-a8dd-11eb-827b-0242ac1c0002] Configuration 378 not found\n",
            "[WARNING] [2021-04-29 11:21:28,818:Client-AutoMLSMBO(1)::05edd69c-a8dd-11eb-827b-0242ac1c0002] Configuration 204 not found\n",
            "[WARNING] [2021-04-29 11:21:28,818:Client-AutoMLSMBO(1)::05edd69c-a8dd-11eb-827b-0242ac1c0002] Configuration 277 not found\n",
            "[WARNING] [2021-04-29 11:21:28,818:Client-AutoMLSMBO(1)::05edd69c-a8dd-11eb-827b-0242ac1c0002] Configuration 499 not found\n",
            "[WARNING] [2021-04-29 11:21:28,818:Client-AutoMLSMBO(1)::05edd69c-a8dd-11eb-827b-0242ac1c0002] Configuration 340 not found\n",
            "[WARNING] [2021-04-29 11:21:28,818:Client-AutoMLSMBO(1)::05edd69c-a8dd-11eb-827b-0242ac1c0002] Configuration 434 not found\n",
            "[WARNING] [2021-04-29 11:21:28,818:Client-AutoMLSMBO(1)::05edd69c-a8dd-11eb-827b-0242ac1c0002] Configuration 247 not found\n",
            "[WARNING] [2021-04-29 11:21:28,818:Client-AutoMLSMBO(1)::05edd69c-a8dd-11eb-827b-0242ac1c0002] Configuration 528 not found\n",
            "[WARNING] [2021-04-29 11:21:28,818:Client-AutoMLSMBO(1)::05edd69c-a8dd-11eb-827b-0242ac1c0002] Configuration 403 not found\n",
            "[WARNING] [2021-04-29 11:21:28,818:Client-AutoMLSMBO(1)::05edd69c-a8dd-11eb-827b-0242ac1c0002] Configuration 494 not found\n",
            "[WARNING] [2021-04-29 11:21:28,818:Client-AutoMLSMBO(1)::05edd69c-a8dd-11eb-827b-0242ac1c0002] Configuration 515 not found\n",
            "[WARNING] [2021-04-29 11:21:28,818:Client-AutoMLSMBO(1)::05edd69c-a8dd-11eb-827b-0242ac1c0002] Configuration 25 not found\n",
            "[WARNING] [2021-04-29 11:21:28,819:Client-AutoMLSMBO(1)::05edd69c-a8dd-11eb-827b-0242ac1c0002] Configuration 615 not found\n",
            "[WARNING] [2021-04-29 11:21:28,819:Client-AutoMLSMBO(1)::05edd69c-a8dd-11eb-827b-0242ac1c0002] Configuration 173 not found\n",
            "[WARNING] [2021-04-29 11:21:28,819:Client-AutoMLSMBO(1)::05edd69c-a8dd-11eb-827b-0242ac1c0002] Configuration 647 not found\n",
            "[WARNING] [2021-04-29 11:21:28,819:Client-AutoMLSMBO(1)::05edd69c-a8dd-11eb-827b-0242ac1c0002] Configuration 461 not found\n",
            "[WARNING] [2021-04-29 11:21:28,819:Client-AutoMLSMBO(1)::05edd69c-a8dd-11eb-827b-0242ac1c0002] Configuration 17 not found\n",
            "[WARNING] [2021-04-29 11:21:28,819:Client-AutoMLSMBO(1)::05edd69c-a8dd-11eb-827b-0242ac1c0002] Configuration 395 not found\n",
            "[WARNING] [2021-04-29 11:21:28,819:Client-AutoMLSMBO(1)::05edd69c-a8dd-11eb-827b-0242ac1c0002] Configuration 587 not found\n",
            "[WARNING] [2021-04-29 11:21:28,819:Client-AutoMLSMBO(1)::05edd69c-a8dd-11eb-827b-0242ac1c0002] Configuration 448 not found\n",
            "[WARNING] [2021-04-29 11:21:28,820:Client-AutoMLSMBO(1)::05edd69c-a8dd-11eb-827b-0242ac1c0002] Configuration 171 not found\n",
            "[WARNING] [2021-04-29 11:21:28,820:Client-AutoMLSMBO(1)::05edd69c-a8dd-11eb-827b-0242ac1c0002] Configuration 653 not found\n",
            "[WARNING] [2021-04-29 11:21:28,820:Client-AutoMLSMBO(1)::05edd69c-a8dd-11eb-827b-0242ac1c0002] Configuration 69 not found\n",
            "[WARNING] [2021-04-29 11:21:28,820:Client-AutoMLSMBO(1)::05edd69c-a8dd-11eb-827b-0242ac1c0002] Configuration 437 not found\n",
            "[WARNING] [2021-04-29 11:21:28,820:Client-AutoMLSMBO(1)::05edd69c-a8dd-11eb-827b-0242ac1c0002] Configuration 142 not found\n",
            "[WARNING] [2021-04-29 11:21:28,820:Client-AutoMLSMBO(1)::05edd69c-a8dd-11eb-827b-0242ac1c0002] Configuration 310 not found\n",
            "[WARNING] [2021-04-29 11:21:28,820:Client-AutoMLSMBO(1)::05edd69c-a8dd-11eb-827b-0242ac1c0002] Configuration 486 not found\n",
            "[WARNING] [2021-04-29 11:21:28,820:Client-AutoMLSMBO(1)::05edd69c-a8dd-11eb-827b-0242ac1c0002] Configuration 165 not found\n",
            "[WARNING] [2021-04-29 11:21:28,820:Client-AutoMLSMBO(1)::05edd69c-a8dd-11eb-827b-0242ac1c0002] Configuration 288 not found\n",
            "[WARNING] [2021-04-29 11:21:28,820:Client-AutoMLSMBO(1)::05edd69c-a8dd-11eb-827b-0242ac1c0002] Configuration 243 not found\n",
            "[WARNING] [2021-04-29 11:21:28,820:Client-AutoMLSMBO(1)::05edd69c-a8dd-11eb-827b-0242ac1c0002] Configuration 298 not found\n",
            "[WARNING] [2021-04-29 11:21:28,820:Client-AutoMLSMBO(1)::05edd69c-a8dd-11eb-827b-0242ac1c0002] Configuration 313 not found\n",
            "[WARNING] [2021-04-29 11:21:28,820:Client-AutoMLSMBO(1)::05edd69c-a8dd-11eb-827b-0242ac1c0002] Configuration 622 not found\n",
            "[WARNING] [2021-04-29 11:21:28,821:Client-AutoMLSMBO(1)::05edd69c-a8dd-11eb-827b-0242ac1c0002] Configuration 412 not found\n",
            "[WARNING] [2021-04-29 11:21:28,821:Client-AutoMLSMBO(1)::05edd69c-a8dd-11eb-827b-0242ac1c0002] Configuration 553 not found\n",
            "[WARNING] [2021-04-29 11:21:28,821:Client-AutoMLSMBO(1)::05edd69c-a8dd-11eb-827b-0242ac1c0002] Configuration 643 not found\n",
            "[WARNING] [2021-04-29 11:21:28,821:Client-AutoMLSMBO(1)::05edd69c-a8dd-11eb-827b-0242ac1c0002] Configuration 543 not found\n",
            "[WARNING] [2021-04-29 11:21:28,821:Client-AutoMLSMBO(1)::05edd69c-a8dd-11eb-827b-0242ac1c0002] Configuration 19 not found\n",
            "[WARNING] [2021-04-29 11:21:28,821:Client-AutoMLSMBO(1)::05edd69c-a8dd-11eb-827b-0242ac1c0002] Configuration 58 not found\n",
            "[WARNING] [2021-04-29 11:21:28,821:Client-AutoMLSMBO(1)::05edd69c-a8dd-11eb-827b-0242ac1c0002] Configuration 419 not found\n",
            "[WARNING] [2021-04-29 11:21:28,821:Client-AutoMLSMBO(1)::05edd69c-a8dd-11eb-827b-0242ac1c0002] Configuration 509 not found\n",
            "[WARNING] [2021-04-29 11:21:28,821:Client-AutoMLSMBO(1)::05edd69c-a8dd-11eb-827b-0242ac1c0002] Configuration 538 not found\n",
            "[WARNING] [2021-04-29 11:21:28,821:Client-AutoMLSMBO(1)::05edd69c-a8dd-11eb-827b-0242ac1c0002] Configuration 375 not found\n",
            "[WARNING] [2021-04-29 11:21:28,821:Client-AutoMLSMBO(1)::05edd69c-a8dd-11eb-827b-0242ac1c0002] Configuration 291 not found\n",
            "[WARNING] [2021-04-29 11:21:28,821:Client-AutoMLSMBO(1)::05edd69c-a8dd-11eb-827b-0242ac1c0002] Configuration 322 not found\n",
            "[WARNING] [2021-04-29 11:21:28,821:Client-AutoMLSMBO(1)::05edd69c-a8dd-11eb-827b-0242ac1c0002] Configuration 86 not found\n",
            "[WARNING] [2021-04-29 11:21:28,822:Client-AutoMLSMBO(1)::05edd69c-a8dd-11eb-827b-0242ac1c0002] Configuration 275 not found\n",
            "[WARNING] [2021-04-29 11:21:28,822:Client-AutoMLSMBO(1)::05edd69c-a8dd-11eb-827b-0242ac1c0002] Configuration 150 not found\n",
            "Finished Fitting model\n"
          ],
          "name": "stdout"
        }
      ]
    },
    {
      "cell_type": "markdown",
      "metadata": {
        "id": "fLdZVCEOBeE6"
      },
      "source": [
        "# Get Metrics"
      ]
    },
    {
      "cell_type": "code",
      "metadata": {
        "colab": {
          "base_uri": "https://localhost:8080/"
        },
        "id": "miK7uHenM03Q",
        "outputId": "902c8436-52a9-4ac7-c04d-64126afae2e2"
      },
      "source": [
        "# Most recent\n",
        "y_pred = model.predict(X_test)\n",
        "testing_accuracy = accuracy_score(y_test, y_pred)\n",
        "print(\"Test Accuracy score {0}\".format(testing_accuracy))"
      ],
      "execution_count": null,
      "outputs": [
        {
          "output_type": "stream",
          "text": [
            "Test Accuracy score 0.76\n"
          ],
          "name": "stdout"
        }
      ]
    },
    {
      "cell_type": "code",
      "metadata": {
        "id": "yifFfmP0oJHz",
        "colab": {
          "base_uri": "https://localhost:8080/"
        },
        "outputId": "51616ae4-b265-4908-d6eb-8e878483ee6d"
      },
      "source": [
        "print(y_pred)"
      ],
      "execution_count": null,
      "outputs": [
        {
          "output_type": "stream",
          "text": [
            "[0 0 1 0 0 0 1 0 0 1 1 0 0 1 0 0 0 1 0 0 1 1 0 0 1 1 0 0 1 1 0 0 1 1 0 0 0\n",
            " 1 0 0 0 1 0 1 1 1 1 1 0 0 1 1 1 0 0 1 0 0 1 0 0 0 0 0 1 1 1 1 0 0 1 0 0 1\n",
            " 0 0 1 0 1 1 0 0 1 0 0 0 0 0 0 0 0 0 0 1 0 1 1 1 0 0]\n"
          ],
          "name": "stdout"
        }
      ]
    },
    {
      "cell_type": "code",
      "metadata": {
        "colab": {
          "base_uri": "https://localhost:8080/"
        },
        "id": "XjUAN_nE5hOL",
        "outputId": "015b0888-e132-4327-bb24-43108a005093"
      },
      "source": [
        "from sklearn import metrics\n",
        "print(metrics.classification_report(y_test, y_pred))\n",
        "print(metrics.confusion_matrix(y_test, y_pred))"
      ],
      "execution_count": null,
      "outputs": [
        {
          "output_type": "stream",
          "text": [
            "              precision    recall  f1-score   support\n",
            "\n",
            "           0       0.80      0.82      0.81        49\n",
            "           1       0.82      0.80      0.81        51\n",
            "\n",
            "    accuracy                           0.81       100\n",
            "   macro avg       0.81      0.81      0.81       100\n",
            "weighted avg       0.81      0.81      0.81       100\n",
            "\n",
            "[[40  9]\n",
            " [10 41]]\n"
          ],
          "name": "stdout"
        }
      ]
    },
    {
      "cell_type": "code",
      "metadata": {
        "colab": {
          "base_uri": "https://localhost:8080/"
        },
        "id": "nqKKUeKhM3u5",
        "outputId": "e9122b65-fa3d-4130-80f0-3e3157be7b1a"
      },
      "source": [
        "from sklearn import metrics\n",
        "\n",
        "# paramters are y_true, y_pred\n",
        "C = metrics.confusion_matrix(y_test, y_pred)\n",
        "\n",
        "# lists for the confusion matrix\n",
        "true_positive = []\n",
        "true_negative = []\n",
        "false_postiive = []\n",
        "false_negatives = []\n",
        "\n",
        "true_positive.append(C[0,0])\n",
        "true_negative.append(C[1,1])            \n",
        "false_postiive.append(C[1,0])\n",
        "false_negatives.append(C[0,1])\n",
        "\n",
        "print(C)\n",
        "\n",
        "print((\"=\"*50))\n",
        "\n",
        "print(\"True positives:\", round(np.sum(true_positive)/len(y_test), 5), \"%\")\n",
        "print(\"True negatives:\", round(np.sum(true_negative)/len(y_test), 5), \"%\")\n",
        "print(\"False positives:\", round(np.sum(false_postiive)/len(y_test), 5), \"%\")\n",
        "print(\"False negatives:\", round(np.sum(false_negatives)/len(y_test), 5), \"%\")"
      ],
      "execution_count": null,
      "outputs": [
        {
          "output_type": "stream",
          "text": [
            "[[40  9]\n",
            " [10 41]]\n",
            "==================================================\n",
            "True positives: 0.4 %\n",
            "True negatives: 0.41 %\n",
            "False positives: 0.1 %\n",
            "False negatives: 0.09 %\n"
          ],
          "name": "stdout"
        }
      ]
    },
    {
      "cell_type": "code",
      "metadata": {
        "id": "5m5B5Yh_3RpC"
      },
      "source": [
        "true_positive = C[0,0]\n",
        "true_negative = C[1,1]            \n",
        "false_postiive = C[1,0]\n",
        "false_negatives = C[0,1]\n",
        "\n",
        "precision = true_positive/(true_positive+false_postiive)\n",
        "recall = true_positive/(true_positive/false_negatives)"
      ],
      "execution_count": null,
      "outputs": []
    },
    {
      "cell_type": "code",
      "metadata": {
        "id": "PQM2WDZu-Ykl"
      },
      "source": [
        "f1_score = (precision*recall)/(precision+recall)\n",
        "\n",
        "print(f1_score)"
      ],
      "execution_count": null,
      "outputs": []
    },
    {
      "cell_type": "code",
      "metadata": {
        "colab": {
          "base_uri": "https://localhost:8080/"
        },
        "id": "nxoSE2qq-aLD",
        "outputId": "46fdc646-959b-4bc4-8180-0442b9591279"
      },
      "source": [
        "FPR = false_postiive/(false_postiive+true_negative)\n",
        "print(FPR)"
      ],
      "execution_count": null,
      "outputs": [
        {
          "output_type": "stream",
          "text": [
            "0.19607843137254902\n"
          ],
          "name": "stdout"
        }
      ]
    },
    {
      "cell_type": "code",
      "metadata": {
        "colab": {
          "base_uri": "https://localhost:8080/"
        },
        "id": "F5RWdLFZBaHA",
        "outputId": "db0b7d19-4676-4582-9919-eddee315a364"
      },
      "source": [
        "fpr, tpr, thresh = metrics.roc_curve(y_test, y_pred)\n",
        "\n",
        "auc = metrics.auc(fpr, tpr)\n",
        "\n",
        "print(\"AUC:\", auc)"
      ],
      "execution_count": null,
      "outputs": [
        {
          "output_type": "stream",
          "text": [
            "AUC: 0.810124049619848\n"
          ],
          "name": "stdout"
        }
      ]
    },
    {
      "cell_type": "code",
      "metadata": {
        "colab": {
          "base_uri": "https://localhost:8080/",
          "height": 295
        },
        "id": "MIITayHeBcF9",
        "outputId": "823363d2-375a-40c3-f182-6a5b14636005"
      },
      "source": [
        "import matplotlib.pyplot as plt\n",
        "\n",
        "plt.plot(fpr, tpr, label='ROC curve (area = %.2f)' %auc)\n",
        "plt.plot([0, 1], [0, 1], linestyle='--', lw=2, color='r', label='Random guess')\n",
        "plt.title('ROC curve AutoSklearn')\n",
        "plt.xlabel('False Positive Rate')\n",
        "plt.ylabel('True Positive Rate')\n",
        "plt.grid()\n",
        "plt.legend()\n",
        "plt.show()"
      ],
      "execution_count": null,
      "outputs": [
        {
          "output_type": "display_data",
          "data": {
            "image/png": "[encoded data removed]",
            "text/plain": [
              "<Figure size 432x288 with 1 Axes>"
            ]
          },
          "metadata": {
            "tags": [],
            "needs_background": "light"
          }
        }
      ]
    },
    {
      "cell_type": "markdown",
      "metadata": {
        "id": "RgMh5VHQHy7k"
      },
      "source": [
        "# Test Dataset"
      ]
    },
    {
      "cell_type": "code",
      "metadata": {
        "id": "l62fLzjAIAtl"
      },
      "source": [
        "# A dense numpy array of the sparse matrix outputted can be made by using:\n",
        "# X_train.toarray()\n",
        "def create_test_data(process):  \n",
        "  test_df = pd.read_csv(\"/content/drive/MyDrive/CIT/FYP/ImplementationFiles/NPS_TestContent.csv\", encoding='utf8', engine='c')\n",
        "  \n",
        "  # 2 null rows were found so drop them\n",
        "  print(test_df.isnull().sum().sum())\n",
        "  test_df = test_df.dropna()\n",
        "  print(test_df.isnull().sum().sum())\n",
        "\n",
        "  # the next step is to randomize the rows of the data\n",
        "  test_df = test_df.sample(frac=1).reset_index(drop=True)\n",
        "\n",
        "  test_df['sentiment'] = test_df['sentiment'].map({'Negative' : 0, 'Positive' : 1})\n",
        "\n",
        "  features = test_df.test.values\n",
        "  labels = test_df.sentiment.values\n",
        "\n",
        "  no_samples = 0.8\n",
        "\n",
        "  # This cell has the sk learn functions\n",
        "  # Allows you to choose which function you want to use\n",
        "  if process == 0:\n",
        "    ctv = CountVectorizer(tokenizer=word_tokenize, token_pattern=None)\n",
        "\n",
        "    ctv.fit(features)\n",
        "\n",
        "    features_sparse = ctv.transform(features)\n",
        "\n",
        "  else:\n",
        "    tfv = TfidfVectorizer(tokenizer=word_tokenize, token_pattern=None)\n",
        "\n",
        "    tfv.fit(features)\n",
        "\n",
        "    features_sparse = tfv.transform(features)\n",
        "\n",
        "  # Converting to numpy arrays for more generic format\n",
        "  features_t = features_sparse.toarray()\n",
        "\n",
        "  return features_t, labels"
      ],
      "execution_count": null,
      "outputs": []
    },
    {
      "cell_type": "code",
      "metadata": {
        "colab": {
          "base_uri": "https://localhost:8080/",
          "height": 527
        },
        "id": "oTy1ytoTDK2r",
        "outputId": "4c2a7bef-5055-4631-fb73-d653a4c27bfc"
      },
      "source": [
        "features, labels = create_test_data(1)\n",
        "\n",
        "print(features)\n",
        "\n",
        "y_pred = model.predict(features)\n",
        "testing_accuracy = accuracy_score(labels, y_pred)\n",
        "print(\"Test Accuracy score {0}\".format(testing_accuracy))"
      ],
      "execution_count": null,
      "outputs": [
        {
          "output_type": "stream",
          "text": [
            "2\n",
            "0\n",
            "[[0.         0.         0.         ... 0.         0.         0.        ]\n",
            " [0.         0.         0.         ... 0.         0.         0.        ]\n",
            " [0.         0.         0.         ... 0.         0.         0.        ]\n",
            " ...\n",
            " [0.         0.         0.         ... 0.         0.         0.        ]\n",
            " [0.         0.         0.         ... 0.         0.         0.        ]\n",
            " [0.15974036 0.         0.         ... 0.         0.         0.        ]]\n"
          ],
          "name": "stdout"
        },
        {
          "output_type": "error",
          "ename": "ValueError",
          "evalue": "ignored",
          "traceback": [
            "\u001b[0;31m---------------------------------------------------------------------------\u001b[0m",
            "\u001b[0;31mValueError\u001b[0m                                Traceback (most recent call last)",
            "\u001b[0;32m<ipython-input-31-c8e89724e555>\u001b[0m in \u001b[0;36m<module>\u001b[0;34m()\u001b[0m\n\u001b[1;32m      5\u001b[0m \u001b[0;31m# print(features)\u001b[0m\u001b[0;34m\u001b[0m\u001b[0;34m\u001b[0m\u001b[0;34m\u001b[0m\u001b[0m\n\u001b[1;32m      6\u001b[0m \u001b[0;34m\u001b[0m\u001b[0m\n\u001b[0;32m----> 7\u001b[0;31m \u001b[0my_pred\u001b[0m \u001b[0;34m=\u001b[0m \u001b[0mmodel\u001b[0m\u001b[0;34m.\u001b[0m\u001b[0mpredict\u001b[0m\u001b[0;34m(\u001b[0m\u001b[0mfeatures\u001b[0m\u001b[0;34m)\u001b[0m\u001b[0;34m\u001b[0m\u001b[0;34m\u001b[0m\u001b[0m\n\u001b[0m\u001b[1;32m      8\u001b[0m \u001b[0mtesting_accuracy\u001b[0m \u001b[0;34m=\u001b[0m \u001b[0maccuracy_score\u001b[0m\u001b[0;34m(\u001b[0m\u001b[0mlabels\u001b[0m\u001b[0;34m,\u001b[0m \u001b[0my_pred\u001b[0m\u001b[0;34m)\u001b[0m\u001b[0;34m\u001b[0m\u001b[0;34m\u001b[0m\u001b[0m\n\u001b[1;32m      9\u001b[0m \u001b[0mprint\u001b[0m\u001b[0;34m(\u001b[0m\u001b[0;34m\"Test Accuracy score {0}\"\u001b[0m\u001b[0;34m.\u001b[0m\u001b[0mformat\u001b[0m\u001b[0;34m(\u001b[0m\u001b[0mtesting_accuracy\u001b[0m\u001b[0;34m)\u001b[0m\u001b[0;34m)\u001b[0m\u001b[0;34m\u001b[0m\u001b[0;34m\u001b[0m\u001b[0m\n",
            "\u001b[0;32m/usr/local/lib/python3.7/dist-packages/autosklearn/estimators.py\u001b[0m in \u001b[0;36mpredict\u001b[0;34m(self, X, batch_size, n_jobs)\u001b[0m\n\u001b[1;32m    619\u001b[0m \u001b[0;34m\u001b[0m\u001b[0m\n\u001b[1;32m    620\u001b[0m         \"\"\"\n\u001b[0;32m--> 621\u001b[0;31m         \u001b[0;32mreturn\u001b[0m \u001b[0msuper\u001b[0m\u001b[0;34m(\u001b[0m\u001b[0;34m)\u001b[0m\u001b[0;34m.\u001b[0m\u001b[0mpredict\u001b[0m\u001b[0;34m(\u001b[0m\u001b[0mX\u001b[0m\u001b[0;34m,\u001b[0m \u001b[0mbatch_size\u001b[0m\u001b[0;34m=\u001b[0m\u001b[0mbatch_size\u001b[0m\u001b[0;34m,\u001b[0m \u001b[0mn_jobs\u001b[0m\u001b[0;34m=\u001b[0m\u001b[0mn_jobs\u001b[0m\u001b[0;34m)\u001b[0m\u001b[0;34m\u001b[0m\u001b[0;34m\u001b[0m\u001b[0m\n\u001b[0m\u001b[1;32m    622\u001b[0m \u001b[0;34m\u001b[0m\u001b[0m\n\u001b[1;32m    623\u001b[0m     \u001b[0;32mdef\u001b[0m \u001b[0mpredict_proba\u001b[0m\u001b[0;34m(\u001b[0m\u001b[0mself\u001b[0m\u001b[0;34m,\u001b[0m \u001b[0mX\u001b[0m\u001b[0;34m,\u001b[0m \u001b[0mbatch_size\u001b[0m\u001b[0;34m=\u001b[0m\u001b[0;32mNone\u001b[0m\u001b[0;34m,\u001b[0m \u001b[0mn_jobs\u001b[0m\u001b[0;34m=\u001b[0m\u001b[0;36m1\u001b[0m\u001b[0;34m)\u001b[0m\u001b[0;34m:\u001b[0m\u001b[0;34m\u001b[0m\u001b[0;34m\u001b[0m\u001b[0m\n",
            "\u001b[0;32m/usr/local/lib/python3.7/dist-packages/autosklearn/estimators.py\u001b[0m in \u001b[0;36mpredict\u001b[0;34m(self, X, batch_size, n_jobs)\u001b[0m\n\u001b[1;32m    452\u001b[0m \u001b[0;34m\u001b[0m\u001b[0m\n\u001b[1;32m    453\u001b[0m     \u001b[0;32mdef\u001b[0m \u001b[0mpredict\u001b[0m\u001b[0;34m(\u001b[0m\u001b[0mself\u001b[0m\u001b[0;34m,\u001b[0m \u001b[0mX\u001b[0m\u001b[0;34m,\u001b[0m \u001b[0mbatch_size\u001b[0m\u001b[0;34m=\u001b[0m\u001b[0;32mNone\u001b[0m\u001b[0;34m,\u001b[0m \u001b[0mn_jobs\u001b[0m\u001b[0;34m=\u001b[0m\u001b[0;36m1\u001b[0m\u001b[0;34m)\u001b[0m\u001b[0;34m:\u001b[0m\u001b[0;34m\u001b[0m\u001b[0;34m\u001b[0m\u001b[0m\n\u001b[0;32m--> 454\u001b[0;31m         \u001b[0;32mreturn\u001b[0m \u001b[0mself\u001b[0m\u001b[0;34m.\u001b[0m\u001b[0mautoml_\u001b[0m\u001b[0;34m.\u001b[0m\u001b[0mpredict\u001b[0m\u001b[0;34m(\u001b[0m\u001b[0mX\u001b[0m\u001b[0;34m,\u001b[0m \u001b[0mbatch_size\u001b[0m\u001b[0;34m=\u001b[0m\u001b[0mbatch_size\u001b[0m\u001b[0;34m,\u001b[0m \u001b[0mn_jobs\u001b[0m\u001b[0;34m=\u001b[0m\u001b[0mn_jobs\u001b[0m\u001b[0;34m)\u001b[0m\u001b[0;34m\u001b[0m\u001b[0;34m\u001b[0m\u001b[0m\n\u001b[0m\u001b[1;32m    455\u001b[0m \u001b[0;34m\u001b[0m\u001b[0m\n\u001b[1;32m    456\u001b[0m     \u001b[0;32mdef\u001b[0m \u001b[0mpredict_proba\u001b[0m\u001b[0;34m(\u001b[0m\u001b[0mself\u001b[0m\u001b[0;34m,\u001b[0m \u001b[0mX\u001b[0m\u001b[0;34m,\u001b[0m \u001b[0mbatch_size\u001b[0m\u001b[0;34m=\u001b[0m\u001b[0;32mNone\u001b[0m\u001b[0;34m,\u001b[0m \u001b[0mn_jobs\u001b[0m\u001b[0;34m=\u001b[0m\u001b[0;36m1\u001b[0m\u001b[0;34m)\u001b[0m\u001b[0;34m:\u001b[0m\u001b[0;34m\u001b[0m\u001b[0;34m\u001b[0m\u001b[0m\n",
            "\u001b[0;32m/usr/local/lib/python3.7/dist-packages/autosklearn/automl.py\u001b[0m in \u001b[0;36mpredict\u001b[0;34m(self, X, batch_size, n_jobs)\u001b[0m\n\u001b[1;32m   1425\u001b[0m     \u001b[0;32mdef\u001b[0m \u001b[0mpredict\u001b[0m\u001b[0;34m(\u001b[0m\u001b[0mself\u001b[0m\u001b[0;34m,\u001b[0m \u001b[0mX\u001b[0m\u001b[0;34m,\u001b[0m \u001b[0mbatch_size\u001b[0m\u001b[0;34m=\u001b[0m\u001b[0;32mNone\u001b[0m\u001b[0;34m,\u001b[0m \u001b[0mn_jobs\u001b[0m\u001b[0;34m=\u001b[0m\u001b[0;36m1\u001b[0m\u001b[0;34m)\u001b[0m\u001b[0;34m:\u001b[0m\u001b[0;34m\u001b[0m\u001b[0;34m\u001b[0m\u001b[0m\n\u001b[1;32m   1426\u001b[0m         predicted_probabilities = super().predict(X, batch_size=batch_size,\n\u001b[0;32m-> 1427\u001b[0;31m                                                   n_jobs=n_jobs)\n\u001b[0m\u001b[1;32m   1428\u001b[0m \u001b[0;34m\u001b[0m\u001b[0m\n\u001b[1;32m   1429\u001b[0m         \u001b[0;32mif\u001b[0m \u001b[0mself\u001b[0m\u001b[0;34m.\u001b[0m\u001b[0mInputValidator\u001b[0m \u001b[0;32mis\u001b[0m \u001b[0;32mNone\u001b[0m \u001b[0;32mor\u001b[0m \u001b[0;32mnot\u001b[0m \u001b[0mself\u001b[0m\u001b[0;34m.\u001b[0m\u001b[0mInputValidator\u001b[0m\u001b[0;34m.\u001b[0m\u001b[0m_is_fitted\u001b[0m\u001b[0;34m:\u001b[0m\u001b[0;34m\u001b[0m\u001b[0;34m\u001b[0m\u001b[0m\n",
            "\u001b[0;32m/usr/local/lib/python3.7/dist-packages/autosklearn/automl.py\u001b[0m in \u001b[0;36mpredict\u001b[0;34m(self, X, batch_size, n_jobs)\u001b[0m\n\u001b[1;32m    984\u001b[0m                 \u001b[0mmodels\u001b[0m\u001b[0;34m[\u001b[0m\u001b[0midentifier\u001b[0m\u001b[0;34m]\u001b[0m\u001b[0;34m,\u001b[0m \u001b[0mX\u001b[0m\u001b[0;34m,\u001b[0m \u001b[0mbatch_size\u001b[0m\u001b[0;34m,\u001b[0m \u001b[0mself\u001b[0m\u001b[0;34m.\u001b[0m\u001b[0m_logger\u001b[0m\u001b[0;34m,\u001b[0m \u001b[0mself\u001b[0m\u001b[0;34m.\u001b[0m\u001b[0m_task\u001b[0m\u001b[0;34m\u001b[0m\u001b[0;34m\u001b[0m\u001b[0m\n\u001b[1;32m    985\u001b[0m             )\n\u001b[0;32m--> 986\u001b[0;31m             \u001b[0;32mfor\u001b[0m \u001b[0midentifier\u001b[0m \u001b[0;32min\u001b[0m \u001b[0mself\u001b[0m\u001b[0;34m.\u001b[0m\u001b[0mensemble_\u001b[0m\u001b[0;34m.\u001b[0m\u001b[0mget_selected_model_identifiers\u001b[0m\u001b[0;34m(\u001b[0m\u001b[0;34m)\u001b[0m\u001b[0;34m\u001b[0m\u001b[0;34m\u001b[0m\u001b[0m\n\u001b[0m\u001b[1;32m    987\u001b[0m         )\n\u001b[1;32m    988\u001b[0m \u001b[0;34m\u001b[0m\u001b[0m\n",
            "\u001b[0;32m/usr/local/lib/python3.7/dist-packages/joblib/parallel.py\u001b[0m in \u001b[0;36m__call__\u001b[0;34m(self, iterable)\u001b[0m\n\u001b[1;32m   1039\u001b[0m             \u001b[0;31m# remaining jobs.\u001b[0m\u001b[0;34m\u001b[0m\u001b[0;34m\u001b[0m\u001b[0;34m\u001b[0m\u001b[0m\n\u001b[1;32m   1040\u001b[0m             \u001b[0mself\u001b[0m\u001b[0;34m.\u001b[0m\u001b[0m_iterating\u001b[0m \u001b[0;34m=\u001b[0m \u001b[0;32mFalse\u001b[0m\u001b[0;34m\u001b[0m\u001b[0;34m\u001b[0m\u001b[0m\n\u001b[0;32m-> 1041\u001b[0;31m             \u001b[0;32mif\u001b[0m \u001b[0mself\u001b[0m\u001b[0;34m.\u001b[0m\u001b[0mdispatch_one_batch\u001b[0m\u001b[0;34m(\u001b[0m\u001b[0miterator\u001b[0m\u001b[0;34m)\u001b[0m\u001b[0;34m:\u001b[0m\u001b[0;34m\u001b[0m\u001b[0;34m\u001b[0m\u001b[0m\n\u001b[0m\u001b[1;32m   1042\u001b[0m                 \u001b[0mself\u001b[0m\u001b[0;34m.\u001b[0m\u001b[0m_iterating\u001b[0m \u001b[0;34m=\u001b[0m \u001b[0mself\u001b[0m\u001b[0;34m.\u001b[0m\u001b[0m_original_iterator\u001b[0m \u001b[0;32mis\u001b[0m \u001b[0;32mnot\u001b[0m \u001b[0;32mNone\u001b[0m\u001b[0;34m\u001b[0m\u001b[0;34m\u001b[0m\u001b[0m\n\u001b[1;32m   1043\u001b[0m \u001b[0;34m\u001b[0m\u001b[0m\n",
            "\u001b[0;32m/usr/local/lib/python3.7/dist-packages/joblib/parallel.py\u001b[0m in \u001b[0;36mdispatch_one_batch\u001b[0;34m(self, iterator)\u001b[0m\n\u001b[1;32m    857\u001b[0m                 \u001b[0;32mreturn\u001b[0m \u001b[0;32mFalse\u001b[0m\u001b[0;34m\u001b[0m\u001b[0;34m\u001b[0m\u001b[0m\n\u001b[1;32m    858\u001b[0m             \u001b[0;32melse\u001b[0m\u001b[0;34m:\u001b[0m\u001b[0;34m\u001b[0m\u001b[0;34m\u001b[0m\u001b[0m\n\u001b[0;32m--> 859\u001b[0;31m                 \u001b[0mself\u001b[0m\u001b[0;34m.\u001b[0m\u001b[0m_dispatch\u001b[0m\u001b[0;34m(\u001b[0m\u001b[0mtasks\u001b[0m\u001b[0;34m)\u001b[0m\u001b[0;34m\u001b[0m\u001b[0;34m\u001b[0m\u001b[0m\n\u001b[0m\u001b[1;32m    860\u001b[0m                 \u001b[0;32mreturn\u001b[0m \u001b[0;32mTrue\u001b[0m\u001b[0;34m\u001b[0m\u001b[0;34m\u001b[0m\u001b[0m\n\u001b[1;32m    861\u001b[0m \u001b[0;34m\u001b[0m\u001b[0m\n",
            "\u001b[0;32m/usr/local/lib/python3.7/dist-packages/joblib/parallel.py\u001b[0m in \u001b[0;36m_dispatch\u001b[0;34m(self, batch)\u001b[0m\n\u001b[1;32m    775\u001b[0m         \u001b[0;32mwith\u001b[0m \u001b[0mself\u001b[0m\u001b[0;34m.\u001b[0m\u001b[0m_lock\u001b[0m\u001b[0;34m:\u001b[0m\u001b[0;34m\u001b[0m\u001b[0;34m\u001b[0m\u001b[0m\n\u001b[1;32m    776\u001b[0m             \u001b[0mjob_idx\u001b[0m \u001b[0;34m=\u001b[0m \u001b[0mlen\u001b[0m\u001b[0;34m(\u001b[0m\u001b[0mself\u001b[0m\u001b[0;34m.\u001b[0m\u001b[0m_jobs\u001b[0m\u001b[0;34m)\u001b[0m\u001b[0;34m\u001b[0m\u001b[0;34m\u001b[0m\u001b[0m\n\u001b[0;32m--> 777\u001b[0;31m             \u001b[0mjob\u001b[0m \u001b[0;34m=\u001b[0m \u001b[0mself\u001b[0m\u001b[0;34m.\u001b[0m\u001b[0m_backend\u001b[0m\u001b[0;34m.\u001b[0m\u001b[0mapply_async\u001b[0m\u001b[0;34m(\u001b[0m\u001b[0mbatch\u001b[0m\u001b[0;34m,\u001b[0m \u001b[0mcallback\u001b[0m\u001b[0;34m=\u001b[0m\u001b[0mcb\u001b[0m\u001b[0;34m)\u001b[0m\u001b[0;34m\u001b[0m\u001b[0;34m\u001b[0m\u001b[0m\n\u001b[0m\u001b[1;32m    778\u001b[0m             \u001b[0;31m# A job can complete so quickly than its callback is\u001b[0m\u001b[0;34m\u001b[0m\u001b[0;34m\u001b[0m\u001b[0;34m\u001b[0m\u001b[0m\n\u001b[1;32m    779\u001b[0m             \u001b[0;31m# called before we get here, causing self._jobs to\u001b[0m\u001b[0;34m\u001b[0m\u001b[0;34m\u001b[0m\u001b[0;34m\u001b[0m\u001b[0m\n",
            "\u001b[0;32m/usr/local/lib/python3.7/dist-packages/joblib/_parallel_backends.py\u001b[0m in \u001b[0;36mapply_async\u001b[0;34m(self, func, callback)\u001b[0m\n\u001b[1;32m    206\u001b[0m     \u001b[0;32mdef\u001b[0m \u001b[0mapply_async\u001b[0m\u001b[0;34m(\u001b[0m\u001b[0mself\u001b[0m\u001b[0;34m,\u001b[0m \u001b[0mfunc\u001b[0m\u001b[0;34m,\u001b[0m \u001b[0mcallback\u001b[0m\u001b[0;34m=\u001b[0m\u001b[0;32mNone\u001b[0m\u001b[0;34m)\u001b[0m\u001b[0;34m:\u001b[0m\u001b[0;34m\u001b[0m\u001b[0;34m\u001b[0m\u001b[0m\n\u001b[1;32m    207\u001b[0m         \u001b[0;34m\"\"\"Schedule a func to be run\"\"\"\u001b[0m\u001b[0;34m\u001b[0m\u001b[0;34m\u001b[0m\u001b[0m\n\u001b[0;32m--> 208\u001b[0;31m         \u001b[0mresult\u001b[0m \u001b[0;34m=\u001b[0m \u001b[0mImmediateResult\u001b[0m\u001b[0;34m(\u001b[0m\u001b[0mfunc\u001b[0m\u001b[0;34m)\u001b[0m\u001b[0;34m\u001b[0m\u001b[0;34m\u001b[0m\u001b[0m\n\u001b[0m\u001b[1;32m    209\u001b[0m         \u001b[0;32mif\u001b[0m \u001b[0mcallback\u001b[0m\u001b[0;34m:\u001b[0m\u001b[0;34m\u001b[0m\u001b[0;34m\u001b[0m\u001b[0m\n\u001b[1;32m    210\u001b[0m             \u001b[0mcallback\u001b[0m\u001b[0;34m(\u001b[0m\u001b[0mresult\u001b[0m\u001b[0;34m)\u001b[0m\u001b[0;34m\u001b[0m\u001b[0;34m\u001b[0m\u001b[0m\n",
            "\u001b[0;32m/usr/local/lib/python3.7/dist-packages/joblib/_parallel_backends.py\u001b[0m in \u001b[0;36m__init__\u001b[0;34m(self, batch)\u001b[0m\n\u001b[1;32m    570\u001b[0m         \u001b[0;31m# Don't delay the application, to avoid keeping the input\u001b[0m\u001b[0;34m\u001b[0m\u001b[0;34m\u001b[0m\u001b[0;34m\u001b[0m\u001b[0m\n\u001b[1;32m    571\u001b[0m         \u001b[0;31m# arguments in memory\u001b[0m\u001b[0;34m\u001b[0m\u001b[0;34m\u001b[0m\u001b[0;34m\u001b[0m\u001b[0m\n\u001b[0;32m--> 572\u001b[0;31m         \u001b[0mself\u001b[0m\u001b[0;34m.\u001b[0m\u001b[0mresults\u001b[0m \u001b[0;34m=\u001b[0m \u001b[0mbatch\u001b[0m\u001b[0;34m(\u001b[0m\u001b[0;34m)\u001b[0m\u001b[0;34m\u001b[0m\u001b[0;34m\u001b[0m\u001b[0m\n\u001b[0m\u001b[1;32m    573\u001b[0m \u001b[0;34m\u001b[0m\u001b[0m\n\u001b[1;32m    574\u001b[0m     \u001b[0;32mdef\u001b[0m \u001b[0mget\u001b[0m\u001b[0;34m(\u001b[0m\u001b[0mself\u001b[0m\u001b[0;34m)\u001b[0m\u001b[0;34m:\u001b[0m\u001b[0;34m\u001b[0m\u001b[0;34m\u001b[0m\u001b[0m\n",
            "\u001b[0;32m/usr/local/lib/python3.7/dist-packages/joblib/parallel.py\u001b[0m in \u001b[0;36m__call__\u001b[0;34m(self)\u001b[0m\n\u001b[1;32m    261\u001b[0m         \u001b[0;32mwith\u001b[0m \u001b[0mparallel_backend\u001b[0m\u001b[0;34m(\u001b[0m\u001b[0mself\u001b[0m\u001b[0;34m.\u001b[0m\u001b[0m_backend\u001b[0m\u001b[0;34m,\u001b[0m \u001b[0mn_jobs\u001b[0m\u001b[0;34m=\u001b[0m\u001b[0mself\u001b[0m\u001b[0;34m.\u001b[0m\u001b[0m_n_jobs\u001b[0m\u001b[0;34m)\u001b[0m\u001b[0;34m:\u001b[0m\u001b[0;34m\u001b[0m\u001b[0;34m\u001b[0m\u001b[0m\n\u001b[1;32m    262\u001b[0m             return [func(*args, **kwargs)\n\u001b[0;32m--> 263\u001b[0;31m                     for func, args, kwargs in self.items]\n\u001b[0m\u001b[1;32m    264\u001b[0m \u001b[0;34m\u001b[0m\u001b[0m\n\u001b[1;32m    265\u001b[0m     \u001b[0;32mdef\u001b[0m \u001b[0m__reduce__\u001b[0m\u001b[0;34m(\u001b[0m\u001b[0mself\u001b[0m\u001b[0;34m)\u001b[0m\u001b[0;34m:\u001b[0m\u001b[0;34m\u001b[0m\u001b[0;34m\u001b[0m\u001b[0m\n",
            "\u001b[0;32m/usr/local/lib/python3.7/dist-packages/joblib/parallel.py\u001b[0m in \u001b[0;36m<listcomp>\u001b[0;34m(.0)\u001b[0m\n\u001b[1;32m    261\u001b[0m         \u001b[0;32mwith\u001b[0m \u001b[0mparallel_backend\u001b[0m\u001b[0;34m(\u001b[0m\u001b[0mself\u001b[0m\u001b[0;34m.\u001b[0m\u001b[0m_backend\u001b[0m\u001b[0;34m,\u001b[0m \u001b[0mn_jobs\u001b[0m\u001b[0;34m=\u001b[0m\u001b[0mself\u001b[0m\u001b[0;34m.\u001b[0m\u001b[0m_n_jobs\u001b[0m\u001b[0;34m)\u001b[0m\u001b[0;34m:\u001b[0m\u001b[0;34m\u001b[0m\u001b[0;34m\u001b[0m\u001b[0m\n\u001b[1;32m    262\u001b[0m             return [func(*args, **kwargs)\n\u001b[0;32m--> 263\u001b[0;31m                     for func, args, kwargs in self.items]\n\u001b[0m\u001b[1;32m    264\u001b[0m \u001b[0;34m\u001b[0m\u001b[0m\n\u001b[1;32m    265\u001b[0m     \u001b[0;32mdef\u001b[0m \u001b[0m__reduce__\u001b[0m\u001b[0;34m(\u001b[0m\u001b[0mself\u001b[0m\u001b[0;34m)\u001b[0m\u001b[0;34m:\u001b[0m\u001b[0;34m\u001b[0m\u001b[0;34m\u001b[0m\u001b[0m\n",
            "\u001b[0;32m/usr/local/lib/python3.7/dist-packages/autosklearn/automl.py\u001b[0m in \u001b[0;36m_model_predict\u001b[0;34m(model, X, batch_size, logger, task)\u001b[0m\n\u001b[1;32m     86\u001b[0m                 \u001b[0mprediction\u001b[0m \u001b[0;34m=\u001b[0m \u001b[0mmodel\u001b[0m\u001b[0;34m.\u001b[0m\u001b[0mpredict_proba\u001b[0m\u001b[0;34m(\u001b[0m\u001b[0mX_\u001b[0m\u001b[0;34m,\u001b[0m \u001b[0mbatch_size\u001b[0m\u001b[0;34m=\u001b[0m\u001b[0mbatch_size\u001b[0m\u001b[0;34m)\u001b[0m\u001b[0;34m\u001b[0m\u001b[0;34m\u001b[0m\u001b[0m\n\u001b[1;32m     87\u001b[0m             \u001b[0;32melse\u001b[0m\u001b[0;34m:\u001b[0m\u001b[0;34m\u001b[0m\u001b[0;34m\u001b[0m\u001b[0m\n\u001b[0;32m---> 88\u001b[0;31m                 \u001b[0mprediction\u001b[0m \u001b[0;34m=\u001b[0m \u001b[0mmodel\u001b[0m\u001b[0;34m.\u001b[0m\u001b[0mpredict_proba\u001b[0m\u001b[0;34m(\u001b[0m\u001b[0mX_\u001b[0m\u001b[0;34m)\u001b[0m\u001b[0;34m\u001b[0m\u001b[0;34m\u001b[0m\u001b[0m\n\u001b[0m\u001b[1;32m     89\u001b[0m \u001b[0;34m\u001b[0m\u001b[0m\n\u001b[1;32m     90\u001b[0m             \u001b[0;31m# Check that all probability values lie between 0 and 1.\u001b[0m\u001b[0;34m\u001b[0m\u001b[0;34m\u001b[0m\u001b[0;34m\u001b[0m\u001b[0m\n",
            "\u001b[0;32m/usr/local/lib/python3.7/dist-packages/autosklearn/pipeline/classification.py\u001b[0m in \u001b[0;36mpredict_proba\u001b[0;34m(self, X, batch_size)\u001b[0m\n\u001b[1;32m    117\u001b[0m         \"\"\"\n\u001b[1;32m    118\u001b[0m         \u001b[0;32mif\u001b[0m \u001b[0mbatch_size\u001b[0m \u001b[0;32mis\u001b[0m \u001b[0;32mNone\u001b[0m\u001b[0;34m:\u001b[0m\u001b[0;34m\u001b[0m\u001b[0;34m\u001b[0m\u001b[0m\n\u001b[0;32m--> 119\u001b[0;31m             \u001b[0;32mreturn\u001b[0m \u001b[0msuper\u001b[0m\u001b[0;34m(\u001b[0m\u001b[0;34m)\u001b[0m\u001b[0;34m.\u001b[0m\u001b[0mpredict_proba\u001b[0m\u001b[0;34m(\u001b[0m\u001b[0mX\u001b[0m\u001b[0;34m)\u001b[0m\u001b[0;34m\u001b[0m\u001b[0;34m\u001b[0m\u001b[0m\n\u001b[0m\u001b[1;32m    120\u001b[0m \u001b[0;34m\u001b[0m\u001b[0m\n\u001b[1;32m    121\u001b[0m         \u001b[0;32melse\u001b[0m\u001b[0;34m:\u001b[0m\u001b[0;34m\u001b[0m\u001b[0;34m\u001b[0m\u001b[0m\n",
            "\u001b[0;32m/usr/local/lib/python3.7/dist-packages/sklearn/utils/metaestimators.py\u001b[0m in \u001b[0;36m<lambda>\u001b[0;34m(*args, **kwargs)\u001b[0m\n\u001b[1;32m    118\u001b[0m \u001b[0;34m\u001b[0m\u001b[0m\n\u001b[1;32m    119\u001b[0m         \u001b[0;31m# lambda, but not partial, allows help() to work with update_wrapper\u001b[0m\u001b[0;34m\u001b[0m\u001b[0;34m\u001b[0m\u001b[0;34m\u001b[0m\u001b[0m\n\u001b[0;32m--> 120\u001b[0;31m         \u001b[0mout\u001b[0m \u001b[0;34m=\u001b[0m \u001b[0;32mlambda\u001b[0m \u001b[0;34m*\u001b[0m\u001b[0margs\u001b[0m\u001b[0;34m,\u001b[0m \u001b[0;34m**\u001b[0m\u001b[0mkwargs\u001b[0m\u001b[0;34m:\u001b[0m \u001b[0mself\u001b[0m\u001b[0;34m.\u001b[0m\u001b[0mfn\u001b[0m\u001b[0;34m(\u001b[0m\u001b[0mobj\u001b[0m\u001b[0;34m,\u001b[0m \u001b[0;34m*\u001b[0m\u001b[0margs\u001b[0m\u001b[0;34m,\u001b[0m \u001b[0;34m**\u001b[0m\u001b[0mkwargs\u001b[0m\u001b[0;34m)\u001b[0m\u001b[0;34m\u001b[0m\u001b[0;34m\u001b[0m\u001b[0m\n\u001b[0m\u001b[1;32m    121\u001b[0m         \u001b[0;31m# update the docstring of the returned function\u001b[0m\u001b[0;34m\u001b[0m\u001b[0;34m\u001b[0m\u001b[0;34m\u001b[0m\u001b[0m\n\u001b[1;32m    122\u001b[0m         \u001b[0mupdate_wrapper\u001b[0m\u001b[0;34m(\u001b[0m\u001b[0mout\u001b[0m\u001b[0;34m,\u001b[0m \u001b[0mself\u001b[0m\u001b[0;34m.\u001b[0m\u001b[0mfn\u001b[0m\u001b[0;34m)\u001b[0m\u001b[0;34m\u001b[0m\u001b[0;34m\u001b[0m\u001b[0m\n",
            "\u001b[0;32m/usr/local/lib/python3.7/dist-packages/sklearn/pipeline.py\u001b[0m in \u001b[0;36mpredict_proba\u001b[0;34m(self, X)\u001b[0m\n\u001b[1;32m    472\u001b[0m         \u001b[0mXt\u001b[0m \u001b[0;34m=\u001b[0m \u001b[0mX\u001b[0m\u001b[0;34m\u001b[0m\u001b[0;34m\u001b[0m\u001b[0m\n\u001b[1;32m    473\u001b[0m         \u001b[0;32mfor\u001b[0m \u001b[0m_\u001b[0m\u001b[0;34m,\u001b[0m \u001b[0mname\u001b[0m\u001b[0;34m,\u001b[0m \u001b[0mtransform\u001b[0m \u001b[0;32min\u001b[0m \u001b[0mself\u001b[0m\u001b[0;34m.\u001b[0m\u001b[0m_iter\u001b[0m\u001b[0;34m(\u001b[0m\u001b[0mwith_final\u001b[0m\u001b[0;34m=\u001b[0m\u001b[0;32mFalse\u001b[0m\u001b[0;34m)\u001b[0m\u001b[0;34m:\u001b[0m\u001b[0;34m\u001b[0m\u001b[0;34m\u001b[0m\u001b[0m\n\u001b[0;32m--> 474\u001b[0;31m             \u001b[0mXt\u001b[0m \u001b[0;34m=\u001b[0m \u001b[0mtransform\u001b[0m\u001b[0;34m.\u001b[0m\u001b[0mtransform\u001b[0m\u001b[0;34m(\u001b[0m\u001b[0mXt\u001b[0m\u001b[0;34m)\u001b[0m\u001b[0;34m\u001b[0m\u001b[0;34m\u001b[0m\u001b[0m\n\u001b[0m\u001b[1;32m    475\u001b[0m         \u001b[0;32mreturn\u001b[0m \u001b[0mself\u001b[0m\u001b[0;34m.\u001b[0m\u001b[0msteps\u001b[0m\u001b[0;34m[\u001b[0m\u001b[0;34m-\u001b[0m\u001b[0;36m1\u001b[0m\u001b[0;34m]\u001b[0m\u001b[0;34m[\u001b[0m\u001b[0;34m-\u001b[0m\u001b[0;36m1\u001b[0m\u001b[0;34m]\u001b[0m\u001b[0;34m.\u001b[0m\u001b[0mpredict_proba\u001b[0m\u001b[0;34m(\u001b[0m\u001b[0mXt\u001b[0m\u001b[0;34m)\u001b[0m\u001b[0;34m\u001b[0m\u001b[0;34m\u001b[0m\u001b[0m\n\u001b[1;32m    476\u001b[0m \u001b[0;34m\u001b[0m\u001b[0m\n",
            "\u001b[0;32m/usr/local/lib/python3.7/dist-packages/autosklearn/pipeline/components/data_preprocessing/data_preprocessing.py\u001b[0m in \u001b[0;36mtransform\u001b[0;34m(self, X)\u001b[0m\n\u001b[1;32m    112\u001b[0m                              \u001b[0;34m\"while trying to fit the model.\"\u001b[0m\u001b[0;34m\u001b[0m\u001b[0;34m\u001b[0m\u001b[0m\n\u001b[1;32m    113\u001b[0m                              )\n\u001b[0;32m--> 114\u001b[0;31m         \u001b[0;32mreturn\u001b[0m \u001b[0mself\u001b[0m\u001b[0;34m.\u001b[0m\u001b[0mcolumn_transformer\u001b[0m\u001b[0;34m.\u001b[0m\u001b[0mtransform\u001b[0m\u001b[0;34m(\u001b[0m\u001b[0mX\u001b[0m\u001b[0;34m)\u001b[0m\u001b[0;34m\u001b[0m\u001b[0;34m\u001b[0m\u001b[0m\n\u001b[0m\u001b[1;32m    115\u001b[0m \u001b[0;34m\u001b[0m\u001b[0m\n\u001b[1;32m    116\u001b[0m     \u001b[0;32mdef\u001b[0m \u001b[0mfit_transform\u001b[0m\u001b[0;34m(\u001b[0m\u001b[0mself\u001b[0m\u001b[0;34m,\u001b[0m \u001b[0mX\u001b[0m\u001b[0;34m,\u001b[0m \u001b[0my\u001b[0m\u001b[0;34m=\u001b[0m\u001b[0;32mNone\u001b[0m\u001b[0;34m)\u001b[0m\u001b[0;34m:\u001b[0m\u001b[0;34m\u001b[0m\u001b[0;34m\u001b[0m\u001b[0m\n",
            "\u001b[0;32m/usr/local/lib/python3.7/dist-packages/sklearn/compose/_column_transformer.py\u001b[0m in \u001b[0;36mtransform\u001b[0;34m(self, X)\u001b[0m\n\u001b[1;32m    555\u001b[0m             \u001b[0mX_feature_names\u001b[0m \u001b[0;34m=\u001b[0m \u001b[0;32mNone\u001b[0m\u001b[0;34m\u001b[0m\u001b[0;34m\u001b[0m\u001b[0m\n\u001b[1;32m    556\u001b[0m \u001b[0;34m\u001b[0m\u001b[0m\n\u001b[0;32m--> 557\u001b[0;31m         \u001b[0mself\u001b[0m\u001b[0;34m.\u001b[0m\u001b[0m_check_n_features\u001b[0m\u001b[0;34m(\u001b[0m\u001b[0mX\u001b[0m\u001b[0;34m,\u001b[0m \u001b[0mreset\u001b[0m\u001b[0;34m=\u001b[0m\u001b[0;32mFalse\u001b[0m\u001b[0;34m)\u001b[0m\u001b[0;34m\u001b[0m\u001b[0;34m\u001b[0m\u001b[0m\n\u001b[0m\u001b[1;32m    558\u001b[0m         if (self._feature_names_in is not None and\n\u001b[1;32m    559\u001b[0m             \u001b[0mX_feature_names\u001b[0m \u001b[0;32mis\u001b[0m \u001b[0;32mnot\u001b[0m \u001b[0;32mNone\u001b[0m \u001b[0;32mand\u001b[0m\u001b[0;34m\u001b[0m\u001b[0;34m\u001b[0m\u001b[0m\n",
            "\u001b[0;32m/usr/local/lib/python3.7/dist-packages/sklearn/base.py\u001b[0m in \u001b[0;36m_check_n_features\u001b[0;34m(self, X, reset)\u001b[0m\n\u001b[1;32m    364\u001b[0m         \u001b[0;32mif\u001b[0m \u001b[0mn_features\u001b[0m \u001b[0;34m!=\u001b[0m \u001b[0mself\u001b[0m\u001b[0;34m.\u001b[0m\u001b[0mn_features_in_\u001b[0m\u001b[0;34m:\u001b[0m\u001b[0;34m\u001b[0m\u001b[0;34m\u001b[0m\u001b[0m\n\u001b[1;32m    365\u001b[0m             raise ValueError(\n\u001b[0;32m--> 366\u001b[0;31m                 \u001b[0;34mf\"X has {n_features} features, but {self.__class__.__name__} \"\u001b[0m\u001b[0;34m\u001b[0m\u001b[0;34m\u001b[0m\u001b[0m\n\u001b[0m\u001b[1;32m    367\u001b[0m                 f\"is expecting {self.n_features_in_} features as input.\")\n\u001b[1;32m    368\u001b[0m \u001b[0;34m\u001b[0m\u001b[0m\n",
            "\u001b[0;31mValueError\u001b[0m: X has 2164 features, but ColumnTransformer is expecting 13726 features as input."
          ]
        }
      ]
    },
    {
      "cell_type": "markdown",
      "metadata": {
        "id": "ma3GGSsLHZ6k"
      },
      "source": [
        "# Outputting model"
      ]
    },
    {
      "cell_type": "code",
      "metadata": {
        "id": "9M1jcddyHZIi",
        "colab": {
          "base_uri": "https://localhost:8080/"
        },
        "outputId": "8512b60f-c7ad-4c2e-a9fa-a17b7354028f"
      },
      "source": [
        "# This is meant to be able to output the model\n",
        "import pickle\n",
        "x = model.show_models()\n",
        "print(x)\n",
        "results = {\"ensemble\": x}\n",
        "pickle.dump(results, open('/content/drive/MyDrive/CIT/FYP/ImplementationFiles/ExportedModels/AutoSklearn/autosklearn_3600_3600.pickle','wb'))"
      ],
      "execution_count": null,
      "outputs": [
        {
          "output_type": "stream",
          "text": [
            "[(0.100000, SimpleClassificationPipeline({'balancing:strategy': 'weighting', 'classifier:__choice__': 'sgd', 'data_preprocessing:categorical_transformer:categorical_encoding:__choice__': 'no_encoding', 'data_preprocessing:categorical_transformer:category_coalescence:__choice__': 'minority_coalescer', 'data_preprocessing:numerical_transformer:imputation:strategy': 'mean', 'data_preprocessing:numerical_transformer:rescaling:__choice__': 'minmax', 'feature_preprocessor:__choice__': 'no_preprocessing', 'classifier:sgd:alpha': 0.0004324090004444794, 'classifier:sgd:average': 'True', 'classifier:sgd:fit_intercept': 'True', 'classifier:sgd:learning_rate': 'constant', 'classifier:sgd:loss': 'modified_huber', 'classifier:sgd:penalty': 'l1', 'classifier:sgd:tol': 0.0012835344882994744, 'data_preprocessing:categorical_transformer:category_coalescence:minority_coalescer:minimum_fraction': 0.03694171699375573, 'classifier:sgd:epsilon': 0.00014606622149564635, 'classifier:sgd:eta0': 0.0001448025169225362},\n",
            "dataset_properties={\n",
            "  'task': 1,\n",
            "  'sparse': False,\n",
            "  'multilabel': False,\n",
            "  'multiclass': False,\n",
            "  'target_type': 'classification',\n",
            "  'signed': False})),\n",
            "(0.100000, SimpleClassificationPipeline({'balancing:strategy': 'weighting', 'classifier:__choice__': 'sgd', 'data_preprocessing:categorical_transformer:categorical_encoding:__choice__': 'no_encoding', 'data_preprocessing:categorical_transformer:category_coalescence:__choice__': 'minority_coalescer', 'data_preprocessing:numerical_transformer:imputation:strategy': 'mean', 'data_preprocessing:numerical_transformer:rescaling:__choice__': 'none', 'feature_preprocessor:__choice__': 'no_preprocessing', 'classifier:sgd:alpha': 0.0014859559831769105, 'classifier:sgd:average': 'False', 'classifier:sgd:fit_intercept': 'True', 'classifier:sgd:learning_rate': 'constant', 'classifier:sgd:loss': 'squared_hinge', 'classifier:sgd:penalty': 'l1', 'classifier:sgd:tol': 5.225153907931124e-05, 'data_preprocessing:categorical_transformer:category_coalescence:minority_coalescer:minimum_fraction': 0.05504425684093995, 'classifier:sgd:eta0': 0.01651359927919066},\n",
            "dataset_properties={\n",
            "  'task': 1,\n",
            "  'sparse': False,\n",
            "  'multilabel': False,\n",
            "  'multiclass': False,\n",
            "  'target_type': 'classification',\n",
            "  'signed': False})),\n",
            "(0.100000, SimpleClassificationPipeline({'balancing:strategy': 'weighting', 'classifier:__choice__': 'sgd', 'data_preprocessing:categorical_transformer:categorical_encoding:__choice__': 'no_encoding', 'data_preprocessing:categorical_transformer:category_coalescence:__choice__': 'minority_coalescer', 'data_preprocessing:numerical_transformer:imputation:strategy': 'most_frequent', 'data_preprocessing:numerical_transformer:rescaling:__choice__': 'power_transformer', 'feature_preprocessor:__choice__': 'no_preprocessing', 'classifier:sgd:alpha': 0.0085742605204827, 'classifier:sgd:average': 'True', 'classifier:sgd:fit_intercept': 'True', 'classifier:sgd:learning_rate': 'constant', 'classifier:sgd:loss': 'modified_huber', 'classifier:sgd:penalty': 'l1', 'classifier:sgd:tol': 0.01439728505001581, 'data_preprocessing:categorical_transformer:category_coalescence:minority_coalescer:minimum_fraction': 0.027292339356757466, 'classifier:sgd:epsilon': 0.0001368389401623358, 'classifier:sgd:eta0': 8.085280216807642e-05},\n",
            "dataset_properties={\n",
            "  'task': 1,\n",
            "  'sparse': False,\n",
            "  'multilabel': False,\n",
            "  'multiclass': False,\n",
            "  'target_type': 'classification',\n",
            "  'signed': False})),\n",
            "(0.100000, SimpleClassificationPipeline({'balancing:strategy': 'none', 'classifier:__choice__': 'gradient_boosting', 'data_preprocessing:categorical_transformer:categorical_encoding:__choice__': 'no_encoding', 'data_preprocessing:categorical_transformer:category_coalescence:__choice__': 'no_coalescense', 'data_preprocessing:numerical_transformer:imputation:strategy': 'most_frequent', 'data_preprocessing:numerical_transformer:rescaling:__choice__': 'standardize', 'feature_preprocessor:__choice__': 'no_preprocessing', 'classifier:gradient_boosting:early_stop': 'valid', 'classifier:gradient_boosting:l2_regularization': 0.937007467432155, 'classifier:gradient_boosting:learning_rate': 0.12502113696096803, 'classifier:gradient_boosting:loss': 'auto', 'classifier:gradient_boosting:max_bins': 255, 'classifier:gradient_boosting:max_depth': 'None', 'classifier:gradient_boosting:max_leaf_nodes': 53, 'classifier:gradient_boosting:min_samples_leaf': 3, 'classifier:gradient_boosting:scoring': 'loss', 'classifier:gradient_boosting:tol': 1e-07, 'classifier:gradient_boosting:n_iter_no_change': 2, 'classifier:gradient_boosting:validation_fraction': 0.028963179629957626},\n",
            "dataset_properties={\n",
            "  'task': 1,\n",
            "  'sparse': False,\n",
            "  'multilabel': False,\n",
            "  'multiclass': False,\n",
            "  'target_type': 'classification',\n",
            "  'signed': False})),\n",
            "(0.080000, SimpleClassificationPipeline({'balancing:strategy': 'none', 'classifier:__choice__': 'sgd', 'data_preprocessing:categorical_transformer:categorical_encoding:__choice__': 'one_hot_encoding', 'data_preprocessing:categorical_transformer:category_coalescence:__choice__': 'minority_coalescer', 'data_preprocessing:numerical_transformer:imputation:strategy': 'most_frequent', 'data_preprocessing:numerical_transformer:rescaling:__choice__': 'power_transformer', 'feature_preprocessor:__choice__': 'no_preprocessing', 'classifier:sgd:alpha': 0.02107963254002283, 'classifier:sgd:average': 'False', 'classifier:sgd:fit_intercept': 'True', 'classifier:sgd:learning_rate': 'constant', 'classifier:sgd:loss': 'log', 'classifier:sgd:penalty': 'l1', 'classifier:sgd:tol': 0.0003239260893673641, 'data_preprocessing:categorical_transformer:category_coalescence:minority_coalescer:minimum_fraction': 0.03570713703976993, 'classifier:sgd:eta0': 0.00028739764474388415},\n",
            "dataset_properties={\n",
            "  'task': 1,\n",
            "  'sparse': False,\n",
            "  'multilabel': False,\n",
            "  'multiclass': False,\n",
            "  'target_type': 'classification',\n",
            "  'signed': False})),\n",
            "(0.060000, SimpleClassificationPipeline({'balancing:strategy': 'weighting', 'classifier:__choice__': 'sgd', 'data_preprocessing:categorical_transformer:categorical_encoding:__choice__': 'no_encoding', 'data_preprocessing:categorical_transformer:category_coalescence:__choice__': 'minority_coalescer', 'data_preprocessing:numerical_transformer:imputation:strategy': 'median', 'data_preprocessing:numerical_transformer:rescaling:__choice__': 'none', 'feature_preprocessor:__choice__': 'no_preprocessing', 'classifier:sgd:alpha': 7.141786719095833e-07, 'classifier:sgd:average': 'False', 'classifier:sgd:fit_intercept': 'True', 'classifier:sgd:learning_rate': 'constant', 'classifier:sgd:loss': 'modified_huber', 'classifier:sgd:penalty': 'l1', 'classifier:sgd:tol': 0.0007635608912433993, 'data_preprocessing:categorical_transformer:category_coalescence:minority_coalescer:minimum_fraction': 0.03953900962389068, 'classifier:sgd:epsilon': 0.00015033552263615262, 'classifier:sgd:eta0': 0.029945435129113067},\n",
            "dataset_properties={\n",
            "  'task': 1,\n",
            "  'sparse': False,\n",
            "  'multilabel': False,\n",
            "  'multiclass': False,\n",
            "  'target_type': 'classification',\n",
            "  'signed': False})),\n",
            "(0.060000, SimpleClassificationPipeline({'balancing:strategy': 'weighting', 'classifier:__choice__': 'sgd', 'data_preprocessing:categorical_transformer:categorical_encoding:__choice__': 'no_encoding', 'data_preprocessing:categorical_transformer:category_coalescence:__choice__': 'minority_coalescer', 'data_preprocessing:numerical_transformer:imputation:strategy': 'median', 'data_preprocessing:numerical_transformer:rescaling:__choice__': 'minmax', 'feature_preprocessor:__choice__': 'no_preprocessing', 'classifier:sgd:alpha': 7.869262294522064e-07, 'classifier:sgd:average': 'True', 'classifier:sgd:fit_intercept': 'True', 'classifier:sgd:learning_rate': 'constant', 'classifier:sgd:loss': 'modified_huber', 'classifier:sgd:penalty': 'l1', 'classifier:sgd:tol': 0.0034128844674240337, 'data_preprocessing:categorical_transformer:category_coalescence:minority_coalescer:minimum_fraction': 0.04446820472512775, 'classifier:sgd:epsilon': 1.542397190984477e-05, 'classifier:sgd:eta0': 0.00010808228032527367},\n",
            "dataset_properties={\n",
            "  'task': 1,\n",
            "  'sparse': False,\n",
            "  'multilabel': False,\n",
            "  'multiclass': False,\n",
            "  'target_type': 'classification',\n",
            "  'signed': False})),\n",
            "(0.060000, SimpleClassificationPipeline({'balancing:strategy': 'weighting', 'classifier:__choice__': 'gradient_boosting', 'data_preprocessing:categorical_transformer:categorical_encoding:__choice__': 'one_hot_encoding', 'data_preprocessing:categorical_transformer:category_coalescence:__choice__': 'minority_coalescer', 'data_preprocessing:numerical_transformer:imputation:strategy': 'most_frequent', 'data_preprocessing:numerical_transformer:rescaling:__choice__': 'minmax', 'feature_preprocessor:__choice__': 'no_preprocessing', 'classifier:gradient_boosting:early_stop': 'off', 'classifier:gradient_boosting:l2_regularization': 1.6132356867521379e-07, 'classifier:gradient_boosting:learning_rate': 0.011649686705694355, 'classifier:gradient_boosting:loss': 'auto', 'classifier:gradient_boosting:max_bins': 255, 'classifier:gradient_boosting:max_depth': 'None', 'classifier:gradient_boosting:max_leaf_nodes': 6, 'classifier:gradient_boosting:min_samples_leaf': 13, 'classifier:gradient_boosting:scoring': 'loss', 'classifier:gradient_boosting:tol': 1e-07, 'data_preprocessing:categorical_transformer:category_coalescence:minority_coalescer:minimum_fraction': 0.03401591040494907},\n",
            "dataset_properties={\n",
            "  'task': 1,\n",
            "  'sparse': False,\n",
            "  'multilabel': False,\n",
            "  'multiclass': False,\n",
            "  'target_type': 'classification',\n",
            "  'signed': False})),\n",
            "(0.060000, SimpleClassificationPipeline({'balancing:strategy': 'weighting', 'classifier:__choice__': 'sgd', 'data_preprocessing:categorical_transformer:categorical_encoding:__choice__': 'one_hot_encoding', 'data_preprocessing:categorical_transformer:category_coalescence:__choice__': 'minority_coalescer', 'data_preprocessing:numerical_transformer:imputation:strategy': 'median', 'data_preprocessing:numerical_transformer:rescaling:__choice__': 'none', 'feature_preprocessor:__choice__': 'no_preprocessing', 'classifier:sgd:alpha': 1.592678511944147e-06, 'classifier:sgd:average': 'True', 'classifier:sgd:fit_intercept': 'True', 'classifier:sgd:learning_rate': 'invscaling', 'classifier:sgd:loss': 'modified_huber', 'classifier:sgd:penalty': 'l2', 'classifier:sgd:tol': 6.622361153820758e-05, 'data_preprocessing:categorical_transformer:category_coalescence:minority_coalescer:minimum_fraction': 0.03953900962389068, 'classifier:sgd:epsilon': 0.00015033552263615262, 'classifier:sgd:eta0': 0.0679183204858264, 'classifier:sgd:power_t': 0.43124554551756594},\n",
            "dataset_properties={\n",
            "  'task': 1,\n",
            "  'sparse': False,\n",
            "  'multilabel': False,\n",
            "  'multiclass': False,\n",
            "  'target_type': 'classification',\n",
            "  'signed': False})),\n",
            "(0.040000, SimpleClassificationPipeline({'balancing:strategy': 'weighting', 'classifier:__choice__': 'sgd', 'data_preprocessing:categorical_transformer:categorical_encoding:__choice__': 'one_hot_encoding', 'data_preprocessing:categorical_transformer:category_coalescence:__choice__': 'minority_coalescer', 'data_preprocessing:numerical_transformer:imputation:strategy': 'median', 'data_preprocessing:numerical_transformer:rescaling:__choice__': 'none', 'feature_preprocessor:__choice__': 'no_preprocessing', 'classifier:sgd:alpha': 1.0345411862889236e-05, 'classifier:sgd:average': 'False', 'classifier:sgd:fit_intercept': 'True', 'classifier:sgd:learning_rate': 'constant', 'classifier:sgd:loss': 'modified_huber', 'classifier:sgd:penalty': 'l2', 'classifier:sgd:tol': 0.0034404556773751163, 'data_preprocessing:categorical_transformer:category_coalescence:minority_coalescer:minimum_fraction': 0.03675245640985304, 'classifier:sgd:epsilon': 0.00013902730820925614, 'classifier:sgd:eta0': 0.04842827468898453},\n",
            "dataset_properties={\n",
            "  'task': 1,\n",
            "  'sparse': False,\n",
            "  'multilabel': False,\n",
            "  'multiclass': False,\n",
            "  'target_type': 'classification',\n",
            "  'signed': False})),\n",
            "(0.040000, SimpleClassificationPipeline({'balancing:strategy': 'none', 'classifier:__choice__': 'sgd', 'data_preprocessing:categorical_transformer:categorical_encoding:__choice__': 'no_encoding', 'data_preprocessing:categorical_transformer:category_coalescence:__choice__': 'minority_coalescer', 'data_preprocessing:numerical_transformer:imputation:strategy': 'mean', 'data_preprocessing:numerical_transformer:rescaling:__choice__': 'none', 'feature_preprocessor:__choice__': 'no_preprocessing', 'classifier:sgd:alpha': 4.810868545156837e-07, 'classifier:sgd:average': 'False', 'classifier:sgd:fit_intercept': 'True', 'classifier:sgd:learning_rate': 'invscaling', 'classifier:sgd:loss': 'modified_huber', 'classifier:sgd:penalty': 'l2', 'classifier:sgd:tol': 6.622361153820758e-05, 'data_preprocessing:categorical_transformer:category_coalescence:minority_coalescer:minimum_fraction': 0.08363179771532923, 'classifier:sgd:epsilon': 0.00015033552263615262, 'classifier:sgd:eta0': 0.044517586979819605, 'classifier:sgd:power_t': 0.43124554551756594},\n",
            "dataset_properties={\n",
            "  'task': 1,\n",
            "  'sparse': False,\n",
            "  'multilabel': False,\n",
            "  'multiclass': False,\n",
            "  'target_type': 'classification',\n",
            "  'signed': False})),\n",
            "(0.040000, SimpleClassificationPipeline({'balancing:strategy': 'weighting', 'classifier:__choice__': 'gradient_boosting', 'data_preprocessing:categorical_transformer:categorical_encoding:__choice__': 'one_hot_encoding', 'data_preprocessing:categorical_transformer:category_coalescence:__choice__': 'no_coalescense', 'data_preprocessing:numerical_transformer:imputation:strategy': 'median', 'data_preprocessing:numerical_transformer:rescaling:__choice__': 'none', 'feature_preprocessor:__choice__': 'no_preprocessing', 'classifier:gradient_boosting:early_stop': 'train', 'classifier:gradient_boosting:l2_regularization': 1.4830502876603563e-10, 'classifier:gradient_boosting:learning_rate': 0.48304640845242713, 'classifier:gradient_boosting:loss': 'auto', 'classifier:gradient_boosting:max_bins': 255, 'classifier:gradient_boosting:max_depth': 'None', 'classifier:gradient_boosting:max_leaf_nodes': 38, 'classifier:gradient_boosting:min_samples_leaf': 13, 'classifier:gradient_boosting:scoring': 'loss', 'classifier:gradient_boosting:tol': 1e-07, 'classifier:gradient_boosting:n_iter_no_change': 10},\n",
            "dataset_properties={\n",
            "  'task': 1,\n",
            "  'sparse': False,\n",
            "  'multilabel': False,\n",
            "  'multiclass': False,\n",
            "  'target_type': 'classification',\n",
            "  'signed': False})),\n",
            "(0.020000, SimpleClassificationPipeline({'balancing:strategy': 'none', 'classifier:__choice__': 'sgd', 'data_preprocessing:categorical_transformer:categorical_encoding:__choice__': 'one_hot_encoding', 'data_preprocessing:categorical_transformer:category_coalescence:__choice__': 'minority_coalescer', 'data_preprocessing:numerical_transformer:imputation:strategy': 'mean', 'data_preprocessing:numerical_transformer:rescaling:__choice__': 'none', 'feature_preprocessor:__choice__': 'no_preprocessing', 'classifier:sgd:alpha': 1.3059960944509178e-07, 'classifier:sgd:average': 'False', 'classifier:sgd:fit_intercept': 'True', 'classifier:sgd:learning_rate': 'constant', 'classifier:sgd:loss': 'modified_huber', 'classifier:sgd:penalty': 'elasticnet', 'classifier:sgd:tol': 5.310225248360368e-05, 'data_preprocessing:categorical_transformer:category_coalescence:minority_coalescer:minimum_fraction': 0.05895687644665857, 'classifier:sgd:epsilon': 0.00010000000000000009, 'classifier:sgd:eta0': 0.05813984851286112, 'classifier:sgd:l1_ratio': 0.43802469949845774},\n",
            "dataset_properties={\n",
            "  'task': 1,\n",
            "  'sparse': False,\n",
            "  'multilabel': False,\n",
            "  'multiclass': False,\n",
            "  'target_type': 'classification',\n",
            "  'signed': False})),\n",
            "(0.020000, SimpleClassificationPipeline({'balancing:strategy': 'none', 'classifier:__choice__': 'sgd', 'data_preprocessing:categorical_transformer:categorical_encoding:__choice__': 'one_hot_encoding', 'data_preprocessing:categorical_transformer:category_coalescence:__choice__': 'minority_coalescer', 'data_preprocessing:numerical_transformer:imputation:strategy': 'most_frequent', 'data_preprocessing:numerical_transformer:rescaling:__choice__': 'none', 'feature_preprocessor:__choice__': 'no_preprocessing', 'classifier:sgd:alpha': 3.5011366611958735e-07, 'classifier:sgd:average': 'False', 'classifier:sgd:fit_intercept': 'True', 'classifier:sgd:learning_rate': 'constant', 'classifier:sgd:loss': 'modified_huber', 'classifier:sgd:penalty': 'elasticnet', 'classifier:sgd:tol': 9.287286485580606e-05, 'data_preprocessing:categorical_transformer:category_coalescence:minority_coalescer:minimum_fraction': 0.052533864826898535, 'classifier:sgd:epsilon': 0.00010000000000000009, 'classifier:sgd:eta0': 0.05813984851286112, 'classifier:sgd:l1_ratio': 0.14999999999999974},\n",
            "dataset_properties={\n",
            "  'task': 1,\n",
            "  'sparse': False,\n",
            "  'multilabel': False,\n",
            "  'multiclass': False,\n",
            "  'target_type': 'classification',\n",
            "  'signed': False})),\n",
            "(0.020000, SimpleClassificationPipeline({'balancing:strategy': 'none', 'classifier:__choice__': 'sgd', 'data_preprocessing:categorical_transformer:categorical_encoding:__choice__': 'one_hot_encoding', 'data_preprocessing:categorical_transformer:category_coalescence:__choice__': 'minority_coalescer', 'data_preprocessing:numerical_transformer:imputation:strategy': 'most_frequent', 'data_preprocessing:numerical_transformer:rescaling:__choice__': 'none', 'feature_preprocessor:__choice__': 'no_preprocessing', 'classifier:sgd:alpha': 5.035326295822136e-07, 'classifier:sgd:average': 'False', 'classifier:sgd:fit_intercept': 'True', 'classifier:sgd:learning_rate': 'constant', 'classifier:sgd:loss': 'log', 'classifier:sgd:penalty': 'elasticnet', 'classifier:sgd:tol': 3.371066509241842e-05, 'data_preprocessing:categorical_transformer:category_coalescence:minority_coalescer:minimum_fraction': 0.03700144107142199, 'classifier:sgd:eta0': 0.05813984851286112, 'classifier:sgd:l1_ratio': 0.053893895301937965},\n",
            "dataset_properties={\n",
            "  'task': 1,\n",
            "  'sparse': False,\n",
            "  'multilabel': False,\n",
            "  'multiclass': False,\n",
            "  'target_type': 'classification',\n",
            "  'signed': False})),\n",
            "(0.020000, SimpleClassificationPipeline({'balancing:strategy': 'none', 'classifier:__choice__': 'sgd', 'data_preprocessing:categorical_transformer:categorical_encoding:__choice__': 'no_encoding', 'data_preprocessing:categorical_transformer:category_coalescence:__choice__': 'minority_coalescer', 'data_preprocessing:numerical_transformer:imputation:strategy': 'mean', 'data_preprocessing:numerical_transformer:rescaling:__choice__': 'none', 'feature_preprocessor:__choice__': 'no_preprocessing', 'classifier:sgd:alpha': 4.431149877866532e-07, 'classifier:sgd:average': 'True', 'classifier:sgd:fit_intercept': 'True', 'classifier:sgd:learning_rate': 'constant', 'classifier:sgd:loss': 'log', 'classifier:sgd:penalty': 'elasticnet', 'classifier:sgd:tol': 2.41549868843109e-05, 'data_preprocessing:categorical_transformer:category_coalescence:minority_coalescer:minimum_fraction': 0.07445656843582855, 'classifier:sgd:eta0': 0.055163494429369644, 'classifier:sgd:l1_ratio': 0.14999999999999974},\n",
            "dataset_properties={\n",
            "  'task': 1,\n",
            "  'sparse': False,\n",
            "  'multilabel': False,\n",
            "  'multiclass': False,\n",
            "  'target_type': 'classification',\n",
            "  'signed': False})),\n",
            "(0.020000, SimpleClassificationPipeline({'balancing:strategy': 'weighting', 'classifier:__choice__': 'sgd', 'data_preprocessing:categorical_transformer:categorical_encoding:__choice__': 'one_hot_encoding', 'data_preprocessing:categorical_transformer:category_coalescence:__choice__': 'minority_coalescer', 'data_preprocessing:numerical_transformer:imputation:strategy': 'most_frequent', 'data_preprocessing:numerical_transformer:rescaling:__choice__': 'none', 'feature_preprocessor:__choice__': 'no_preprocessing', 'classifier:sgd:alpha': 1.4348713416978081e-06, 'classifier:sgd:average': 'False', 'classifier:sgd:fit_intercept': 'True', 'classifier:sgd:learning_rate': 'constant', 'classifier:sgd:loss': 'modified_huber', 'classifier:sgd:penalty': 'l1', 'classifier:sgd:tol': 0.00022429877464264197, 'data_preprocessing:categorical_transformer:category_coalescence:minority_coalescer:minimum_fraction': 0.03595188779925468, 'classifier:sgd:epsilon': 0.00040205474053786415, 'classifier:sgd:eta0': 0.0034046522542053727},\n",
            "dataset_properties={\n",
            "  'task': 1,\n",
            "  'sparse': False,\n",
            "  'multilabel': False,\n",
            "  'multiclass': False,\n",
            "  'target_type': 'classification',\n",
            "  'signed': False})),\n",
            "(0.020000, SimpleClassificationPipeline({'balancing:strategy': 'weighting', 'classifier:__choice__': 'sgd', 'data_preprocessing:categorical_transformer:categorical_encoding:__choice__': 'one_hot_encoding', 'data_preprocessing:categorical_transformer:category_coalescence:__choice__': 'minority_coalescer', 'data_preprocessing:numerical_transformer:imputation:strategy': 'mean', 'data_preprocessing:numerical_transformer:rescaling:__choice__': 'none', 'feature_preprocessor:__choice__': 'no_preprocessing', 'classifier:sgd:alpha': 8.617395362894142e-07, 'classifier:sgd:average': 'True', 'classifier:sgd:fit_intercept': 'True', 'classifier:sgd:learning_rate': 'constant', 'classifier:sgd:loss': 'modified_huber', 'classifier:sgd:penalty': 'l1', 'classifier:sgd:tol': 0.013826548093998392, 'data_preprocessing:categorical_transformer:category_coalescence:minority_coalescer:minimum_fraction': 0.09478736632222003, 'classifier:sgd:epsilon': 0.024907218627538343, 'classifier:sgd:eta0': 0.03852520621888114},\n",
            "dataset_properties={\n",
            "  'task': 1,\n",
            "  'sparse': False,\n",
            "  'multilabel': False,\n",
            "  'multiclass': False,\n",
            "  'target_type': 'classification',\n",
            "  'signed': False})),\n",
            "(0.020000, SimpleClassificationPipeline({'balancing:strategy': 'none', 'classifier:__choice__': 'sgd', 'data_preprocessing:categorical_transformer:categorical_encoding:__choice__': 'no_encoding', 'data_preprocessing:categorical_transformer:category_coalescence:__choice__': 'minority_coalescer', 'data_preprocessing:numerical_transformer:imputation:strategy': 'median', 'data_preprocessing:numerical_transformer:rescaling:__choice__': 'minmax', 'feature_preprocessor:__choice__': 'no_preprocessing', 'classifier:sgd:alpha': 9.880207400316209e-05, 'classifier:sgd:average': 'False', 'classifier:sgd:fit_intercept': 'True', 'classifier:sgd:learning_rate': 'invscaling', 'classifier:sgd:loss': 'modified_huber', 'classifier:sgd:penalty': 'l1', 'classifier:sgd:tol': 1.9284684492384123e-05, 'data_preprocessing:categorical_transformer:category_coalescence:minority_coalescer:minimum_fraction': 0.08100277193391575, 'classifier:sgd:epsilon': 0.006744446428194996, 'classifier:sgd:eta0': 0.024067240347857774, 'classifier:sgd:power_t': 0.26136162758718495},\n",
            "dataset_properties={\n",
            "  'task': 1,\n",
            "  'sparse': False,\n",
            "  'multilabel': False,\n",
            "  'multiclass': False,\n",
            "  'target_type': 'classification',\n",
            "  'signed': False})),\n",
            "(0.020000, SimpleClassificationPipeline({'balancing:strategy': 'weighting', 'classifier:__choice__': 'sgd', 'data_preprocessing:categorical_transformer:categorical_encoding:__choice__': 'no_encoding', 'data_preprocessing:categorical_transformer:category_coalescence:__choice__': 'no_coalescense', 'data_preprocessing:numerical_transformer:imputation:strategy': 'most_frequent', 'data_preprocessing:numerical_transformer:rescaling:__choice__': 'none', 'feature_preprocessor:__choice__': 'no_preprocessing', 'classifier:sgd:alpha': 4.777371022134526e-07, 'classifier:sgd:average': 'False', 'classifier:sgd:fit_intercept': 'True', 'classifier:sgd:learning_rate': 'constant', 'classifier:sgd:loss': 'modified_huber', 'classifier:sgd:penalty': 'l1', 'classifier:sgd:tol': 0.017008047804714703, 'classifier:sgd:epsilon': 0.02944471639760728, 'classifier:sgd:eta0': 0.03187248984491071},\n",
            "dataset_properties={\n",
            "  'task': 1,\n",
            "  'sparse': False,\n",
            "  'multilabel': False,\n",
            "  'multiclass': False,\n",
            "  'target_type': 'classification',\n",
            "  'signed': False})),\n",
            "]\n"
          ],
          "name": "stdout"
        }
      ]
    },
    {
      "cell_type": "markdown",
      "metadata": {
        "id": "Cr8DGr66Bg0Y"
      },
      "source": [
        "# =========================================================\n",
        "# Old Results and should be ignored"
      ]
    },
    {
      "cell_type": "code",
      "metadata": {
        "colab": {
          "base_uri": "https://localhost:8080/"
        },
        "id": "M-h4KOEvJH0X",
        "outputId": "91defafa-66d5-4e89-e64e-475f3e6e379b"
      },
      "source": [
        "# 21600 7200 Estimators and Preprocess off\n",
        "y_pred = model.predict(X_test)\n",
        "testing_accuracy = accuracy_score(y_test, y_pred)\n",
        "print(\"Test Accuracy score {0}\".format(testing_accuracy))"
      ],
      "execution_count": null,
      "outputs": [
        {
          "output_type": "stream",
          "text": [
            "Test Accuracy score 0.435\n"
          ],
          "name": "stdout"
        }
      ]
    },
    {
      "cell_type": "code",
      "metadata": {
        "colab": {
          "base_uri": "https://localhost:8080/"
        },
        "id": "i6q8vuc9mM2d",
        "outputId": "21bd02a5-405c-4aea-eb3b-128d773a1046"
      },
      "source": [
        "# 3600 1800 No Estimators and Preprocess on\n",
        "y_pred = model.predict(X_test)\n",
        "testing_accuracy = accuracy_score(y_test, y_pred)\n",
        "print(\"Test Accuracy score {0}\".format(testing_accuracy))"
      ],
      "execution_count": null,
      "outputs": [
        {
          "output_type": "stream",
          "text": [
            "Test Accuracy score 0.532\n"
          ],
          "name": "stdout"
        }
      ]
    },
    {
      "cell_type": "code",
      "metadata": {
        "colab": {
          "base_uri": "https://localhost:8080/"
        },
        "id": "Z7CTxvgK8Yv6",
        "outputId": "fff2ca18-c9d3-4b17-dcf2-7147c89d2337"
      },
      "source": [
        "# 3600 1800 No Estimators and Preprocess on\n",
        "y_pred = model.predict(X_test)\n",
        "testing_accuracy = accuracy_score(y_test, y_pred)\n",
        "print(\"Test Accuracy score {0}\".format(testing_accuracy))"
      ],
      "execution_count": null,
      "outputs": [
        {
          "output_type": "stream",
          "text": [
            "Test Accuracy score 0.492\n"
          ],
          "name": "stdout"
        }
      ]
    },
    {
      "cell_type": "code",
      "metadata": {
        "colab": {
          "base_uri": "https://localhost:8080/"
        },
        "id": "a3UZMo8dHzfZ",
        "outputId": "60e21829-e349-400d-ee3b-d94e2e2dfd48"
      },
      "source": [
        "# This was done with tt = 3600 and pl = 360\n",
        "y_pred = model.predict(X_test)\n",
        "testing_accuracy = accuracy_score(y_test, y_pred)\n",
        "print(\"Test Accuracy score {0}\".format(testing_accuracy))"
      ],
      "execution_count": null,
      "outputs": [
        {
          "output_type": "stream",
          "text": [
            "Test Accuracy score 0.492\n"
          ],
          "name": "stdout"
        }
      ]
    },
    {
      "cell_type": "code",
      "metadata": {
        "id": "j4ptneBc5tAN"
      },
      "source": [
        "# This funciton handles celaning text\n",
        "def clean_text(text):\n",
        "    # Create the lemmatizer\n",
        "    wordnet_lemmatizer = WordNetLemmatizer()\n",
        "    \n",
        "    # Get rid of non alpha characters except \"'\" as it is needed for the lemment\n",
        "    text = \"\".join(c for c in text if c.isalnum() or c == \" \" or \"'\")\n",
        "    \n",
        "    # Get rid of capitals\n",
        "    text = text.lower()\n",
        "    \n",
        "    # Tokenize the words    \n",
        "    # Create tokens of each word\n",
        "    token_text = word_tokenize(text)\n",
        "    \n",
        "    # Get rid of any piece of text that isn't over 2 characters\n",
        "    token_text = [t for t in token_text if len(t) > 2] \n",
        "    \n",
        "    # Put words in base form by doing lemmatization\n",
        "    token_text = [wordnet_lemmatizer.lemmatize(t) for t in token_text]\n",
        "\n",
        "    # Remove stopwords\n",
        "    token_text = [t for t in token_text if t not in stopwords]\n",
        "    \n",
        "    # Return the tokens\n",
        "    return token_text"
      ],
      "execution_count": null,
      "outputs": []
    },
    {
      "cell_type": "code",
      "metadata": {
        "id": "xu5dFDM75tjR"
      },
      "source": [
        "# This function will get the term frequencies for word in the review\n",
        "# TF = Term I frequency in document/total words in document\n",
        "def calc_tf(term_count, review_corpus):\n",
        "    # A dictionary of all the term frequencies found\n",
        "    tf_freq = dict.fromkeys(term_count.keys(), 0)   \n",
        "    \n",
        "    # Review corpus is a tokenized list so the total words iteh length\n",
        "    total_words = len(review_corpus)\n",
        "    \n",
        "    # Calculate the term frequency for each word\n",
        "    for word, count in term_count.items():\n",
        "        tf_freq[word] = count/total_words\n",
        "        \n",
        "    return tf_freq"
      ],
      "execution_count": null,
      "outputs": []
    },
    {
      "cell_type": "code",
      "metadata": {
        "colab": {
          "base_uri": "https://localhost:8080/"
        },
        "id": "-9T-ZRaSHiSD",
        "outputId": "db4253a8-5a74-4319-c844-e3356c0e6b2a"
      },
      "source": [
        "# Gives information and should show best model\n",
        "model.cv_results_['params'][np.argmax(model.cv_results_['mean_test_score'])]"
      ],
      "execution_count": null,
      "outputs": [
        {
          "output_type": "execute_result",
          "data": {
            "text/plain": [
              "{'balancing:strategy': 'none',\n",
              " 'classifier:__choice__': 'random_forest',\n",
              " 'classifier:random_forest:bootstrap': 'True',\n",
              " 'classifier:random_forest:criterion': 'gini',\n",
              " 'classifier:random_forest:max_depth': 'None',\n",
              " 'classifier:random_forest:max_features': 0.5,\n",
              " 'classifier:random_forest:max_leaf_nodes': 'None',\n",
              " 'classifier:random_forest:min_impurity_decrease': 0.0,\n",
              " 'classifier:random_forest:min_samples_leaf': 1,\n",
              " 'classifier:random_forest:min_samples_split': 2,\n",
              " 'classifier:random_forest:min_weight_fraction_leaf': 0.0,\n",
              " 'data_preprocessing:categorical_transformer:categorical_encoding:__choice__': 'one_hot_encoding',\n",
              " 'data_preprocessing:categorical_transformer:category_coalescence:__choice__': 'minority_coalescer',\n",
              " 'data_preprocessing:categorical_transformer:category_coalescence:minority_coalescer:minimum_fraction': 0.01,\n",
              " 'data_preprocessing:numerical_transformer:imputation:strategy': 'mean',\n",
              " 'data_preprocessing:numerical_transformer:rescaling:__choice__': 'standardize',\n",
              " 'feature_preprocessor:__choice__': 'no_preprocessing'}"
            ]
          },
          "metadata": {
            "tags": []
          },
          "execution_count": 53
        }
      ]
    },
    {
      "cell_type": "markdown",
      "metadata": {
        "id": "JVjxz1-up_Pa"
      },
      "source": [
        "# =============================================================="
      ]
    },
    {
      "cell_type": "markdown",
      "metadata": {
        "id": "QWh_aZ0wB_0o"
      },
      "source": [
        "# Information about model\n",
        "https://automl.github.io/auto-sklearn/master/examples/40_advanced/example_get_pipeline_components.html#sphx-glr-examples-40-advanced-example-get-pipeline-components-py"
      ]
    },
    {
      "cell_type": "code",
      "metadata": {
        "colab": {
          "base_uri": "https://localhost:8080/",
          "height": 86
        },
        "id": "GKV_35LC8NB3",
        "outputId": "3cfe0c69-907e-43be-9885-9f6bf4a298b4"
      },
      "source": [
        "model.sprint_statistics()"
      ],
      "execution_count": null,
      "outputs": [
        {
          "output_type": "execute_result",
          "data": {
            "application/vnd.google.colaboratory.intrinsic+json": {
              "type": "string"
            },
            "text/plain": [
              "'auto-sklearn results:\\n  Dataset name: 41f0bf74-866b-11eb-8257-0242ac1c0002\\n  Metric: accuracy\\n  Number of target algorithm runs: 2599\\n  Number of successful target algorithm runs: 0\\n  Number of crashed target algorithm runs: 0\\n  Number of target algorithms that exceeded the time limit: 0\\n  Number of target algorithms that exceeded the memory limit: 2599\\n'"
            ]
          },
          "metadata": {
            "tags": []
          },
          "execution_count": 19
        }
      ]
    },
    {
      "cell_type": "code",
      "metadata": {
        "colab": {
          "base_uri": "https://localhost:8080/",
          "height": 306
        },
        "id": "N0cuDs7g-dHd",
        "outputId": "78ee3237-11f0-4f45-ca97-17487a84dbd1"
      },
      "source": [
        "print(model.get_models_with_weights())"
      ],
      "execution_count": null,
      "outputs": [
        {
          "output_type": "error",
          "ename": "AttributeError",
          "evalue": "ignored",
          "traceback": [
            "\u001b[0;31m---------------------------------------------------------------------------\u001b[0m",
            "\u001b[0;31mAttributeError\u001b[0m                            Traceback (most recent call last)",
            "\u001b[0;32m<ipython-input-29-c4a7197e2c32>\u001b[0m in \u001b[0;36m<module>\u001b[0;34m()\u001b[0m\n\u001b[0;32m----> 1\u001b[0;31m \u001b[0mprint\u001b[0m\u001b[0;34m(\u001b[0m\u001b[0mmodel\u001b[0m\u001b[0;34m.\u001b[0m\u001b[0mget_models_with_weights\u001b[0m\u001b[0;34m(\u001b[0m\u001b[0;34m)\u001b[0m\u001b[0;34m)\u001b[0m\u001b[0;34m\u001b[0m\u001b[0;34m\u001b[0m\u001b[0m\n\u001b[0m",
            "\u001b[0;32m/usr/local/lib/python3.7/dist-packages/sklearn/base.py\u001b[0m in \u001b[0;36m__repr__\u001b[0;34m(self, N_CHAR_MAX)\u001b[0m\n\u001b[1;32m    258\u001b[0m             n_max_elements_to_show=N_MAX_ELEMENTS_TO_SHOW)\n\u001b[1;32m    259\u001b[0m \u001b[0;34m\u001b[0m\u001b[0m\n\u001b[0;32m--> 260\u001b[0;31m         \u001b[0mrepr_\u001b[0m \u001b[0;34m=\u001b[0m \u001b[0mpp\u001b[0m\u001b[0;34m.\u001b[0m\u001b[0mpformat\u001b[0m\u001b[0;34m(\u001b[0m\u001b[0mself\u001b[0m\u001b[0;34m)\u001b[0m\u001b[0;34m\u001b[0m\u001b[0;34m\u001b[0m\u001b[0m\n\u001b[0m\u001b[1;32m    261\u001b[0m \u001b[0;34m\u001b[0m\u001b[0m\n\u001b[1;32m    262\u001b[0m         \u001b[0;31m# Use bruteforce ellipsis when there are a lot of non-blank characters\u001b[0m\u001b[0;34m\u001b[0m\u001b[0;34m\u001b[0m\u001b[0;34m\u001b[0m\u001b[0m\n",
            "\u001b[0;32m/usr/lib/python3.7/pprint.py\u001b[0m in \u001b[0;36mpformat\u001b[0;34m(self, object)\u001b[0m\n\u001b[1;32m    142\u001b[0m     \u001b[0;32mdef\u001b[0m \u001b[0mpformat\u001b[0m\u001b[0;34m(\u001b[0m\u001b[0mself\u001b[0m\u001b[0;34m,\u001b[0m \u001b[0mobject\u001b[0m\u001b[0;34m)\u001b[0m\u001b[0;34m:\u001b[0m\u001b[0;34m\u001b[0m\u001b[0;34m\u001b[0m\u001b[0m\n\u001b[1;32m    143\u001b[0m         \u001b[0msio\u001b[0m \u001b[0;34m=\u001b[0m \u001b[0m_StringIO\u001b[0m\u001b[0;34m(\u001b[0m\u001b[0;34m)\u001b[0m\u001b[0;34m\u001b[0m\u001b[0;34m\u001b[0m\u001b[0m\n\u001b[0;32m--> 144\u001b[0;31m         \u001b[0mself\u001b[0m\u001b[0;34m.\u001b[0m\u001b[0m_format\u001b[0m\u001b[0;34m(\u001b[0m\u001b[0mobject\u001b[0m\u001b[0;34m,\u001b[0m \u001b[0msio\u001b[0m\u001b[0;34m,\u001b[0m \u001b[0;36m0\u001b[0m\u001b[0;34m,\u001b[0m \u001b[0;36m0\u001b[0m\u001b[0;34m,\u001b[0m \u001b[0;34m{\u001b[0m\u001b[0;34m}\u001b[0m\u001b[0;34m,\u001b[0m \u001b[0;36m0\u001b[0m\u001b[0;34m)\u001b[0m\u001b[0;34m\u001b[0m\u001b[0;34m\u001b[0m\u001b[0m\n\u001b[0m\u001b[1;32m    145\u001b[0m         \u001b[0;32mreturn\u001b[0m \u001b[0msio\u001b[0m\u001b[0;34m.\u001b[0m\u001b[0mgetvalue\u001b[0m\u001b[0;34m(\u001b[0m\u001b[0;34m)\u001b[0m\u001b[0;34m\u001b[0m\u001b[0;34m\u001b[0m\u001b[0m\n\u001b[1;32m    146\u001b[0m \u001b[0;34m\u001b[0m\u001b[0m\n",
            "\u001b[0;32m/usr/lib/python3.7/pprint.py\u001b[0m in \u001b[0;36m_format\u001b[0;34m(self, object, stream, indent, allowance, context, level)\u001b[0m\n\u001b[1;32m    159\u001b[0m             \u001b[0mself\u001b[0m\u001b[0;34m.\u001b[0m\u001b[0m_readable\u001b[0m \u001b[0;34m=\u001b[0m \u001b[0;32mFalse\u001b[0m\u001b[0;34m\u001b[0m\u001b[0;34m\u001b[0m\u001b[0m\n\u001b[1;32m    160\u001b[0m             \u001b[0;32mreturn\u001b[0m\u001b[0;34m\u001b[0m\u001b[0;34m\u001b[0m\u001b[0m\n\u001b[0;32m--> 161\u001b[0;31m         \u001b[0mrep\u001b[0m \u001b[0;34m=\u001b[0m \u001b[0mself\u001b[0m\u001b[0;34m.\u001b[0m\u001b[0m_repr\u001b[0m\u001b[0;34m(\u001b[0m\u001b[0mobject\u001b[0m\u001b[0;34m,\u001b[0m \u001b[0mcontext\u001b[0m\u001b[0;34m,\u001b[0m \u001b[0mlevel\u001b[0m\u001b[0;34m)\u001b[0m\u001b[0;34m\u001b[0m\u001b[0;34m\u001b[0m\u001b[0m\n\u001b[0m\u001b[1;32m    162\u001b[0m         \u001b[0mmax_width\u001b[0m \u001b[0;34m=\u001b[0m \u001b[0mself\u001b[0m\u001b[0;34m.\u001b[0m\u001b[0m_width\u001b[0m \u001b[0;34m-\u001b[0m \u001b[0mindent\u001b[0m \u001b[0;34m-\u001b[0m \u001b[0mallowance\u001b[0m\u001b[0;34m\u001b[0m\u001b[0;34m\u001b[0m\u001b[0m\n\u001b[1;32m    163\u001b[0m         \u001b[0;32mif\u001b[0m \u001b[0mlen\u001b[0m\u001b[0;34m(\u001b[0m\u001b[0mrep\u001b[0m\u001b[0;34m)\u001b[0m \u001b[0;34m>\u001b[0m \u001b[0mmax_width\u001b[0m\u001b[0;34m:\u001b[0m\u001b[0;34m\u001b[0m\u001b[0;34m\u001b[0m\u001b[0m\n",
            "\u001b[0;32m/usr/lib/python3.7/pprint.py\u001b[0m in \u001b[0;36m_repr\u001b[0;34m(self, object, context, level)\u001b[0m\n\u001b[1;32m    391\u001b[0m     \u001b[0;32mdef\u001b[0m \u001b[0m_repr\u001b[0m\u001b[0;34m(\u001b[0m\u001b[0mself\u001b[0m\u001b[0;34m,\u001b[0m \u001b[0mobject\u001b[0m\u001b[0;34m,\u001b[0m \u001b[0mcontext\u001b[0m\u001b[0;34m,\u001b[0m \u001b[0mlevel\u001b[0m\u001b[0;34m)\u001b[0m\u001b[0;34m:\u001b[0m\u001b[0;34m\u001b[0m\u001b[0;34m\u001b[0m\u001b[0m\n\u001b[1;32m    392\u001b[0m         repr, readable, recursive = self.format(object, context.copy(),\n\u001b[0;32m--> 393\u001b[0;31m                                                 self._depth, level)\n\u001b[0m\u001b[1;32m    394\u001b[0m         \u001b[0;32mif\u001b[0m \u001b[0;32mnot\u001b[0m \u001b[0mreadable\u001b[0m\u001b[0;34m:\u001b[0m\u001b[0;34m\u001b[0m\u001b[0;34m\u001b[0m\u001b[0m\n\u001b[1;32m    395\u001b[0m             \u001b[0mself\u001b[0m\u001b[0;34m.\u001b[0m\u001b[0m_readable\u001b[0m \u001b[0;34m=\u001b[0m \u001b[0;32mFalse\u001b[0m\u001b[0;34m\u001b[0m\u001b[0;34m\u001b[0m\u001b[0m\n",
            "\u001b[0;32m/usr/local/lib/python3.7/dist-packages/sklearn/utils/_pprint.py\u001b[0m in \u001b[0;36mformat\u001b[0;34m(self, object, context, maxlevels, level)\u001b[0m\n\u001b[1;32m    179\u001b[0m     \u001b[0;32mdef\u001b[0m \u001b[0mformat\u001b[0m\u001b[0;34m(\u001b[0m\u001b[0mself\u001b[0m\u001b[0;34m,\u001b[0m \u001b[0mobject\u001b[0m\u001b[0;34m,\u001b[0m \u001b[0mcontext\u001b[0m\u001b[0;34m,\u001b[0m \u001b[0mmaxlevels\u001b[0m\u001b[0;34m,\u001b[0m \u001b[0mlevel\u001b[0m\u001b[0;34m)\u001b[0m\u001b[0;34m:\u001b[0m\u001b[0;34m\u001b[0m\u001b[0;34m\u001b[0m\u001b[0m\n\u001b[1;32m    180\u001b[0m         return _safe_repr(object, context, maxlevels, level,\n\u001b[0;32m--> 181\u001b[0;31m                           changed_only=self._changed_only)\n\u001b[0m\u001b[1;32m    182\u001b[0m \u001b[0;34m\u001b[0m\u001b[0m\n\u001b[1;32m    183\u001b[0m     def _pprint_estimator(self, object, stream, indent, allowance, context,\n",
            "\u001b[0;32m/usr/local/lib/python3.7/dist-packages/sklearn/utils/_pprint.py\u001b[0m in \u001b[0;36m_safe_repr\u001b[0;34m(object, context, maxlevels, level, changed_only)\u001b[0m\n\u001b[1;32m    423\u001b[0m         \u001b[0mrecursive\u001b[0m \u001b[0;34m=\u001b[0m \u001b[0;32mFalse\u001b[0m\u001b[0;34m\u001b[0m\u001b[0;34m\u001b[0m\u001b[0m\n\u001b[1;32m    424\u001b[0m         \u001b[0;32mif\u001b[0m \u001b[0mchanged_only\u001b[0m\u001b[0;34m:\u001b[0m\u001b[0;34m\u001b[0m\u001b[0;34m\u001b[0m\u001b[0m\n\u001b[0;32m--> 425\u001b[0;31m             \u001b[0mparams\u001b[0m \u001b[0;34m=\u001b[0m \u001b[0m_changed_params\u001b[0m\u001b[0;34m(\u001b[0m\u001b[0mobject\u001b[0m\u001b[0;34m)\u001b[0m\u001b[0;34m\u001b[0m\u001b[0;34m\u001b[0m\u001b[0m\n\u001b[0m\u001b[1;32m    426\u001b[0m         \u001b[0;32melse\u001b[0m\u001b[0;34m:\u001b[0m\u001b[0;34m\u001b[0m\u001b[0;34m\u001b[0m\u001b[0m\n\u001b[1;32m    427\u001b[0m             \u001b[0mparams\u001b[0m \u001b[0;34m=\u001b[0m \u001b[0mobject\u001b[0m\u001b[0;34m.\u001b[0m\u001b[0mget_params\u001b[0m\u001b[0;34m(\u001b[0m\u001b[0mdeep\u001b[0m\u001b[0;34m=\u001b[0m\u001b[0;32mFalse\u001b[0m\u001b[0;34m)\u001b[0m\u001b[0;34m\u001b[0m\u001b[0;34m\u001b[0m\u001b[0m\n",
            "\u001b[0;32m/usr/local/lib/python3.7/dist-packages/sklearn/utils/_pprint.py\u001b[0m in \u001b[0;36m_changed_params\u001b[0;34m(estimator)\u001b[0m\n\u001b[1;32m     89\u001b[0m     estimator with non-default values.\"\"\"\n\u001b[1;32m     90\u001b[0m \u001b[0;34m\u001b[0m\u001b[0m\n\u001b[0;32m---> 91\u001b[0;31m     \u001b[0mparams\u001b[0m \u001b[0;34m=\u001b[0m \u001b[0mestimator\u001b[0m\u001b[0;34m.\u001b[0m\u001b[0mget_params\u001b[0m\u001b[0;34m(\u001b[0m\u001b[0mdeep\u001b[0m\u001b[0;34m=\u001b[0m\u001b[0;32mFalse\u001b[0m\u001b[0;34m)\u001b[0m\u001b[0;34m\u001b[0m\u001b[0;34m\u001b[0m\u001b[0m\n\u001b[0m\u001b[1;32m     92\u001b[0m     init_func = getattr(estimator.__init__, 'deprecated_original',\n\u001b[1;32m     93\u001b[0m                         estimator.__init__)\n",
            "\u001b[0;32m/usr/local/lib/python3.7/dist-packages/sklearn/base.py\u001b[0m in \u001b[0;36mget_params\u001b[0;34m(self, deep)\u001b[0m\n\u001b[1;32m    193\u001b[0m         \u001b[0mout\u001b[0m \u001b[0;34m=\u001b[0m \u001b[0mdict\u001b[0m\u001b[0;34m(\u001b[0m\u001b[0;34m)\u001b[0m\u001b[0;34m\u001b[0m\u001b[0;34m\u001b[0m\u001b[0m\n\u001b[1;32m    194\u001b[0m         \u001b[0;32mfor\u001b[0m \u001b[0mkey\u001b[0m \u001b[0;32min\u001b[0m \u001b[0mself\u001b[0m\u001b[0;34m.\u001b[0m\u001b[0m_get_param_names\u001b[0m\u001b[0;34m(\u001b[0m\u001b[0;34m)\u001b[0m\u001b[0;34m:\u001b[0m\u001b[0;34m\u001b[0m\u001b[0;34m\u001b[0m\u001b[0m\n\u001b[0;32m--> 195\u001b[0;31m             \u001b[0mvalue\u001b[0m \u001b[0;34m=\u001b[0m \u001b[0mgetattr\u001b[0m\u001b[0;34m(\u001b[0m\u001b[0mself\u001b[0m\u001b[0;34m,\u001b[0m \u001b[0mkey\u001b[0m\u001b[0;34m)\u001b[0m\u001b[0;34m\u001b[0m\u001b[0;34m\u001b[0m\u001b[0m\n\u001b[0m\u001b[1;32m    196\u001b[0m             \u001b[0;32mif\u001b[0m \u001b[0mdeep\u001b[0m \u001b[0;32mand\u001b[0m \u001b[0mhasattr\u001b[0m\u001b[0;34m(\u001b[0m\u001b[0mvalue\u001b[0m\u001b[0;34m,\u001b[0m \u001b[0;34m'get_params'\u001b[0m\u001b[0;34m)\u001b[0m\u001b[0;34m:\u001b[0m\u001b[0;34m\u001b[0m\u001b[0;34m\u001b[0m\u001b[0m\n\u001b[1;32m    197\u001b[0m                 \u001b[0mdeep_items\u001b[0m \u001b[0;34m=\u001b[0m \u001b[0mvalue\u001b[0m\u001b[0;34m.\u001b[0m\u001b[0mget_params\u001b[0m\u001b[0;34m(\u001b[0m\u001b[0;34m)\u001b[0m\u001b[0;34m.\u001b[0m\u001b[0mitems\u001b[0m\u001b[0;34m(\u001b[0m\u001b[0;34m)\u001b[0m\u001b[0;34m\u001b[0m\u001b[0;34m\u001b[0m\u001b[0m\n",
            "\u001b[0;31mAttributeError\u001b[0m: 'MyDummyClassifier' object has no attribute 'dataset_properties'"
          ]
        }
      ]
    },
    {
      "cell_type": "code",
      "metadata": {
        "colab": {
          "base_uri": "https://localhost:8080/"
        },
        "id": "1xnUoemc_wur",
        "outputId": "ba5c81e6-c4d1-40e3-831f-b784d9134e3d"
      },
      "source": [
        "model.get_params()"
      ],
      "execution_count": null,
      "outputs": [
        {
          "output_type": "execute_result",
          "data": {
            "text/plain": [
              "{'dask_client': None,\n",
              " 'delete_output_folder_after_terminate': True,\n",
              " 'delete_tmp_folder_after_terminate': True,\n",
              " 'disable_evaluator_output': False,\n",
              " 'ensemble_nbest': 50,\n",
              " 'ensemble_size': 50,\n",
              " 'exclude_estimators': None,\n",
              " 'exclude_preprocessors': None,\n",
              " 'get_smac_object_callback': None,\n",
              " 'include_estimators': None,\n",
              " 'include_preprocessors': None,\n",
              " 'initial_configurations_via_metalearning': 25,\n",
              " 'load_models': True,\n",
              " 'logging_config': None,\n",
              " 'max_models_on_disc': 50,\n",
              " 'memory_limit': 3072,\n",
              " 'metadata_directory': None,\n",
              " 'metric': None,\n",
              " 'n_jobs': None,\n",
              " 'output_folder': None,\n",
              " 'per_run_time_limit': 7200,\n",
              " 'resampling_strategy': 'holdout',\n",
              " 'resampling_strategy_arguments': None,\n",
              " 'scoring_functions': None,\n",
              " 'seed': 1,\n",
              " 'smac_scenario_args': None,\n",
              " 'time_left_for_this_task': 21600,\n",
              " 'tmp_folder': None}"
            ]
          },
          "metadata": {
            "tags": []
          },
          "execution_count": 27
        }
      ]
    },
    {
      "cell_type": "code",
      "metadata": {
        "colab": {
          "base_uri": "https://localhost:8080/",
          "height": 306
        },
        "id": "6yL9h66p_1Zd",
        "outputId": "887eae6f-c666-4b04-89d4-5b5ff37a93ac"
      },
      "source": [
        "print(model.show_models())"
      ],
      "execution_count": null,
      "outputs": [
        {
          "output_type": "error",
          "ename": "AttributeError",
          "evalue": "ignored",
          "traceback": [
            "\u001b[0;31m---------------------------------------------------------------------------\u001b[0m",
            "\u001b[0;31mAttributeError\u001b[0m                            Traceback (most recent call last)",
            "\u001b[0;32m<ipython-input-36-74f70b715013>\u001b[0m in \u001b[0;36m<module>\u001b[0;34m()\u001b[0m\n\u001b[0;32m----> 1\u001b[0;31m \u001b[0mprint\u001b[0m\u001b[0;34m(\u001b[0m\u001b[0mmodel\u001b[0m\u001b[0;34m.\u001b[0m\u001b[0mshow_models\u001b[0m\u001b[0;34m(\u001b[0m\u001b[0;34m)\u001b[0m\u001b[0;34m)\u001b[0m\u001b[0;34m\u001b[0m\u001b[0;34m\u001b[0m\u001b[0m\n\u001b[0m",
            "\u001b[0;32m/usr/local/lib/python3.7/dist-packages/autosklearn/estimators.py\u001b[0m in \u001b[0;36mshow_models\u001b[0;34m(self)\u001b[0m\n\u001b[1;32m    469\u001b[0m \u001b[0;34m\u001b[0m\u001b[0m\n\u001b[1;32m    470\u001b[0m         \"\"\"\n\u001b[0;32m--> 471\u001b[0;31m         \u001b[0;32mreturn\u001b[0m \u001b[0mself\u001b[0m\u001b[0;34m.\u001b[0m\u001b[0mautoml_\u001b[0m\u001b[0;34m.\u001b[0m\u001b[0mshow_models\u001b[0m\u001b[0;34m(\u001b[0m\u001b[0;34m)\u001b[0m\u001b[0;34m\u001b[0m\u001b[0;34m\u001b[0m\u001b[0m\n\u001b[0m\u001b[1;32m    472\u001b[0m \u001b[0;34m\u001b[0m\u001b[0m\n\u001b[1;32m    473\u001b[0m     \u001b[0;32mdef\u001b[0m \u001b[0mget_models_with_weights\u001b[0m\u001b[0;34m(\u001b[0m\u001b[0mself\u001b[0m\u001b[0;34m)\u001b[0m\u001b[0;34m:\u001b[0m\u001b[0;34m\u001b[0m\u001b[0;34m\u001b[0m\u001b[0m\n",
            "\u001b[0;32m/usr/local/lib/python3.7/dist-packages/autosklearn/automl.py\u001b[0m in \u001b[0;36mshow_models\u001b[0;34m(self)\u001b[0m\n\u001b[1;32m   1328\u001b[0m             \u001b[0msio\u001b[0m\u001b[0;34m.\u001b[0m\u001b[0mwrite\u001b[0m\u001b[0;34m(\u001b[0m\u001b[0;34m\"[\"\u001b[0m\u001b[0;34m)\u001b[0m\u001b[0;34m\u001b[0m\u001b[0;34m\u001b[0m\u001b[0m\n\u001b[1;32m   1329\u001b[0m             \u001b[0;32mfor\u001b[0m \u001b[0mweight\u001b[0m\u001b[0;34m,\u001b[0m \u001b[0mmodel\u001b[0m \u001b[0;32min\u001b[0m \u001b[0mmodels_with_weights\u001b[0m\u001b[0;34m:\u001b[0m\u001b[0;34m\u001b[0m\u001b[0;34m\u001b[0m\u001b[0m\n\u001b[0;32m-> 1330\u001b[0;31m                 \u001b[0msio\u001b[0m\u001b[0;34m.\u001b[0m\u001b[0mwrite\u001b[0m\u001b[0;34m(\u001b[0m\u001b[0;34m\"(%f, %s),\\n\"\u001b[0m \u001b[0;34m%\u001b[0m \u001b[0;34m(\u001b[0m\u001b[0mweight\u001b[0m\u001b[0;34m,\u001b[0m \u001b[0mmodel\u001b[0m\u001b[0;34m)\u001b[0m\u001b[0;34m)\u001b[0m\u001b[0;34m\u001b[0m\u001b[0;34m\u001b[0m\u001b[0m\n\u001b[0m\u001b[1;32m   1331\u001b[0m             \u001b[0msio\u001b[0m\u001b[0;34m.\u001b[0m\u001b[0mwrite\u001b[0m\u001b[0;34m(\u001b[0m\u001b[0;34m\"]\"\u001b[0m\u001b[0;34m)\u001b[0m\u001b[0;34m\u001b[0m\u001b[0;34m\u001b[0m\u001b[0m\n\u001b[1;32m   1332\u001b[0m \u001b[0;34m\u001b[0m\u001b[0m\n",
            "\u001b[0;32m/usr/local/lib/python3.7/dist-packages/sklearn/base.py\u001b[0m in \u001b[0;36m__repr__\u001b[0;34m(self, N_CHAR_MAX)\u001b[0m\n\u001b[1;32m    258\u001b[0m             n_max_elements_to_show=N_MAX_ELEMENTS_TO_SHOW)\n\u001b[1;32m    259\u001b[0m \u001b[0;34m\u001b[0m\u001b[0m\n\u001b[0;32m--> 260\u001b[0;31m         \u001b[0mrepr_\u001b[0m \u001b[0;34m=\u001b[0m \u001b[0mpp\u001b[0m\u001b[0;34m.\u001b[0m\u001b[0mpformat\u001b[0m\u001b[0;34m(\u001b[0m\u001b[0mself\u001b[0m\u001b[0;34m)\u001b[0m\u001b[0;34m\u001b[0m\u001b[0;34m\u001b[0m\u001b[0m\n\u001b[0m\u001b[1;32m    261\u001b[0m \u001b[0;34m\u001b[0m\u001b[0m\n\u001b[1;32m    262\u001b[0m         \u001b[0;31m# Use bruteforce ellipsis when there are a lot of non-blank characters\u001b[0m\u001b[0;34m\u001b[0m\u001b[0;34m\u001b[0m\u001b[0;34m\u001b[0m\u001b[0m\n",
            "\u001b[0;32m/usr/lib/python3.7/pprint.py\u001b[0m in \u001b[0;36mpformat\u001b[0;34m(self, object)\u001b[0m\n\u001b[1;32m    142\u001b[0m     \u001b[0;32mdef\u001b[0m \u001b[0mpformat\u001b[0m\u001b[0;34m(\u001b[0m\u001b[0mself\u001b[0m\u001b[0;34m,\u001b[0m \u001b[0mobject\u001b[0m\u001b[0;34m)\u001b[0m\u001b[0;34m:\u001b[0m\u001b[0;34m\u001b[0m\u001b[0;34m\u001b[0m\u001b[0m\n\u001b[1;32m    143\u001b[0m         \u001b[0msio\u001b[0m \u001b[0;34m=\u001b[0m \u001b[0m_StringIO\u001b[0m\u001b[0;34m(\u001b[0m\u001b[0;34m)\u001b[0m\u001b[0;34m\u001b[0m\u001b[0;34m\u001b[0m\u001b[0m\n\u001b[0;32m--> 144\u001b[0;31m         \u001b[0mself\u001b[0m\u001b[0;34m.\u001b[0m\u001b[0m_format\u001b[0m\u001b[0;34m(\u001b[0m\u001b[0mobject\u001b[0m\u001b[0;34m,\u001b[0m \u001b[0msio\u001b[0m\u001b[0;34m,\u001b[0m \u001b[0;36m0\u001b[0m\u001b[0;34m,\u001b[0m \u001b[0;36m0\u001b[0m\u001b[0;34m,\u001b[0m \u001b[0;34m{\u001b[0m\u001b[0;34m}\u001b[0m\u001b[0;34m,\u001b[0m \u001b[0;36m0\u001b[0m\u001b[0;34m)\u001b[0m\u001b[0;34m\u001b[0m\u001b[0;34m\u001b[0m\u001b[0m\n\u001b[0m\u001b[1;32m    145\u001b[0m         \u001b[0;32mreturn\u001b[0m \u001b[0msio\u001b[0m\u001b[0;34m.\u001b[0m\u001b[0mgetvalue\u001b[0m\u001b[0;34m(\u001b[0m\u001b[0;34m)\u001b[0m\u001b[0;34m\u001b[0m\u001b[0;34m\u001b[0m\u001b[0m\n\u001b[1;32m    146\u001b[0m \u001b[0;34m\u001b[0m\u001b[0m\n",
            "\u001b[0;32m/usr/lib/python3.7/pprint.py\u001b[0m in \u001b[0;36m_format\u001b[0;34m(self, object, stream, indent, allowance, context, level)\u001b[0m\n\u001b[1;32m    159\u001b[0m             \u001b[0mself\u001b[0m\u001b[0;34m.\u001b[0m\u001b[0m_readable\u001b[0m \u001b[0;34m=\u001b[0m \u001b[0;32mFalse\u001b[0m\u001b[0;34m\u001b[0m\u001b[0;34m\u001b[0m\u001b[0m\n\u001b[1;32m    160\u001b[0m             \u001b[0;32mreturn\u001b[0m\u001b[0;34m\u001b[0m\u001b[0;34m\u001b[0m\u001b[0m\n\u001b[0;32m--> 161\u001b[0;31m         \u001b[0mrep\u001b[0m \u001b[0;34m=\u001b[0m \u001b[0mself\u001b[0m\u001b[0;34m.\u001b[0m\u001b[0m_repr\u001b[0m\u001b[0;34m(\u001b[0m\u001b[0mobject\u001b[0m\u001b[0;34m,\u001b[0m \u001b[0mcontext\u001b[0m\u001b[0;34m,\u001b[0m \u001b[0mlevel\u001b[0m\u001b[0;34m)\u001b[0m\u001b[0;34m\u001b[0m\u001b[0;34m\u001b[0m\u001b[0m\n\u001b[0m\u001b[1;32m    162\u001b[0m         \u001b[0mmax_width\u001b[0m \u001b[0;34m=\u001b[0m \u001b[0mself\u001b[0m\u001b[0;34m.\u001b[0m\u001b[0m_width\u001b[0m \u001b[0;34m-\u001b[0m \u001b[0mindent\u001b[0m \u001b[0;34m-\u001b[0m \u001b[0mallowance\u001b[0m\u001b[0;34m\u001b[0m\u001b[0;34m\u001b[0m\u001b[0m\n\u001b[1;32m    163\u001b[0m         \u001b[0;32mif\u001b[0m \u001b[0mlen\u001b[0m\u001b[0;34m(\u001b[0m\u001b[0mrep\u001b[0m\u001b[0;34m)\u001b[0m \u001b[0;34m>\u001b[0m \u001b[0mmax_width\u001b[0m\u001b[0;34m:\u001b[0m\u001b[0;34m\u001b[0m\u001b[0;34m\u001b[0m\u001b[0m\n",
            "\u001b[0;32m/usr/lib/python3.7/pprint.py\u001b[0m in \u001b[0;36m_repr\u001b[0;34m(self, object, context, level)\u001b[0m\n\u001b[1;32m    391\u001b[0m     \u001b[0;32mdef\u001b[0m \u001b[0m_repr\u001b[0m\u001b[0;34m(\u001b[0m\u001b[0mself\u001b[0m\u001b[0;34m,\u001b[0m \u001b[0mobject\u001b[0m\u001b[0;34m,\u001b[0m \u001b[0mcontext\u001b[0m\u001b[0;34m,\u001b[0m \u001b[0mlevel\u001b[0m\u001b[0;34m)\u001b[0m\u001b[0;34m:\u001b[0m\u001b[0;34m\u001b[0m\u001b[0;34m\u001b[0m\u001b[0m\n\u001b[1;32m    392\u001b[0m         repr, readable, recursive = self.format(object, context.copy(),\n\u001b[0;32m--> 393\u001b[0;31m                                                 self._depth, level)\n\u001b[0m\u001b[1;32m    394\u001b[0m         \u001b[0;32mif\u001b[0m \u001b[0;32mnot\u001b[0m \u001b[0mreadable\u001b[0m\u001b[0;34m:\u001b[0m\u001b[0;34m\u001b[0m\u001b[0;34m\u001b[0m\u001b[0m\n\u001b[1;32m    395\u001b[0m             \u001b[0mself\u001b[0m\u001b[0;34m.\u001b[0m\u001b[0m_readable\u001b[0m \u001b[0;34m=\u001b[0m \u001b[0;32mFalse\u001b[0m\u001b[0;34m\u001b[0m\u001b[0;34m\u001b[0m\u001b[0m\n",
            "\u001b[0;32m/usr/local/lib/python3.7/dist-packages/sklearn/utils/_pprint.py\u001b[0m in \u001b[0;36mformat\u001b[0;34m(self, object, context, maxlevels, level)\u001b[0m\n\u001b[1;32m    179\u001b[0m     \u001b[0;32mdef\u001b[0m \u001b[0mformat\u001b[0m\u001b[0;34m(\u001b[0m\u001b[0mself\u001b[0m\u001b[0;34m,\u001b[0m \u001b[0mobject\u001b[0m\u001b[0;34m,\u001b[0m \u001b[0mcontext\u001b[0m\u001b[0;34m,\u001b[0m \u001b[0mmaxlevels\u001b[0m\u001b[0;34m,\u001b[0m \u001b[0mlevel\u001b[0m\u001b[0;34m)\u001b[0m\u001b[0;34m:\u001b[0m\u001b[0;34m\u001b[0m\u001b[0;34m\u001b[0m\u001b[0m\n\u001b[1;32m    180\u001b[0m         return _safe_repr(object, context, maxlevels, level,\n\u001b[0;32m--> 181\u001b[0;31m                           changed_only=self._changed_only)\n\u001b[0m\u001b[1;32m    182\u001b[0m \u001b[0;34m\u001b[0m\u001b[0m\n\u001b[1;32m    183\u001b[0m     def _pprint_estimator(self, object, stream, indent, allowance, context,\n",
            "\u001b[0;32m/usr/local/lib/python3.7/dist-packages/sklearn/utils/_pprint.py\u001b[0m in \u001b[0;36m_safe_repr\u001b[0;34m(object, context, maxlevels, level, changed_only)\u001b[0m\n\u001b[1;32m    423\u001b[0m         \u001b[0mrecursive\u001b[0m \u001b[0;34m=\u001b[0m \u001b[0;32mFalse\u001b[0m\u001b[0;34m\u001b[0m\u001b[0;34m\u001b[0m\u001b[0m\n\u001b[1;32m    424\u001b[0m         \u001b[0;32mif\u001b[0m \u001b[0mchanged_only\u001b[0m\u001b[0;34m:\u001b[0m\u001b[0;34m\u001b[0m\u001b[0;34m\u001b[0m\u001b[0m\n\u001b[0;32m--> 425\u001b[0;31m             \u001b[0mparams\u001b[0m \u001b[0;34m=\u001b[0m \u001b[0m_changed_params\u001b[0m\u001b[0;34m(\u001b[0m\u001b[0mobject\u001b[0m\u001b[0;34m)\u001b[0m\u001b[0;34m\u001b[0m\u001b[0;34m\u001b[0m\u001b[0m\n\u001b[0m\u001b[1;32m    426\u001b[0m         \u001b[0;32melse\u001b[0m\u001b[0;34m:\u001b[0m\u001b[0;34m\u001b[0m\u001b[0;34m\u001b[0m\u001b[0m\n\u001b[1;32m    427\u001b[0m             \u001b[0mparams\u001b[0m \u001b[0;34m=\u001b[0m \u001b[0mobject\u001b[0m\u001b[0;34m.\u001b[0m\u001b[0mget_params\u001b[0m\u001b[0;34m(\u001b[0m\u001b[0mdeep\u001b[0m\u001b[0;34m=\u001b[0m\u001b[0;32mFalse\u001b[0m\u001b[0;34m)\u001b[0m\u001b[0;34m\u001b[0m\u001b[0;34m\u001b[0m\u001b[0m\n",
            "\u001b[0;32m/usr/local/lib/python3.7/dist-packages/sklearn/utils/_pprint.py\u001b[0m in \u001b[0;36m_changed_params\u001b[0;34m(estimator)\u001b[0m\n\u001b[1;32m     89\u001b[0m     estimator with non-default values.\"\"\"\n\u001b[1;32m     90\u001b[0m \u001b[0;34m\u001b[0m\u001b[0m\n\u001b[0;32m---> 91\u001b[0;31m     \u001b[0mparams\u001b[0m \u001b[0;34m=\u001b[0m \u001b[0mestimator\u001b[0m\u001b[0;34m.\u001b[0m\u001b[0mget_params\u001b[0m\u001b[0;34m(\u001b[0m\u001b[0mdeep\u001b[0m\u001b[0;34m=\u001b[0m\u001b[0;32mFalse\u001b[0m\u001b[0;34m)\u001b[0m\u001b[0;34m\u001b[0m\u001b[0;34m\u001b[0m\u001b[0m\n\u001b[0m\u001b[1;32m     92\u001b[0m     init_func = getattr(estimator.__init__, 'deprecated_original',\n\u001b[1;32m     93\u001b[0m                         estimator.__init__)\n",
            "\u001b[0;32m/usr/local/lib/python3.7/dist-packages/sklearn/base.py\u001b[0m in \u001b[0;36mget_params\u001b[0;34m(self, deep)\u001b[0m\n\u001b[1;32m    193\u001b[0m         \u001b[0mout\u001b[0m \u001b[0;34m=\u001b[0m \u001b[0mdict\u001b[0m\u001b[0;34m(\u001b[0m\u001b[0;34m)\u001b[0m\u001b[0;34m\u001b[0m\u001b[0;34m\u001b[0m\u001b[0m\n\u001b[1;32m    194\u001b[0m         \u001b[0;32mfor\u001b[0m \u001b[0mkey\u001b[0m \u001b[0;32min\u001b[0m \u001b[0mself\u001b[0m\u001b[0;34m.\u001b[0m\u001b[0m_get_param_names\u001b[0m\u001b[0;34m(\u001b[0m\u001b[0;34m)\u001b[0m\u001b[0;34m:\u001b[0m\u001b[0;34m\u001b[0m\u001b[0;34m\u001b[0m\u001b[0m\n\u001b[0;32m--> 195\u001b[0;31m             \u001b[0mvalue\u001b[0m \u001b[0;34m=\u001b[0m \u001b[0mgetattr\u001b[0m\u001b[0;34m(\u001b[0m\u001b[0mself\u001b[0m\u001b[0;34m,\u001b[0m \u001b[0mkey\u001b[0m\u001b[0;34m)\u001b[0m\u001b[0;34m\u001b[0m\u001b[0;34m\u001b[0m\u001b[0m\n\u001b[0m\u001b[1;32m    196\u001b[0m             \u001b[0;32mif\u001b[0m \u001b[0mdeep\u001b[0m \u001b[0;32mand\u001b[0m \u001b[0mhasattr\u001b[0m\u001b[0;34m(\u001b[0m\u001b[0mvalue\u001b[0m\u001b[0;34m,\u001b[0m \u001b[0;34m'get_params'\u001b[0m\u001b[0;34m)\u001b[0m\u001b[0;34m:\u001b[0m\u001b[0;34m\u001b[0m\u001b[0;34m\u001b[0m\u001b[0m\n\u001b[1;32m    197\u001b[0m                 \u001b[0mdeep_items\u001b[0m \u001b[0;34m=\u001b[0m \u001b[0mvalue\u001b[0m\u001b[0;34m.\u001b[0m\u001b[0mget_params\u001b[0m\u001b[0;34m(\u001b[0m\u001b[0;34m)\u001b[0m\u001b[0;34m.\u001b[0m\u001b[0mitems\u001b[0m\u001b[0;34m(\u001b[0m\u001b[0;34m)\u001b[0m\u001b[0;34m\u001b[0m\u001b[0;34m\u001b[0m\u001b[0m\n",
            "\u001b[0;31mAttributeError\u001b[0m: 'MyDummyClassifier' object has no attribute 'dataset_properties'"
          ]
        }
      ]
    },
    {
      "cell_type": "markdown",
      "metadata": {
        "id": "D8xYtpJJyS9z"
      },
      "source": [
        "# Old Code\n",
        "\n",
        "\n",
        "\n",
        "---\n",
        "\n",
        "---\n",
        "\n",
        "---\n",
        "\n",
        "---\n"
      ]
    },
    {
      "cell_type": "code",
      "metadata": {
        "id": "8sPOCEGS5Xgn"
      },
      "source": [
        "# Create the set of stopwords for cleaning text\n",
        "stopwords = set(w.rstrip() for w in open('/content/drive/MyDrive/CIT/FYP/ImplementationFiles/stopwords.txt'))"
      ],
      "execution_count": null,
      "outputs": []
    },
    {
      "cell_type": "code",
      "metadata": {
        "id": "i64Bq0rH5uN0"
      },
      "source": [
        "# This calcualtes the idf\n",
        "# IDF = log(2)*(Total number of Documents/documents frequency or documents with term)\n",
        "def calc_idf(unique_terms, list_doc_terms):   \n",
        "    # A dicitonary of all the inverse document frequencies\n",
        "    idf = dict.fromkeys(unique_terms, 0)\n",
        "    \n",
        "    # Basically list_doc_terms has all the documents with the term count for each word\n",
        "    # You go through each document count the terms where they occured\n",
        "    for doc_terms in list_doc_terms:  \n",
        "        # This for loop is counting the amount of document a word was in\n",
        "        for word, value in doc_terms.items():\n",
        "            if 0 < value:\n",
        "                idf[word] += 1\n",
        "        \n",
        "    # Now we calculate idf\n",
        "    for word, value in idf.items():\n",
        "        idf[word] = math.log10(10 / float(value))\n",
        "    \n",
        "    return idf"
      ],
      "execution_count": null,
      "outputs": []
    },
    {
      "cell_type": "code",
      "metadata": {
        "id": "9XTmL87F5uaU"
      },
      "source": [
        "# Modified this function to return a list as dictionaries arn't needed anymore\n",
        "def calc_tf_idf(tf, idf, n_terms):\n",
        "    # Create an array that is of length of the number of unique terms\n",
        "    tf_idf_array = np.zeros(n_terms)\n",
        "    \n",
        "    for index, (word, value) in enumerate(tf.items()):\n",
        "        # Add the tfidf to the array\n",
        "        tf_idf_array[index] = value*idf[word]\n",
        "    \n",
        "    return tf_idf_array"
      ],
      "execution_count": null,
      "outputs": []
    },
    {
      "cell_type": "code",
      "metadata": {
        "id": "XzOme9px5uks"
      },
      "source": [
        "def process_text(text_data):\n",
        "    # A list of all the cleaned reviews\n",
        "    doc_list = []\n",
        "    \n",
        "    # List of all the unique terms\n",
        "    unique_terms = []\n",
        "    \n",
        "    # A list of all the term frequencies\n",
        "    tf_list = []\n",
        "    \n",
        "    for review in text_data:\n",
        "        # First clean the review\n",
        "        clean_review = clean_text(review)\n",
        "        \n",
        "        # Keeps track of the term counts for each word\n",
        "        count_dict = {}\n",
        "        \n",
        "        # Now lets find the total count for each word\n",
        "        for token in clean_review:\n",
        "            if token not in count_dict:\n",
        "                count_dict[token] = 1\n",
        "            else:\n",
        "                count_dict[token] += 1\n",
        "        \n",
        "        # Caclulate the term frequencies for each document\n",
        "        tf_list.append(calc_tf(count_dict, clean_review))\n",
        "        \n",
        "        # Then add the dictionary of counts for each document to the list\n",
        "        doc_list.append(count_dict)\n",
        "        \n",
        "        # Then add the new unique terms\n",
        "        unique_terms = set(unique_terms).union(set(clean_review))\n",
        "    \n",
        "    # Calculate the inverse document frequency value\n",
        "    idf = calc_idf(unique_terms, doc_list)\n",
        "    \n",
        "    # This array will contain the tfidf values for each term in each review\n",
        "    tfidf_values = np.zeros((len(tf_list), len(unique_terms)))\n",
        "    \n",
        "    # Now we can get the TFIDF for each document\n",
        "    for index, term_freq in enumerate(tf_list):\n",
        "        # This will return an array of the tfidf values calculated.\n",
        "        # The length of the unique terms list is passed in so that the \n",
        "        # Array that is returned matches the tfidf array\n",
        "        tf_idf_array = calc_tf_idf(term_freq, idf, len(unique_terms))\n",
        "        # Add this to the overall tfidf values calculated\n",
        "        tfidf_values[index,:] = tf_idf_array\n",
        "    \n",
        "    return tfidf_values"
      ],
      "execution_count": null,
      "outputs": []
    },
    {
      "cell_type": "code",
      "metadata": {
        "id": "JUz1Vq_D6Ett"
      },
      "source": [
        "# Prepare the data\n",
        "def prepare_data(num):\n",
        "    print(\"=\"*50)\n",
        "\n",
        "    # Load the dataset\n",
        "    # imdb_df = pd.read_csv(\"IMDB Dataset.csv\")\n",
        "    imdb_df = pd.read_csv(\"/content/drive/MyDrive/CIT/FYP/ImplementationFiles/IMDB_Dataset.csv\")\n",
        "    print(\"Dataset loaded\")\n",
        "    print(\"=\"*50)\n",
        "\n",
        "    \n",
        "    # Change each positive and negative value to 1 and 0 respectively    \n",
        "    imdb_df['sentiment'] = imdb_df['sentiment'].map({'negative' : 0, 'positive' : 1})\n",
        "    \n",
        "    # For testing, a much smaller dataset is going to be used\n",
        "    imdb_df = imdb_df.head(5000)\n",
        "\n",
        "    # Group all the negative reviews and get the first 2500\n",
        "    imdb_df_neg = (imdb_df[imdb_df['sentiment'] == 0])[0:num]\n",
        "    # Group all the positive and get the first 2500\n",
        "    imdb_df_pos = imdb_df[imdb_df['sentiment'] == 1][0:num]\n",
        "    \n",
        "    test_df = pd.concat([imdb_df_neg, imdb_df_pos]) \n",
        "    # print(test_df)\n",
        "    \n",
        "    # .values on a column of a dataframe returns a numpy array\n",
        "    # This is a numpy array of all the reviews\n",
        "    # initial_reviews = imdb_df['review'].values\n",
        "    initial_reviews = test_df['review'].values\n",
        "    \n",
        "    # This is a numpy array of all the positive and negativelabels\n",
        "    # labels = imdb_df['sentiment'].values\n",
        "    labels = test_df['sentiment'].values\n",
        "    \n",
        "    print(\"Creating Feature Vector\")\n",
        "    print(\"=\"*50)\n",
        "    start = time.time()\n",
        "    # Process the text data and create teh feature vector\n",
        "    feature_vector = process_text(initial_reviews)\n",
        "    end = time.time()\n",
        "    print(\"Feature Vector Created\")\n",
        "    print(f\"Execution time is {end - start} secs\")\n",
        "    print(\"=\"*50)\n",
        "    \n",
        "    # Shuffle the labesl and feature vector using sklearn shuffle\n",
        "    feature_vector, labels = shuffle(feature_vector, labels)\n",
        "    \n",
        "    # Creating train and test data\n",
        "    # The splits will be 80:20 \n",
        "    no_samples = 0.8\n",
        "    \n",
        "    # This gets the percentage of indexes from feature vector and uses those for training\n",
        "    X_train = feature_vector[0:int(no_samples*len(feature_vector))]\n",
        "    y_train = labels[0:int(no_samples*len(labels))]\n",
        "    \n",
        "    # Go from the index that was used for training to the final\n",
        "    X_test = feature_vector[int(no_samples*len(feature_vector)):len(feature_vector)]\n",
        "    y_test = labels[int(no_samples*len(labels)):len(labels)]\n",
        "\n",
        "    return X_train, y_train, X_test, y_test"
      ],
      "execution_count": null,
      "outputs": []
    },
    {
      "cell_type": "code",
      "metadata": {
        "id": "Sriu1owhC4Il"
      },
      "source": [
        "def test_dt():\n",
        "  # Load the dataset\n",
        "  nps_df = pd.read_csv(\"/content/drive/MyDrive/CIT/FYP/ImplementationFiles/NPS_TestContent.csv\", encoding='utf8', engine='c')\n",
        "  # imdb_df = pd.read_excel(\"/content/drive/MyDrive/CIT/FYP/ImplementationFiles/NPS_TestContent.xlsx\")\n",
        "\n",
        "  nps_df['sentiment'] = nps_df['sentiment'].map({'Negative' : 0, 'Positive' : 1})\n",
        "\n",
        "  # Group all the negative reviews and get the first 25000\n",
        "  # imdb_df_neg = (imdb_df[imdb_df['sentiment'] == \"negative\"])[0:2500]\n",
        "  nps_df_neg = (nps_df[nps_df['sentiment'] == 0])\n",
        "  # Group all the positive and get the first 25000\n",
        "  # imdb_df_pos = imdb_df[imdb_df['sentiment'] == \"positive\"][0:2500]\n",
        "  nps_df_pos = nps_df[nps_df['sentiment'] == 1]\n",
        "\n",
        "  # Combine the two split positives and negatives into one dataframe\n",
        "  nps_df = pd.concat([nps_df_neg, nps_df_pos]) \n",
        "\n",
        "  # .values on a column of a dataframe returns a numpy array\n",
        "  # This is a numpy array of all the reviews\n",
        "  initial_reviews = nps_df['test'].values\n",
        "  print(\"Creating Feature Vector\")\n",
        "  print(\"=\"*50)\n",
        "  start = time.time()\n",
        "  # Process the text data and create teh feature vector\n",
        "  feature_vector = process_text(initial_reviews)\n",
        "  end = time.time()\n",
        "  print(\"Feature Vector Created\")\n",
        "  print(f\"Execution time is {end - start} secs\")\n",
        "  print(\"=\"*50)\n",
        "  # print(feature_vector)\n",
        "\n",
        "  # This is a numpy array of all the positive and negativelabels\n",
        "  labels = nps_df['sentiment'].values\n",
        "\n",
        "  # Shuffle the labesl and feature vector using sklearn shuffle\n",
        "  feature_vector, labels = shuffle(feature_vector, labels)\n",
        "\n",
        "  return feature_vector, labels \n"
      ],
      "execution_count": null,
      "outputs": []
    }
  ]
}