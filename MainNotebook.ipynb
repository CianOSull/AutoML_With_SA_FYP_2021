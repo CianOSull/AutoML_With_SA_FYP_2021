{
  "nbformat": 4,
  "nbformat_minor": 0,
  "metadata": {
    "colab": {
      "name": "Copy of SKlearn MainNotebook",
      "provenance": [],
      "collapsed_sections": [],
      "mount_file_id": "1nC_pUXXhTcxEwVxmaeFUvL3F40t7v7YC",
      "authorship_tag": "ABX9TyPWWbia+xdEbhgkpPt/vDna",
      "include_colab_link": true
    },
    "kernelspec": {
      "name": "python3",
      "display_name": "Python 3"
    }
  },
  "cells": [
    {
      "cell_type": "markdown",
      "metadata": {
        "id": "view-in-github",
        "colab_type": "text"
      },
      "source": [
        "<a href=\"https://colab.research.google.com/github/CianOSull/AutoML_With_SA_FYP_2021/blob/AutoSklearn/MainNotebook.ipynb\" target=\"_parent\"><img src=\"https://colab.research.google.com/assets/colab-badge.svg\" alt=\"Open In Colab\"/></a>"
      ]
    },
    {
      "cell_type": "markdown",
      "metadata": {
        "id": "i_zrt8fk5AJt"
      },
      "source": [
        "# Generic Notebook for running all the libraries\r\n",
        "\r\n",
        "How this notebook works is that it contains the code\r\n",
        "for loading and cleaning the dataset.\r\n",
        "\r\n",
        "Then there is multiple branches created on the\r\n",
        "Github that include the code for running each library.\r\n",
        "\r\n",
        "E.g. MLBox branch has the code for running MLBox."
      ]
    },
    {
      "cell_type": "markdown",
      "metadata": {
        "id": "YOhpD-9g-DyM"
      },
      "source": [
        "# CURRENT BRANCH = AUTOSKLEARN"
      ]
    },
    {
      "cell_type": "markdown",
      "metadata": {
        "id": "ew8tq1lj6v1L"
      },
      "source": [
        "# Install the necessary library\r\n",
        "Run the install code in the code cell below."
      ]
    },
    {
      "cell_type": "markdown",
      "metadata": {
        "id": "ut_ejh54rtRt"
      },
      "source": [
        "# Install 3 \r\n",
        "\r\n",
        "From youtube: \r\n",
        "\r\n",
        "https://www.youtube.com/watch?v=0jXwYlX8wPk\r\n",
        "\r\n",
        "Notebook:\r\n",
        "\r\n",
        "https://github.com/bhattbhavesh91/auto-sklearn-tutorial/blob/master/autosklearn-classification.ipynb"
      ]
    },
    {
      "cell_type": "code",
      "metadata": {
        "colab": {
          "base_uri": "https://localhost:8080/"
        },
        "id": "XuUsFR8gsdIX",
        "outputId": "925f3e70-8a1d-4ac2-9dd6-7cf30555b202"
      },
      "source": [
        "!sudo apt-get install swig -y\r\n",
        "!pip install Cython numpy"
      ],
      "execution_count": null,
      "outputs": [
        {
          "output_type": "stream",
          "text": [
            "Reading package lists... Done\n",
            "Building dependency tree       \n",
            "Reading state information... Done\n",
            "The following additional packages will be installed:\n",
            "  swig3.0\n",
            "Suggested packages:\n",
            "  swig-doc swig-examples swig3.0-examples swig3.0-doc\n",
            "The following NEW packages will be installed:\n",
            "  swig swig3.0\n",
            "0 upgraded, 2 newly installed, 0 to remove and 29 not upgraded.\n",
            "Need to get 1,100 kB of archives.\n",
            "After this operation, 5,822 kB of additional disk space will be used.\n",
            "Get:1 http://archive.ubuntu.com/ubuntu bionic/universe amd64 swig3.0 amd64 3.0.12-1 [1,094 kB]\n",
            "Get:2 http://archive.ubuntu.com/ubuntu bionic/universe amd64 swig amd64 3.0.12-1 [6,460 B]\n",
            "Fetched 1,100 kB in 1s (1,313 kB/s)\n",
            "debconf: unable to initialize frontend: Dialog\n",
            "debconf: (No usable dialog-like program is installed, so the dialog based frontend cannot be used. at /usr/share/perl5/Debconf/FrontEnd/Dialog.pm line 76, <> line 2.)\n",
            "debconf: falling back to frontend: Readline\n",
            "debconf: unable to initialize frontend: Readline\n",
            "debconf: (This frontend requires a controlling tty.)\n",
            "debconf: falling back to frontend: Teletype\n",
            "dpkg-preconfigure: unable to re-open stdin: \n",
            "Selecting previously unselected package swig3.0.\n",
            "(Reading database ... 160975 files and directories currently installed.)\n",
            "Preparing to unpack .../swig3.0_3.0.12-1_amd64.deb ...\n",
            "Unpacking swig3.0 (3.0.12-1) ...\n",
            "Selecting previously unselected package swig.\n",
            "Preparing to unpack .../swig_3.0.12-1_amd64.deb ...\n",
            "Unpacking swig (3.0.12-1) ...\n",
            "Setting up swig3.0 (3.0.12-1) ...\n",
            "Setting up swig (3.0.12-1) ...\n",
            "Processing triggers for man-db (2.8.3-2ubuntu0.1) ...\n",
            "Requirement already satisfied: Cython in /usr/local/lib/python3.7/dist-packages (0.29.22)\n",
            "Requirement already satisfied: numpy in /usr/local/lib/python3.7/dist-packages (1.19.5)\n"
          ],
          "name": "stdout"
        }
      ]
    },
    {
      "cell_type": "code",
      "metadata": {
        "colab": {
          "base_uri": "https://localhost:8080/"
        },
        "id": "iL6dziMPsg0J",
        "outputId": "ae3d66f7-d0ac-4216-c865-8186134aefa5"
      },
      "source": [
        "!pip install pipelineprofiler"
      ],
      "execution_count": null,
      "outputs": [
        {
          "output_type": "stream",
          "text": [
            "Collecting pipelineprofiler\n",
            "\u001b[?25l  Downloading https://files.pythonhosted.org/packages/fd/70/00921d385c047af75e43063d62542055f68bf2d760216223045f5972cf48/pipelineprofiler-0.1.17-py3-none-any.whl (880kB)\n",
            "\u001b[K     |████████████████████████████████| 880kB 6.0MB/s \n",
            "\u001b[?25hRequirement already satisfied: scikit-learn in /usr/local/lib/python3.7/dist-packages (from pipelineprofiler) (0.22.2.post1)\n",
            "Requirement already satisfied: scipy in /usr/local/lib/python3.7/dist-packages (from pipelineprofiler) (1.4.1)\n",
            "Requirement already satisfied: notebook in /usr/local/lib/python3.7/dist-packages (from pipelineprofiler) (5.3.1)\n",
            "Requirement already satisfied: networkx in /usr/local/lib/python3.7/dist-packages (from pipelineprofiler) (2.5)\n",
            "Requirement already satisfied: numpy in /usr/local/lib/python3.7/dist-packages (from pipelineprofiler) (1.19.5)\n",
            "Requirement already satisfied: python-dateutil in /usr/local/lib/python3.7/dist-packages (from pipelineprofiler) (2.8.1)\n",
            "Requirement already satisfied: joblib>=0.11 in /usr/local/lib/python3.7/dist-packages (from scikit-learn->pipelineprofiler) (1.0.1)\n",
            "Requirement already satisfied: jinja2 in /usr/local/lib/python3.7/dist-packages (from notebook->pipelineprofiler) (2.11.3)\n",
            "Requirement already satisfied: nbformat in /usr/local/lib/python3.7/dist-packages (from notebook->pipelineprofiler) (5.1.2)\n",
            "Requirement already satisfied: jupyter-client>=5.2.0 in /usr/local/lib/python3.7/dist-packages (from notebook->pipelineprofiler) (5.3.5)\n",
            "Requirement already satisfied: ipykernel in /usr/local/lib/python3.7/dist-packages (from notebook->pipelineprofiler) (4.10.1)\n",
            "Requirement already satisfied: jupyter-core>=4.4.0 in /usr/local/lib/python3.7/dist-packages (from notebook->pipelineprofiler) (4.7.1)\n",
            "Requirement already satisfied: ipython-genutils in /usr/local/lib/python3.7/dist-packages (from notebook->pipelineprofiler) (0.2.0)\n",
            "Requirement already satisfied: traitlets>=4.2.1 in /usr/local/lib/python3.7/dist-packages (from notebook->pipelineprofiler) (5.0.5)\n",
            "Requirement already satisfied: nbconvert in /usr/local/lib/python3.7/dist-packages (from notebook->pipelineprofiler) (5.6.1)\n",
            "Requirement already satisfied: tornado>=4 in /usr/local/lib/python3.7/dist-packages (from notebook->pipelineprofiler) (5.1.1)\n",
            "Requirement already satisfied: Send2Trash in /usr/local/lib/python3.7/dist-packages (from notebook->pipelineprofiler) (1.5.0)\n",
            "Requirement already satisfied: terminado>=0.8.1 in /usr/local/lib/python3.7/dist-packages (from notebook->pipelineprofiler) (0.9.2)\n",
            "Requirement already satisfied: decorator>=4.3.0 in /usr/local/lib/python3.7/dist-packages (from networkx->pipelineprofiler) (4.4.2)\n",
            "Requirement already satisfied: six>=1.5 in /usr/local/lib/python3.7/dist-packages (from python-dateutil->pipelineprofiler) (1.15.0)\n",
            "Requirement already satisfied: MarkupSafe>=0.23 in /usr/local/lib/python3.7/dist-packages (from jinja2->notebook->pipelineprofiler) (1.1.1)\n",
            "Requirement already satisfied: jsonschema!=2.5.0,>=2.4 in /usr/local/lib/python3.7/dist-packages (from nbformat->notebook->pipelineprofiler) (2.6.0)\n",
            "Requirement already satisfied: pyzmq>=13 in /usr/local/lib/python3.7/dist-packages (from jupyter-client>=5.2.0->notebook->pipelineprofiler) (22.0.3)\n",
            "Requirement already satisfied: ipython>=4.0.0 in /usr/local/lib/python3.7/dist-packages (from ipykernel->notebook->pipelineprofiler) (5.5.0)\n",
            "Requirement already satisfied: pygments in /usr/local/lib/python3.7/dist-packages (from nbconvert->notebook->pipelineprofiler) (2.6.1)\n",
            "Requirement already satisfied: defusedxml in /usr/local/lib/python3.7/dist-packages (from nbconvert->notebook->pipelineprofiler) (0.7.1)\n",
            "Requirement already satisfied: mistune<2,>=0.8.1 in /usr/local/lib/python3.7/dist-packages (from nbconvert->notebook->pipelineprofiler) (0.8.4)\n",
            "Requirement already satisfied: entrypoints>=0.2.2 in /usr/local/lib/python3.7/dist-packages (from nbconvert->notebook->pipelineprofiler) (0.3)\n",
            "Requirement already satisfied: pandocfilters>=1.4.1 in /usr/local/lib/python3.7/dist-packages (from nbconvert->notebook->pipelineprofiler) (1.4.3)\n",
            "Requirement already satisfied: testpath in /usr/local/lib/python3.7/dist-packages (from nbconvert->notebook->pipelineprofiler) (0.4.4)\n",
            "Requirement already satisfied: bleach in /usr/local/lib/python3.7/dist-packages (from nbconvert->notebook->pipelineprofiler) (3.3.0)\n",
            "Requirement already satisfied: ptyprocess; os_name != \"nt\" in /usr/local/lib/python3.7/dist-packages (from terminado>=0.8.1->notebook->pipelineprofiler) (0.7.0)\n",
            "Requirement already satisfied: prompt-toolkit<2.0.0,>=1.0.4 in /usr/local/lib/python3.7/dist-packages (from ipython>=4.0.0->ipykernel->notebook->pipelineprofiler) (1.0.18)\n",
            "Requirement already satisfied: pexpect; sys_platform != \"win32\" in /usr/local/lib/python3.7/dist-packages (from ipython>=4.0.0->ipykernel->notebook->pipelineprofiler) (4.8.0)\n",
            "Requirement already satisfied: simplegeneric>0.8 in /usr/local/lib/python3.7/dist-packages (from ipython>=4.0.0->ipykernel->notebook->pipelineprofiler) (0.8.1)\n",
            "Requirement already satisfied: pickleshare in /usr/local/lib/python3.7/dist-packages (from ipython>=4.0.0->ipykernel->notebook->pipelineprofiler) (0.7.5)\n",
            "Requirement already satisfied: setuptools>=18.5 in /usr/local/lib/python3.7/dist-packages (from ipython>=4.0.0->ipykernel->notebook->pipelineprofiler) (54.0.0)\n",
            "Requirement already satisfied: webencodings in /usr/local/lib/python3.7/dist-packages (from bleach->nbconvert->notebook->pipelineprofiler) (0.5.1)\n",
            "Requirement already satisfied: packaging in /usr/local/lib/python3.7/dist-packages (from bleach->nbconvert->notebook->pipelineprofiler) (20.9)\n",
            "Requirement already satisfied: wcwidth in /usr/local/lib/python3.7/dist-packages (from prompt-toolkit<2.0.0,>=1.0.4->ipython>=4.0.0->ipykernel->notebook->pipelineprofiler) (0.2.5)\n",
            "Requirement already satisfied: pyparsing>=2.0.2 in /usr/local/lib/python3.7/dist-packages (from packaging->bleach->nbconvert->notebook->pipelineprofiler) (2.4.7)\n",
            "Installing collected packages: pipelineprofiler\n",
            "Successfully installed pipelineprofiler-0.1.17\n"
          ],
          "name": "stdout"
        }
      ]
    },
    {
      "cell_type": "code",
      "metadata": {
        "colab": {
          "base_uri": "https://localhost:8080/"
        },
        "id": "YrZvaxvMn0BT",
        "outputId": "926bd2f9-3f83-4c47-ab32-d64ee215b106"
      },
      "source": [
        "!pip uninstall scikit-learn"
      ],
      "execution_count": null,
      "outputs": [
        {
          "output_type": "stream",
          "text": [
            "Uninstalling scikit-learn-0.24.1:\n",
            "  Would remove:\n",
            "    /usr/local/lib/python3.7/dist-packages/scikit_learn-0.24.1.dist-info/*\n",
            "    /usr/local/lib/python3.7/dist-packages/scikit_learn.libs/libgomp-f7e03b3e.so.1.0.0\n",
            "    /usr/local/lib/python3.7/dist-packages/sklearn/*\n",
            "Proceed (y/n)? y\n",
            "  Successfully uninstalled scikit-learn-0.24.1\n"
          ],
          "name": "stdout"
        }
      ]
    },
    {
      "cell_type": "code",
      "metadata": {
        "colab": {
          "base_uri": "https://localhost:8080/",
          "height": 697
        },
        "id": "3tkqdUaQsjOo",
        "outputId": "6fe8dc3d-dbad-4bef-a1d4-13523ef3ea10"
      },
      "source": [
        "!pip install auto-sklearn"
      ],
      "execution_count": null,
      "outputs": [
        {
          "output_type": "stream",
          "text": [
            "Requirement already satisfied: auto-sklearn in /usr/local/lib/python3.7/dist-packages (0.12.4)\n",
            "Requirement already satisfied: pyrfr<0.9,>=0.8.1 in /usr/local/lib/python3.7/dist-packages (from auto-sklearn) (0.8.1)\n",
            "Requirement already satisfied: setuptools in /usr/local/lib/python3.7/dist-packages (from auto-sklearn) (54.0.0)\n",
            "Requirement already satisfied: pynisher>=0.6.3 in /usr/local/lib/python3.7/dist-packages (from auto-sklearn) (0.6.4)\n",
            "Requirement already satisfied: liac-arff in /usr/local/lib/python3.7/dist-packages (from auto-sklearn) (2.5.0)\n",
            "Requirement already satisfied: dask in /usr/local/lib/python3.7/dist-packages (from auto-sklearn) (2021.3.0)\n",
            "Requirement already satisfied: pyyaml in /usr/local/lib/python3.7/dist-packages (from auto-sklearn) (3.13)\n",
            "Requirement already satisfied: joblib in /usr/local/lib/python3.7/dist-packages (from auto-sklearn) (1.0.1)\n",
            "Requirement already satisfied: ConfigSpace<0.5,>=0.4.14 in /usr/local/lib/python3.7/dist-packages (from auto-sklearn) (0.4.18)\n",
            "Requirement already satisfied: distributed>=2.2.0 in /usr/local/lib/python3.7/dist-packages (from auto-sklearn) (2021.3.0)\n",
            "Requirement already satisfied: pandas>=1.0 in /usr/local/lib/python3.7/dist-packages (from auto-sklearn) (1.1.5)\n",
            "Requirement already satisfied: smac<0.14,>=0.13.1 in /usr/local/lib/python3.7/dist-packages (from auto-sklearn) (0.13.1)\n",
            "Collecting scikit-learn<0.25.0,>=0.24.0\n",
            "  Using cached https://files.pythonhosted.org/packages/f3/74/eb899f41d55f957e2591cde5528e75871f817d9fb46d4732423ecaca736d/scikit_learn-0.24.1-cp37-cp37m-manylinux2010_x86_64.whl\n",
            "Requirement already satisfied: numpy>=1.9.0 in /usr/local/lib/python3.7/dist-packages (from auto-sklearn) (1.19.5)\n",
            "Requirement already satisfied: scipy>=0.14.1 in /usr/local/lib/python3.7/dist-packages (from auto-sklearn) (1.4.1)\n",
            "Requirement already satisfied: psutil in /usr/local/lib/python3.7/dist-packages (from pynisher>=0.6.3->auto-sklearn) (5.4.8)\n",
            "Requirement already satisfied: cython in /usr/local/lib/python3.7/dist-packages (from ConfigSpace<0.5,>=0.4.14->auto-sklearn) (0.29.22)\n",
            "Requirement already satisfied: pyparsing in /usr/local/lib/python3.7/dist-packages (from ConfigSpace<0.5,>=0.4.14->auto-sklearn) (2.4.7)\n",
            "Requirement already satisfied: cloudpickle>=1.5.0 in /usr/local/lib/python3.7/dist-packages (from distributed>=2.2.0->auto-sklearn) (1.6.0)\n",
            "Requirement already satisfied: sortedcontainers!=2.0.0,!=2.0.1 in /usr/local/lib/python3.7/dist-packages (from distributed>=2.2.0->auto-sklearn) (2.3.0)\n",
            "Requirement already satisfied: toolz>=0.8.2 in /usr/local/lib/python3.7/dist-packages (from distributed>=2.2.0->auto-sklearn) (0.11.1)\n",
            "Requirement already satisfied: zict>=0.1.3 in /usr/local/lib/python3.7/dist-packages (from distributed>=2.2.0->auto-sklearn) (2.0.0)\n",
            "Requirement already satisfied: click>=6.6 in /usr/local/lib/python3.7/dist-packages (from distributed>=2.2.0->auto-sklearn) (7.1.2)\n",
            "Requirement already satisfied: tblib>=1.6.0 in /usr/local/lib/python3.7/dist-packages (from distributed>=2.2.0->auto-sklearn) (1.7.0)\n",
            "Requirement already satisfied: msgpack>=0.6.0 in /usr/local/lib/python3.7/dist-packages (from distributed>=2.2.0->auto-sklearn) (1.0.2)\n",
            "Requirement already satisfied: tornado>=5; python_version < \"3.8\" in /usr/local/lib/python3.7/dist-packages (from distributed>=2.2.0->auto-sklearn) (5.1.1)\n",
            "Requirement already satisfied: python-dateutil>=2.7.3 in /usr/local/lib/python3.7/dist-packages (from pandas>=1.0->auto-sklearn) (2.8.1)\n",
            "Requirement already satisfied: pytz>=2017.2 in /usr/local/lib/python3.7/dist-packages (from pandas>=1.0->auto-sklearn) (2018.9)\n",
            "Requirement already satisfied: lazy-import in /usr/local/lib/python3.7/dist-packages (from smac<0.14,>=0.13.1->auto-sklearn) (0.2.2)\n",
            "Requirement already satisfied: threadpoolctl>=2.0.0 in /usr/local/lib/python3.7/dist-packages (from scikit-learn<0.25.0,>=0.24.0->auto-sklearn) (2.1.0)\n",
            "Requirement already satisfied: heapdict in /usr/local/lib/python3.7/dist-packages (from zict>=0.1.3->distributed>=2.2.0->auto-sklearn) (1.0.1)\n",
            "Requirement already satisfied: six>=1.5 in /usr/local/lib/python3.7/dist-packages (from python-dateutil>=2.7.3->pandas>=1.0->auto-sklearn) (1.15.0)\n",
            "Installing collected packages: scikit-learn\n",
            "Successfully installed scikit-learn-0.24.1\n"
          ],
          "name": "stdout"
        },
        {
          "output_type": "display_data",
          "data": {
            "application/vnd.colab-display-data+json": {
              "pip_warning": {
                "packages": [
                  "sklearn"
                ]
              }
            }
          },
          "metadata": {
            "tags": []
          }
        }
      ]
    },
    {
      "cell_type": "code",
      "metadata": {
        "colab": {
          "base_uri": "https://localhost:8080/"
        },
        "id": "_SRIm53mttjW",
        "outputId": "03848f4e-d139-4ec7-e323-29e73014ba5f"
      },
      "source": [
        "!pip install dask distributed --upgrade"
      ],
      "execution_count": null,
      "outputs": [
        {
          "output_type": "stream",
          "text": [
            "Collecting dask\n",
            "\u001b[?25l  Downloading https://files.pythonhosted.org/packages/2e/86/95faa4a9c1f7fbfa2df2ae9e7e1a11349cb97a81e2f38ff9dda301606882/dask-2021.3.0-py3-none-any.whl (925kB)\n",
            "\u001b[K     |████████████████████████████████| 931kB 4.5MB/s \n",
            "\u001b[?25hRequirement already up-to-date: distributed in /usr/local/lib/python3.7/dist-packages (2021.3.0)\n",
            "Requirement already satisfied, skipping upgrade: pyyaml in /usr/local/lib/python3.7/dist-packages (from dask) (3.13)\n",
            "Requirement already satisfied, skipping upgrade: msgpack>=0.6.0 in /usr/local/lib/python3.7/dist-packages (from distributed) (1.0.2)\n",
            "Requirement already satisfied, skipping upgrade: zict>=0.1.3 in /usr/local/lib/python3.7/dist-packages (from distributed) (2.0.0)\n",
            "Requirement already satisfied, skipping upgrade: setuptools in /usr/local/lib/python3.7/dist-packages (from distributed) (54.0.0)\n",
            "Requirement already satisfied, skipping upgrade: toolz>=0.8.2 in /usr/local/lib/python3.7/dist-packages (from distributed) (0.11.1)\n",
            "Requirement already satisfied, skipping upgrade: cloudpickle>=1.5.0 in /usr/local/lib/python3.7/dist-packages (from distributed) (1.6.0)\n",
            "Requirement already satisfied, skipping upgrade: sortedcontainers!=2.0.0,!=2.0.1 in /usr/local/lib/python3.7/dist-packages (from distributed) (2.3.0)\n",
            "Requirement already satisfied, skipping upgrade: psutil>=5.0 in /usr/local/lib/python3.7/dist-packages (from distributed) (5.4.8)\n",
            "Requirement already satisfied, skipping upgrade: click>=6.6 in /usr/local/lib/python3.7/dist-packages (from distributed) (7.1.2)\n",
            "Requirement already satisfied, skipping upgrade: tblib>=1.6.0 in /usr/local/lib/python3.7/dist-packages (from distributed) (1.7.0)\n",
            "Requirement already satisfied, skipping upgrade: tornado>=5; python_version < \"3.8\" in /usr/local/lib/python3.7/dist-packages (from distributed) (5.1.1)\n",
            "Requirement already satisfied, skipping upgrade: heapdict in /usr/local/lib/python3.7/dist-packages (from zict>=0.1.3->distributed) (1.0.1)\n",
            "Installing collected packages: dask\n",
            "  Found existing installation: dask 2.12.0\n",
            "    Uninstalling dask-2.12.0:\n",
            "      Successfully uninstalled dask-2.12.0\n",
            "Successfully installed dask-2021.3.0\n"
          ],
          "name": "stdout"
        }
      ]
    },
    {
      "cell_type": "markdown",
      "metadata": {
        "id": "7TNIZJ6c5hcF"
      },
      "source": [
        "# Preprocessing Section"
      ]
    },
    {
      "cell_type": "code",
      "metadata": {
        "id": "njEYGcZQ42t-"
      },
      "source": [
        "# Import the necessary modules for cleaning\r\n",
        "import math\r\n",
        "import time \r\n",
        "import pandas as pd\r\n",
        "import numpy as np\r\n",
        "from nltk.stem import WordNetLemmatizer\r\n",
        "from nltk.tokenize import word_tokenize \r\n",
        "from sklearn.utils import shuffle\r\n",
        "from sklearn.linear_model import LogisticRegression\r\n",
        "from xgboost import XGBClassifier\r\n",
        "from sklearn.metrics import accuracy_score"
      ],
      "execution_count": null,
      "outputs": []
    },
    {
      "cell_type": "code",
      "metadata": {
        "id": "8sPOCEGS5Xgn"
      },
      "source": [
        "# Create the set of stopwords for cleaning text\r\n",
        "stopwords = set(w.rstrip() for w in open('/content/drive/MyDrive/CIT/FYP/ImplementationFiles/stopwords.txt'))"
      ],
      "execution_count": null,
      "outputs": []
    },
    {
      "cell_type": "code",
      "metadata": {
        "colab": {
          "base_uri": "https://localhost:8080/"
        },
        "id": "93NNPX-A5srS",
        "outputId": "4ab3a2fe-65fe-4f70-ca99-676bd40c2d6c"
      },
      "source": [
        "# Download the necessary parts for the NLTK module\r\n",
        "import nltk\r\n",
        "nltk.download('punkt')\r\n",
        "nltk.download('wordnet')"
      ],
      "execution_count": null,
      "outputs": [
        {
          "output_type": "stream",
          "text": [
            "[nltk_data] Downloading package punkt to /root/nltk_data...\n",
            "[nltk_data]   Package punkt is already up-to-date!\n",
            "[nltk_data] Downloading package wordnet to /root/nltk_data...\n",
            "[nltk_data]   Package wordnet is already up-to-date!\n"
          ],
          "name": "stdout"
        },
        {
          "output_type": "execute_result",
          "data": {
            "text/plain": [
              "True"
            ]
          },
          "metadata": {
            "tags": []
          },
          "execution_count": 3
        }
      ]
    },
    {
      "cell_type": "code",
      "metadata": {
        "id": "j4ptneBc5tAN"
      },
      "source": [
        "# This funciton handles celaning text\r\n",
        "def clean_text(text):\r\n",
        "    # Create the lemmatizer\r\n",
        "    wordnet_lemmatizer = WordNetLemmatizer()\r\n",
        "    \r\n",
        "    # Get rid of non alpha characters except \"'\" as it is needed for the lemment\r\n",
        "    text = \"\".join(c for c in text if c.isalnum() or c == \" \" or \"'\")\r\n",
        "    \r\n",
        "    # Get rid of capitals\r\n",
        "    text = text.lower()\r\n",
        "    \r\n",
        "    # Tokenize the words    \r\n",
        "    # Create tokens of each word\r\n",
        "    token_text = word_tokenize(text)\r\n",
        "    \r\n",
        "    # Get rid of any piece of text that isn't over 2 characters\r\n",
        "    token_text = [t for t in token_text if len(t) > 2] \r\n",
        "    \r\n",
        "    # Put words in base form by doing lemmatization\r\n",
        "    token_text = [wordnet_lemmatizer.lemmatize(t) for t in token_text]\r\n",
        "\r\n",
        "    # Remove stopwords\r\n",
        "    token_text = [t for t in token_text if t not in stopwords]\r\n",
        "    \r\n",
        "    # Return the tokens\r\n",
        "    return token_text"
      ],
      "execution_count": null,
      "outputs": []
    },
    {
      "cell_type": "code",
      "metadata": {
        "id": "xu5dFDM75tjR"
      },
      "source": [
        "# This function will get the term frequencies for word in the review\r\n",
        "# TF = Term I frequency in document/total words in document\r\n",
        "def calc_tf(term_count, review_corpus):\r\n",
        "    # A dictionary of all the term frequencies found\r\n",
        "    tf_freq = dict.fromkeys(term_count.keys(), 0)   \r\n",
        "    \r\n",
        "    # Review corpus is a tokenized list so the total words iteh length\r\n",
        "    total_words = len(review_corpus)\r\n",
        "    \r\n",
        "    # Calculate the term frequency for each word\r\n",
        "    for word, count in term_count.items():\r\n",
        "        tf_freq[word] = count/total_words\r\n",
        "        \r\n",
        "    return tf_freq"
      ],
      "execution_count": null,
      "outputs": []
    },
    {
      "cell_type": "code",
      "metadata": {
        "id": "i64Bq0rH5uN0"
      },
      "source": [
        "# This calcualtes the idf\r\n",
        "# IDF = log(2)*(Total number of Documents/documents frequency or documents with term)\r\n",
        "def calc_idf(unique_terms, list_doc_terms):   \r\n",
        "    # A dicitonary of all the inverse document frequencies\r\n",
        "    idf = dict.fromkeys(unique_terms, 0)\r\n",
        "    \r\n",
        "    # Basically list_doc_terms has all the documents with the term count for each word\r\n",
        "    # You go through each document count the terms where they occured\r\n",
        "    for doc_terms in list_doc_terms:  \r\n",
        "        # This for loop is counting the amount of document a word was in\r\n",
        "        for word, value in doc_terms.items():\r\n",
        "            if 0 < value:\r\n",
        "                idf[word] += 1\r\n",
        "        \r\n",
        "    # Now we calculate idf\r\n",
        "    for word, value in idf.items():\r\n",
        "        idf[word] = math.log10(10 / float(value))\r\n",
        "    \r\n",
        "    return idf"
      ],
      "execution_count": null,
      "outputs": []
    },
    {
      "cell_type": "code",
      "metadata": {
        "id": "9XTmL87F5uaU"
      },
      "source": [
        "# Modified this function to return a list as dictionaries arn't needed anymore\r\n",
        "def calc_tf_idf(tf, idf, n_terms):\r\n",
        "    # Create an array that is of length of the number of unique terms\r\n",
        "    tf_idf_array = np.zeros(n_terms)\r\n",
        "    \r\n",
        "    for index, (word, value) in enumerate(tf.items()):\r\n",
        "        # Add the tfidf to the array\r\n",
        "        tf_idf_array[index] = value*idf[word]\r\n",
        "    \r\n",
        "    return tf_idf_array"
      ],
      "execution_count": null,
      "outputs": []
    },
    {
      "cell_type": "code",
      "metadata": {
        "id": "XzOme9px5uks"
      },
      "source": [
        "def process_text(text_data):\r\n",
        "    # A list of all the cleaned reviews\r\n",
        "    doc_list = []\r\n",
        "    \r\n",
        "    # List of all the unique terms\r\n",
        "    unique_terms = []\r\n",
        "    \r\n",
        "    # A list of all the term frequencies\r\n",
        "    tf_list = []\r\n",
        "    \r\n",
        "    for review in text_data:\r\n",
        "        # First clean the review\r\n",
        "        clean_review = clean_text(review)\r\n",
        "        \r\n",
        "        # Keeps track of the term counts for each word\r\n",
        "        count_dict = {}\r\n",
        "        \r\n",
        "        # Now lets find the total count for each word\r\n",
        "        for token in clean_review:\r\n",
        "            if token not in count_dict:\r\n",
        "                count_dict[token] = 1\r\n",
        "            else:\r\n",
        "                count_dict[token] += 1\r\n",
        "        \r\n",
        "        # Caclulate the term frequencies for each document\r\n",
        "        tf_list.append(calc_tf(count_dict, clean_review))\r\n",
        "        \r\n",
        "        # Then add the dictionary of counts for each document to the list\r\n",
        "        doc_list.append(count_dict)\r\n",
        "        \r\n",
        "        # Then add the new unique terms\r\n",
        "        unique_terms = set(unique_terms).union(set(clean_review))\r\n",
        "    \r\n",
        "    # Calculate the inverse document frequency value\r\n",
        "    idf = calc_idf(unique_terms, doc_list)\r\n",
        "    \r\n",
        "    # This array will contain the tfidf values for each term in each review\r\n",
        "    tfidf_values = np.zeros((len(tf_list), len(unique_terms)))\r\n",
        "    \r\n",
        "    # Now we can get the TFIDF for each document\r\n",
        "    for index, term_freq in enumerate(tf_list):\r\n",
        "        # This will return an array of the tfidf values calculated.\r\n",
        "        # The length of the unique terms list is passed in so that the \r\n",
        "        # Array that is returned matches the tfidf array\r\n",
        "        tf_idf_array = calc_tf_idf(term_freq, idf, len(unique_terms))\r\n",
        "        # Add this to the overall tfidf values calculated\r\n",
        "        tfidf_values[index,:] = tf_idf_array\r\n",
        "    \r\n",
        "    return tfidf_values"
      ],
      "execution_count": null,
      "outputs": []
    },
    {
      "cell_type": "code",
      "metadata": {
        "id": "JUz1Vq_D6Ett"
      },
      "source": [
        "# Prepare the data\r\n",
        "def prepare_data():\r\n",
        "    print(\"=\"*50)\r\n",
        "\r\n",
        "    # Load the dataset\r\n",
        "    # imdb_df = pd.read_csv(\"IMDB Dataset.csv\")\r\n",
        "    imdb_df = pd.read_csv(\"/content/drive/MyDrive/CIT/FYP/ImplementationFiles/IMDB_Dataset.csv\")\r\n",
        "    print(\"Dataset loaded\")\r\n",
        "    print(\"=\"*50)\r\n",
        "\r\n",
        "    \r\n",
        "    # Change each positive and negative value to 1 and 0 respectively    \r\n",
        "    imdb_df['sentiment'] = imdb_df['sentiment'].map({'negative' : 0, 'positive' : 1})\r\n",
        "    \r\n",
        "    # For testing, a much smaller dataset is going to be used\r\n",
        "    imdb_df = imdb_df.head(5000)\r\n",
        "\r\n",
        "    # Group all the negative reviews and get the first 2500\r\n",
        "    imdb_df_neg = (imdb_df[imdb_df['sentiment'] == 0])[0:1250]\r\n",
        "    # Group all the positive and get the first 2500\r\n",
        "    imdb_df_pos = imdb_df[imdb_df['sentiment'] == 1][0:1250]\r\n",
        "    \r\n",
        "    test_df = pd.concat([imdb_df_neg, imdb_df_pos]) \r\n",
        "    # print(test_df)\r\n",
        "    \r\n",
        "    # .values on a column of a dataframe returns a numpy array\r\n",
        "    # This is a numpy array of all the reviews\r\n",
        "    # initial_reviews = imdb_df['review'].values\r\n",
        "    initial_reviews = test_df['review'].values\r\n",
        "    \r\n",
        "    # This is a numpy array of all the positive and negativelabels\r\n",
        "    # labels = imdb_df['sentiment'].values\r\n",
        "    labels = test_df['sentiment'].values\r\n",
        "    \r\n",
        "    print(\"Creating Feature Vector\")\r\n",
        "    print(\"=\"*50)\r\n",
        "    start = time.time()\r\n",
        "    # Process the text data and create teh feature vector\r\n",
        "    feature_vector = process_text(initial_reviews)\r\n",
        "    end = time.time()\r\n",
        "    print(\"Feature Vector Created\")\r\n",
        "    print(f\"Execution time is {end - start} secs\")\r\n",
        "    print(\"=\"*50)\r\n",
        "    \r\n",
        "    # Shuffle the labesl and feature vector using sklearn shuffle\r\n",
        "    feature_vector, labels = shuffle(feature_vector, labels)\r\n",
        "    \r\n",
        "    # Creating train and test data\r\n",
        "    # The splits will be 80:20 \r\n",
        "    no_samples = 0.8\r\n",
        "    \r\n",
        "    # This gets the percentage of indexes from feature vector and uses those for training\r\n",
        "    X_train = feature_vector[0:int(no_samples*len(feature_vector))]\r\n",
        "    y_train = labels[0:int(no_samples*len(labels))]\r\n",
        "    \r\n",
        "    # Go from the index that was used for training to the final\r\n",
        "    X_test = feature_vector[int(no_samples*len(feature_vector)):len(feature_vector)]\r\n",
        "    y_test = labels[int(no_samples*len(labels)):len(labels)]\r\n",
        "\r\n",
        "    return X_train, y_train, X_test, y_test"
      ],
      "execution_count": null,
      "outputs": []
    },
    {
      "cell_type": "markdown",
      "metadata": {
        "id": "-EDB7HY7C0QB"
      },
      "source": [
        "# Create model"
      ]
    },
    {
      "cell_type": "code",
      "metadata": {
        "id": "97TWUpFhsoR_",
        "colab": {
          "base_uri": "https://localhost:8080/"
        },
        "outputId": "bf610eef-bb5c-4b39-e678-bf455dcea4ec"
      },
      "source": [
        "import pandas as pd\r\n",
        "import numpy as np\r\n",
        "import PipelineProfiler\r\n",
        "from sklearn.model_selection import train_test_split\r\n",
        "from sklearn.metrics import accuracy_score\r\n",
        "from autosklearn.classification import AutoSklearnClassifier"
      ],
      "execution_count": null,
      "outputs": [
        {
          "output_type": "stream",
          "text": [
            "/usr/local/lib/python3.7/dist-packages/pyparsing.py:3190: FutureWarning: Possible set intersection at position 3\n",
            "  self.re = re.compile(self.reString)\n"
          ],
          "name": "stderr"
        }
      ]
    },
    {
      "cell_type": "code",
      "metadata": {
        "colab": {
          "base_uri": "https://localhost:8080/"
        },
        "id": "mit4Y_lispoo",
        "outputId": "ca182c85-71d8-4dd1-a64c-dc55ddece064"
      },
      "source": [
        "# Prepare the data\r\n",
        "X_train, y_train, X_test, y_test = prepare_data()"
      ],
      "execution_count": null,
      "outputs": [
        {
          "output_type": "stream",
          "text": [
            "==================================================\n"
          ],
          "name": "stdout"
        },
        {
          "output_type": "stream",
          "text": [
            "INFO:numexpr.utils:NumExpr defaulting to 2 threads.\n"
          ],
          "name": "stderr"
        },
        {
          "output_type": "stream",
          "text": [
            "Dataset loaded\n",
            "==================================================\n",
            "Creating Feature Vector\n",
            "==================================================\n",
            "Feature Vector Created\n",
            "Execution time is 11.477932929992676 secs\n",
            "==================================================\n"
          ],
          "name": "stdout"
        }
      ]
    },
    {
      "cell_type": "code",
      "metadata": {
        "colab": {
          "base_uri": "https://localhost:8080/"
        },
        "id": "v9O0_MPSDe_l",
        "outputId": "fd3cd48a-929d-4874-82b7-ba6c574c680c"
      },
      "source": [
        "print(X_train)"
      ],
      "execution_count": null,
      "outputs": [
        {
          "output_type": "stream",
          "text": [
            "[[-0.20678623 -0.07751743 -0.01312611 ...  0.          0.\n",
            "   0.        ]\n",
            " [-0.10991822  0.00304071  0.0070603  ...  0.          0.\n",
            "   0.        ]\n",
            " [-0.10964479 -0.1541335  -0.02884998 ...  0.          0.\n",
            "   0.        ]\n",
            " ...\n",
            " [ 0.01785714 -0.05808358 -0.16838307 ...  0.          0.\n",
            "   0.        ]\n",
            " [-0.04459787 -0.04447855 -0.08092733 ...  0.          0.\n",
            "   0.        ]\n",
            " [-0.03224925  0.02439024 -0.04162726 ...  0.          0.\n",
            "   0.        ]]\n"
          ],
          "name": "stdout"
        }
      ]
    },
    {
      "cell_type": "markdown",
      "metadata": {
        "id": "RPpzZKU4HPIQ"
      },
      "source": [
        "# AutoSklearn parameters:\r\n",
        "https://automl.github.io/auto-sklearn/master/_modules/autosklearn/estimators.html\r\n",
        "\r\n",
        "# Useful links\r\n",
        "\r\n",
        "https://github.com/srivatsan88/YouTubeLI/blob/master/AutoSklearn.ipynb\r\n",
        "\r\n",
        "https://www.youtube.com/watch?v=SMUNVfbr3Mc\r\n",
        "\r\n",
        "https://automl.github.io/auto-sklearn/master/examples/20_basic/example_classification.html\r\n",
        "\r\n",
        "\r\n",
        "# List of classificaiton estimators:\r\n",
        "https://github.com/automl/auto-sklearn/tree/master/autosklearn/pipeline/components/classification"
      ]
    },
    {
      "cell_type": "code",
      "metadata": {
        "id": "V10rGi5atuMm",
        "colab": {
          "base_uri": "https://localhost:8080/"
        },
        "outputId": "8f392320-8613-4665-cf31-b82f8f9b2ee1"
      },
      "source": [
        "# This takes less than 10 seconds to run. Need to increase time parameters\r\n",
        "# This will set it to run for 1 hour and only spend 6 minutes on each model\r\n",
        "# n_jobs=X is a parameter that sets up multithreading\r\n",
        "model = AutoSklearnClassifier(time_left_for_this_task=21600, per_run_time_limit=7200, \r\n",
        "                              include_estimators=[\"gradient_boosting\", \"sgd\"], exclude_estimators=None, \r\n",
        "                              include_preprocessors=[\"no_preprocessing\"], exclude_preprocessors=None)\r\n",
        "print(\"Finished defining model\")"
      ],
      "execution_count": null,
      "outputs": [
        {
          "output_type": "stream",
          "text": [
            "Finished defining model\n"
          ],
          "name": "stdout"
        }
      ]
    },
    {
      "cell_type": "code",
      "metadata": {
        "colab": {
          "base_uri": "https://localhost:8080/"
        },
        "id": "8vQu2_U7tyaS",
        "outputId": "5ea9415d-070b-4462-8b91-39111e96ab45"
      },
      "source": [
        "model.fit(X_train, y_train)\r\n",
        "print(\"Finished Fitting model\")"
      ],
      "execution_count": null,
      "outputs": [
        {
          "output_type": "stream",
          "text": [
            "[WARNING] [2021-03-17 08:49:59,087:Client-AutoML(1):c0b67f5c-86fd-11eb-824e-0242ac1c0002] Dataset too large for memory limit 3072MB, reducing number of samples from 2000 to 1327.\n",
            "[WARNING] [2021-03-17 08:50:05,841:Client-AutoMLSMBO(1)::c0b67f5c-86fd-11eb-824e-0242ac1c0002] Configuration 363 not found\n",
            "[WARNING] [2021-03-17 08:50:05,842:Client-AutoMLSMBO(1)::c0b67f5c-86fd-11eb-824e-0242ac1c0002] Configuration 199 not found\n",
            "[WARNING] [2021-03-17 08:50:05,842:Client-AutoMLSMBO(1)::c0b67f5c-86fd-11eb-824e-0242ac1c0002] Configuration 548 not found\n",
            "[WARNING] [2021-03-17 08:50:05,842:Client-AutoMLSMBO(1)::c0b67f5c-86fd-11eb-824e-0242ac1c0002] Configuration 596 not found\n",
            "[WARNING] [2021-03-17 08:50:05,842:Client-AutoMLSMBO(1)::c0b67f5c-86fd-11eb-824e-0242ac1c0002] Configuration 304 not found\n",
            "[WARNING] [2021-03-17 08:50:05,842:Client-AutoMLSMBO(1)::c0b67f5c-86fd-11eb-824e-0242ac1c0002] Configuration 317 not found\n",
            "[WARNING] [2021-03-17 08:50:05,842:Client-AutoMLSMBO(1)::c0b67f5c-86fd-11eb-824e-0242ac1c0002] Configuration 503 not found\n",
            "[WARNING] [2021-03-17 08:50:05,842:Client-AutoMLSMBO(1)::c0b67f5c-86fd-11eb-824e-0242ac1c0002] Configuration 536 not found\n",
            "[WARNING] [2021-03-17 08:50:05,842:Client-AutoMLSMBO(1)::c0b67f5c-86fd-11eb-824e-0242ac1c0002] Configuration 120 not found\n",
            "[WARNING] [2021-03-17 08:50:05,842:Client-AutoMLSMBO(1)::c0b67f5c-86fd-11eb-824e-0242ac1c0002] Configuration 640 not found\n",
            "[WARNING] [2021-03-17 08:50:05,842:Client-AutoMLSMBO(1)::c0b67f5c-86fd-11eb-824e-0242ac1c0002] Configuration 393 not found\n",
            "[WARNING] [2021-03-17 08:50:05,842:Client-AutoMLSMBO(1)::c0b67f5c-86fd-11eb-824e-0242ac1c0002] Configuration 145 not found\n",
            "[WARNING] [2021-03-17 08:50:05,842:Client-AutoMLSMBO(1)::c0b67f5c-86fd-11eb-824e-0242ac1c0002] Configuration 81 not found\n",
            "[WARNING] [2021-03-17 08:50:05,842:Client-AutoMLSMBO(1)::c0b67f5c-86fd-11eb-824e-0242ac1c0002] Configuration 687 not found\n",
            "[WARNING] [2021-03-17 08:50:05,842:Client-AutoMLSMBO(1)::c0b67f5c-86fd-11eb-824e-0242ac1c0002] Configuration 9 not found\n",
            "[WARNING] [2021-03-17 08:50:05,842:Client-AutoMLSMBO(1)::c0b67f5c-86fd-11eb-824e-0242ac1c0002] Configuration 452 not found\n",
            "[WARNING] [2021-03-17 08:50:05,842:Client-AutoMLSMBO(1)::c0b67f5c-86fd-11eb-824e-0242ac1c0002] Configuration 230 not found\n",
            "[WARNING] [2021-03-17 08:50:05,842:Client-AutoMLSMBO(1)::c0b67f5c-86fd-11eb-824e-0242ac1c0002] Configuration 473 not found\n",
            "[WARNING] [2021-03-17 08:50:05,842:Client-AutoMLSMBO(1)::c0b67f5c-86fd-11eb-824e-0242ac1c0002] Configuration 546 not found\n",
            "[WARNING] [2021-03-17 08:50:05,842:Client-AutoMLSMBO(1)::c0b67f5c-86fd-11eb-824e-0242ac1c0002] Configuration 460 not found\n",
            "[WARNING] [2021-03-17 08:50:05,842:Client-AutoMLSMBO(1)::c0b67f5c-86fd-11eb-824e-0242ac1c0002] Configuration 211 not found\n",
            "[WARNING] [2021-03-17 08:50:05,842:Client-AutoMLSMBO(1)::c0b67f5c-86fd-11eb-824e-0242ac1c0002] Configuration 585 not found\n",
            "[WARNING] [2021-03-17 08:50:05,843:Client-AutoMLSMBO(1)::c0b67f5c-86fd-11eb-824e-0242ac1c0002] Configuration 440 not found\n",
            "[WARNING] [2021-03-17 08:50:05,843:Client-AutoMLSMBO(1)::c0b67f5c-86fd-11eb-824e-0242ac1c0002] Configuration 32 not found\n",
            "[WARNING] [2021-03-17 08:50:05,843:Client-AutoMLSMBO(1)::c0b67f5c-86fd-11eb-824e-0242ac1c0002] Configuration 61 not found\n",
            "[WARNING] [2021-03-17 08:50:05,843:Client-AutoMLSMBO(1)::c0b67f5c-86fd-11eb-824e-0242ac1c0002] Configuration 332 not found\n",
            "[WARNING] [2021-03-17 08:50:05,843:Client-AutoMLSMBO(1)::c0b67f5c-86fd-11eb-824e-0242ac1c0002] Configuration 476 not found\n",
            "[WARNING] [2021-03-17 08:50:05,843:Client-AutoMLSMBO(1)::c0b67f5c-86fd-11eb-824e-0242ac1c0002] Configuration 345 not found\n",
            "[WARNING] [2021-03-17 08:50:05,843:Client-AutoMLSMBO(1)::c0b67f5c-86fd-11eb-824e-0242ac1c0002] Configuration 222 not found\n",
            "[WARNING] [2021-03-17 08:50:05,843:Client-AutoMLSMBO(1)::c0b67f5c-86fd-11eb-824e-0242ac1c0002] Configuration 690 not found\n",
            "[WARNING] [2021-03-17 08:50:05,843:Client-AutoMLSMBO(1)::c0b67f5c-86fd-11eb-824e-0242ac1c0002] Configuration 184 not found\n",
            "[WARNING] [2021-03-17 08:50:05,843:Client-AutoMLSMBO(1)::c0b67f5c-86fd-11eb-824e-0242ac1c0002] Configuration 532 not found\n",
            "[WARNING] [2021-03-17 08:50:05,843:Client-AutoMLSMBO(1)::c0b67f5c-86fd-11eb-824e-0242ac1c0002] Configuration 329 not found\n",
            "[WARNING] [2021-03-17 08:50:05,843:Client-AutoMLSMBO(1)::c0b67f5c-86fd-11eb-824e-0242ac1c0002] Configuration 560 not found\n",
            "[WARNING] [2021-03-17 08:50:05,844:Client-AutoMLSMBO(1)::c0b67f5c-86fd-11eb-824e-0242ac1c0002] Configuration 149 not found\n",
            "[WARNING] [2021-03-17 08:50:05,844:Client-AutoMLSMBO(1)::c0b67f5c-86fd-11eb-824e-0242ac1c0002] Configuration 590 not found\n",
            "[WARNING] [2021-03-17 08:50:05,844:Client-AutoMLSMBO(1)::c0b67f5c-86fd-11eb-824e-0242ac1c0002] Configuration 1 not found\n",
            "[WARNING] [2021-03-17 08:50:05,844:Client-AutoMLSMBO(1)::c0b67f5c-86fd-11eb-824e-0242ac1c0002] Configuration 454 not found\n",
            "[WARNING] [2021-03-17 08:50:05,844:Client-AutoMLSMBO(1)::c0b67f5c-86fd-11eb-824e-0242ac1c0002] Configuration 399 not found\n",
            "[WARNING] [2021-03-17 08:50:05,844:Client-AutoMLSMBO(1)::c0b67f5c-86fd-11eb-824e-0242ac1c0002] Configuration 358 not found\n",
            "[WARNING] [2021-03-17 08:50:05,844:Client-AutoMLSMBO(1)::c0b67f5c-86fd-11eb-824e-0242ac1c0002] Configuration 347 not found\n",
            "[WARNING] [2021-03-17 08:50:05,844:Client-AutoMLSMBO(1)::c0b67f5c-86fd-11eb-824e-0242ac1c0002] Configuration 663 not found\n",
            "[WARNING] [2021-03-17 08:50:05,844:Client-AutoMLSMBO(1)::c0b67f5c-86fd-11eb-824e-0242ac1c0002] Configuration 407 not found\n",
            "[WARNING] [2021-03-17 08:50:05,844:Client-AutoMLSMBO(1)::c0b67f5c-86fd-11eb-824e-0242ac1c0002] Configuration 138 not found\n",
            "[WARNING] [2021-03-17 08:50:05,844:Client-AutoMLSMBO(1)::c0b67f5c-86fd-11eb-824e-0242ac1c0002] Configuration 176 not found\n",
            "[WARNING] [2021-03-17 08:50:05,844:Client-AutoMLSMBO(1)::c0b67f5c-86fd-11eb-824e-0242ac1c0002] Configuration 601 not found\n",
            "[WARNING] [2021-03-17 08:50:05,844:Client-AutoMLSMBO(1)::c0b67f5c-86fd-11eb-824e-0242ac1c0002] Configuration 257 not found\n",
            "[WARNING] [2021-03-17 08:50:05,844:Client-AutoMLSMBO(1)::c0b67f5c-86fd-11eb-824e-0242ac1c0002] Configuration 162 not found\n",
            "[WARNING] [2021-03-17 08:50:05,844:Client-AutoMLSMBO(1)::c0b67f5c-86fd-11eb-824e-0242ac1c0002] Configuration 67 not found\n",
            "[WARNING] [2021-03-17 08:50:05,844:Client-AutoMLSMBO(1)::c0b67f5c-86fd-11eb-824e-0242ac1c0002] Configuration 566 not found\n",
            "[WARNING] [2021-03-17 08:50:05,844:Client-AutoMLSMBO(1)::c0b67f5c-86fd-11eb-824e-0242ac1c0002] Configuration 506 not found\n",
            "[WARNING] [2021-03-17 08:50:05,845:Client-AutoMLSMBO(1)::c0b67f5c-86fd-11eb-824e-0242ac1c0002] Configuration 624 not found\n",
            "[WARNING] [2021-03-17 08:50:05,845:Client-AutoMLSMBO(1)::c0b67f5c-86fd-11eb-824e-0242ac1c0002] Configuration 674 not found\n",
            "[WARNING] [2021-03-17 08:50:05,845:Client-AutoMLSMBO(1)::c0b67f5c-86fd-11eb-824e-0242ac1c0002] Configuration 188 not found\n",
            "[WARNING] [2021-03-17 08:50:05,845:Client-AutoMLSMBO(1)::c0b67f5c-86fd-11eb-824e-0242ac1c0002] Configuration 576 not found\n",
            "[WARNING] [2021-03-17 08:50:05,845:Client-AutoMLSMBO(1)::c0b67f5c-86fd-11eb-824e-0242ac1c0002] Configuration 563 not found\n",
            "[WARNING] [2021-03-17 08:50:05,845:Client-AutoMLSMBO(1)::c0b67f5c-86fd-11eb-824e-0242ac1c0002] Configuration 220 not found\n",
            "[WARNING] [2021-03-17 08:50:05,846:Client-AutoMLSMBO(1)::c0b67f5c-86fd-11eb-824e-0242ac1c0002] Configuration 327 not found\n",
            "[WARNING] [2021-03-17 08:50:05,846:Client-AutoMLSMBO(1)::c0b67f5c-86fd-11eb-824e-0242ac1c0002] Configuration 283 not found\n",
            "[WARNING] [2021-03-17 08:50:05,846:Client-AutoMLSMBO(1)::c0b67f5c-86fd-11eb-824e-0242ac1c0002] Configuration 227 not found\n",
            "[WARNING] [2021-03-17 08:50:05,846:Client-AutoMLSMBO(1)::c0b67f5c-86fd-11eb-824e-0242ac1c0002] Configuration 579 not found\n",
            "[WARNING] [2021-03-17 08:50:05,846:Client-AutoMLSMBO(1)::c0b67f5c-86fd-11eb-824e-0242ac1c0002] Configuration 22 not found\n",
            "[WARNING] [2021-03-17 08:50:05,846:Client-AutoMLSMBO(1)::c0b67f5c-86fd-11eb-824e-0242ac1c0002] Configuration 492 not found\n",
            "[WARNING] [2021-03-17 08:50:05,846:Client-AutoMLSMBO(1)::c0b67f5c-86fd-11eb-824e-0242ac1c0002] Configuration 521 not found\n",
            "[WARNING] [2021-03-17 08:50:05,846:Client-AutoMLSMBO(1)::c0b67f5c-86fd-11eb-824e-0242ac1c0002] Configuration 191 not found\n",
            "[WARNING] [2021-03-17 08:50:05,846:Client-AutoMLSMBO(1)::c0b67f5c-86fd-11eb-824e-0242ac1c0002] Configuration 444 not found\n",
            "[WARNING] [2021-03-17 08:50:05,846:Client-AutoMLSMBO(1)::c0b67f5c-86fd-11eb-824e-0242ac1c0002] Configuration 108 not found\n",
            "[WARNING] [2021-03-17 08:50:05,846:Client-AutoMLSMBO(1)::c0b67f5c-86fd-11eb-824e-0242ac1c0002] Configuration 702 not found\n",
            "[WARNING] [2021-03-17 08:50:05,846:Client-AutoMLSMBO(1)::c0b67f5c-86fd-11eb-824e-0242ac1c0002] Configuration 238 not found\n",
            "[WARNING] [2021-03-17 08:50:05,846:Client-AutoMLSMBO(1)::c0b67f5c-86fd-11eb-824e-0242ac1c0002] Configuration 338 not found\n",
            "[WARNING] [2021-03-17 08:50:05,846:Client-AutoMLSMBO(1)::c0b67f5c-86fd-11eb-824e-0242ac1c0002] Configuration 183 not found\n",
            "[WARNING] [2021-03-17 08:50:05,846:Client-AutoMLSMBO(1)::c0b67f5c-86fd-11eb-824e-0242ac1c0002] Configuration 43 not found\n",
            "[WARNING] [2021-03-17 08:50:05,846:Client-AutoMLSMBO(1)::c0b67f5c-86fd-11eb-824e-0242ac1c0002] Configuration 147 not found\n",
            "[WARNING] [2021-03-17 08:50:05,846:Client-AutoMLSMBO(1)::c0b67f5c-86fd-11eb-824e-0242ac1c0002] Configuration 7 not found\n",
            "[WARNING] [2021-03-17 08:50:05,846:Client-AutoMLSMBO(1)::c0b67f5c-86fd-11eb-824e-0242ac1c0002] Configuration 315 not found\n",
            "[WARNING] [2021-03-17 08:50:05,847:Client-AutoMLSMBO(1)::c0b67f5c-86fd-11eb-824e-0242ac1c0002] Configuration 386 not found\n",
            "[WARNING] [2021-03-17 08:50:05,847:Client-AutoMLSMBO(1)::c0b67f5c-86fd-11eb-824e-0242ac1c0002] Configuration 91 not found\n",
            "[WARNING] [2021-03-17 08:50:05,847:Client-AutoMLSMBO(1)::c0b67f5c-86fd-11eb-824e-0242ac1c0002] Configuration 631 not found\n",
            "[WARNING] [2021-03-17 08:50:05,847:Client-AutoMLSMBO(1)::c0b67f5c-86fd-11eb-824e-0242ac1c0002] Configuration 518 not found\n",
            "[WARNING] [2021-03-17 08:50:05,847:Client-AutoMLSMBO(1)::c0b67f5c-86fd-11eb-824e-0242ac1c0002] Configuration 657 not found\n",
            "[WARNING] [2021-03-17 08:50:05,847:Client-AutoMLSMBO(1)::c0b67f5c-86fd-11eb-824e-0242ac1c0002] Configuration 467 not found\n",
            "[WARNING] [2021-03-17 08:50:05,847:Client-AutoMLSMBO(1)::c0b67f5c-86fd-11eb-824e-0242ac1c0002] Configuration 71 not found\n",
            "[WARNING] [2021-03-17 08:50:05,847:Client-AutoMLSMBO(1)::c0b67f5c-86fd-11eb-824e-0242ac1c0002] Configuration 282 not found\n",
            "[WARNING] [2021-03-17 08:50:05,847:Client-AutoMLSMBO(1)::c0b67f5c-86fd-11eb-824e-0242ac1c0002] Configuration 206 not found\n",
            "[WARNING] [2021-03-17 08:50:05,847:Client-AutoMLSMBO(1)::c0b67f5c-86fd-11eb-824e-0242ac1c0002] Configuration 254 not found\n",
            "[WARNING] [2021-03-17 08:50:05,847:Client-AutoMLSMBO(1)::c0b67f5c-86fd-11eb-824e-0242ac1c0002] Configuration 262 not found\n",
            "[WARNING] [2021-03-17 08:50:05,847:Client-AutoMLSMBO(1)::c0b67f5c-86fd-11eb-824e-0242ac1c0002] Configuration 131 not found\n",
            "[WARNING] [2021-03-17 08:50:05,848:Client-AutoMLSMBO(1)::c0b67f5c-86fd-11eb-824e-0242ac1c0002] Configuration 680 not found\n",
            "[WARNING] [2021-03-17 08:50:05,848:Client-AutoMLSMBO(1)::c0b67f5c-86fd-11eb-824e-0242ac1c0002] Configuration 426 not found\n",
            "[WARNING] [2021-03-17 08:50:05,848:Client-AutoMLSMBO(1)::c0b67f5c-86fd-11eb-824e-0242ac1c0002] Configuration 14 not found\n",
            "[WARNING] [2021-03-17 08:50:05,848:Client-AutoMLSMBO(1)::c0b67f5c-86fd-11eb-824e-0242ac1c0002] Configuration 480 not found\n",
            "[WARNING] [2021-03-17 08:50:05,848:Client-AutoMLSMBO(1)::c0b67f5c-86fd-11eb-824e-0242ac1c0002] Configuration 574 not found\n",
            "[WARNING] [2021-03-17 08:50:05,848:Client-AutoMLSMBO(1)::c0b67f5c-86fd-11eb-824e-0242ac1c0002] Configuration 605 not found\n",
            "[WARNING] [2021-03-17 08:50:05,848:Client-AutoMLSMBO(1)::c0b67f5c-86fd-11eb-824e-0242ac1c0002] Configuration 694 not found\n",
            "[WARNING] [2021-03-17 08:50:05,848:Client-AutoMLSMBO(1)::c0b67f5c-86fd-11eb-824e-0242ac1c0002] Configuration 701 not found\n",
            "[WARNING] [2021-03-17 08:50:05,848:Client-AutoMLSMBO(1)::c0b67f5c-86fd-11eb-824e-0242ac1c0002] Configuration 28 not found\n",
            "[WARNING] [2021-03-17 08:50:05,848:Client-AutoMLSMBO(1)::c0b67f5c-86fd-11eb-824e-0242ac1c0002] Configuration 555 not found\n",
            "[WARNING] [2021-03-17 08:50:05,848:Client-AutoMLSMBO(1)::c0b67f5c-86fd-11eb-824e-0242ac1c0002] Configuration 112 not found\n",
            "[WARNING] [2021-03-17 08:50:05,848:Client-AutoMLSMBO(1)::c0b67f5c-86fd-11eb-824e-0242ac1c0002] Configuration 430 not found\n",
            "[WARNING] [2021-03-17 08:50:05,849:Client-AutoMLSMBO(1)::c0b67f5c-86fd-11eb-824e-0242ac1c0002] Configuration 266 not found\n",
            "[WARNING] [2021-03-17 08:50:05,849:Client-AutoMLSMBO(1)::c0b67f5c-86fd-11eb-824e-0242ac1c0002] Configuration 367 not found\n",
            "[WARNING] [2021-03-17 08:50:05,849:Client-AutoMLSMBO(1)::c0b67f5c-86fd-11eb-824e-0242ac1c0002] Configuration 388 not found\n",
            "[WARNING] [2021-03-17 08:50:05,849:Client-AutoMLSMBO(1)::c0b67f5c-86fd-11eb-824e-0242ac1c0002] Configuration 237 not found\n",
            "[WARNING] [2021-03-17 08:50:05,854:Client-AutoMLSMBO(1)::c0b67f5c-86fd-11eb-824e-0242ac1c0002] Configuration 264 not found\n",
            "[WARNING] [2021-03-17 08:50:05,855:Client-AutoMLSMBO(1)::c0b67f5c-86fd-11eb-824e-0242ac1c0002] Configuration 160 not found\n",
            "[WARNING] [2021-03-17 08:50:05,856:Client-AutoMLSMBO(1)::c0b67f5c-86fd-11eb-824e-0242ac1c0002] Configuration 670 not found\n",
            "[WARNING] [2021-03-17 08:50:05,856:Client-AutoMLSMBO(1)::c0b67f5c-86fd-11eb-824e-0242ac1c0002] Configuration 414 not found\n",
            "[WARNING] [2021-03-17 08:50:05,856:Client-AutoMLSMBO(1)::c0b67f5c-86fd-11eb-824e-0242ac1c0002] Configuration 485 not found\n",
            "[WARNING] [2021-03-17 08:50:05,856:Client-AutoMLSMBO(1)::c0b67f5c-86fd-11eb-824e-0242ac1c0002] Configuration 369 not found\n",
            "[WARNING] [2021-03-17 08:50:05,857:Client-AutoMLSMBO(1)::c0b67f5c-86fd-11eb-824e-0242ac1c0002] Configuration 648 not found\n",
            "[WARNING] [2021-03-17 08:50:05,857:Client-AutoMLSMBO(1)::c0b67f5c-86fd-11eb-824e-0242ac1c0002] Configuration 571 not found\n",
            "[WARNING] [2021-03-17 08:50:05,857:Client-AutoMLSMBO(1)::c0b67f5c-86fd-11eb-824e-0242ac1c0002] Configuration 114 not found\n",
            "[WARNING] [2021-03-17 08:50:05,857:Client-AutoMLSMBO(1)::c0b67f5c-86fd-11eb-824e-0242ac1c0002] Configuration 251 not found\n",
            "[WARNING] [2021-03-17 08:50:05,857:Client-AutoMLSMBO(1)::c0b67f5c-86fd-11eb-824e-0242ac1c0002] Configuration 676 not found\n",
            "[WARNING] [2021-03-17 08:50:05,857:Client-AutoMLSMBO(1)::c0b67f5c-86fd-11eb-824e-0242ac1c0002] Configuration 595 not found\n",
            "[WARNING] [2021-03-17 08:50:05,857:Client-AutoMLSMBO(1)::c0b67f5c-86fd-11eb-824e-0242ac1c0002] Configuration 97 not found\n",
            "[WARNING] [2021-03-17 08:50:05,857:Client-AutoMLSMBO(1)::c0b67f5c-86fd-11eb-824e-0242ac1c0002] Configuration 524 not found\n",
            "[WARNING] [2021-03-17 08:50:05,857:Client-AutoMLSMBO(1)::c0b67f5c-86fd-11eb-824e-0242ac1c0002] Configuration 357 not found\n",
            "[WARNING] [2021-03-17 08:50:05,857:Client-AutoMLSMBO(1)::c0b67f5c-86fd-11eb-824e-0242ac1c0002] Configuration 129 not found\n",
            "[WARNING] [2021-03-17 08:50:05,857:Client-AutoMLSMBO(1)::c0b67f5c-86fd-11eb-824e-0242ac1c0002] Configuration 445 not found\n",
            "[WARNING] [2021-03-17 08:50:05,857:Client-AutoMLSMBO(1)::c0b67f5c-86fd-11eb-824e-0242ac1c0002] Configuration 56 not found\n",
            "[WARNING] [2021-03-17 08:50:05,857:Client-AutoMLSMBO(1)::c0b67f5c-86fd-11eb-824e-0242ac1c0002] Configuration 83 not found\n",
            "[WARNING] [2021-03-17 08:50:05,857:Client-AutoMLSMBO(1)::c0b67f5c-86fd-11eb-824e-0242ac1c0002] Configuration 214 not found\n",
            "[WARNING] [2021-03-17 08:50:05,857:Client-AutoMLSMBO(1)::c0b67f5c-86fd-11eb-824e-0242ac1c0002] Configuration 48 not found\n",
            "[WARNING] [2021-03-17 08:50:05,857:Client-AutoMLSMBO(1)::c0b67f5c-86fd-11eb-824e-0242ac1c0002] Configuration 197 not found\n",
            "[WARNING] [2021-03-17 08:50:05,857:Client-AutoMLSMBO(1)::c0b67f5c-86fd-11eb-824e-0242ac1c0002] Configuration 121 not found\n",
            "[WARNING] [2021-03-17 08:50:05,857:Client-AutoMLSMBO(1)::c0b67f5c-86fd-11eb-824e-0242ac1c0002] Configuration 499 not found\n",
            "[WARNING] [2021-03-17 08:50:05,857:Client-AutoMLSMBO(1)::c0b67f5c-86fd-11eb-824e-0242ac1c0002] Configuration 124 not found\n",
            "[WARNING] [2021-03-17 08:50:05,857:Client-AutoMLSMBO(1)::c0b67f5c-86fd-11eb-824e-0242ac1c0002] Configuration 613 not found\n",
            "[WARNING] [2021-03-17 08:50:05,857:Client-AutoMLSMBO(1)::c0b67f5c-86fd-11eb-824e-0242ac1c0002] Configuration 707 not found\n",
            "[WARNING] [2021-03-17 08:50:05,857:Client-AutoMLSMBO(1)::c0b67f5c-86fd-11eb-824e-0242ac1c0002] Configuration 40 not found\n",
            "[WARNING] [2021-03-17 08:50:05,857:Client-AutoMLSMBO(1)::c0b67f5c-86fd-11eb-824e-0242ac1c0002] Configuration 193 not found\n",
            "[WARNING] [2021-03-17 08:50:05,857:Client-AutoMLSMBO(1)::c0b67f5c-86fd-11eb-824e-0242ac1c0002] Configuration 470 not found\n",
            "[WARNING] [2021-03-17 08:50:05,857:Client-AutoMLSMBO(1)::c0b67f5c-86fd-11eb-824e-0242ac1c0002] Configuration 88 not found\n",
            "[WARNING] [2021-03-17 08:50:05,857:Client-AutoMLSMBO(1)::c0b67f5c-86fd-11eb-824e-0242ac1c0002] Configuration 382 not found\n",
            "[WARNING] [2021-03-17 08:50:05,857:Client-AutoMLSMBO(1)::c0b67f5c-86fd-11eb-824e-0242ac1c0002] Configuration 352 not found\n",
            "[WARNING] [2021-03-17 08:50:05,857:Client-AutoMLSMBO(1)::c0b67f5c-86fd-11eb-824e-0242ac1c0002] Configuration 99 not found\n",
            "[WARNING] [2021-03-17 08:50:05,857:Client-AutoMLSMBO(1)::c0b67f5c-86fd-11eb-824e-0242ac1c0002] Configuration 683 not found\n",
            "[WARNING] [2021-03-17 08:50:05,857:Client-AutoMLSMBO(1)::c0b67f5c-86fd-11eb-824e-0242ac1c0002] Configuration 635 not found\n",
            "[WARNING] [2021-03-17 08:50:05,857:Client-AutoMLSMBO(1)::c0b67f5c-86fd-11eb-824e-0242ac1c0002] Configuration 53 not found\n",
            "[WARNING] [2021-03-17 08:50:05,857:Client-AutoMLSMBO(1)::c0b67f5c-86fd-11eb-824e-0242ac1c0002] Configuration 512 not found\n",
            "[WARNING] [2021-03-17 08:50:05,857:Client-AutoMLSMBO(1)::c0b67f5c-86fd-11eb-824e-0242ac1c0002] Configuration 422 not found\n",
            "[WARNING] [2021-03-17 08:50:05,857:Client-AutoMLSMBO(1)::c0b67f5c-86fd-11eb-824e-0242ac1c0002] Configuration 434 not found\n",
            "[WARNING] [2021-03-17 08:50:05,857:Client-AutoMLSMBO(1)::c0b67f5c-86fd-11eb-824e-0242ac1c0002] Configuration 615 not found\n",
            "[WARNING] [2021-03-17 08:50:05,857:Client-AutoMLSMBO(1)::c0b67f5c-86fd-11eb-824e-0242ac1c0002] Configuration 528 not found\n",
            "[WARNING] [2021-03-17 08:50:05,859:Client-AutoMLSMBO(1)::c0b67f5c-86fd-11eb-824e-0242ac1c0002] Configuration 150 not found\n",
            "[WARNING] [2021-03-17 08:50:05,857:Client-AutoMLSMBO(1)::c0b67f5c-86fd-11eb-824e-0242ac1c0002] Configuration 403 not found\n",
            "[WARNING] [2021-03-17 08:50:05,857:Client-AutoMLSMBO(1)::c0b67f5c-86fd-11eb-824e-0242ac1c0002] Configuration 277 not found\n",
            "[WARNING] [2021-03-17 08:50:05,857:Client-AutoMLSMBO(1)::c0b67f5c-86fd-11eb-824e-0242ac1c0002] Configuration 270 not found\n",
            "[WARNING] [2021-03-17 08:50:05,858:Client-AutoMLSMBO(1)::c0b67f5c-86fd-11eb-824e-0242ac1c0002] Configuration 302 not found\n",
            "[WARNING] [2021-03-17 08:50:05,858:Client-AutoMLSMBO(1)::c0b67f5c-86fd-11eb-824e-0242ac1c0002] Configuration 378 not found\n",
            "[WARNING] [2021-03-17 08:50:05,858:Client-AutoMLSMBO(1)::c0b67f5c-86fd-11eb-824e-0242ac1c0002] Configuration 494 not found\n",
            "[WARNING] [2021-03-17 08:50:05,858:Client-AutoMLSMBO(1)::c0b67f5c-86fd-11eb-824e-0242ac1c0002] Configuration 340 not found\n",
            "[WARNING] [2021-03-17 08:50:05,858:Client-AutoMLSMBO(1)::c0b67f5c-86fd-11eb-824e-0242ac1c0002] Configuration 647 not found\n",
            "[WARNING] [2021-03-17 08:50:05,858:Client-AutoMLSMBO(1)::c0b67f5c-86fd-11eb-824e-0242ac1c0002] Configuration 204 not found\n",
            "[WARNING] [2021-03-17 08:50:05,858:Client-AutoMLSMBO(1)::c0b67f5c-86fd-11eb-824e-0242ac1c0002] Configuration 247 not found\n",
            "[WARNING] [2021-03-17 08:50:05,858:Client-AutoMLSMBO(1)::c0b67f5c-86fd-11eb-824e-0242ac1c0002] Configuration 232 not found\n",
            "[WARNING] [2021-03-17 08:50:05,858:Client-AutoMLSMBO(1)::c0b67f5c-86fd-11eb-824e-0242ac1c0002] Configuration 515 not found\n",
            "[WARNING] [2021-03-17 08:50:05,858:Client-AutoMLSMBO(1)::c0b67f5c-86fd-11eb-824e-0242ac1c0002] Configuration 25 not found\n",
            "[WARNING] [2021-03-17 08:50:05,858:Client-AutoMLSMBO(1)::c0b67f5c-86fd-11eb-824e-0242ac1c0002] Configuration 173 not found\n",
            "[WARNING] [2021-03-17 08:50:05,858:Client-AutoMLSMBO(1)::c0b67f5c-86fd-11eb-824e-0242ac1c0002] Configuration 293 not found\n",
            "[WARNING] [2021-03-17 08:50:05,858:Client-AutoMLSMBO(1)::c0b67f5c-86fd-11eb-824e-0242ac1c0002] Configuration 154 not found\n",
            "[WARNING] [2021-03-17 08:50:05,858:Client-AutoMLSMBO(1)::c0b67f5c-86fd-11eb-824e-0242ac1c0002] Configuration 17 not found\n",
            "[WARNING] [2021-03-17 08:50:05,858:Client-AutoMLSMBO(1)::c0b67f5c-86fd-11eb-824e-0242ac1c0002] Configuration 171 not found\n",
            "[WARNING] [2021-03-17 08:50:05,858:Client-AutoMLSMBO(1)::c0b67f5c-86fd-11eb-824e-0242ac1c0002] Configuration 172 not found\n",
            "[WARNING] [2021-03-17 08:50:05,858:Client-AutoMLSMBO(1)::c0b67f5c-86fd-11eb-824e-0242ac1c0002] Configuration 448 not found\n",
            "[WARNING] [2021-03-17 08:50:05,858:Client-AutoMLSMBO(1)::c0b67f5c-86fd-11eb-824e-0242ac1c0002] Configuration 395 not found\n",
            "[WARNING] [2021-03-17 08:50:05,858:Client-AutoMLSMBO(1)::c0b67f5c-86fd-11eb-824e-0242ac1c0002] Configuration 587 not found\n",
            "[WARNING] [2021-03-17 08:50:05,858:Client-AutoMLSMBO(1)::c0b67f5c-86fd-11eb-824e-0242ac1c0002] Configuration 653 not found\n",
            "[WARNING] [2021-03-17 08:50:05,858:Client-AutoMLSMBO(1)::c0b67f5c-86fd-11eb-824e-0242ac1c0002] Configuration 298 not found\n",
            "[WARNING] [2021-03-17 08:50:05,858:Client-AutoMLSMBO(1)::c0b67f5c-86fd-11eb-824e-0242ac1c0002] Configuration 486 not found\n",
            "[WARNING] [2021-03-17 08:50:05,858:Client-AutoMLSMBO(1)::c0b67f5c-86fd-11eb-824e-0242ac1c0002] Configuration 69 not found\n",
            "[WARNING] [2021-03-17 08:50:05,858:Client-AutoMLSMBO(1)::c0b67f5c-86fd-11eb-824e-0242ac1c0002] Configuration 437 not found\n",
            "[WARNING] [2021-03-17 08:50:05,858:Client-AutoMLSMBO(1)::c0b67f5c-86fd-11eb-824e-0242ac1c0002] Configuration 142 not found\n",
            "[WARNING] [2021-03-17 08:50:05,858:Client-AutoMLSMBO(1)::c0b67f5c-86fd-11eb-824e-0242ac1c0002] Configuration 310 not found\n",
            "[WARNING] [2021-03-17 08:50:05,858:Client-AutoMLSMBO(1)::c0b67f5c-86fd-11eb-824e-0242ac1c0002] Configuration 243 not found\n",
            "[WARNING] [2021-03-17 08:50:05,858:Client-AutoMLSMBO(1)::c0b67f5c-86fd-11eb-824e-0242ac1c0002] Configuration 461 not found\n",
            "[WARNING] [2021-03-17 08:50:05,858:Client-AutoMLSMBO(1)::c0b67f5c-86fd-11eb-824e-0242ac1c0002] Configuration 288 not found\n",
            "[WARNING] [2021-03-17 08:50:05,858:Client-AutoMLSMBO(1)::c0b67f5c-86fd-11eb-824e-0242ac1c0002] Configuration 313 not found\n",
            "[WARNING] [2021-03-17 08:50:05,858:Client-AutoMLSMBO(1)::c0b67f5c-86fd-11eb-824e-0242ac1c0002] Configuration 165 not found\n",
            "[WARNING] [2021-03-17 08:50:05,858:Client-AutoMLSMBO(1)::c0b67f5c-86fd-11eb-824e-0242ac1c0002] Configuration 543 not found\n",
            "[WARNING] [2021-03-17 08:50:05,858:Client-AutoMLSMBO(1)::c0b67f5c-86fd-11eb-824e-0242ac1c0002] Configuration 553 not found\n",
            "[WARNING] [2021-03-17 08:50:05,858:Client-AutoMLSMBO(1)::c0b67f5c-86fd-11eb-824e-0242ac1c0002] Configuration 412 not found\n",
            "[WARNING] [2021-03-17 08:50:05,858:Client-AutoMLSMBO(1)::c0b67f5c-86fd-11eb-824e-0242ac1c0002] Configuration 622 not found\n",
            "[WARNING] [2021-03-17 08:50:05,858:Client-AutoMLSMBO(1)::c0b67f5c-86fd-11eb-824e-0242ac1c0002] Configuration 643 not found\n",
            "[WARNING] [2021-03-17 08:50:05,858:Client-AutoMLSMBO(1)::c0b67f5c-86fd-11eb-824e-0242ac1c0002] Configuration 19 not found\n",
            "[WARNING] [2021-03-17 08:50:05,859:Client-AutoMLSMBO(1)::c0b67f5c-86fd-11eb-824e-0242ac1c0002] Configuration 509 not found\n",
            "[WARNING] [2021-03-17 08:50:05,859:Client-AutoMLSMBO(1)::c0b67f5c-86fd-11eb-824e-0242ac1c0002] Configuration 419 not found\n",
            "[WARNING] [2021-03-17 08:50:05,859:Client-AutoMLSMBO(1)::c0b67f5c-86fd-11eb-824e-0242ac1c0002] Configuration 58 not found\n",
            "[WARNING] [2021-03-17 08:50:05,859:Client-AutoMLSMBO(1)::c0b67f5c-86fd-11eb-824e-0242ac1c0002] Configuration 538 not found\n",
            "[WARNING] [2021-03-17 08:50:05,859:Client-AutoMLSMBO(1)::c0b67f5c-86fd-11eb-824e-0242ac1c0002] Configuration 291 not found\n",
            "[WARNING] [2021-03-17 08:50:05,859:Client-AutoMLSMBO(1)::c0b67f5c-86fd-11eb-824e-0242ac1c0002] Configuration 375 not found\n",
            "[WARNING] [2021-03-17 08:50:05,859:Client-AutoMLSMBO(1)::c0b67f5c-86fd-11eb-824e-0242ac1c0002] Configuration 86 not found\n",
            "[WARNING] [2021-03-17 08:50:05,859:Client-AutoMLSMBO(1)::c0b67f5c-86fd-11eb-824e-0242ac1c0002] Configuration 322 not found\n",
            "[WARNING] [2021-03-17 08:50:05,859:Client-AutoMLSMBO(1)::c0b67f5c-86fd-11eb-824e-0242ac1c0002] Configuration 275 not found\n",
            "Finished Fitting model\n"
          ],
          "name": "stdout"
        }
      ]
    },
    {
      "cell_type": "code",
      "metadata": {
        "id": "M-h4KOEvJH0X",
        "colab": {
          "base_uri": "https://localhost:8080/"
        },
        "outputId": "f64b32ad-e038-43fd-b82a-f4719f598d54"
      },
      "source": [
        "# 21600 7200 Estimators and Preprocess off\r\n",
        "y_pred = model.predict(X_test)\r\n",
        "testing_accuracy = accuracy_score(y_test, y_pred)\r\n",
        "print(\"Test Accuracy score {0}\".format(testing_accuracy))"
      ],
      "execution_count": null,
      "outputs": [
        {
          "output_type": "stream",
          "text": [
            "Test Accuracy score 0.472\n"
          ],
          "name": "stdout"
        }
      ]
    },
    {
      "cell_type": "code",
      "metadata": {
        "colab": {
          "base_uri": "https://localhost:8080/"
        },
        "id": "i6q8vuc9mM2d",
        "outputId": "21bd02a5-405c-4aea-eb3b-128d773a1046"
      },
      "source": [
        "# 3600 1800 No Estimators and Preprocess on\r\n",
        "y_pred = model.predict(X_test)\r\n",
        "testing_accuracy = accuracy_score(y_test, y_pred)\r\n",
        "print(\"Test Accuracy score {0}\".format(testing_accuracy))"
      ],
      "execution_count": null,
      "outputs": [
        {
          "output_type": "stream",
          "text": [
            "Test Accuracy score 0.532\n"
          ],
          "name": "stdout"
        }
      ]
    },
    {
      "cell_type": "code",
      "metadata": {
        "colab": {
          "base_uri": "https://localhost:8080/"
        },
        "id": "Z7CTxvgK8Yv6",
        "outputId": "fff2ca18-c9d3-4b17-dcf2-7147c89d2337"
      },
      "source": [
        "# 3600 1800 No Estimators and Preprocess on\r\n",
        "y_pred = model.predict(X_test)\r\n",
        "testing_accuracy = accuracy_score(y_test, y_pred)\r\n",
        "print(\"Test Accuracy score {0}\".format(testing_accuracy))"
      ],
      "execution_count": null,
      "outputs": [
        {
          "output_type": "stream",
          "text": [
            "Test Accuracy score 0.492\n"
          ],
          "name": "stdout"
        }
      ]
    },
    {
      "cell_type": "code",
      "metadata": {
        "colab": {
          "base_uri": "https://localhost:8080/"
        },
        "id": "a3UZMo8dHzfZ",
        "outputId": "60e21829-e349-400d-ee3b-d94e2e2dfd48"
      },
      "source": [
        "# This was done with tt = 3600 and pl = 360\r\n",
        "y_pred = model.predict(X_test)\r\n",
        "testing_accuracy = accuracy_score(y_test, y_pred)\r\n",
        "print(\"Test Accuracy score {0}\".format(testing_accuracy))"
      ],
      "execution_count": null,
      "outputs": [
        {
          "output_type": "stream",
          "text": [
            "Test Accuracy score 0.492\n"
          ],
          "name": "stdout"
        }
      ]
    },
    {
      "cell_type": "markdown",
      "metadata": {
        "id": "y6edY4MYC4Ya"
      },
      "source": [
        "# Test model"
      ]
    },
    {
      "cell_type": "code",
      "metadata": {
        "id": "Sriu1owhC4Il"
      },
      "source": [
        "def test_dt():\r\n",
        "  # Load the dataset\r\n",
        "  nps_df = pd.read_csv(\"/content/drive/MyDrive/CIT/FYP/ImplementationFiles/NPS_TestContent.csv\", encoding='utf8', engine='c')\r\n",
        "  # imdb_df = pd.read_excel(\"/content/drive/MyDrive/CIT/FYP/ImplementationFiles/NPS_TestContent.xlsx\")\r\n",
        "\r\n",
        "  nps_df['sentiment'] = nps_df['sentiment'].map({'Negative' : 0, 'Positive' : 1})\r\n",
        "\r\n",
        "  # Group all the negative reviews and get the first 25000\r\n",
        "  # imdb_df_neg = (imdb_df[imdb_df['sentiment'] == \"negative\"])[0:2500]\r\n",
        "  nps_df_neg = (nps_df[nps_df['sentiment'] == 0])\r\n",
        "  # Group all the positive and get the first 25000\r\n",
        "  # imdb_df_pos = imdb_df[imdb_df['sentiment'] == \"positive\"][0:2500]\r\n",
        "  nps_df_pos = nps_df[nps_df['sentiment'] == 1]\r\n",
        "\r\n",
        "  # Combine the two split positives and negatives into one dataframe\r\n",
        "  nps_df = pd.concat([nps_df_neg, nps_df_pos]) \r\n",
        "\r\n",
        "  # .values on a column of a dataframe returns a numpy array\r\n",
        "  # This is a numpy array of all the reviews\r\n",
        "  initial_reviews = nps_df['test'].values\r\n",
        "  print(\"Creating Feature Vector\")\r\n",
        "  print(\"=\"*50)\r\n",
        "  start = time.time()\r\n",
        "  # Process the text data and create teh feature vector\r\n",
        "  feature_vector = process_text(initial_reviews)\r\n",
        "  end = time.time()\r\n",
        "  print(\"Feature Vector Created\")\r\n",
        "  print(f\"Execution time is {end - start} secs\")\r\n",
        "  print(\"=\"*50)\r\n",
        "  # print(feature_vector)\r\n",
        "\r\n",
        "  # This is a numpy array of all the positive and negativelabels\r\n",
        "  labels = nps_df['sentiment'].values\r\n",
        "\r\n",
        "  # Shuffle the labesl and feature vector using sklearn shuffle\r\n",
        "  feature_vector, labels = shuffle(feature_vector, labels)\r\n",
        "\r\n",
        "  return feature_vector, labels \r\n"
      ],
      "execution_count": null,
      "outputs": []
    },
    {
      "cell_type": "code",
      "metadata": {
        "colab": {
          "base_uri": "https://localhost:8080/"
        },
        "id": "oTy1ytoTDK2r",
        "outputId": "3254b456-a700-45c3-cea9-a5fb00ecc440"
      },
      "source": [
        "features, labels = test_dt()\r\n",
        "\r\n",
        "# print(features)\r\n",
        "\r\n",
        "y_pred = model.predict(features)\r\n",
        "testing_accuracy = accuracy_score(labels, y_pred)\r\n",
        "print(\"Test Accuracy score {0}\".format(testing_accuracy))"
      ],
      "execution_count": null,
      "outputs": [
        {
          "output_type": "stream",
          "text": [
            "Creating Feature Vector\n",
            "==================================================\n",
            "Feature Vector Created\n",
            "Execution time is 0.48108744621276855 secs\n",
            "==================================================\n",
            "Test Accuracy score 0.2096128170894526\n"
          ],
          "name": "stdout"
        }
      ]
    },
    {
      "cell_type": "code",
      "metadata": {
        "colab": {
          "base_uri": "https://localhost:8080/"
        },
        "id": "-9T-ZRaSHiSD",
        "outputId": "db4253a8-5a74-4319-c844-e3356c0e6b2a"
      },
      "source": [
        "# Gives information and should show best model\r\n",
        "model.cv_results_['params'][np.argmax(model.cv_results_['mean_test_score'])]"
      ],
      "execution_count": null,
      "outputs": [
        {
          "output_type": "execute_result",
          "data": {
            "text/plain": [
              "{'balancing:strategy': 'none',\n",
              " 'classifier:__choice__': 'random_forest',\n",
              " 'classifier:random_forest:bootstrap': 'True',\n",
              " 'classifier:random_forest:criterion': 'gini',\n",
              " 'classifier:random_forest:max_depth': 'None',\n",
              " 'classifier:random_forest:max_features': 0.5,\n",
              " 'classifier:random_forest:max_leaf_nodes': 'None',\n",
              " 'classifier:random_forest:min_impurity_decrease': 0.0,\n",
              " 'classifier:random_forest:min_samples_leaf': 1,\n",
              " 'classifier:random_forest:min_samples_split': 2,\n",
              " 'classifier:random_forest:min_weight_fraction_leaf': 0.0,\n",
              " 'data_preprocessing:categorical_transformer:categorical_encoding:__choice__': 'one_hot_encoding',\n",
              " 'data_preprocessing:categorical_transformer:category_coalescence:__choice__': 'minority_coalescer',\n",
              " 'data_preprocessing:categorical_transformer:category_coalescence:minority_coalescer:minimum_fraction': 0.01,\n",
              " 'data_preprocessing:numerical_transformer:imputation:strategy': 'mean',\n",
              " 'data_preprocessing:numerical_transformer:rescaling:__choice__': 'standardize',\n",
              " 'feature_preprocessor:__choice__': 'no_preprocessing'}"
            ]
          },
          "metadata": {
            "tags": []
          },
          "execution_count": 53
        }
      ]
    },
    {
      "cell_type": "markdown",
      "metadata": {
        "id": "ma3GGSsLHZ6k"
      },
      "source": [
        "# Outputting mdoel"
      ]
    },
    {
      "cell_type": "code",
      "metadata": {
        "id": "9M1jcddyHZIi"
      },
      "source": [
        "# This is meant to be able to output the model\r\n",
        "import pickle\r\n",
        "x = automl.show_models()\r\n",
        "results = {\"ensemble\": x}\r\n",
        "pickle.dump(results, open('churn.pickle','wb'))"
      ],
      "execution_count": null,
      "outputs": []
    },
    {
      "cell_type": "markdown",
      "metadata": {
        "id": "QWh_aZ0wB_0o"
      },
      "source": [
        "# Information about model\r\n",
        "https://automl.github.io/auto-sklearn/master/examples/40_advanced/example_get_pipeline_components.html#sphx-glr-examples-40-advanced-example-get-pipeline-components-py"
      ]
    },
    {
      "cell_type": "code",
      "metadata": {
        "id": "GKV_35LC8NB3",
        "colab": {
          "base_uri": "https://localhost:8080/",
          "height": 86
        },
        "outputId": "3cfe0c69-907e-43be-9885-9f6bf4a298b4"
      },
      "source": [
        "model.sprint_statistics()"
      ],
      "execution_count": null,
      "outputs": [
        {
          "output_type": "execute_result",
          "data": {
            "application/vnd.google.colaboratory.intrinsic+json": {
              "type": "string"
            },
            "text/plain": [
              "'auto-sklearn results:\\n  Dataset name: 41f0bf74-866b-11eb-8257-0242ac1c0002\\n  Metric: accuracy\\n  Number of target algorithm runs: 2599\\n  Number of successful target algorithm runs: 0\\n  Number of crashed target algorithm runs: 0\\n  Number of target algorithms that exceeded the time limit: 0\\n  Number of target algorithms that exceeded the memory limit: 2599\\n'"
            ]
          },
          "metadata": {
            "tags": []
          },
          "execution_count": 19
        }
      ]
    },
    {
      "cell_type": "code",
      "metadata": {
        "colab": {
          "base_uri": "https://localhost:8080/",
          "height": 306
        },
        "id": "N0cuDs7g-dHd",
        "outputId": "78ee3237-11f0-4f45-ca97-17487a84dbd1"
      },
      "source": [
        "print(model.get_models_with_weights())"
      ],
      "execution_count": null,
      "outputs": [
        {
          "output_type": "error",
          "ename": "AttributeError",
          "evalue": "ignored",
          "traceback": [
            "\u001b[0;31m---------------------------------------------------------------------------\u001b[0m",
            "\u001b[0;31mAttributeError\u001b[0m                            Traceback (most recent call last)",
            "\u001b[0;32m<ipython-input-29-c4a7197e2c32>\u001b[0m in \u001b[0;36m<module>\u001b[0;34m()\u001b[0m\n\u001b[0;32m----> 1\u001b[0;31m \u001b[0mprint\u001b[0m\u001b[0;34m(\u001b[0m\u001b[0mmodel\u001b[0m\u001b[0;34m.\u001b[0m\u001b[0mget_models_with_weights\u001b[0m\u001b[0;34m(\u001b[0m\u001b[0;34m)\u001b[0m\u001b[0;34m)\u001b[0m\u001b[0;34m\u001b[0m\u001b[0;34m\u001b[0m\u001b[0m\n\u001b[0m",
            "\u001b[0;32m/usr/local/lib/python3.7/dist-packages/sklearn/base.py\u001b[0m in \u001b[0;36m__repr__\u001b[0;34m(self, N_CHAR_MAX)\u001b[0m\n\u001b[1;32m    258\u001b[0m             n_max_elements_to_show=N_MAX_ELEMENTS_TO_SHOW)\n\u001b[1;32m    259\u001b[0m \u001b[0;34m\u001b[0m\u001b[0m\n\u001b[0;32m--> 260\u001b[0;31m         \u001b[0mrepr_\u001b[0m \u001b[0;34m=\u001b[0m \u001b[0mpp\u001b[0m\u001b[0;34m.\u001b[0m\u001b[0mpformat\u001b[0m\u001b[0;34m(\u001b[0m\u001b[0mself\u001b[0m\u001b[0;34m)\u001b[0m\u001b[0;34m\u001b[0m\u001b[0;34m\u001b[0m\u001b[0m\n\u001b[0m\u001b[1;32m    261\u001b[0m \u001b[0;34m\u001b[0m\u001b[0m\n\u001b[1;32m    262\u001b[0m         \u001b[0;31m# Use bruteforce ellipsis when there are a lot of non-blank characters\u001b[0m\u001b[0;34m\u001b[0m\u001b[0;34m\u001b[0m\u001b[0;34m\u001b[0m\u001b[0m\n",
            "\u001b[0;32m/usr/lib/python3.7/pprint.py\u001b[0m in \u001b[0;36mpformat\u001b[0;34m(self, object)\u001b[0m\n\u001b[1;32m    142\u001b[0m     \u001b[0;32mdef\u001b[0m \u001b[0mpformat\u001b[0m\u001b[0;34m(\u001b[0m\u001b[0mself\u001b[0m\u001b[0;34m,\u001b[0m \u001b[0mobject\u001b[0m\u001b[0;34m)\u001b[0m\u001b[0;34m:\u001b[0m\u001b[0;34m\u001b[0m\u001b[0;34m\u001b[0m\u001b[0m\n\u001b[1;32m    143\u001b[0m         \u001b[0msio\u001b[0m \u001b[0;34m=\u001b[0m \u001b[0m_StringIO\u001b[0m\u001b[0;34m(\u001b[0m\u001b[0;34m)\u001b[0m\u001b[0;34m\u001b[0m\u001b[0;34m\u001b[0m\u001b[0m\n\u001b[0;32m--> 144\u001b[0;31m         \u001b[0mself\u001b[0m\u001b[0;34m.\u001b[0m\u001b[0m_format\u001b[0m\u001b[0;34m(\u001b[0m\u001b[0mobject\u001b[0m\u001b[0;34m,\u001b[0m \u001b[0msio\u001b[0m\u001b[0;34m,\u001b[0m \u001b[0;36m0\u001b[0m\u001b[0;34m,\u001b[0m \u001b[0;36m0\u001b[0m\u001b[0;34m,\u001b[0m \u001b[0;34m{\u001b[0m\u001b[0;34m}\u001b[0m\u001b[0;34m,\u001b[0m \u001b[0;36m0\u001b[0m\u001b[0;34m)\u001b[0m\u001b[0;34m\u001b[0m\u001b[0;34m\u001b[0m\u001b[0m\n\u001b[0m\u001b[1;32m    145\u001b[0m         \u001b[0;32mreturn\u001b[0m \u001b[0msio\u001b[0m\u001b[0;34m.\u001b[0m\u001b[0mgetvalue\u001b[0m\u001b[0;34m(\u001b[0m\u001b[0;34m)\u001b[0m\u001b[0;34m\u001b[0m\u001b[0;34m\u001b[0m\u001b[0m\n\u001b[1;32m    146\u001b[0m \u001b[0;34m\u001b[0m\u001b[0m\n",
            "\u001b[0;32m/usr/lib/python3.7/pprint.py\u001b[0m in \u001b[0;36m_format\u001b[0;34m(self, object, stream, indent, allowance, context, level)\u001b[0m\n\u001b[1;32m    159\u001b[0m             \u001b[0mself\u001b[0m\u001b[0;34m.\u001b[0m\u001b[0m_readable\u001b[0m \u001b[0;34m=\u001b[0m \u001b[0;32mFalse\u001b[0m\u001b[0;34m\u001b[0m\u001b[0;34m\u001b[0m\u001b[0m\n\u001b[1;32m    160\u001b[0m             \u001b[0;32mreturn\u001b[0m\u001b[0;34m\u001b[0m\u001b[0;34m\u001b[0m\u001b[0m\n\u001b[0;32m--> 161\u001b[0;31m         \u001b[0mrep\u001b[0m \u001b[0;34m=\u001b[0m \u001b[0mself\u001b[0m\u001b[0;34m.\u001b[0m\u001b[0m_repr\u001b[0m\u001b[0;34m(\u001b[0m\u001b[0mobject\u001b[0m\u001b[0;34m,\u001b[0m \u001b[0mcontext\u001b[0m\u001b[0;34m,\u001b[0m \u001b[0mlevel\u001b[0m\u001b[0;34m)\u001b[0m\u001b[0;34m\u001b[0m\u001b[0;34m\u001b[0m\u001b[0m\n\u001b[0m\u001b[1;32m    162\u001b[0m         \u001b[0mmax_width\u001b[0m \u001b[0;34m=\u001b[0m \u001b[0mself\u001b[0m\u001b[0;34m.\u001b[0m\u001b[0m_width\u001b[0m \u001b[0;34m-\u001b[0m \u001b[0mindent\u001b[0m \u001b[0;34m-\u001b[0m \u001b[0mallowance\u001b[0m\u001b[0;34m\u001b[0m\u001b[0;34m\u001b[0m\u001b[0m\n\u001b[1;32m    163\u001b[0m         \u001b[0;32mif\u001b[0m \u001b[0mlen\u001b[0m\u001b[0;34m(\u001b[0m\u001b[0mrep\u001b[0m\u001b[0;34m)\u001b[0m \u001b[0;34m>\u001b[0m \u001b[0mmax_width\u001b[0m\u001b[0;34m:\u001b[0m\u001b[0;34m\u001b[0m\u001b[0;34m\u001b[0m\u001b[0m\n",
            "\u001b[0;32m/usr/lib/python3.7/pprint.py\u001b[0m in \u001b[0;36m_repr\u001b[0;34m(self, object, context, level)\u001b[0m\n\u001b[1;32m    391\u001b[0m     \u001b[0;32mdef\u001b[0m \u001b[0m_repr\u001b[0m\u001b[0;34m(\u001b[0m\u001b[0mself\u001b[0m\u001b[0;34m,\u001b[0m \u001b[0mobject\u001b[0m\u001b[0;34m,\u001b[0m \u001b[0mcontext\u001b[0m\u001b[0;34m,\u001b[0m \u001b[0mlevel\u001b[0m\u001b[0;34m)\u001b[0m\u001b[0;34m:\u001b[0m\u001b[0;34m\u001b[0m\u001b[0;34m\u001b[0m\u001b[0m\n\u001b[1;32m    392\u001b[0m         repr, readable, recursive = self.format(object, context.copy(),\n\u001b[0;32m--> 393\u001b[0;31m                                                 self._depth, level)\n\u001b[0m\u001b[1;32m    394\u001b[0m         \u001b[0;32mif\u001b[0m \u001b[0;32mnot\u001b[0m \u001b[0mreadable\u001b[0m\u001b[0;34m:\u001b[0m\u001b[0;34m\u001b[0m\u001b[0;34m\u001b[0m\u001b[0m\n\u001b[1;32m    395\u001b[0m             \u001b[0mself\u001b[0m\u001b[0;34m.\u001b[0m\u001b[0m_readable\u001b[0m \u001b[0;34m=\u001b[0m \u001b[0;32mFalse\u001b[0m\u001b[0;34m\u001b[0m\u001b[0;34m\u001b[0m\u001b[0m\n",
            "\u001b[0;32m/usr/local/lib/python3.7/dist-packages/sklearn/utils/_pprint.py\u001b[0m in \u001b[0;36mformat\u001b[0;34m(self, object, context, maxlevels, level)\u001b[0m\n\u001b[1;32m    179\u001b[0m     \u001b[0;32mdef\u001b[0m \u001b[0mformat\u001b[0m\u001b[0;34m(\u001b[0m\u001b[0mself\u001b[0m\u001b[0;34m,\u001b[0m \u001b[0mobject\u001b[0m\u001b[0;34m,\u001b[0m \u001b[0mcontext\u001b[0m\u001b[0;34m,\u001b[0m \u001b[0mmaxlevels\u001b[0m\u001b[0;34m,\u001b[0m \u001b[0mlevel\u001b[0m\u001b[0;34m)\u001b[0m\u001b[0;34m:\u001b[0m\u001b[0;34m\u001b[0m\u001b[0;34m\u001b[0m\u001b[0m\n\u001b[1;32m    180\u001b[0m         return _safe_repr(object, context, maxlevels, level,\n\u001b[0;32m--> 181\u001b[0;31m                           changed_only=self._changed_only)\n\u001b[0m\u001b[1;32m    182\u001b[0m \u001b[0;34m\u001b[0m\u001b[0m\n\u001b[1;32m    183\u001b[0m     def _pprint_estimator(self, object, stream, indent, allowance, context,\n",
            "\u001b[0;32m/usr/local/lib/python3.7/dist-packages/sklearn/utils/_pprint.py\u001b[0m in \u001b[0;36m_safe_repr\u001b[0;34m(object, context, maxlevels, level, changed_only)\u001b[0m\n\u001b[1;32m    423\u001b[0m         \u001b[0mrecursive\u001b[0m \u001b[0;34m=\u001b[0m \u001b[0;32mFalse\u001b[0m\u001b[0;34m\u001b[0m\u001b[0;34m\u001b[0m\u001b[0m\n\u001b[1;32m    424\u001b[0m         \u001b[0;32mif\u001b[0m \u001b[0mchanged_only\u001b[0m\u001b[0;34m:\u001b[0m\u001b[0;34m\u001b[0m\u001b[0;34m\u001b[0m\u001b[0m\n\u001b[0;32m--> 425\u001b[0;31m             \u001b[0mparams\u001b[0m \u001b[0;34m=\u001b[0m \u001b[0m_changed_params\u001b[0m\u001b[0;34m(\u001b[0m\u001b[0mobject\u001b[0m\u001b[0;34m)\u001b[0m\u001b[0;34m\u001b[0m\u001b[0;34m\u001b[0m\u001b[0m\n\u001b[0m\u001b[1;32m    426\u001b[0m         \u001b[0;32melse\u001b[0m\u001b[0;34m:\u001b[0m\u001b[0;34m\u001b[0m\u001b[0;34m\u001b[0m\u001b[0m\n\u001b[1;32m    427\u001b[0m             \u001b[0mparams\u001b[0m \u001b[0;34m=\u001b[0m \u001b[0mobject\u001b[0m\u001b[0;34m.\u001b[0m\u001b[0mget_params\u001b[0m\u001b[0;34m(\u001b[0m\u001b[0mdeep\u001b[0m\u001b[0;34m=\u001b[0m\u001b[0;32mFalse\u001b[0m\u001b[0;34m)\u001b[0m\u001b[0;34m\u001b[0m\u001b[0;34m\u001b[0m\u001b[0m\n",
            "\u001b[0;32m/usr/local/lib/python3.7/dist-packages/sklearn/utils/_pprint.py\u001b[0m in \u001b[0;36m_changed_params\u001b[0;34m(estimator)\u001b[0m\n\u001b[1;32m     89\u001b[0m     estimator with non-default values.\"\"\"\n\u001b[1;32m     90\u001b[0m \u001b[0;34m\u001b[0m\u001b[0m\n\u001b[0;32m---> 91\u001b[0;31m     \u001b[0mparams\u001b[0m \u001b[0;34m=\u001b[0m \u001b[0mestimator\u001b[0m\u001b[0;34m.\u001b[0m\u001b[0mget_params\u001b[0m\u001b[0;34m(\u001b[0m\u001b[0mdeep\u001b[0m\u001b[0;34m=\u001b[0m\u001b[0;32mFalse\u001b[0m\u001b[0;34m)\u001b[0m\u001b[0;34m\u001b[0m\u001b[0;34m\u001b[0m\u001b[0m\n\u001b[0m\u001b[1;32m     92\u001b[0m     init_func = getattr(estimator.__init__, 'deprecated_original',\n\u001b[1;32m     93\u001b[0m                         estimator.__init__)\n",
            "\u001b[0;32m/usr/local/lib/python3.7/dist-packages/sklearn/base.py\u001b[0m in \u001b[0;36mget_params\u001b[0;34m(self, deep)\u001b[0m\n\u001b[1;32m    193\u001b[0m         \u001b[0mout\u001b[0m \u001b[0;34m=\u001b[0m \u001b[0mdict\u001b[0m\u001b[0;34m(\u001b[0m\u001b[0;34m)\u001b[0m\u001b[0;34m\u001b[0m\u001b[0;34m\u001b[0m\u001b[0m\n\u001b[1;32m    194\u001b[0m         \u001b[0;32mfor\u001b[0m \u001b[0mkey\u001b[0m \u001b[0;32min\u001b[0m \u001b[0mself\u001b[0m\u001b[0;34m.\u001b[0m\u001b[0m_get_param_names\u001b[0m\u001b[0;34m(\u001b[0m\u001b[0;34m)\u001b[0m\u001b[0;34m:\u001b[0m\u001b[0;34m\u001b[0m\u001b[0;34m\u001b[0m\u001b[0m\n\u001b[0;32m--> 195\u001b[0;31m             \u001b[0mvalue\u001b[0m \u001b[0;34m=\u001b[0m \u001b[0mgetattr\u001b[0m\u001b[0;34m(\u001b[0m\u001b[0mself\u001b[0m\u001b[0;34m,\u001b[0m \u001b[0mkey\u001b[0m\u001b[0;34m)\u001b[0m\u001b[0;34m\u001b[0m\u001b[0;34m\u001b[0m\u001b[0m\n\u001b[0m\u001b[1;32m    196\u001b[0m             \u001b[0;32mif\u001b[0m \u001b[0mdeep\u001b[0m \u001b[0;32mand\u001b[0m \u001b[0mhasattr\u001b[0m\u001b[0;34m(\u001b[0m\u001b[0mvalue\u001b[0m\u001b[0;34m,\u001b[0m \u001b[0;34m'get_params'\u001b[0m\u001b[0;34m)\u001b[0m\u001b[0;34m:\u001b[0m\u001b[0;34m\u001b[0m\u001b[0;34m\u001b[0m\u001b[0m\n\u001b[1;32m    197\u001b[0m                 \u001b[0mdeep_items\u001b[0m \u001b[0;34m=\u001b[0m \u001b[0mvalue\u001b[0m\u001b[0;34m.\u001b[0m\u001b[0mget_params\u001b[0m\u001b[0;34m(\u001b[0m\u001b[0;34m)\u001b[0m\u001b[0;34m.\u001b[0m\u001b[0mitems\u001b[0m\u001b[0;34m(\u001b[0m\u001b[0;34m)\u001b[0m\u001b[0;34m\u001b[0m\u001b[0;34m\u001b[0m\u001b[0m\n",
            "\u001b[0;31mAttributeError\u001b[0m: 'MyDummyClassifier' object has no attribute 'dataset_properties'"
          ]
        }
      ]
    },
    {
      "cell_type": "code",
      "metadata": {
        "colab": {
          "base_uri": "https://localhost:8080/"
        },
        "id": "1xnUoemc_wur",
        "outputId": "ba5c81e6-c4d1-40e3-831f-b784d9134e3d"
      },
      "source": [
        "model.get_params()"
      ],
      "execution_count": null,
      "outputs": [
        {
          "output_type": "execute_result",
          "data": {
            "text/plain": [
              "{'dask_client': None,\n",
              " 'delete_output_folder_after_terminate': True,\n",
              " 'delete_tmp_folder_after_terminate': True,\n",
              " 'disable_evaluator_output': False,\n",
              " 'ensemble_nbest': 50,\n",
              " 'ensemble_size': 50,\n",
              " 'exclude_estimators': None,\n",
              " 'exclude_preprocessors': None,\n",
              " 'get_smac_object_callback': None,\n",
              " 'include_estimators': None,\n",
              " 'include_preprocessors': None,\n",
              " 'initial_configurations_via_metalearning': 25,\n",
              " 'load_models': True,\n",
              " 'logging_config': None,\n",
              " 'max_models_on_disc': 50,\n",
              " 'memory_limit': 3072,\n",
              " 'metadata_directory': None,\n",
              " 'metric': None,\n",
              " 'n_jobs': None,\n",
              " 'output_folder': None,\n",
              " 'per_run_time_limit': 7200,\n",
              " 'resampling_strategy': 'holdout',\n",
              " 'resampling_strategy_arguments': None,\n",
              " 'scoring_functions': None,\n",
              " 'seed': 1,\n",
              " 'smac_scenario_args': None,\n",
              " 'time_left_for_this_task': 21600,\n",
              " 'tmp_folder': None}"
            ]
          },
          "metadata": {
            "tags": []
          },
          "execution_count": 27
        }
      ]
    },
    {
      "cell_type": "code",
      "metadata": {
        "colab": {
          "base_uri": "https://localhost:8080/",
          "height": 306
        },
        "id": "6yL9h66p_1Zd",
        "outputId": "887eae6f-c666-4b04-89d4-5b5ff37a93ac"
      },
      "source": [
        "print(model.show_models())"
      ],
      "execution_count": null,
      "outputs": [
        {
          "output_type": "error",
          "ename": "AttributeError",
          "evalue": "ignored",
          "traceback": [
            "\u001b[0;31m---------------------------------------------------------------------------\u001b[0m",
            "\u001b[0;31mAttributeError\u001b[0m                            Traceback (most recent call last)",
            "\u001b[0;32m<ipython-input-36-74f70b715013>\u001b[0m in \u001b[0;36m<module>\u001b[0;34m()\u001b[0m\n\u001b[0;32m----> 1\u001b[0;31m \u001b[0mprint\u001b[0m\u001b[0;34m(\u001b[0m\u001b[0mmodel\u001b[0m\u001b[0;34m.\u001b[0m\u001b[0mshow_models\u001b[0m\u001b[0;34m(\u001b[0m\u001b[0;34m)\u001b[0m\u001b[0;34m)\u001b[0m\u001b[0;34m\u001b[0m\u001b[0;34m\u001b[0m\u001b[0m\n\u001b[0m",
            "\u001b[0;32m/usr/local/lib/python3.7/dist-packages/autosklearn/estimators.py\u001b[0m in \u001b[0;36mshow_models\u001b[0;34m(self)\u001b[0m\n\u001b[1;32m    469\u001b[0m \u001b[0;34m\u001b[0m\u001b[0m\n\u001b[1;32m    470\u001b[0m         \"\"\"\n\u001b[0;32m--> 471\u001b[0;31m         \u001b[0;32mreturn\u001b[0m \u001b[0mself\u001b[0m\u001b[0;34m.\u001b[0m\u001b[0mautoml_\u001b[0m\u001b[0;34m.\u001b[0m\u001b[0mshow_models\u001b[0m\u001b[0;34m(\u001b[0m\u001b[0;34m)\u001b[0m\u001b[0;34m\u001b[0m\u001b[0;34m\u001b[0m\u001b[0m\n\u001b[0m\u001b[1;32m    472\u001b[0m \u001b[0;34m\u001b[0m\u001b[0m\n\u001b[1;32m    473\u001b[0m     \u001b[0;32mdef\u001b[0m \u001b[0mget_models_with_weights\u001b[0m\u001b[0;34m(\u001b[0m\u001b[0mself\u001b[0m\u001b[0;34m)\u001b[0m\u001b[0;34m:\u001b[0m\u001b[0;34m\u001b[0m\u001b[0;34m\u001b[0m\u001b[0m\n",
            "\u001b[0;32m/usr/local/lib/python3.7/dist-packages/autosklearn/automl.py\u001b[0m in \u001b[0;36mshow_models\u001b[0;34m(self)\u001b[0m\n\u001b[1;32m   1328\u001b[0m             \u001b[0msio\u001b[0m\u001b[0;34m.\u001b[0m\u001b[0mwrite\u001b[0m\u001b[0;34m(\u001b[0m\u001b[0;34m\"[\"\u001b[0m\u001b[0;34m)\u001b[0m\u001b[0;34m\u001b[0m\u001b[0;34m\u001b[0m\u001b[0m\n\u001b[1;32m   1329\u001b[0m             \u001b[0;32mfor\u001b[0m \u001b[0mweight\u001b[0m\u001b[0;34m,\u001b[0m \u001b[0mmodel\u001b[0m \u001b[0;32min\u001b[0m \u001b[0mmodels_with_weights\u001b[0m\u001b[0;34m:\u001b[0m\u001b[0;34m\u001b[0m\u001b[0;34m\u001b[0m\u001b[0m\n\u001b[0;32m-> 1330\u001b[0;31m                 \u001b[0msio\u001b[0m\u001b[0;34m.\u001b[0m\u001b[0mwrite\u001b[0m\u001b[0;34m(\u001b[0m\u001b[0;34m\"(%f, %s),\\n\"\u001b[0m \u001b[0;34m%\u001b[0m \u001b[0;34m(\u001b[0m\u001b[0mweight\u001b[0m\u001b[0;34m,\u001b[0m \u001b[0mmodel\u001b[0m\u001b[0;34m)\u001b[0m\u001b[0;34m)\u001b[0m\u001b[0;34m\u001b[0m\u001b[0;34m\u001b[0m\u001b[0m\n\u001b[0m\u001b[1;32m   1331\u001b[0m             \u001b[0msio\u001b[0m\u001b[0;34m.\u001b[0m\u001b[0mwrite\u001b[0m\u001b[0;34m(\u001b[0m\u001b[0;34m\"]\"\u001b[0m\u001b[0;34m)\u001b[0m\u001b[0;34m\u001b[0m\u001b[0;34m\u001b[0m\u001b[0m\n\u001b[1;32m   1332\u001b[0m \u001b[0;34m\u001b[0m\u001b[0m\n",
            "\u001b[0;32m/usr/local/lib/python3.7/dist-packages/sklearn/base.py\u001b[0m in \u001b[0;36m__repr__\u001b[0;34m(self, N_CHAR_MAX)\u001b[0m\n\u001b[1;32m    258\u001b[0m             n_max_elements_to_show=N_MAX_ELEMENTS_TO_SHOW)\n\u001b[1;32m    259\u001b[0m \u001b[0;34m\u001b[0m\u001b[0m\n\u001b[0;32m--> 260\u001b[0;31m         \u001b[0mrepr_\u001b[0m \u001b[0;34m=\u001b[0m \u001b[0mpp\u001b[0m\u001b[0;34m.\u001b[0m\u001b[0mpformat\u001b[0m\u001b[0;34m(\u001b[0m\u001b[0mself\u001b[0m\u001b[0;34m)\u001b[0m\u001b[0;34m\u001b[0m\u001b[0;34m\u001b[0m\u001b[0m\n\u001b[0m\u001b[1;32m    261\u001b[0m \u001b[0;34m\u001b[0m\u001b[0m\n\u001b[1;32m    262\u001b[0m         \u001b[0;31m# Use bruteforce ellipsis when there are a lot of non-blank characters\u001b[0m\u001b[0;34m\u001b[0m\u001b[0;34m\u001b[0m\u001b[0;34m\u001b[0m\u001b[0m\n",
            "\u001b[0;32m/usr/lib/python3.7/pprint.py\u001b[0m in \u001b[0;36mpformat\u001b[0;34m(self, object)\u001b[0m\n\u001b[1;32m    142\u001b[0m     \u001b[0;32mdef\u001b[0m \u001b[0mpformat\u001b[0m\u001b[0;34m(\u001b[0m\u001b[0mself\u001b[0m\u001b[0;34m,\u001b[0m \u001b[0mobject\u001b[0m\u001b[0;34m)\u001b[0m\u001b[0;34m:\u001b[0m\u001b[0;34m\u001b[0m\u001b[0;34m\u001b[0m\u001b[0m\n\u001b[1;32m    143\u001b[0m         \u001b[0msio\u001b[0m \u001b[0;34m=\u001b[0m \u001b[0m_StringIO\u001b[0m\u001b[0;34m(\u001b[0m\u001b[0;34m)\u001b[0m\u001b[0;34m\u001b[0m\u001b[0;34m\u001b[0m\u001b[0m\n\u001b[0;32m--> 144\u001b[0;31m         \u001b[0mself\u001b[0m\u001b[0;34m.\u001b[0m\u001b[0m_format\u001b[0m\u001b[0;34m(\u001b[0m\u001b[0mobject\u001b[0m\u001b[0;34m,\u001b[0m \u001b[0msio\u001b[0m\u001b[0;34m,\u001b[0m \u001b[0;36m0\u001b[0m\u001b[0;34m,\u001b[0m \u001b[0;36m0\u001b[0m\u001b[0;34m,\u001b[0m \u001b[0;34m{\u001b[0m\u001b[0;34m}\u001b[0m\u001b[0;34m,\u001b[0m \u001b[0;36m0\u001b[0m\u001b[0;34m)\u001b[0m\u001b[0;34m\u001b[0m\u001b[0;34m\u001b[0m\u001b[0m\n\u001b[0m\u001b[1;32m    145\u001b[0m         \u001b[0;32mreturn\u001b[0m \u001b[0msio\u001b[0m\u001b[0;34m.\u001b[0m\u001b[0mgetvalue\u001b[0m\u001b[0;34m(\u001b[0m\u001b[0;34m)\u001b[0m\u001b[0;34m\u001b[0m\u001b[0;34m\u001b[0m\u001b[0m\n\u001b[1;32m    146\u001b[0m \u001b[0;34m\u001b[0m\u001b[0m\n",
            "\u001b[0;32m/usr/lib/python3.7/pprint.py\u001b[0m in \u001b[0;36m_format\u001b[0;34m(self, object, stream, indent, allowance, context, level)\u001b[0m\n\u001b[1;32m    159\u001b[0m             \u001b[0mself\u001b[0m\u001b[0;34m.\u001b[0m\u001b[0m_readable\u001b[0m \u001b[0;34m=\u001b[0m \u001b[0;32mFalse\u001b[0m\u001b[0;34m\u001b[0m\u001b[0;34m\u001b[0m\u001b[0m\n\u001b[1;32m    160\u001b[0m             \u001b[0;32mreturn\u001b[0m\u001b[0;34m\u001b[0m\u001b[0;34m\u001b[0m\u001b[0m\n\u001b[0;32m--> 161\u001b[0;31m         \u001b[0mrep\u001b[0m \u001b[0;34m=\u001b[0m \u001b[0mself\u001b[0m\u001b[0;34m.\u001b[0m\u001b[0m_repr\u001b[0m\u001b[0;34m(\u001b[0m\u001b[0mobject\u001b[0m\u001b[0;34m,\u001b[0m \u001b[0mcontext\u001b[0m\u001b[0;34m,\u001b[0m \u001b[0mlevel\u001b[0m\u001b[0;34m)\u001b[0m\u001b[0;34m\u001b[0m\u001b[0;34m\u001b[0m\u001b[0m\n\u001b[0m\u001b[1;32m    162\u001b[0m         \u001b[0mmax_width\u001b[0m \u001b[0;34m=\u001b[0m \u001b[0mself\u001b[0m\u001b[0;34m.\u001b[0m\u001b[0m_width\u001b[0m \u001b[0;34m-\u001b[0m \u001b[0mindent\u001b[0m \u001b[0;34m-\u001b[0m \u001b[0mallowance\u001b[0m\u001b[0;34m\u001b[0m\u001b[0;34m\u001b[0m\u001b[0m\n\u001b[1;32m    163\u001b[0m         \u001b[0;32mif\u001b[0m \u001b[0mlen\u001b[0m\u001b[0;34m(\u001b[0m\u001b[0mrep\u001b[0m\u001b[0;34m)\u001b[0m \u001b[0;34m>\u001b[0m \u001b[0mmax_width\u001b[0m\u001b[0;34m:\u001b[0m\u001b[0;34m\u001b[0m\u001b[0;34m\u001b[0m\u001b[0m\n",
            "\u001b[0;32m/usr/lib/python3.7/pprint.py\u001b[0m in \u001b[0;36m_repr\u001b[0;34m(self, object, context, level)\u001b[0m\n\u001b[1;32m    391\u001b[0m     \u001b[0;32mdef\u001b[0m \u001b[0m_repr\u001b[0m\u001b[0;34m(\u001b[0m\u001b[0mself\u001b[0m\u001b[0;34m,\u001b[0m \u001b[0mobject\u001b[0m\u001b[0;34m,\u001b[0m \u001b[0mcontext\u001b[0m\u001b[0;34m,\u001b[0m \u001b[0mlevel\u001b[0m\u001b[0;34m)\u001b[0m\u001b[0;34m:\u001b[0m\u001b[0;34m\u001b[0m\u001b[0;34m\u001b[0m\u001b[0m\n\u001b[1;32m    392\u001b[0m         repr, readable, recursive = self.format(object, context.copy(),\n\u001b[0;32m--> 393\u001b[0;31m                                                 self._depth, level)\n\u001b[0m\u001b[1;32m    394\u001b[0m         \u001b[0;32mif\u001b[0m \u001b[0;32mnot\u001b[0m \u001b[0mreadable\u001b[0m\u001b[0;34m:\u001b[0m\u001b[0;34m\u001b[0m\u001b[0;34m\u001b[0m\u001b[0m\n\u001b[1;32m    395\u001b[0m             \u001b[0mself\u001b[0m\u001b[0;34m.\u001b[0m\u001b[0m_readable\u001b[0m \u001b[0;34m=\u001b[0m \u001b[0;32mFalse\u001b[0m\u001b[0;34m\u001b[0m\u001b[0;34m\u001b[0m\u001b[0m\n",
            "\u001b[0;32m/usr/local/lib/python3.7/dist-packages/sklearn/utils/_pprint.py\u001b[0m in \u001b[0;36mformat\u001b[0;34m(self, object, context, maxlevels, level)\u001b[0m\n\u001b[1;32m    179\u001b[0m     \u001b[0;32mdef\u001b[0m \u001b[0mformat\u001b[0m\u001b[0;34m(\u001b[0m\u001b[0mself\u001b[0m\u001b[0;34m,\u001b[0m \u001b[0mobject\u001b[0m\u001b[0;34m,\u001b[0m \u001b[0mcontext\u001b[0m\u001b[0;34m,\u001b[0m \u001b[0mmaxlevels\u001b[0m\u001b[0;34m,\u001b[0m \u001b[0mlevel\u001b[0m\u001b[0;34m)\u001b[0m\u001b[0;34m:\u001b[0m\u001b[0;34m\u001b[0m\u001b[0;34m\u001b[0m\u001b[0m\n\u001b[1;32m    180\u001b[0m         return _safe_repr(object, context, maxlevels, level,\n\u001b[0;32m--> 181\u001b[0;31m                           changed_only=self._changed_only)\n\u001b[0m\u001b[1;32m    182\u001b[0m \u001b[0;34m\u001b[0m\u001b[0m\n\u001b[1;32m    183\u001b[0m     def _pprint_estimator(self, object, stream, indent, allowance, context,\n",
            "\u001b[0;32m/usr/local/lib/python3.7/dist-packages/sklearn/utils/_pprint.py\u001b[0m in \u001b[0;36m_safe_repr\u001b[0;34m(object, context, maxlevels, level, changed_only)\u001b[0m\n\u001b[1;32m    423\u001b[0m         \u001b[0mrecursive\u001b[0m \u001b[0;34m=\u001b[0m \u001b[0;32mFalse\u001b[0m\u001b[0;34m\u001b[0m\u001b[0;34m\u001b[0m\u001b[0m\n\u001b[1;32m    424\u001b[0m         \u001b[0;32mif\u001b[0m \u001b[0mchanged_only\u001b[0m\u001b[0;34m:\u001b[0m\u001b[0;34m\u001b[0m\u001b[0;34m\u001b[0m\u001b[0m\n\u001b[0;32m--> 425\u001b[0;31m             \u001b[0mparams\u001b[0m \u001b[0;34m=\u001b[0m \u001b[0m_changed_params\u001b[0m\u001b[0;34m(\u001b[0m\u001b[0mobject\u001b[0m\u001b[0;34m)\u001b[0m\u001b[0;34m\u001b[0m\u001b[0;34m\u001b[0m\u001b[0m\n\u001b[0m\u001b[1;32m    426\u001b[0m         \u001b[0;32melse\u001b[0m\u001b[0;34m:\u001b[0m\u001b[0;34m\u001b[0m\u001b[0;34m\u001b[0m\u001b[0m\n\u001b[1;32m    427\u001b[0m             \u001b[0mparams\u001b[0m \u001b[0;34m=\u001b[0m \u001b[0mobject\u001b[0m\u001b[0;34m.\u001b[0m\u001b[0mget_params\u001b[0m\u001b[0;34m(\u001b[0m\u001b[0mdeep\u001b[0m\u001b[0;34m=\u001b[0m\u001b[0;32mFalse\u001b[0m\u001b[0;34m)\u001b[0m\u001b[0;34m\u001b[0m\u001b[0;34m\u001b[0m\u001b[0m\n",
            "\u001b[0;32m/usr/local/lib/python3.7/dist-packages/sklearn/utils/_pprint.py\u001b[0m in \u001b[0;36m_changed_params\u001b[0;34m(estimator)\u001b[0m\n\u001b[1;32m     89\u001b[0m     estimator with non-default values.\"\"\"\n\u001b[1;32m     90\u001b[0m \u001b[0;34m\u001b[0m\u001b[0m\n\u001b[0;32m---> 91\u001b[0;31m     \u001b[0mparams\u001b[0m \u001b[0;34m=\u001b[0m \u001b[0mestimator\u001b[0m\u001b[0;34m.\u001b[0m\u001b[0mget_params\u001b[0m\u001b[0;34m(\u001b[0m\u001b[0mdeep\u001b[0m\u001b[0;34m=\u001b[0m\u001b[0;32mFalse\u001b[0m\u001b[0;34m)\u001b[0m\u001b[0;34m\u001b[0m\u001b[0;34m\u001b[0m\u001b[0m\n\u001b[0m\u001b[1;32m     92\u001b[0m     init_func = getattr(estimator.__init__, 'deprecated_original',\n\u001b[1;32m     93\u001b[0m                         estimator.__init__)\n",
            "\u001b[0;32m/usr/local/lib/python3.7/dist-packages/sklearn/base.py\u001b[0m in \u001b[0;36mget_params\u001b[0;34m(self, deep)\u001b[0m\n\u001b[1;32m    193\u001b[0m         \u001b[0mout\u001b[0m \u001b[0;34m=\u001b[0m \u001b[0mdict\u001b[0m\u001b[0;34m(\u001b[0m\u001b[0;34m)\u001b[0m\u001b[0;34m\u001b[0m\u001b[0;34m\u001b[0m\u001b[0m\n\u001b[1;32m    194\u001b[0m         \u001b[0;32mfor\u001b[0m \u001b[0mkey\u001b[0m \u001b[0;32min\u001b[0m \u001b[0mself\u001b[0m\u001b[0;34m.\u001b[0m\u001b[0m_get_param_names\u001b[0m\u001b[0;34m(\u001b[0m\u001b[0;34m)\u001b[0m\u001b[0;34m:\u001b[0m\u001b[0;34m\u001b[0m\u001b[0;34m\u001b[0m\u001b[0m\n\u001b[0;32m--> 195\u001b[0;31m             \u001b[0mvalue\u001b[0m \u001b[0;34m=\u001b[0m \u001b[0mgetattr\u001b[0m\u001b[0;34m(\u001b[0m\u001b[0mself\u001b[0m\u001b[0;34m,\u001b[0m \u001b[0mkey\u001b[0m\u001b[0;34m)\u001b[0m\u001b[0;34m\u001b[0m\u001b[0;34m\u001b[0m\u001b[0m\n\u001b[0m\u001b[1;32m    196\u001b[0m             \u001b[0;32mif\u001b[0m \u001b[0mdeep\u001b[0m \u001b[0;32mand\u001b[0m \u001b[0mhasattr\u001b[0m\u001b[0;34m(\u001b[0m\u001b[0mvalue\u001b[0m\u001b[0;34m,\u001b[0m \u001b[0;34m'get_params'\u001b[0m\u001b[0;34m)\u001b[0m\u001b[0;34m:\u001b[0m\u001b[0;34m\u001b[0m\u001b[0;34m\u001b[0m\u001b[0m\n\u001b[1;32m    197\u001b[0m                 \u001b[0mdeep_items\u001b[0m \u001b[0;34m=\u001b[0m \u001b[0mvalue\u001b[0m\u001b[0;34m.\u001b[0m\u001b[0mget_params\u001b[0m\u001b[0;34m(\u001b[0m\u001b[0;34m)\u001b[0m\u001b[0;34m.\u001b[0m\u001b[0mitems\u001b[0m\u001b[0;34m(\u001b[0m\u001b[0;34m)\u001b[0m\u001b[0;34m\u001b[0m\u001b[0;34m\u001b[0m\u001b[0m\n",
            "\u001b[0;31mAttributeError\u001b[0m: 'MyDummyClassifier' object has no attribute 'dataset_properties'"
          ]
        }
      ]
    }
  ]
}