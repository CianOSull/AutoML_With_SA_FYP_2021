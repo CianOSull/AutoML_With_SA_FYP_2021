{
  "nbformat": 4,
  "nbformat_minor": 0,
  "metadata": {
    "colab": {
      "name": "Copy of TPOT MainNotebook",
      "provenance": [],
      "collapsed_sections": [],
      "mount_file_id": "1W2EaXPitZCrgFBWxtQNDxSJPPSrAfrO3",
      "authorship_tag": "ABX9TyMVEVahKtnhS+beU0qwvpcz",
      "include_colab_link": true
    },
    "kernelspec": {
      "name": "python3",
      "display_name": "Python 3"
    },
    "widgets": {
      "application/vnd.jupyter.widget-state+json": {
        "dded0f7122c244eb8706c8c8ea746a03": {
          "model_module": "@jupyter-widgets/controls",
          "model_name": "HBoxModel",
          "state": {
            "_view_name": "HBoxView",
            "_dom_classes": [],
            "_model_name": "HBoxModel",
            "_view_module": "@jupyter-widgets/controls",
            "_model_module_version": "1.5.0",
            "_view_count": null,
            "_view_module_version": "1.5.0",
            "box_style": "",
            "layout": "IPY_MODEL_d14bcb376d55482fa1631aa6fbea7057",
            "_model_module": "@jupyter-widgets/controls",
            "children": [
              "IPY_MODEL_abc14ed6e6324117a3fae2fd3432b737",
              "IPY_MODEL_48acc10f890b40ed945dfc48e08840ce"
            ]
          }
        },
        "d14bcb376d55482fa1631aa6fbea7057": {
          "model_module": "@jupyter-widgets/base",
          "model_name": "LayoutModel",
          "state": {
            "_view_name": "LayoutView",
            "grid_template_rows": null,
            "right": null,
            "justify_content": null,
            "_view_module": "@jupyter-widgets/base",
            "overflow": null,
            "_model_module_version": "1.2.0",
            "_view_count": null,
            "flex_flow": null,
            "width": null,
            "min_width": null,
            "border": null,
            "align_items": null,
            "bottom": null,
            "_model_module": "@jupyter-widgets/base",
            "top": null,
            "grid_column": null,
            "overflow_y": null,
            "overflow_x": null,
            "grid_auto_flow": null,
            "grid_area": null,
            "grid_template_columns": null,
            "flex": null,
            "_model_name": "LayoutModel",
            "justify_items": null,
            "grid_row": null,
            "max_height": null,
            "align_content": null,
            "visibility": null,
            "align_self": null,
            "height": null,
            "min_height": null,
            "padding": null,
            "grid_auto_rows": null,
            "grid_gap": null,
            "max_width": null,
            "order": null,
            "_view_module_version": "1.2.0",
            "grid_template_areas": null,
            "object_position": null,
            "object_fit": null,
            "grid_auto_columns": null,
            "margin": null,
            "display": null,
            "left": null
          }
        },
        "abc14ed6e6324117a3fae2fd3432b737": {
          "model_module": "@jupyter-widgets/controls",
          "model_name": "FloatProgressModel",
          "state": {
            "_view_name": "ProgressView",
            "style": "IPY_MODEL_30da64de84444135838fa8b61a021315",
            "_dom_classes": [],
            "description": "Optimization Progress: ",
            "_model_name": "FloatProgressModel",
            "bar_style": "",
            "max": 10,
            "_view_module": "@jupyter-widgets/controls",
            "_model_module_version": "1.5.0",
            "value": 10,
            "_view_count": null,
            "_view_module_version": "1.5.0",
            "orientation": "horizontal",
            "min": 0,
            "description_tooltip": null,
            "_model_module": "@jupyter-widgets/controls",
            "layout": "IPY_MODEL_869483050ee5431c907d8a3556cadf95"
          }
        },
        "48acc10f890b40ed945dfc48e08840ce": {
          "model_module": "@jupyter-widgets/controls",
          "model_name": "HTMLModel",
          "state": {
            "_view_name": "HTMLView",
            "style": "IPY_MODEL_d366301befa2429da4423aeff25e1ef4",
            "_dom_classes": [],
            "description": "",
            "_model_name": "HTMLModel",
            "placeholder": "​",
            "_view_module": "@jupyter-widgets/controls",
            "_model_module_version": "1.5.0",
            "value": " 12/? [15:49&lt;00:00, 81.12s/pipeline]",
            "_view_count": null,
            "_view_module_version": "1.5.0",
            "description_tooltip": null,
            "_model_module": "@jupyter-widgets/controls",
            "layout": "IPY_MODEL_bd07ac750b764f9d9bb5cfff268b53bf"
          }
        },
        "30da64de84444135838fa8b61a021315": {
          "model_module": "@jupyter-widgets/controls",
          "model_name": "ProgressStyleModel",
          "state": {
            "_view_name": "StyleView",
            "_model_name": "ProgressStyleModel",
            "description_width": "initial",
            "_view_module": "@jupyter-widgets/base",
            "_model_module_version": "1.5.0",
            "_view_count": null,
            "_view_module_version": "1.2.0",
            "bar_color": null,
            "_model_module": "@jupyter-widgets/controls"
          }
        },
        "869483050ee5431c907d8a3556cadf95": {
          "model_module": "@jupyter-widgets/base",
          "model_name": "LayoutModel",
          "state": {
            "_view_name": "LayoutView",
            "grid_template_rows": null,
            "right": null,
            "justify_content": null,
            "_view_module": "@jupyter-widgets/base",
            "overflow": null,
            "_model_module_version": "1.2.0",
            "_view_count": null,
            "flex_flow": null,
            "width": null,
            "min_width": null,
            "border": null,
            "align_items": null,
            "bottom": null,
            "_model_module": "@jupyter-widgets/base",
            "top": null,
            "grid_column": null,
            "overflow_y": null,
            "overflow_x": null,
            "grid_auto_flow": null,
            "grid_area": null,
            "grid_template_columns": null,
            "flex": null,
            "_model_name": "LayoutModel",
            "justify_items": null,
            "grid_row": null,
            "max_height": null,
            "align_content": null,
            "visibility": null,
            "align_self": null,
            "height": null,
            "min_height": null,
            "padding": null,
            "grid_auto_rows": null,
            "grid_gap": null,
            "max_width": null,
            "order": null,
            "_view_module_version": "1.2.0",
            "grid_template_areas": null,
            "object_position": null,
            "object_fit": null,
            "grid_auto_columns": null,
            "margin": null,
            "display": null,
            "left": null
          }
        },
        "d366301befa2429da4423aeff25e1ef4": {
          "model_module": "@jupyter-widgets/controls",
          "model_name": "DescriptionStyleModel",
          "state": {
            "_view_name": "StyleView",
            "_model_name": "DescriptionStyleModel",
            "description_width": "",
            "_view_module": "@jupyter-widgets/base",
            "_model_module_version": "1.5.0",
            "_view_count": null,
            "_view_module_version": "1.2.0",
            "_model_module": "@jupyter-widgets/controls"
          }
        },
        "bd07ac750b764f9d9bb5cfff268b53bf": {
          "model_module": "@jupyter-widgets/base",
          "model_name": "LayoutModel",
          "state": {
            "_view_name": "LayoutView",
            "grid_template_rows": null,
            "right": null,
            "justify_content": null,
            "_view_module": "@jupyter-widgets/base",
            "overflow": null,
            "_model_module_version": "1.2.0",
            "_view_count": null,
            "flex_flow": null,
            "width": null,
            "min_width": null,
            "border": null,
            "align_items": null,
            "bottom": null,
            "_model_module": "@jupyter-widgets/base",
            "top": null,
            "grid_column": null,
            "overflow_y": null,
            "overflow_x": null,
            "grid_auto_flow": null,
            "grid_area": null,
            "grid_template_columns": null,
            "flex": null,
            "_model_name": "LayoutModel",
            "justify_items": null,
            "grid_row": null,
            "max_height": null,
            "align_content": null,
            "visibility": null,
            "align_self": null,
            "height": null,
            "min_height": null,
            "padding": null,
            "grid_auto_rows": null,
            "grid_gap": null,
            "max_width": null,
            "order": null,
            "_view_module_version": "1.2.0",
            "grid_template_areas": null,
            "object_position": null,
            "object_fit": null,
            "grid_auto_columns": null,
            "margin": null,
            "display": null,
            "left": null
          }
        }
      }
    }
  },
  "cells": [
    {
      "cell_type": "markdown",
      "metadata": {
        "id": "view-in-github",
        "colab_type": "text"
      },
      "source": [
        "<a href=\"https://colab.research.google.com/github/CianOSull/AutoML_With_SA_FYP_2021/blob/TPOT/MainNotebook.ipynb\" target=\"_parent\"><img src=\"https://colab.research.google.com/assets/colab-badge.svg\" alt=\"Open In Colab\"/></a>"
      ]
    },
    {
      "cell_type": "markdown",
      "metadata": {
        "id": "i_zrt8fk5AJt"
      },
      "source": [
        "# Generic Notebook for running all the libraries\n",
        "\n",
        "How this notebook works is that it contains the code\n",
        "for loading and cleaning the dataset.\n",
        "\n",
        "Then there is multiple branches created on the\n",
        "Github that include the code for running each library.\n",
        "\n",
        "E.g. MLBox branch has the code for running MLBox."
      ]
    },
    {
      "cell_type": "markdown",
      "metadata": {
        "id": "idZkm3ZBASxO"
      },
      "source": [
        "# CURRENT BRANCH: TPOT"
      ]
    },
    {
      "cell_type": "markdown",
      "metadata": {
        "id": "WJiawHdY2egK"
      },
      "source": [
        "# Install TPOT"
      ]
    },
    {
      "cell_type": "code",
      "metadata": {
        "id": "5wFpyMaK6tMs",
        "colab": {
          "base_uri": "https://localhost:8080/"
        },
        "outputId": "2cb44d07-9405-46b0-f3b1-024354ef50d7"
      },
      "source": [
        "# Insert any install comamnds in this cell\n",
        "!pip install deap update_checker tqdm stopit xgboost\n",
        "!pip install tpot"
      ],
      "execution_count": 1,
      "outputs": [
        {
          "output_type": "stream",
          "text": [
            "Collecting deap\n",
            "\u001b[?25l  Downloading https://files.pythonhosted.org/packages/99/d1/803c7a387d8a7e6866160b1541307f88d534da4291572fb32f69d2548afb/deap-1.3.1-cp37-cp37m-manylinux2010_x86_64.whl (157kB)\n",
            "\r\u001b[K     |██                              | 10kB 7.0MB/s eta 0:00:01\r\u001b[K     |████▏                           | 20kB 11.4MB/s eta 0:00:01\r\u001b[K     |██████▏                         | 30kB 8.5MB/s eta 0:00:01\r\u001b[K     |████████▎                       | 40kB 7.3MB/s eta 0:00:01\r\u001b[K     |██████████▍                     | 51kB 4.4MB/s eta 0:00:01\r\u001b[K     |████████████▍                   | 61kB 4.9MB/s eta 0:00:01\r\u001b[K     |██████████████▌                 | 71kB 4.8MB/s eta 0:00:01\r\u001b[K     |████████████████▋               | 81kB 5.3MB/s eta 0:00:01\r\u001b[K     |██████████████████▋             | 92kB 5.5MB/s eta 0:00:01\r\u001b[K     |████████████████████▊           | 102kB 5.7MB/s eta 0:00:01\r\u001b[K     |██████████████████████▉         | 112kB 5.7MB/s eta 0:00:01\r\u001b[K     |████████████████████████▉       | 122kB 5.7MB/s eta 0:00:01\r\u001b[K     |███████████████████████████     | 133kB 5.7MB/s eta 0:00:01\r\u001b[K     |█████████████████████████████   | 143kB 5.7MB/s eta 0:00:01\r\u001b[K     |███████████████████████████████ | 153kB 5.7MB/s eta 0:00:01\r\u001b[K     |████████████████████████████████| 163kB 5.7MB/s \n",
            "\u001b[?25hCollecting update_checker\n",
            "  Downloading https://files.pythonhosted.org/packages/0c/ba/8dd7fa5f0b1c6a8ac62f8f57f7e794160c1f86f31c6d0fb00f582372a3e4/update_checker-0.18.0-py3-none-any.whl\n",
            "Requirement already satisfied: tqdm in /usr/local/lib/python3.7/dist-packages (4.41.1)\n",
            "Collecting stopit\n",
            "  Downloading https://files.pythonhosted.org/packages/35/58/e8bb0b0fb05baf07bbac1450c447d753da65f9701f551dca79823ce15d50/stopit-1.1.2.tar.gz\n",
            "Requirement already satisfied: xgboost in /usr/local/lib/python3.7/dist-packages (0.90)\n",
            "Requirement already satisfied: numpy in /usr/local/lib/python3.7/dist-packages (from deap) (1.19.5)\n",
            "Requirement already satisfied: requests>=2.3.0 in /usr/local/lib/python3.7/dist-packages (from update_checker) (2.23.0)\n",
            "Requirement already satisfied: scipy in /usr/local/lib/python3.7/dist-packages (from xgboost) (1.4.1)\n",
            "Requirement already satisfied: idna<3,>=2.5 in /usr/local/lib/python3.7/dist-packages (from requests>=2.3.0->update_checker) (2.10)\n",
            "Requirement already satisfied: chardet<4,>=3.0.2 in /usr/local/lib/python3.7/dist-packages (from requests>=2.3.0->update_checker) (3.0.4)\n",
            "Requirement already satisfied: certifi>=2017.4.17 in /usr/local/lib/python3.7/dist-packages (from requests>=2.3.0->update_checker) (2020.12.5)\n",
            "Requirement already satisfied: urllib3!=1.25.0,!=1.25.1,<1.26,>=1.21.1 in /usr/local/lib/python3.7/dist-packages (from requests>=2.3.0->update_checker) (1.24.3)\n",
            "Building wheels for collected packages: stopit\n",
            "  Building wheel for stopit (setup.py) ... \u001b[?25l\u001b[?25hdone\n",
            "  Created wheel for stopit: filename=stopit-1.1.2-cp37-none-any.whl size=11954 sha256=9fe3219c59548dce98b5bd76975afdbd0f2286ca8dff4ae6f0356495357d33b3\n",
            "  Stored in directory: /root/.cache/pip/wheels/3c/85/2b/2580190404636bfc63e8de3dff629c03bb795021e1983a6cc7\n",
            "Successfully built stopit\n",
            "Installing collected packages: deap, update-checker, stopit\n",
            "Successfully installed deap-1.3.1 stopit-1.1.2 update-checker-0.18.0\n",
            "Collecting tpot\n",
            "\u001b[?25l  Downloading https://files.pythonhosted.org/packages/b2/55/a7185198f554ea19758e5ac4641f100c94cba4585e738e2e48e3c40a0b7f/TPOT-0.11.7-py3-none-any.whl (87kB)\n",
            "\u001b[K     |████████████████████████████████| 92kB 3.8MB/s \n",
            "\u001b[?25hRequirement already satisfied: tqdm>=4.36.1 in /usr/local/lib/python3.7/dist-packages (from tpot) (4.41.1)\n",
            "Requirement already satisfied: stopit>=1.1.1 in /usr/local/lib/python3.7/dist-packages (from tpot) (1.1.2)\n",
            "Collecting xgboost>=1.1.0\n",
            "\u001b[?25l  Downloading https://files.pythonhosted.org/packages/2e/57/bf5026701c384decd2b995eb39d86587a103ba4eb26f8a9b1811db0896d3/xgboost-1.3.3-py3-none-manylinux2010_x86_64.whl (157.5MB)\n",
            "\u001b[K     |████████████████████████████████| 157.5MB 80kB/s \n",
            "\u001b[?25hRequirement already satisfied: scipy>=1.3.1 in /usr/local/lib/python3.7/dist-packages (from tpot) (1.4.1)\n",
            "Requirement already satisfied: joblib>=0.13.2 in /usr/local/lib/python3.7/dist-packages (from tpot) (1.0.1)\n",
            "Requirement already satisfied: update-checker>=0.16 in /usr/local/lib/python3.7/dist-packages (from tpot) (0.18.0)\n",
            "Requirement already satisfied: deap>=1.2 in /usr/local/lib/python3.7/dist-packages (from tpot) (1.3.1)\n",
            "Requirement already satisfied: pandas>=0.24.2 in /usr/local/lib/python3.7/dist-packages (from tpot) (1.1.5)\n",
            "Requirement already satisfied: numpy>=1.16.3 in /usr/local/lib/python3.7/dist-packages (from tpot) (1.19.5)\n",
            "Requirement already satisfied: scikit-learn>=0.22.0 in /usr/local/lib/python3.7/dist-packages (from tpot) (0.22.2.post1)\n",
            "Requirement already satisfied: requests>=2.3.0 in /usr/local/lib/python3.7/dist-packages (from update-checker>=0.16->tpot) (2.23.0)\n",
            "Requirement already satisfied: pytz>=2017.2 in /usr/local/lib/python3.7/dist-packages (from pandas>=0.24.2->tpot) (2018.9)\n",
            "Requirement already satisfied: python-dateutil>=2.7.3 in /usr/local/lib/python3.7/dist-packages (from pandas>=0.24.2->tpot) (2.8.1)\n",
            "Requirement already satisfied: urllib3!=1.25.0,!=1.25.1,<1.26,>=1.21.1 in /usr/local/lib/python3.7/dist-packages (from requests>=2.3.0->update-checker>=0.16->tpot) (1.24.3)\n",
            "Requirement already satisfied: idna<3,>=2.5 in /usr/local/lib/python3.7/dist-packages (from requests>=2.3.0->update-checker>=0.16->tpot) (2.10)\n",
            "Requirement already satisfied: certifi>=2017.4.17 in /usr/local/lib/python3.7/dist-packages (from requests>=2.3.0->update-checker>=0.16->tpot) (2020.12.5)\n",
            "Requirement already satisfied: chardet<4,>=3.0.2 in /usr/local/lib/python3.7/dist-packages (from requests>=2.3.0->update-checker>=0.16->tpot) (3.0.4)\n",
            "Requirement already satisfied: six>=1.5 in /usr/local/lib/python3.7/dist-packages (from python-dateutil>=2.7.3->pandas>=0.24.2->tpot) (1.15.0)\n",
            "Installing collected packages: xgboost, tpot\n",
            "  Found existing installation: xgboost 0.90\n",
            "    Uninstalling xgboost-0.90:\n",
            "      Successfully uninstalled xgboost-0.90\n",
            "Successfully installed tpot-0.11.7 xgboost-1.3.3\n"
          ],
          "name": "stdout"
        }
      ]
    },
    {
      "cell_type": "markdown",
      "metadata": {
        "id": "7TNIZJ6c5hcF"
      },
      "source": [
        "# Preprocessing Section"
      ]
    },
    {
      "cell_type": "code",
      "metadata": {
        "id": "njEYGcZQ42t-"
      },
      "source": [
        "# Import the necessary modules for cleaning\n",
        "import math\n",
        "import time \n",
        "import pandas as pd\n",
        "import numpy as np\n",
        "from nltk.stem import WordNetLemmatizer\n",
        "from nltk.tokenize import word_tokenize \n",
        "from sklearn.utils import shuffle\n",
        "from sklearn.linear_model import LogisticRegression\n",
        "from xgboost import XGBClassifier\n",
        "from sklearn.metrics import accuracy_score"
      ],
      "execution_count": 2,
      "outputs": []
    },
    {
      "cell_type": "code",
      "metadata": {
        "id": "8sPOCEGS5Xgn"
      },
      "source": [
        "# Create the set of stopwords for cleaning text\n",
        "stopwords = set(w.rstrip() for w in open('/content/drive/MyDrive/CIT/FYP/ImplementationFiles/stopwords.txt'))"
      ],
      "execution_count": 3,
      "outputs": []
    },
    {
      "cell_type": "code",
      "metadata": {
        "colab": {
          "base_uri": "https://localhost:8080/"
        },
        "id": "93NNPX-A5srS",
        "outputId": "1a9f3b64-7210-407c-f686-fbef05dc1931"
      },
      "source": [
        "# Download the necessary parts for the NLTK module\n",
        "import nltk\n",
        "nltk.download('punkt')\n",
        "nltk.download('wordnet')"
      ],
      "execution_count": 4,
      "outputs": [
        {
          "output_type": "stream",
          "text": [
            "[nltk_data] Downloading package punkt to /root/nltk_data...\n",
            "[nltk_data]   Unzipping tokenizers/punkt.zip.\n",
            "[nltk_data] Downloading package wordnet to /root/nltk_data...\n",
            "[nltk_data]   Unzipping corpora/wordnet.zip.\n"
          ],
          "name": "stdout"
        },
        {
          "output_type": "execute_result",
          "data": {
            "text/plain": [
              "True"
            ]
          },
          "metadata": {
            "tags": []
          },
          "execution_count": 4
        }
      ]
    },
    {
      "cell_type": "code",
      "metadata": {
        "id": "j4ptneBc5tAN"
      },
      "source": [
        "# This funciton handles celaning text\n",
        "def clean_text(text):\n",
        "    # Create the lemmatizer\n",
        "    wordnet_lemmatizer = WordNetLemmatizer()\n",
        "    \n",
        "    # Get rid of non alpha characters except \"'\" as it is needed for the lemment\n",
        "    text = \"\".join(c for c in text if c.isalnum() or c == \" \" or \"'\")\n",
        "    \n",
        "    # Get rid of capitals\n",
        "    text = text.lower()\n",
        "    \n",
        "    # Tokenize the words    \n",
        "    # Create tokens of each word\n",
        "    token_text = word_tokenize(text)\n",
        "    \n",
        "    # Get rid of any piece of text that isn't over 2 characters\n",
        "    token_text = [t for t in token_text if len(t) > 2] \n",
        "    \n",
        "    # Put words in base form by doing lemmatization\n",
        "    token_text = [wordnet_lemmatizer.lemmatize(t) for t in token_text]\n",
        "\n",
        "    # Remove stopwords\n",
        "    token_text = [t for t in token_text if t not in stopwords]\n",
        "    \n",
        "    # Return the tokens\n",
        "    return token_text"
      ],
      "execution_count": 5,
      "outputs": []
    },
    {
      "cell_type": "code",
      "metadata": {
        "id": "xu5dFDM75tjR"
      },
      "source": [
        "# This function will get the term frequencies for word in the review\n",
        "# TF = Term I frequency in document/total words in document\n",
        "def calc_tf(term_count, review_corpus):\n",
        "    # A dictionary of all the term frequencies found\n",
        "    tf_freq = dict.fromkeys(term_count.keys(), 0)   \n",
        "    \n",
        "    # Review corpus is a tokenized list so the total words iteh length\n",
        "    total_words = len(review_corpus)\n",
        "    \n",
        "    # Calculate the term frequency for each word\n",
        "    for word, count in term_count.items():\n",
        "        tf_freq[word] = count/total_words\n",
        "        \n",
        "    return tf_freq"
      ],
      "execution_count": 6,
      "outputs": []
    },
    {
      "cell_type": "code",
      "metadata": {
        "id": "i64Bq0rH5uN0"
      },
      "source": [
        "# This calcualtes the idf\n",
        "# IDF = log(2)*(Total number of Documents/documents frequency or documents with term)\n",
        "def calc_idf(unique_terms, list_doc_terms):   \n",
        "    # A dicitonary of all the inverse document frequencies\n",
        "    idf = dict.fromkeys(unique_terms, 0)\n",
        "    \n",
        "    # Basically list_doc_terms has all the documents with the term count for each word\n",
        "    # You go through each document count the terms where they occured\n",
        "    for doc_terms in list_doc_terms:  \n",
        "        # This for loop is counting the amount of document a word was in\n",
        "        for word, value in doc_terms.items():\n",
        "            if 0 < value:\n",
        "                idf[word] += 1\n",
        "        \n",
        "    # Now we calculate idf\n",
        "    for word, value in idf.items():\n",
        "        idf[word] = math.log10(10 / float(value))\n",
        "    \n",
        "    return idf"
      ],
      "execution_count": 7,
      "outputs": []
    },
    {
      "cell_type": "code",
      "metadata": {
        "id": "9XTmL87F5uaU"
      },
      "source": [
        "# Modified this function to return a list as dictionaries arn't needed anymore\n",
        "def calc_tf_idf(tf, idf, n_terms):\n",
        "    # Create an array that is of length of the number of unique terms\n",
        "    tf_idf_array = np.zeros(n_terms)\n",
        "    \n",
        "    for index, (word, value) in enumerate(tf.items()):\n",
        "        # Add the tfidf to the array\n",
        "        tf_idf_array[index] = value*idf[word]\n",
        "    \n",
        "    return tf_idf_array"
      ],
      "execution_count": 8,
      "outputs": []
    },
    {
      "cell_type": "code",
      "metadata": {
        "id": "XzOme9px5uks"
      },
      "source": [
        "def process_text(text_data):\n",
        "    # A list of all the cleaned reviews\n",
        "    doc_list = []\n",
        "    \n",
        "    # List of all the unique terms\n",
        "    unique_terms = []\n",
        "    \n",
        "    # A list of all the term frequencies\n",
        "    tf_list = []\n",
        "    \n",
        "    for review in text_data:\n",
        "        # First clean the review\n",
        "        clean_review = clean_text(review)\n",
        "        \n",
        "        # Keeps track of the term counts for each word\n",
        "        count_dict = {}\n",
        "        \n",
        "        # Now lets find the total count for each word\n",
        "        for token in clean_review:\n",
        "            if token not in count_dict:\n",
        "                count_dict[token] = 1\n",
        "            else:\n",
        "                count_dict[token] += 1\n",
        "        \n",
        "        # Caclulate the term frequencies for each document\n",
        "        tf_list.append(calc_tf(count_dict, clean_review))\n",
        "        \n",
        "        # Then add the dictionary of counts for each document to the list\n",
        "        doc_list.append(count_dict)\n",
        "        \n",
        "        # Then add the new unique terms\n",
        "        unique_terms = set(unique_terms).union(set(clean_review))\n",
        "    \n",
        "    # Calculate the inverse document frequency value\n",
        "    idf = calc_idf(unique_terms, doc_list)\n",
        "    \n",
        "    # This array will contain the tfidf values for each term in each review\n",
        "    tfidf_values = np.zeros((len(tf_list), len(unique_terms)))\n",
        "    \n",
        "    # Now we can get the TFIDF for each document\n",
        "    for index, term_freq in enumerate(tf_list):\n",
        "        # This will return an array of the tfidf values calculated.\n",
        "        # The length of the unique terms list is passed in so that the \n",
        "        # Array that is returned matches the tfidf array\n",
        "        tf_idf_array = calc_tf_idf(term_freq, idf, len(unique_terms))\n",
        "        # Add this to the overall tfidf values calculated\n",
        "        tfidf_values[index,:] = tf_idf_array\n",
        "    \n",
        "    return tfidf_values"
      ],
      "execution_count": 9,
      "outputs": []
    },
    {
      "cell_type": "code",
      "metadata": {
        "id": "JUz1Vq_D6Ett"
      },
      "source": [
        "# Prepare the data\n",
        "def prepare_data(num):\n",
        "    print(\"=\"*50)\n",
        "\n",
        "    # Load the dataset\n",
        "    # imdb_df = pd.read_csv(\"IMDB Dataset.csv\")\n",
        "    imdb_df = pd.read_csv(\"/content/drive/MyDrive/CIT/FYP/ImplementationFiles/IMDB_Dataset.csv\")\n",
        "    print(\"Dataset loaded\")\n",
        "    print(\"=\"*50)\n",
        "    \n",
        "     # Change each positive and negative value to 1 and 0 respectively    \n",
        "    imdb_df['sentiment'] = imdb_df['sentiment'].map({'negative' : 0, 'positive' : 1})\n",
        "    \n",
        "    # For testing, a much smaller dataset is going to be used\n",
        "    # imdb_df = imdb_df.head(25000)\n",
        "\n",
        "    # Group all the negative reviews and get the first 2500\n",
        "    imdb_df_neg = (imdb_df[imdb_df['sentiment'] == 0])[0:num]\n",
        "    # Group all the positive and get the first 2500\n",
        "    imdb_df_pos = imdb_df[imdb_df['sentiment'] == 1][0:num]\n",
        "    \n",
        "    # Combine the two split positives and negatives into one dataframe\n",
        "    imdb_df = pd.concat([imdb_df_neg, imdb_df_pos]) \n",
        "    # print(test_df)\n",
        "    \n",
        "    # .values on a column of a dataframe returns a numpy array\n",
        "    # This is a numpy array of all the reviews\n",
        "    # initial_reviews = imdb_df['review'].values\n",
        "    initial_reviews = imdb_df['review'].values\n",
        "    \n",
        "    # This is a numpy array of all the positive and negativelabels\n",
        "    # labels = imdb_df['sentiment'].values\n",
        "    labels = imdb_df['sentiment'].values\n",
        "    \n",
        "    print(\"Creating Feature Vector\")\n",
        "    print(\"=\"*50)\n",
        "    start = time.time()\n",
        "    # Process the text data and create teh feature vector\n",
        "    feature_vector = process_text(initial_reviews)\n",
        "    end = time.time()\n",
        "    print(\"Feature Vector Created\")\n",
        "    print(f\"Execution time is {end - start} secs\")\n",
        "    print(\"=\"*50)\n",
        "    \n",
        "    # Shuffle the labesl and feature vector using sklearn shuffle\n",
        "    feature_vector, labels = shuffle(feature_vector, labels)\n",
        "    \n",
        "    # Creating train and test data\n",
        "    # The splits will be 80:20 \n",
        "    no_samples = 0.8\n",
        "    \n",
        "    # This gets the percentage of indexes from feature vector and uses those for training\n",
        "    X_train = feature_vector[0:int(no_samples*len(feature_vector))]\n",
        "    y_train = labels[0:int(no_samples*len(labels))]\n",
        "    \n",
        "    # Go from the index that was used for training to the final\n",
        "    X_test = feature_vector[int(no_samples*len(feature_vector)):len(feature_vector)]\n",
        "    y_test = labels[int(no_samples*len(labels)):len(labels)]\n",
        "\n",
        "    return X_train, y_train, X_test, y_test"
      ],
      "execution_count": 10,
      "outputs": []
    },
    {
      "cell_type": "markdown",
      "metadata": {
        "id": "ew8tq1lj6v1L"
      },
      "source": [
        "# Run the automl\n",
        "\n",
        "http://epistasislab.github.io/tpot/using/#tpot-with-code"
      ]
    },
    {
      "cell_type": "code",
      "metadata": {
        "colab": {
          "base_uri": "https://localhost:8080/"
        },
        "id": "FDiJemo62wgW",
        "outputId": "3a0f4dbf-b46a-4db8-b8dd-01980ac0d082"
      },
      "source": [
        "X_train, y_train, X_test, y_test = prepare_data(500)\n",
        "print(len(X_train))"
      ],
      "execution_count": 11,
      "outputs": [
        {
          "output_type": "stream",
          "text": [
            "==================================================\n",
            "Dataset loaded\n",
            "==================================================\n",
            "Creating Feature Vector\n",
            "==================================================\n",
            "Feature Vector Created\n",
            "Execution time is 5.267710447311401 secs\n",
            "==================================================\n",
            "800\n"
          ],
          "name": "stdout"
        }
      ]
    },
    {
      "cell_type": "code",
      "metadata": {
        "colab": {
          "base_uri": "https://localhost:8080/"
        },
        "id": "77LRmcIo22Rl",
        "outputId": "e135de61-03f8-4905-b5cb-b3b3e17bdebb"
      },
      "source": [
        "# Insert the code for running the libraries in here\n",
        "from tpot import TPOTClassifier\n",
        "\n",
        "pipeline_optimizer = TPOTClassifier()\n",
        "\n",
        "# This is the example classifier used\n",
        "pipeline_optimizer = TPOTClassifier(generations=1, population_size=5, cv=5,\n",
        "                                  random_state=42, verbosity=2)"
      ],
      "execution_count": 12,
      "outputs": [
        {
          "output_type": "stream",
          "text": [
            "/usr/local/lib/python3.7/dist-packages/sklearn/externals/six.py:31: FutureWarning: The module is deprecated in version 0.21 and will be removed in version 0.23 since we've dropped support for Python 2.7. Please rely on the official version of six (https://pypi.org/project/six/).\n",
            "  \"(https://pypi.org/project/six/).\", FutureWarning)\n",
            "/usr/local/lib/python3.7/dist-packages/sklearn/utils/deprecation.py:144: FutureWarning: The sklearn.neighbors.base module is  deprecated in version 0.22 and will be removed in version 0.24. The corresponding classes / functions should instead be imported from sklearn.neighbors. Anything that cannot be imported from sklearn.neighbors is now part of the private API.\n",
            "  warnings.warn(message, FutureWarning)\n"
          ],
          "name": "stderr"
        }
      ]
    },
    {
      "cell_type": "code",
      "metadata": {
        "colab": {
          "base_uri": "https://localhost:8080/",
          "height": 170,
          "referenced_widgets": [
            "dded0f7122c244eb8706c8c8ea746a03",
            "d14bcb376d55482fa1631aa6fbea7057",
            "abc14ed6e6324117a3fae2fd3432b737",
            "48acc10f890b40ed945dfc48e08840ce",
            "30da64de84444135838fa8b61a021315",
            "869483050ee5431c907d8a3556cadf95",
            "d366301befa2429da4423aeff25e1ef4",
            "bd07ac750b764f9d9bb5cfff268b53bf"
          ]
        },
        "id": "hV2uIzd_2_AS",
        "outputId": "e3561424-3de7-44cb-d1bd-80b91d3832ba"
      },
      "source": [
        "print(\"Creating Model\")\n",
        "print(\"=\"*50)\n",
        "start = time.time()\n",
        "try:\n",
        "  pipeline_optimizer.fit(X_train, y_train)\n",
        "except Exception as e:\n",
        "  print(e)\n",
        "end = time.time()\n",
        "print(\"Model Created\")\n",
        "print(f\"Execution time is {end - start} secs\")\n",
        "print(\"=\"*50)"
      ],
      "execution_count": 13,
      "outputs": [
        {
          "output_type": "stream",
          "text": [
            "Creating Model\n",
            "==================================================\n"
          ],
          "name": "stdout"
        },
        {
          "output_type": "display_data",
          "data": {
            "application/vnd.jupyter.widget-view+json": {
              "model_id": "dded0f7122c244eb8706c8c8ea746a03",
              "version_minor": 0,
              "version_major": 2
            },
            "text/plain": [
              "HBox(children=(FloatProgress(value=0.0, description='Optimization Progress', max=10.0, style=ProgressStyle(des…"
            ]
          },
          "metadata": {
            "tags": []
          }
        },
        {
          "output_type": "stream",
          "text": [
            "\r\n",
            "Generation 1 - Current best internal CV score: 0.52125\n",
            "\r\n",
            "Best pipeline: GaussianNB(input_matrix)\n",
            "Model Created\n",
            "Execution time is 953.455694437027 secs\n",
            "==================================================\n"
          ],
          "name": "stdout"
        }
      ]
    },
    {
      "cell_type": "code",
      "metadata": {
        "colab": {
          "base_uri": "https://localhost:8080/"
        },
        "id": "QzsUVMCg3Dgd",
        "outputId": "660a142d-6d27-49eb-fda4-52c997893506"
      },
      "source": [
        "print(\"Evaluating Model\")\n",
        "print(\"=\"*50)\n",
        "start = time.time()\n",
        "print(pipeline_optimizer.score(X_test, y_test))\n",
        "end = time.time()\n",
        "print(\"Evaluating done\")\n",
        "print(f\"Execution time is {end - start} secs\")\n",
        "print(\"=\"*50)"
      ],
      "execution_count": null,
      "outputs": [
        {
          "output_type": "stream",
          "text": [
            "Evaluating Model\n",
            "==================================================\n",
            "0.51\n",
            "Evaluating done\n",
            "Execution time is 0.08102893829345703 secs\n",
            "==================================================\n"
          ],
          "name": "stdout"
        }
      ]
    },
    {
      "cell_type": "code",
      "metadata": {
        "colab": {
          "base_uri": "https://localhost:8080/"
        },
        "id": "FoxoTKWr3E5s",
        "outputId": "a92794ef-61e5-4f85-e396-ba5923055a5a"
      },
      "source": [
        "# Naming convention is tpot_time_pop\n",
        "print(\"Exporting Model\")\n",
        "print(\"=\"*50)\n",
        "# Format is tpot_generations_populatiopn_datasize\n",
        "pipeline_optimizer.export('/content/drive/MyDrive/CIT/FYP/ImplementationFiles/ExportedModels/TPOT/tpot_1_5_5000.py')\n",
        "print(\"Model Exported\")"
      ],
      "execution_count": null,
      "outputs": [
        {
          "output_type": "stream",
          "text": [
            "Exporting Model\n",
            "==================================================\n",
            "Model Exported\n"
          ],
          "name": "stdout"
        }
      ]
    },
    {
      "cell_type": "code",
      "metadata": {
        "colab": {
          "base_uri": "https://localhost:8080/"
        },
        "id": "6WrcmWzFA54w",
        "outputId": "772868fe-4a13-43ea-df1a-7ee38d99ce6b"
      },
      "source": [
        "import numpy as np\n",
        "import pandas as pd\n",
        "from sklearn.model_selection import train_test_split\n",
        "from sklearn.naive_bayes import GaussianNB\n",
        "\n",
        "# Modified to load our data\n",
        "X_train, y_train, X_test, y_test = prepare_data(500)\n",
        "\n",
        "# Average CV score on the training set was: 0.503\n",
        "exported_pipeline = GaussianNB()\n",
        "# Fix random state in exported estimator\n",
        "if hasattr(exported_pipeline, 'random_state'):\n",
        "    setattr(exported_pipeline, 'random_state', 42)\n",
        "\n",
        "exported_pipeline.fit(X_train, y_train)\n",
        "results = exported_pipeline.predict(X_test)"
      ],
      "execution_count": null,
      "outputs": [
        {
          "output_type": "stream",
          "text": [
            "==================================================\n",
            "Dataset loaded\n",
            "==================================================\n",
            "Creating Feature Vector\n",
            "==================================================\n",
            "Feature Vector Created\n",
            "Execution time is 4.23347806930542 secs\n",
            "==================================================\n"
          ],
          "name": "stdout"
        }
      ]
    },
    {
      "cell_type": "code",
      "metadata": {
        "colab": {
          "base_uri": "https://localhost:8080/"
        },
        "id": "erAAwsnGFrum",
        "outputId": "10f14dfe-de0e-4307-a7c3-ad9fa9fe447b"
      },
      "source": [
        "print(accuracy_score(y_test, results))"
      ],
      "execution_count": null,
      "outputs": [
        {
          "output_type": "stream",
          "text": [
            "0.485\n"
          ],
          "name": "stdout"
        }
      ]
    },
    {
      "cell_type": "markdown",
      "metadata": {
        "id": "KwuEtoLxNPVZ"
      },
      "source": [
        "# Metrics"
      ]
    },
    {
      "cell_type": "code",
      "metadata": {
        "colab": {
          "base_uri": "https://localhost:8080/"
        },
        "id": "sHCTtnk3Q8OC",
        "outputId": "7fd1aab4-ea2b-4d50-8193-2bcf64955b87"
      },
      "source": [
        "from sklearn import metrics\n",
        "\n",
        "# paramters are y_true, y_pred\n",
        "C = metrics.confusion_matrix(y_test, results)\n",
        "\n",
        "# lists for the confusion matrix\n",
        "true_positive = []\n",
        "true_negative = []\n",
        "false_postiive = []\n",
        "false_negatives = []\n",
        "\n",
        "true_positive.append(C[0,0])\n",
        "true_negative.append(C[1,1])            \n",
        "false_postiive.append(C[1,0])\n",
        "false_negatives.append(C[0,1])\n",
        "\n",
        "print(C)\n",
        "\n",
        "print((\"=\"*50))\n",
        "\n",
        "print(\"True positives:\", round(np.sum(true_positive)/len(y_test), 5), \"%\")\n",
        "print(\"True negatives:\", round(np.sum(true_negative)/len(y_test), 5), \"%\")\n",
        "print(\"False positives:\", round(np.sum(false_postiive)/len(y_test), 5), \"%\")\n",
        "print(\"False negatives:\", round(np.sum(false_negatives)/len(y_test), 5), \"%\")"
      ],
      "execution_count": null,
      "outputs": [
        {
          "output_type": "stream",
          "text": [
            "[[89  6]\n",
            " [97  8]]\n",
            "==================================================\n",
            "True positives: 0.445 %\n",
            "True negatives: 0.04 %\n",
            "False positives: 0.485 %\n",
            "False negatives: 0.03 %\n"
          ],
          "name": "stdout"
        }
      ]
    },
    {
      "cell_type": "code",
      "metadata": {
        "id": "v5BlohUZEJNz"
      },
      "source": [
        "true_positive = C[0,0]\n",
        "true_negative = C[1,1]            \n",
        "false_postiive = C[1,0]\n",
        "false_negatives = C[0,1]\n",
        "\n",
        "precision = true_positive/(true_positive+false_postiive)\n",
        "recall = true_positive/(true_positive/false_negatives)"
      ],
      "execution_count": null,
      "outputs": []
    },
    {
      "cell_type": "code",
      "metadata": {
        "colab": {
          "base_uri": "https://localhost:8080/"
        },
        "id": "v8vytIBtEJon",
        "outputId": "784206dc-f9bd-4a83-dd1a-e540a41a317e"
      },
      "source": [
        "f1_score = (precision*recall)/(precision+recall)\n",
        "\n",
        "print(f1_score)"
      ],
      "execution_count": null,
      "outputs": [
        {
          "output_type": "stream",
          "text": [
            "0.4431535269709544\n"
          ],
          "name": "stdout"
        }
      ]
    },
    {
      "cell_type": "code",
      "metadata": {
        "colab": {
          "base_uri": "https://localhost:8080/"
        },
        "id": "HcdGY9qLBpoP",
        "outputId": "8476df60-3180-4a56-835a-21c212920d39"
      },
      "source": [
        "fpr, tpr, thresh = metrics.roc_curve(y_test, results)\n",
        "\n",
        "auc = metrics.auc(fpr, tpr)\n",
        "\n",
        "print(\"AUC:\", auc)"
      ],
      "execution_count": null,
      "outputs": [
        {
          "output_type": "stream",
          "text": [
            "AUC: 0.506516290726817\n"
          ],
          "name": "stdout"
        }
      ]
    },
    {
      "cell_type": "code",
      "metadata": {
        "colab": {
          "base_uri": "https://localhost:8080/",
          "height": 295
        },
        "id": "OTrqBMO0Bq_m",
        "outputId": "b4f6383a-4ff4-4469-fcdf-a0cbeec37ddd"
      },
      "source": [
        "import matplotlib.pyplot as plt\n",
        "\n",
        "plt.plot(fpr, tpr, label='ROC curve (area = %.2f)' %auc)\n",
        "plt.plot([0, 1], [0, 1], linestyle='--', lw=2, color='r', label='Random guess')\n",
        "plt.title('ROC curve TPOT')\n",
        "plt.xlabel('False Positive Rate')\n",
        "plt.ylabel('True Positive Rate')\n",
        "plt.grid()\n",
        "plt.legend()\n",
        "plt.show()"
      ],
      "execution_count": null,
      "outputs": [
        {
          "output_type": "display_data",
          "data": {
            "image/png": "[encoded data removed]",
            "text/plain": [
              "<Figure size 432x288 with 1 Axes>"
            ]
          },
          "metadata": {
            "tags": [],
            "needs_background": "light"
          }
        }
      ]
    },
    {
      "cell_type": "markdown",
      "metadata": {
        "id": "R-AeZUeJUOQm"
      },
      "source": [
        "# Test dataset"
      ]
    },
    {
      "cell_type": "code",
      "metadata": {
        "colab": {
          "base_uri": "https://localhost:8080/"
        },
        "id": "eZFDxbdeUWqh",
        "outputId": "dabea031-2663-4340-cc41-fa3b405142d1"
      },
      "source": [
        "# Load the dataset\n",
        "imdb_df = pd.read_csv(\"/content/drive/MyDrive/CIT/FYP/ImplementationFiles/NPS_TestContent.csv\", encoding='utf8', engine='c')\n",
        "# imdb_df = pd.read_excel(\"/content/drive/MyDrive/CIT/FYP/ImplementationFiles/NPS_TestContent.xlsx\")\n",
        "\n",
        "imdb_df['sentiment'] = imdb_df['sentiment'].map({'Negative' : 0, 'Positive' : 1})\n",
        "\n",
        "# Group all the negative reviews and get the first 25000\n",
        "# imdb_df_neg = (imdb_df[imdb_df['sentiment'] == \"negative\"])[0:2500]\n",
        "imdb_df_neg = (imdb_df[imdb_df['sentiment'] == 0])\n",
        "# Group all the positive and get the first 25000\n",
        "# imdb_df_pos = imdb_df[imdb_df['sentiment'] == \"positive\"][0:2500]\n",
        "imdb_df_pos = imdb_df[imdb_df['sentiment'] == 1]\n",
        "\n",
        "# Combine the two split positives and negatives into one dataframe\n",
        "imdb_df = pd.concat([imdb_df_neg, imdb_df_pos]) \n",
        "\n",
        "# .values on a column of a dataframe returns a numpy array\n",
        "# This is a numpy array of all the reviews\n",
        "initial_reviews = imdb_df['test'].values\n",
        "print(\"Creating Feature Vector\")\n",
        "print(\"=\"*50)\n",
        "start = time.time()\n",
        "# Process the text data and create teh feature vector\n",
        "feature_vector = process_text(initial_reviews)\n",
        "end = time.time()\n",
        "print(\"Feature Vector Created\")\n",
        "print(f\"Execution time is {end - start} secs\")\n",
        "print(\"=\"*50)\n",
        "# print(feature_vector)\n",
        "\n",
        "# This is a numpy array of all the positive and negativelabels\n",
        "labels = imdb_df['sentiment'].values\n",
        "\n",
        "# Shuffle the labesl and feature vector using sklearn shuffle\n",
        "feature_vector, labels = shuffle(feature_vector, labels)\n",
        "\n",
        "# Creating train and test data\n",
        "# The splits will be 80:20 \n",
        "no_samples = 0.8\n",
        "\n",
        "# This gets the percentage of indexes from feature vector and uses those for training\n",
        "X_train = feature_vector[0:int(no_samples*len(feature_vector))]\n",
        "y_train = labels[0:int(no_samples*len(labels))]\n",
        "\n",
        "# Go from the index that was used for training to the final\n",
        "X_test = feature_vector[int(no_samples*len(feature_vector)):len(feature_vector)]\n",
        "y_test = labels[int(no_samples*len(labels)):len(labels)]\n",
        "\n",
        "print(X_train.shape)\n",
        "print(type(X_train))"
      ],
      "execution_count": null,
      "outputs": [
        {
          "output_type": "stream",
          "text": [
            "Creating Feature Vector\n",
            "==================================================\n",
            "Feature Vector Created\n",
            "Execution time is 0.46523618698120117 secs\n",
            "==================================================\n",
            "(1198, 1703)\n",
            "<class 'numpy.ndarray'>\n"
          ],
          "name": "stdout"
        }
      ]
    },
    {
      "cell_type": "code",
      "metadata": {
        "id": "1dNwwbmoUb54"
      },
      "source": [
        "import numpy as np\n",
        "import pandas as pd\n",
        "from sklearn.model_selection import train_test_split\n",
        "from sklearn.naive_bayes import GaussianNB\n",
        "\n",
        "# Average CV score on the training set was: 0.503\n",
        "exported_pipeline = GaussianNB()\n",
        "# Fix random state in exported estimator\n",
        "if hasattr(exported_pipeline, 'random_state'):\n",
        "    setattr(exported_pipeline, 'random_state', 42)\n",
        "\n",
        "exported_pipeline.fit(X_train, y_train)\n",
        "results = exported_pipeline.predict(X_test)"
      ],
      "execution_count": null,
      "outputs": []
    },
    {
      "cell_type": "code",
      "metadata": {
        "colab": {
          "base_uri": "https://localhost:8080/"
        },
        "id": "Oz-NvbgcVhHh",
        "outputId": "41d3c6b1-c4ec-499a-d52f-f051707e3b81"
      },
      "source": [
        "print(accuracy_score(y_test, results))"
      ],
      "execution_count": null,
      "outputs": [
        {
          "output_type": "stream",
          "text": [
            "0.79\n"
          ],
          "name": "stdout"
        }
      ]
    }
  ]
}