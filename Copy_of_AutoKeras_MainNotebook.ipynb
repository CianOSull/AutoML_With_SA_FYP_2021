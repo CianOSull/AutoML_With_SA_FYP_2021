{
  "nbformat": 4,
  "nbformat_minor": 0,
  "metadata": {
    "colab": {
      "name": "Copy of AutoKeras MainNotebook",
      "provenance": [],
      "collapsed_sections": [],
      "mount_file_id": "1BCwiGglBmC7bxxANekjGqMCvEj2Fc4jP",
      "authorship_tag": "ABX9TyMWZfo7SBUmNTxvYxj+0Y+q",
      "include_colab_link": true
    },
    "kernelspec": {
      "name": "python3",
      "display_name": "Python 3"
    }
  },
  "cells": [
    {
      "cell_type": "markdown",
      "metadata": {
        "id": "view-in-github",
        "colab_type": "text"
      },
      "source": [
        "<a href=\"https://colab.research.google.com/github/CianOSull/AutoML_With_SA_FYP_2021/blob/AutoKeras/Copy_of_AutoKeras_MainNotebook.ipynb\" target=\"_parent\"><img src=\"https://colab.research.google.com/assets/colab-badge.svg\" alt=\"Open In Colab\"/></a>"
      ]
    },
    {
      "cell_type": "markdown",
      "metadata": {
        "id": "i_zrt8fk5AJt"
      },
      "source": [
        "# Generic Notebook for running all the libraries\n",
        "\n",
        "How this notebook works is that it contains the code\n",
        "for loading and cleaning the dataset.\n",
        "\n",
        "Then there is multiple branches created on the\n",
        "Github that include the code for running each library.\n",
        "\n",
        "E.g. MLBox branch has the code for running MLBox."
      ]
    },
    {
      "cell_type": "markdown",
      "metadata": {
        "id": "OFljFvk_9b_e"
      },
      "source": [
        "# CURRENT BRANCH = AUTOKERAS"
      ]
    },
    {
      "cell_type": "markdown",
      "metadata": {
        "id": "ew8tq1lj6v1L"
      },
      "source": [
        "# Install the necessary library\n",
        "Run the install code in the code cell below."
      ]
    },
    {
      "cell_type": "code",
      "metadata": {
        "id": "5wFpyMaK6tMs",
        "colab": {
          "base_uri": "https://localhost:8080/"
        },
        "outputId": "d5136181-1727-4b7f-b6c1-22abf23e394f"
      },
      "source": [
        "# Insert any install comamnds in this cell\n",
        "!pip3 install autokeras"
      ],
      "execution_count": null,
      "outputs": [
        {
          "output_type": "stream",
          "text": [
            "Collecting autokeras\n",
            "\u001b[?25l  Downloading https://files.pythonhosted.org/packages/09/12/cf698586ccc8245f08d1843dcafb65b064a2e9e2923b889dc58e1019f099/autokeras-1.0.12-py3-none-any.whl (164kB)\n",
            "\u001b[K     |████████████████████████████████| 174kB 12.6MB/s \n",
            "\u001b[?25hCollecting keras-tuner>=1.0.2\n",
            "\u001b[?25l  Downloading https://files.pythonhosted.org/packages/20/ec/1ef246787174b1e2bb591c95f29d3c1310070cad877824f907faba3dade9/keras-tuner-1.0.2.tar.gz (62kB)\n",
            "\u001b[K     |████████████████████████████████| 71kB 5.4MB/s \n",
            "\u001b[?25hRequirement already satisfied: tensorflow>=2.3.0 in /usr/local/lib/python3.7/dist-packages (from autokeras) (2.4.1)\n",
            "Requirement already satisfied: packaging in /usr/local/lib/python3.7/dist-packages (from autokeras) (20.9)\n",
            "Requirement already satisfied: pandas in /usr/local/lib/python3.7/dist-packages (from autokeras) (1.1.5)\n",
            "Requirement already satisfied: scikit-learn in /usr/local/lib/python3.7/dist-packages (from autokeras) (0.22.2.post1)\n",
            "Requirement already satisfied: future in /usr/local/lib/python3.7/dist-packages (from keras-tuner>=1.0.2->autokeras) (0.16.0)\n",
            "Requirement already satisfied: numpy in /usr/local/lib/python3.7/dist-packages (from keras-tuner>=1.0.2->autokeras) (1.19.5)\n",
            "Requirement already satisfied: tabulate in /usr/local/lib/python3.7/dist-packages (from keras-tuner>=1.0.2->autokeras) (0.8.9)\n",
            "Collecting terminaltables\n",
            "  Downloading https://files.pythonhosted.org/packages/9b/c4/4a21174f32f8a7e1104798c445dacdc1d4df86f2f26722767034e4de4bff/terminaltables-3.1.0.tar.gz\n",
            "Collecting colorama\n",
            "  Downloading https://files.pythonhosted.org/packages/44/98/5b86278fbbf250d239ae0ecb724f8572af1c91f4a11edf4d36a206189440/colorama-0.4.4-py2.py3-none-any.whl\n",
            "Requirement already satisfied: tqdm in /usr/local/lib/python3.7/dist-packages (from keras-tuner>=1.0.2->autokeras) (4.41.1)\n",
            "Requirement already satisfied: requests in /usr/local/lib/python3.7/dist-packages (from keras-tuner>=1.0.2->autokeras) (2.23.0)\n",
            "Requirement already satisfied: scipy in /usr/local/lib/python3.7/dist-packages (from keras-tuner>=1.0.2->autokeras) (1.4.1)\n",
            "Requirement already satisfied: opt-einsum~=3.3.0 in /usr/local/lib/python3.7/dist-packages (from tensorflow>=2.3.0->autokeras) (3.3.0)\n",
            "Requirement already satisfied: gast==0.3.3 in /usr/local/lib/python3.7/dist-packages (from tensorflow>=2.3.0->autokeras) (0.3.3)\n",
            "Requirement already satisfied: absl-py~=0.10 in /usr/local/lib/python3.7/dist-packages (from tensorflow>=2.3.0->autokeras) (0.12.0)\n",
            "Requirement already satisfied: keras-preprocessing~=1.1.2 in /usr/local/lib/python3.7/dist-packages (from tensorflow>=2.3.0->autokeras) (1.1.2)\n",
            "Requirement already satisfied: wheel~=0.35 in /usr/local/lib/python3.7/dist-packages (from tensorflow>=2.3.0->autokeras) (0.36.2)\n",
            "Requirement already satisfied: tensorflow-estimator<2.5.0,>=2.4.0 in /usr/local/lib/python3.7/dist-packages (from tensorflow>=2.3.0->autokeras) (2.4.0)\n",
            "Requirement already satisfied: protobuf>=3.9.2 in /usr/local/lib/python3.7/dist-packages (from tensorflow>=2.3.0->autokeras) (3.12.4)\n",
            "Requirement already satisfied: grpcio~=1.32.0 in /usr/local/lib/python3.7/dist-packages (from tensorflow>=2.3.0->autokeras) (1.32.0)\n",
            "Requirement already satisfied: flatbuffers~=1.12.0 in /usr/local/lib/python3.7/dist-packages (from tensorflow>=2.3.0->autokeras) (1.12)\n",
            "Requirement already satisfied: tensorboard~=2.4 in /usr/local/lib/python3.7/dist-packages (from tensorflow>=2.3.0->autokeras) (2.4.1)\n",
            "Requirement already satisfied: wrapt~=1.12.1 in /usr/local/lib/python3.7/dist-packages (from tensorflow>=2.3.0->autokeras) (1.12.1)\n",
            "Requirement already satisfied: h5py~=2.10.0 in /usr/local/lib/python3.7/dist-packages (from tensorflow>=2.3.0->autokeras) (2.10.0)\n",
            "Requirement already satisfied: six~=1.15.0 in /usr/local/lib/python3.7/dist-packages (from tensorflow>=2.3.0->autokeras) (1.15.0)\n",
            "Requirement already satisfied: astunparse~=1.6.3 in /usr/local/lib/python3.7/dist-packages (from tensorflow>=2.3.0->autokeras) (1.6.3)\n",
            "Requirement already satisfied: google-pasta~=0.2 in /usr/local/lib/python3.7/dist-packages (from tensorflow>=2.3.0->autokeras) (0.2.0)\n",
            "Requirement already satisfied: typing-extensions~=3.7.4 in /usr/local/lib/python3.7/dist-packages (from tensorflow>=2.3.0->autokeras) (3.7.4.3)\n",
            "Requirement already satisfied: termcolor~=1.1.0 in /usr/local/lib/python3.7/dist-packages (from tensorflow>=2.3.0->autokeras) (1.1.0)\n",
            "Requirement already satisfied: pyparsing>=2.0.2 in /usr/local/lib/python3.7/dist-packages (from packaging->autokeras) (2.4.7)\n",
            "Requirement already satisfied: python-dateutil>=2.7.3 in /usr/local/lib/python3.7/dist-packages (from pandas->autokeras) (2.8.1)\n",
            "Requirement already satisfied: pytz>=2017.2 in /usr/local/lib/python3.7/dist-packages (from pandas->autokeras) (2018.9)\n",
            "Requirement already satisfied: joblib>=0.11 in /usr/local/lib/python3.7/dist-packages (from scikit-learn->autokeras) (1.0.1)\n",
            "Requirement already satisfied: urllib3!=1.25.0,!=1.25.1,<1.26,>=1.21.1 in /usr/local/lib/python3.7/dist-packages (from requests->keras-tuner>=1.0.2->autokeras) (1.24.3)\n",
            "Requirement already satisfied: certifi>=2017.4.17 in /usr/local/lib/python3.7/dist-packages (from requests->keras-tuner>=1.0.2->autokeras) (2020.12.5)\n",
            "Requirement already satisfied: chardet<4,>=3.0.2 in /usr/local/lib/python3.7/dist-packages (from requests->keras-tuner>=1.0.2->autokeras) (3.0.4)\n",
            "Requirement already satisfied: idna<3,>=2.5 in /usr/local/lib/python3.7/dist-packages (from requests->keras-tuner>=1.0.2->autokeras) (2.10)\n",
            "Requirement already satisfied: setuptools in /usr/local/lib/python3.7/dist-packages (from protobuf>=3.9.2->tensorflow>=2.3.0->autokeras) (54.2.0)\n",
            "Requirement already satisfied: markdown>=2.6.8 in /usr/local/lib/python3.7/dist-packages (from tensorboard~=2.4->tensorflow>=2.3.0->autokeras) (3.3.4)\n",
            "Requirement already satisfied: werkzeug>=0.11.15 in /usr/local/lib/python3.7/dist-packages (from tensorboard~=2.4->tensorflow>=2.3.0->autokeras) (1.0.1)\n",
            "Requirement already satisfied: tensorboard-plugin-wit>=1.6.0 in /usr/local/lib/python3.7/dist-packages (from tensorboard~=2.4->tensorflow>=2.3.0->autokeras) (1.8.0)\n",
            "Requirement already satisfied: google-auth-oauthlib<0.5,>=0.4.1 in /usr/local/lib/python3.7/dist-packages (from tensorboard~=2.4->tensorflow>=2.3.0->autokeras) (0.4.3)\n",
            "Requirement already satisfied: google-auth<2,>=1.6.3 in /usr/local/lib/python3.7/dist-packages (from tensorboard~=2.4->tensorflow>=2.3.0->autokeras) (1.28.0)\n",
            "Requirement already satisfied: importlib-metadata; python_version < \"3.8\" in /usr/local/lib/python3.7/dist-packages (from markdown>=2.6.8->tensorboard~=2.4->tensorflow>=2.3.0->autokeras) (3.8.1)\n",
            "Requirement already satisfied: requests-oauthlib>=0.7.0 in /usr/local/lib/python3.7/dist-packages (from google-auth-oauthlib<0.5,>=0.4.1->tensorboard~=2.4->tensorflow>=2.3.0->autokeras) (1.3.0)\n",
            "Requirement already satisfied: pyasn1-modules>=0.2.1 in /usr/local/lib/python3.7/dist-packages (from google-auth<2,>=1.6.3->tensorboard~=2.4->tensorflow>=2.3.0->autokeras) (0.2.8)\n",
            "Requirement already satisfied: rsa<5,>=3.1.4; python_version >= \"3.6\" in /usr/local/lib/python3.7/dist-packages (from google-auth<2,>=1.6.3->tensorboard~=2.4->tensorflow>=2.3.0->autokeras) (4.7.2)\n",
            "Requirement already satisfied: cachetools<5.0,>=2.0.0 in /usr/local/lib/python3.7/dist-packages (from google-auth<2,>=1.6.3->tensorboard~=2.4->tensorflow>=2.3.0->autokeras) (4.2.1)\n",
            "Requirement already satisfied: zipp>=0.5 in /usr/local/lib/python3.7/dist-packages (from importlib-metadata; python_version < \"3.8\"->markdown>=2.6.8->tensorboard~=2.4->tensorflow>=2.3.0->autokeras) (3.4.1)\n",
            "Requirement already satisfied: oauthlib>=3.0.0 in /usr/local/lib/python3.7/dist-packages (from requests-oauthlib>=0.7.0->google-auth-oauthlib<0.5,>=0.4.1->tensorboard~=2.4->tensorflow>=2.3.0->autokeras) (3.1.0)\n",
            "Requirement already satisfied: pyasn1<0.5.0,>=0.4.6 in /usr/local/lib/python3.7/dist-packages (from pyasn1-modules>=0.2.1->google-auth<2,>=1.6.3->tensorboard~=2.4->tensorflow>=2.3.0->autokeras) (0.4.8)\n",
            "Building wheels for collected packages: keras-tuner, terminaltables\n",
            "  Building wheel for keras-tuner (setup.py) ... \u001b[?25l\u001b[?25hdone\n",
            "  Created wheel for keras-tuner: filename=keras_tuner-1.0.2-cp37-none-any.whl size=78938 sha256=5da97297e2467c98c1f16d339eab4e61807d8a2386c4e0bd76eafc46b1afecf3\n",
            "  Stored in directory: /root/.cache/pip/wheels/bb/a1/8a/7c3de0efb3707a1701b36ebbfdbc4e67aedf6d4943a1f463d6\n",
            "  Building wheel for terminaltables (setup.py) ... \u001b[?25l\u001b[?25hdone\n",
            "  Created wheel for terminaltables: filename=terminaltables-3.1.0-cp37-none-any.whl size=15356 sha256=c95b3a7f6a63f669b7854c87b6bce898acd3c5218c8755b8f06460eeaf73e230\n",
            "  Stored in directory: /root/.cache/pip/wheels/30/6b/50/6c75775b681fb36cdfac7f19799888ef9d8813aff9e379663e\n",
            "Successfully built keras-tuner terminaltables\n",
            "Installing collected packages: terminaltables, colorama, keras-tuner, autokeras\n",
            "Successfully installed autokeras-1.0.12 colorama-0.4.4 keras-tuner-1.0.2 terminaltables-3.1.0\n"
          ],
          "name": "stdout"
        }
      ]
    },
    {
      "cell_type": "markdown",
      "metadata": {
        "id": "7TNIZJ6c5hcF"
      },
      "source": [
        "# Preprocessing Section"
      ]
    },
    {
      "cell_type": "code",
      "metadata": {
        "id": "njEYGcZQ42t-"
      },
      "source": [
        "# Import the necessary modules for cleaning\n",
        "import math\n",
        "import time \n",
        "import pandas as pd\n",
        "import numpy as np\n",
        "from nltk.stem import WordNetLemmatizer\n",
        "from nltk.tokenize import word_tokenize \n",
        "from sklearn.utils import shuffle\n",
        "from sklearn.linear_model import LogisticRegression\n",
        "from xgboost import XGBClassifier\n",
        "from sklearn.metrics import accuracy_score"
      ],
      "execution_count": null,
      "outputs": []
    },
    {
      "cell_type": "code",
      "metadata": {
        "colab": {
          "base_uri": "https://localhost:8080/"
        },
        "id": "93NNPX-A5srS",
        "outputId": "1a53e827-c406-4df5-e73b-570697f006d2"
      },
      "source": [
        "# Download the necessary parts for the NLTK module\n",
        "import nltk\n",
        "nltk.download('punkt')\n",
        "nltk.download('wordnet')"
      ],
      "execution_count": null,
      "outputs": [
        {
          "output_type": "stream",
          "text": [
            "[nltk_data] Downloading package punkt to /root/nltk_data...\n",
            "[nltk_data]   Unzipping tokenizers/punkt.zip.\n",
            "[nltk_data] Downloading package wordnet to /root/nltk_data...\n",
            "[nltk_data]   Unzipping corpora/wordnet.zip.\n"
          ],
          "name": "stdout"
        },
        {
          "output_type": "execute_result",
          "data": {
            "text/plain": [
              "True"
            ]
          },
          "metadata": {
            "tags": []
          },
          "execution_count": 4
        }
      ]
    },
    {
      "cell_type": "markdown",
      "metadata": {
        "id": "9xJJPc-lCwmr"
      },
      "source": [
        "# Create Model Section \n",
        "\n",
        "**Exporting models:**\n",
        "\n",
        "https://autokeras.com/tutorial/export/"
      ]
    },
    {
      "cell_type": "markdown",
      "metadata": {
        "id": "3UMmDW00xJrU"
      },
      "source": [
        "Auto Keras has a built in text classifier that takes in strings so going to test using that?\n",
        "\n"
      ]
    },
    {
      "cell_type": "markdown",
      "metadata": {
        "id": "JDpSCut3fXCL"
      },
      "source": [
        "Look into checking the validation accuracy in autokeras\n",
        "Early stopping based on the accuracy and loss for the validation to stop once it platous\n",
        "Validation shows when training is not learning anymore\n"
      ]
    },
    {
      "cell_type": "code",
      "metadata": {
        "id": "cPmp7nYR5mZb"
      },
      "source": [
        "import autokeras as ak"
      ],
      "execution_count": null,
      "outputs": []
    },
    {
      "cell_type": "code",
      "metadata": {
        "colab": {
          "base_uri": "https://localhost:8080/"
        },
        "id": "D_1aYh1j5mUM",
        "outputId": "740eb0fe-94f5-4bdc-e610-8d8cc2534b9c"
      },
      "source": [
        "# Load the dataset\n",
        "imdb_df = pd.read_csv(\"/content/drive/MyDrive/CIT/FYP/ImplementationFiles/IMDB_Dataset.csv\")\n",
        "# print(imdb_df.head())\n",
        "\n",
        "# For testing, a much smaller dataset is going to be used\n",
        "# imdb_df = imdb_df.head(4000)\n",
        "# print(imdb_df.head())\n",
        "\n",
        "imdb_df['sentiment'] = imdb_df['sentiment'].map({'negative' : 0, 'positive' : 1})\n",
        "\n",
        "# Group all the negative reviews and get the first 25000\n",
        "# imdb_df_neg = (imdb_df[imdb_df['sentiment'] == \"negative\"])[0:2500]\n",
        "imdb_df_neg = (imdb_df[imdb_df['sentiment'] == 0])[0:500]\n",
        "# Group all the positive and get the first 25000\n",
        "# imdb_df_pos = imdb_df[imdb_df['sentiment'] == \"positive\"][0:2500]\n",
        "imdb_df_pos = imdb_df[imdb_df['sentiment'] == 1][0:500]\n",
        "\n",
        "# Combine the two split positives and negatives into one dataframe\n",
        "imdb_df = pd.concat([imdb_df_neg, imdb_df_pos]) \n",
        "\n",
        "# .values on a column of a dataframe returns a numpy array\n",
        "# This is a numpy array of all the reviews\n",
        "# initial_reviews = imdb_df['review'].values\n",
        "feature_vector = imdb_df['review'].values\n",
        "# print(feature_vector)\n",
        "\n",
        "# This is a numpy array of all the positive and negativelabels\n",
        "labels = imdb_df['sentiment'].values\n",
        "\n",
        "# Shuffle the labesl and feature vector using sklearn shuffle\n",
        "feature_vector, labels = shuffle(feature_vector, labels)\n",
        "\n",
        "# Creating train and test data\n",
        "# The splits will be 80:20 \n",
        "no_samples = 0.8\n",
        "\n",
        "# This gets the percentage of indexes from feature vector and uses those for training\n",
        "X_train = feature_vector[0:int(no_samples*len(feature_vector))]\n",
        "y_train = labels[0:int(no_samples*len(labels))]\n",
        "\n",
        "# Go from the index that was used for training to the final\n",
        "X_test = feature_vector[int(no_samples*len(feature_vector)):len(feature_vector)]\n",
        "y_test = labels[int(no_samples*len(labels)):len(labels)]\n",
        "\n",
        "print(X_train.shape)\n",
        "print(type(X_train))"
      ],
      "execution_count": null,
      "outputs": [
        {
          "output_type": "stream",
          "text": [
            "(800,)\n",
            "<class 'numpy.ndarray'>\n"
          ],
          "name": "stdout"
        }
      ]
    },
    {
      "cell_type": "code",
      "metadata": {
        "id": "tHCUSQn35mQ_"
      },
      "source": [
        "# Create the text classifier\n",
        "# It is only going to do 1 model but change max trials for more\n",
        "# Has a built in project name, default is text_classifier\n",
        "# Trials is the amount of keras models to use, default is 1000 and might stop before reaching that number\n",
        "# Directory sets where search outputs will be saved\n",
        "# Objective is what it needs to prioritise, default is val_loss but val_accuracy can be used\n",
        "# Naming convention = ak_epochs_dataNo_trials\n",
        "clf = ak.TextClassifier(overwrite=True, project_name=\"ak_10_1000_2\", max_trials=2, directory=\"/content/drive/MyDrive/CIT/FYP/ImplementationFiles/ExportedModels/AutoKeras/SearchOuputs\", objective=\"val_loss\")"
      ],
      "execution_count": null,
      "outputs": []
    },
    {
      "cell_type": "code",
      "metadata": {
        "id": "ieccGP7y5mMZ",
        "colab": {
          "base_uri": "https://localhost:8080/"
        },
        "outputId": "f03002ae-b210-40ec-9f75-c0523f9c1eeb"
      },
      "source": [
        "# Call the fit function and train the models for only 2 epochs\n",
        "# Leave empty for adaptive epochs\n",
        "# By default, auto keras will use the last 20% of training data for validation\n",
        "# Setting validation to 0.2 in this case to just to demonstrate\n",
        "print(\"Creating Fit the model\")\n",
        "print(\"=\"*50)\n",
        "start = time.time()\n",
        "# Default epochs is 1000\n",
        "clf.fit(X_train, y_train, validation_split=0.2, epochs=10, verbose=1)\n",
        "end = time.time()\n",
        "print(\"Model Fitting Finished\")\n",
        "print(f\"Execution time is {end - start} secs\")\n",
        "print(\"=\"*50)"
      ],
      "execution_count": null,
      "outputs": [
        {
          "output_type": "stream",
          "text": [
            "Trial 2 Complete [00h 00m 21s]\n",
            "val_loss: 0.5580519437789917\n",
            "\n",
            "Best val_loss So Far: 0.48492270708084106\n",
            "Total elapsed time: 00h 01m 06s\n",
            "INFO:tensorflow:Oracle triggered exit\n",
            "Epoch 1/10\n",
            "25/25 [==============================] - 6s 190ms/step - loss: 0.6965 - accuracy: 0.4857\n",
            "Epoch 2/10\n",
            "25/25 [==============================] - 5s 188ms/step - loss: 0.6943 - accuracy: 0.5239\n",
            "Epoch 3/10\n",
            "25/25 [==============================] - 5s 188ms/step - loss: 0.6864 - accuracy: 0.5375\n",
            "Epoch 4/10\n",
            "25/25 [==============================] - 5s 185ms/step - loss: 0.6680 - accuracy: 0.6290\n",
            "Epoch 5/10\n",
            "25/25 [==============================] - 5s 186ms/step - loss: 0.6176 - accuracy: 0.7368\n",
            "Epoch 6/10\n",
            "25/25 [==============================] - 5s 186ms/step - loss: 0.4642 - accuracy: 0.7960\n",
            "Epoch 7/10\n",
            "25/25 [==============================] - 5s 186ms/step - loss: 0.2557 - accuracy: 0.9141\n",
            "Epoch 8/10\n",
            "25/25 [==============================] - 5s 186ms/step - loss: 0.0996 - accuracy: 0.9822\n",
            "Epoch 9/10\n",
            "25/25 [==============================] - 5s 186ms/step - loss: 0.0355 - accuracy: 0.9954\n",
            "Epoch 10/10\n",
            "25/25 [==============================] - 5s 186ms/step - loss: 0.0135 - accuracy: 1.0000\n",
            "INFO:tensorflow:Assets written to: /content/drive/MyDrive/CIT/FYP/ImplementationFiles/ExportedModels/AutoKeras/SearchOuputs/ak_10_1000_2/best_model/assets\n",
            "Model Fitting Finished\n",
            "Execution time is 117.69934344291687 secs\n",
            "==================================================\n"
          ],
          "name": "stdout"
        }
      ]
    },
    {
      "cell_type": "code",
      "metadata": {
        "id": "JX5qeVhC5l1g",
        "colab": {
          "base_uri": "https://localhost:8080/"
        },
        "outputId": "e5abc64a-1737-4cdd-ba88-43e73bcdf605"
      },
      "source": [
        "# Create some predictions\n",
        "y_pred = clf.predict(X_test)\n",
        "\n",
        "# Evaluate the model used\n",
        "print(clf.evaluate(X_test, y_test, verbose = 1))"
      ],
      "execution_count": null,
      "outputs": [
        {
          "output_type": "stream",
          "text": [
            "7/7 [==============================] - 1s 51ms/step - loss: 0.5357 - accuracy: 0.8150\n",
            "[0.5357452034950256, 0.8149999976158142]\n"
          ],
          "name": "stdout"
        }
      ]
    },
    {
      "cell_type": "markdown",
      "metadata": {
        "id": "T_z1r-j9Nu5F"
      },
      "source": [
        "# Metrics"
      ]
    },
    {
      "cell_type": "code",
      "metadata": {
        "colab": {
          "base_uri": "https://localhost:8080/"
        },
        "id": "DNkCv0aXDj6V",
        "outputId": "aab93e3f-753a-443b-8b5a-3413c4b82ecb"
      },
      "source": [
        "from sklearn import metrics\n",
        "print(metrics.classification_report(y_test, y_pred))\n",
        "print(metrics.confusion_matrix(y_test, y_pred))"
      ],
      "execution_count": null,
      "outputs": [
        {
          "output_type": "stream",
          "text": [
            "              precision    recall  f1-score   support\n",
            "\n",
            "           0       0.84      0.77      0.80        99\n",
            "           1       0.79      0.86      0.82       101\n",
            "\n",
            "    accuracy                           0.81       200\n",
            "   macro avg       0.82      0.81      0.81       200\n",
            "weighted avg       0.82      0.81      0.81       200\n",
            "\n",
            "[[76 23]\n",
            " [14 87]]\n"
          ],
          "name": "stdout"
        }
      ]
    },
    {
      "cell_type": "code",
      "metadata": {
        "colab": {
          "base_uri": "https://localhost:8080/"
        },
        "id": "QpUZhNrxKcgC",
        "outputId": "a3045a07-fc03-49b5-f617-8545ee925642"
      },
      "source": [
        "from sklearn import metrics\n",
        "\n",
        "# paramters are y_true, y_pred\n",
        "C = metrics.confusion_matrix(y_test, y_pred)\n",
        "\n",
        "# lists for the confusion matrix\n",
        "true_positive = []\n",
        "true_negative = []\n",
        "false_postiive = []\n",
        "false_negatives = []\n",
        "\n",
        "true_positive.append(C[0,0])\n",
        "true_negative.append(C[1,1])            \n",
        "false_postiive.append(C[1,0])\n",
        "false_negatives.append(C[0,1])\n",
        "\n",
        "print(C)\n",
        "\n",
        "print((\"=\"*50))\n",
        "\n",
        "print(\"True positives:\", round(np.sum(true_positive)/len(y_test), 5), \"%\")\n",
        "print(\"True negatives:\", round(np.sum(true_negative)/len(y_test), 5), \"%\")\n",
        "print(\"False positives:\", round(np.sum(false_postiive)/len(y_test), 5), \"%\")\n",
        "print(\"False negatives:\", round(np.sum(false_negatives)/len(y_test), 5), \"%\")"
      ],
      "execution_count": null,
      "outputs": [
        {
          "output_type": "stream",
          "text": [
            "[[76 23]\n",
            " [14 87]]\n",
            "==================================================\n",
            "True positives: 0.38 %\n",
            "True negatives: 0.435 %\n",
            "False positives: 0.07 %\n",
            "False negatives: 0.115 %\n"
          ],
          "name": "stdout"
        }
      ]
    },
    {
      "cell_type": "code",
      "metadata": {
        "id": "0LhjaMr8DQd6"
      },
      "source": [
        "true_positive = C[0,0]\n",
        "true_negative = C[1,1]            \n",
        "false_postiive = C[1,0]\n",
        "false_negatives = C[0,1]\n",
        "\n",
        "precision = true_positive/(true_positive+false_postiive)\n",
        "recall = true_positive/(true_positive/false_negatives)"
      ],
      "execution_count": null,
      "outputs": []
    },
    {
      "cell_type": "code",
      "metadata": {
        "colab": {
          "base_uri": "https://localhost:8080/"
        },
        "id": "Hi4HGAXbDFd_",
        "outputId": "5b8c2c50-b2f4-42f6-baa3-0dab38427f7a"
      },
      "source": [
        "f1_score = (precision*recall)/(precision+recall)\n",
        "\n",
        "print(f1_score)"
      ],
      "execution_count": null,
      "outputs": [
        {
          "output_type": "stream",
          "text": [
            "0.814538676607642\n"
          ],
          "name": "stdout"
        }
      ]
    },
    {
      "cell_type": "code",
      "metadata": {
        "colab": {
          "base_uri": "https://localhost:8080/"
        },
        "id": "fDah_dWqDG3d",
        "outputId": "4dd57b93-ab1a-4708-83c4-9b04d4333282"
      },
      "source": [
        "FPR = false_postiive/(false_postiive+true_negative)\n",
        "print(FPR)"
      ],
      "execution_count": null,
      "outputs": [
        {
          "output_type": "stream",
          "text": [
            "0.13861386138613863\n"
          ],
          "name": "stdout"
        }
      ]
    },
    {
      "cell_type": "code",
      "metadata": {
        "colab": {
          "base_uri": "https://localhost:8080/"
        },
        "id": "a7JXhH3uAhNx",
        "outputId": "182520d3-2e74-4917-abd6-398ec4daad4c"
      },
      "source": [
        "fpr, tpr, thresh = metrics.roc_curve(y_test, y_pred)\n",
        "\n",
        "auc = metrics.auc(fpr, tpr)\n",
        "\n",
        "print(\"AUC:\", auc)"
      ],
      "execution_count": null,
      "outputs": [
        {
          "output_type": "stream",
          "text": [
            "AUC: 0.8145314531453145\n"
          ],
          "name": "stdout"
        }
      ]
    },
    {
      "cell_type": "code",
      "metadata": {
        "colab": {
          "base_uri": "https://localhost:8080/",
          "height": 295
        },
        "id": "V-hE00gtA2JU",
        "outputId": "ebf0643c-51fe-4f5e-942f-29eb4f9d35e3"
      },
      "source": [
        "import matplotlib.pyplot as plt\n",
        "\n",
        "plt.plot(fpr, tpr, label='ROC curve (area = %.2f)' %auc)\n",
        "plt.plot([0, 1], [0, 1], linestyle='--', lw=2, color='r', label='Random guess')\n",
        "plt.title('ROC curve AutoKeras')\n",
        "plt.xlabel('False Positive Rate')\n",
        "plt.ylabel('True Positive Rate')\n",
        "plt.grid()\n",
        "plt.legend()\n",
        "plt.show()"
      ],
      "execution_count": null,
      "outputs": [
        {
          "output_type": "display_data",
          "data": {
            "image/png": "[encoded data removed]",
            "text/plain": [
              "<Figure size 432x288 with 1 Axes>"
            ]
          },
          "metadata": {
            "tags": [],
            "needs_background": "light"
          }
        }
      ]
    },
    {
      "cell_type": "code",
      "metadata": {
        "id": "ulaxxEW76Kyq",
        "colab": {
          "base_uri": "https://localhost:8080/"
        },
        "outputId": "40fa65a6-8303-4cf9-e218-f9d753564b0f"
      },
      "source": [
        "best_model = clf.export_model()\n",
        "\n",
        "# Naming convenction = ModelAutoKeras_epochs_dataNo_trials\n",
        "try:\n",
        "    best_model.save(\"/content/drive/MyDrive/CIT/FYP/ImplementationFiles/ExportedModels/AutoKeras/Models/mak_10_1000_2\", save_format=\"tf\")\n",
        "except:\n",
        "    best_model.save(\"/content/drive/MyDrive/CIT/FYP/ImplementationFiles/ExportedModels/AutoKeras/Models/mak_10_1000_2.h5\")"
      ],
      "execution_count": null,
      "outputs": [
        {
          "output_type": "stream",
          "text": [
            "WARNING:tensorflow:6 out of the last 6 calls to <function recreate_function.<locals>.restored_function_body at 0x7f7156026710> triggered tf.function retracing. Tracing is expensive and the excessive number of tracings could be due to (1) creating @tf.function repeatedly in a loop, (2) passing tensors with different shapes, (3) passing Python objects instead of tensors. For (1), please define your @tf.function outside of the loop. For (2), @tf.function has experimental_relax_shapes=True option that relaxes argument shapes that can avoid unnecessary retracing. For (3), please refer to https://www.tensorflow.org/guide/function#controlling_retracing and https://www.tensorflow.org/api_docs/python/tf/function for  more details.\n",
            "INFO:tensorflow:Assets written to: /content/drive/MyDrive/CIT/FYP/ImplementationFiles/ExportedModels/AutoKeras/Models/mak_10_1000_2/assets\n"
          ],
          "name": "stdout"
        }
      ]
    },
    {
      "cell_type": "code",
      "metadata": {
        "id": "BaHxJr4U9jgN"
      },
      "source": [
        "# Test loading a model\n",
        "import tensorflow as tf\n",
        "import tensorflow.keras"
      ],
      "execution_count": null,
      "outputs": []
    },
    {
      "cell_type": "code",
      "metadata": {
        "colab": {
          "base_uri": "https://localhost:8080/"
        },
        "id": "PCqdwe5R5SNZ",
        "outputId": "5618732d-c384-4ba1-cd9a-b28b6440d01b"
      },
      "source": [
        "from tensorflow.keras.models import load_model\n",
        "loaded_model = load_model(\"/content/drive/MyDrive/CIT/FYP/ImplementationFiles/ExportedModels/AutoKeras/Models/mak_10_1000_2\", custom_objects=ak.CUSTOM_OBJECTS)"
      ],
      "execution_count": null,
      "outputs": [
        {
          "output_type": "stream",
          "text": [
            "WARNING:tensorflow:7 out of the last 7 calls to <function recreate_function.<locals>.restored_function_body at 0x7f71562200e0> triggered tf.function retracing. Tracing is expensive and the excessive number of tracings could be due to (1) creating @tf.function repeatedly in a loop, (2) passing tensors with different shapes, (3) passing Python objects instead of tensors. For (1), please define your @tf.function outside of the loop. For (2), @tf.function has experimental_relax_shapes=True option that relaxes argument shapes that can avoid unnecessary retracing. For (3), please refer to https://www.tensorflow.org/guide/function#controlling_retracing and https://www.tensorflow.org/api_docs/python/tf/function for  more details.\n"
          ],
          "name": "stdout"
        }
      ]
    },
    {
      "cell_type": "code",
      "metadata": {
        "colab": {
          "base_uri": "https://localhost:8080/"
        },
        "id": "u4ZB104GzLr8",
        "outputId": "89b43048-ea31-4f7e-8fd9-8adcabefba42"
      },
      "source": [
        "y_pred = loaded_model.predict(tf.expand_dims(X_test, -1))\n",
        "# print(predicted_y)\n",
        "print(loaded_model.evaluate(X_test, y_test, verbose = 1))"
      ],
      "execution_count": null,
      "outputs": [
        {
          "output_type": "stream",
          "text": [
            "7/7 [==============================] - 1s 49ms/step - loss: 0.5357 - accuracy: 0.8150\n",
            "[0.5357452034950256, 0.8149999976158142]\n"
          ],
          "name": "stdout"
        }
      ]
    },
    {
      "cell_type": "code",
      "metadata": {
        "colab": {
          "base_uri": "https://localhost:8080/"
        },
        "id": "qyW7cFaQEcEk",
        "outputId": "da52b3d7-909c-437a-e70f-76168c0e445f"
      },
      "source": [
        "from sklearn import metrics\n",
        "print(metrics.classification_report(y_test, y_pred))\n",
        "print(metrics.confusion_matrix(y_test, y_pred))"
      ],
      "execution_count": null,
      "outputs": [
        {
          "output_type": "stream",
          "text": [
            "              precision    recall  f1-score   support\n",
            "\n",
            "           0       0.84      0.77      0.80        99\n",
            "           1       0.79      0.86      0.82       101\n",
            "\n",
            "    accuracy                           0.81       200\n",
            "   macro avg       0.82      0.81      0.81       200\n",
            "weighted avg       0.82      0.81      0.81       200\n",
            "\n",
            "[[76 23]\n",
            " [14 87]]\n"
          ],
          "name": "stdout"
        }
      ]
    },
    {
      "cell_type": "markdown",
      "metadata": {
        "id": "NwtLCc7KNEvS"
      },
      "source": [
        "# Test on test dataset"
      ]
    },
    {
      "cell_type": "code",
      "metadata": {
        "colab": {
          "base_uri": "https://localhost:8080/"
        },
        "id": "wrApvzjNR1wu",
        "outputId": "22be5729-0b4c-44fd-9011-37303252b650"
      },
      "source": [
        "# Load the dataset\n",
        "imdb_df = pd.read_csv(\"/content/drive/MyDrive/CIT/FYP/ImplementationFiles/NPS_TestContent.csv\", encoding='utf8', engine='c')\n",
        "# imdb_df = pd.read_excel(\"/content/drive/MyDrive/CIT/FYP/ImplementationFiles/NPS_TestContent.xlsx\")\n",
        "\n",
        "print(imdb_df.head(10))\n",
        "print(imdb_df.columns)"
      ],
      "execution_count": null,
      "outputs": [
        {
          "output_type": "stream",
          "text": [
            "                                                test sentiment\n",
            "0                               Normal use is light.  Positive\n",
            "1                                   I use it myself.  Positive\n",
            "2                         There's no way to compare.  Positive\n",
            "3                  Each person has his or her taste.  Positive\n",
            "4               I think there's a sense of security.  Positive\n",
            "5  Because I use it from the introduction of a pr...  Positive\n",
            "6  I've been using it for 20 years and I've never...  Positive\n",
            "7                        I'm using it in my company.  Positive\n",
            "8  It is a reliable security software. However, b...  Positive\n",
            "9  There are a lot of updates and additional noti...  Negative\n",
            "Index(['test', 'sentiment'], dtype='object')\n"
          ],
          "name": "stdout"
        }
      ]
    },
    {
      "cell_type": "code",
      "metadata": {
        "colab": {
          "base_uri": "https://localhost:8080/"
        },
        "id": "XUcKdKxfNEfd",
        "outputId": "44a8dc5a-2475-4a14-ad97-4f8ccc8e519a"
      },
      "source": [
        "# Load the dataset\n",
        "imdb_df = pd.read_csv(\"/content/drive/MyDrive/CIT/FYP/ImplementationFiles/NPS_TestContent.csv\", encoding='utf8', engine='c')\n",
        "# imdb_df = pd.read_excel(\"/content/drive/MyDrive/CIT/FYP/ImplementationFiles/NPS_TestContent.xlsx\")\n",
        "\n",
        "imdb_df['sentiment'] = imdb_df['sentiment'].map({'Negative' : 0, 'Positive' : 1})\n",
        "\n",
        "# Group all the negative reviews and get the first 25000\n",
        "# imdb_df_neg = (imdb_df[imdb_df['sentiment'] == \"negative\"])[0:2500]\n",
        "imdb_df_neg = (imdb_df[imdb_df['sentiment'] == 0])\n",
        "# Group all the positive and get the first 25000\n",
        "# imdb_df_pos = imdb_df[imdb_df['sentiment'] == \"positive\"][0:2500]\n",
        "imdb_df_pos = imdb_df[imdb_df['sentiment'] == 1]\n",
        "\n",
        "# Combine the two split positives and negatives into one dataframe\n",
        "imdb_df = pd.concat([imdb_df_neg, imdb_df_pos]) \n",
        "\n",
        "# .values on a column of a dataframe returns a numpy array\n",
        "# This is a numpy array of all the reviews\n",
        "# initial_reviews = imdb_df['review'].values\n",
        "feature_vector = imdb_df['test'].values\n",
        "# print(feature_vector)\n",
        "\n",
        "# This is a numpy array of all the positive and negativelabels\n",
        "labels = imdb_df['sentiment'].values\n",
        "\n",
        "# Shuffle the labesl and feature vector using sklearn shuffle\n",
        "feature_vector, labels = shuffle(feature_vector, labels)\n",
        "\n",
        "# Creating train and test data\n",
        "# The splits will be 80:20 \n",
        "no_samples = 0.8\n",
        "\n",
        "# This gets the percentage of indexes from feature vector and uses those for training\n",
        "X_train = feature_vector[0:int(no_samples*len(feature_vector))]\n",
        "y_train = labels[0:int(no_samples*len(labels))]\n",
        "\n",
        "# Go from the index that was used for training to the final\n",
        "X_test = feature_vector[int(no_samples*len(feature_vector)):len(feature_vector)]\n",
        "y_test = labels[int(no_samples*len(labels)):len(labels)]\n",
        "\n",
        "print(X_train.shape)\n",
        "print(type(X_train))"
      ],
      "execution_count": null,
      "outputs": [
        {
          "output_type": "stream",
          "text": [
            "(1198,)\n",
            "<class 'numpy.ndarray'>\n"
          ],
          "name": "stdout"
        }
      ]
    },
    {
      "cell_type": "code",
      "metadata": {
        "colab": {
          "base_uri": "https://localhost:8080/"
        },
        "id": "fXLdWyEzSArT",
        "outputId": "fa41ca86-f6ac-4322-bb4d-a2b69d8f9980"
      },
      "source": [
        "y_pred = loaded_model.predict(tf.expand_dims(X_test, -1))\n",
        "# print(predicted_y)\n",
        "print(loaded_model.evaluate(X_test, y_test, verbose = 1))\n",
        "\n",
        "y_pred = [round(i[0]) for i in y_pred]\n",
        "\n",
        "from sklearn import metrics\n",
        "print(metrics.classification_report(y_test, y_pred))\n",
        "print(metrics.confusion_matrix(y_test, y_pred))"
      ],
      "execution_count": null,
      "outputs": [
        {
          "output_type": "stream",
          "text": [
            "10/10 [==============================] - 1s 51ms/step - loss: 0.7984 - accuracy: 0.7333\n",
            "[0.7983914017677307, 0.7333333492279053]\n",
            "              precision    recall  f1-score   support\n",
            "\n",
            "         0.0       0.32      0.22      0.26        64\n",
            "         1.0       0.80      0.87      0.84       236\n",
            "\n",
            "    accuracy                           0.73       300\n",
            "   macro avg       0.56      0.55      0.55       300\n",
            "weighted avg       0.70      0.73      0.71       300\n",
            "\n",
            "[[ 14  50]\n",
            " [ 30 206]]\n"
          ],
          "name": "stdout"
        }
      ]
    },
    {
      "cell_type": "markdown",
      "metadata": {
        "id": "06q3_IUWBxsz"
      },
      "source": [
        "# Old code\n",
        "\n",
        "---\n",
        "\n",
        "---\n",
        "\n",
        "---\n",
        "\n",
        "---\n",
        "\n"
      ]
    },
    {
      "cell_type": "code",
      "metadata": {
        "id": "8sPOCEGS5Xgn"
      },
      "source": [
        "# Create the set of stopwords for cleaning text\n",
        "stopwords = set(w.rstrip() for w in open('/content/drive/MyDrive/CIT/FYP/ImplementationFiles/stopwords.txt'))"
      ],
      "execution_count": null,
      "outputs": []
    },
    {
      "cell_type": "code",
      "metadata": {
        "id": "j4ptneBc5tAN"
      },
      "source": [
        "# This funciton handles celaning text\n",
        "def clean_text(text):\n",
        "    # Create the lemmatizer\n",
        "    wordnet_lemmatizer = WordNetLemmatizer()\n",
        "    \n",
        "    # Get rid of non alpha characters except \"'\" as it is needed for the lemment\n",
        "    text = \"\".join(c for c in text if c.isalnum() or c == \" \" or \"'\")\n",
        "    \n",
        "    # Get rid of capitals\n",
        "    text = text.lower()\n",
        "    \n",
        "    # Tokenize the words    \n",
        "    # Create tokens of each word\n",
        "    token_text = word_tokenize(text)\n",
        "    \n",
        "    # Get rid of any piece of text that isn't over 2 characters\n",
        "    token_text = [t for t in token_text if len(t) > 2] \n",
        "    \n",
        "    # Put words in base form by doing lemmatization\n",
        "    token_text = [wordnet_lemmatizer.lemmatize(t) for t in token_text]\n",
        "\n",
        "    # Remove stopwords\n",
        "    token_text = [t for t in token_text if t not in stopwords]\n",
        "    \n",
        "    # Return the tokens\n",
        "    return token_text"
      ],
      "execution_count": null,
      "outputs": []
    },
    {
      "cell_type": "code",
      "metadata": {
        "id": "xu5dFDM75tjR"
      },
      "source": [
        "# This function will get the term frequencies for word in the review\n",
        "# TF = Term I frequency in document/total words in document\n",
        "def calc_tf(term_count, review_corpus):\n",
        "    # A dictionary of all the term frequencies found\n",
        "    tf_freq = dict.fromkeys(term_count.keys(), 0)   \n",
        "    \n",
        "    # Review corpus is a tokenized list so the total words iteh length\n",
        "    total_words = len(review_corpus)\n",
        "    \n",
        "    # Calculate the term frequency for each word\n",
        "    for word, count in term_count.items():\n",
        "        tf_freq[word] = count/total_words\n",
        "        \n",
        "    return tf_freq"
      ],
      "execution_count": null,
      "outputs": []
    },
    {
      "cell_type": "code",
      "metadata": {
        "id": "i64Bq0rH5uN0"
      },
      "source": [
        "# This calcualtes the idf\n",
        "# IDF = log(2)*(Total number of Documents/documents frequency or documents with term)\n",
        "def calc_idf(unique_terms, list_doc_terms):   \n",
        "    # A dicitonary of all the inverse document frequencies\n",
        "    idf = dict.fromkeys(unique_terms, 0)\n",
        "    \n",
        "    # Basically list_doc_terms has all the documents with the term count for each word\n",
        "    # You go through each document count the terms where they occured\n",
        "    for doc_terms in list_doc_terms:  \n",
        "        # This for loop is counting the amount of document a word was in\n",
        "        for word, value in doc_terms.items():\n",
        "            if 0 < value:\n",
        "                idf[word] += 1\n",
        "        \n",
        "    # Now we calculate idf\n",
        "    for word, value in idf.items():\n",
        "        idf[word] = math.log10(10 / float(value))\n",
        "    \n",
        "    return idf"
      ],
      "execution_count": null,
      "outputs": []
    },
    {
      "cell_type": "code",
      "metadata": {
        "id": "9XTmL87F5uaU"
      },
      "source": [
        "# Modified this function to return a list as dictionaries arn't needed anymore\n",
        "def calc_tf_idf(tf, idf, n_terms):\n",
        "    # Create an array that is of length of the number of unique terms\n",
        "    tf_idf_array = np.zeros(n_terms)\n",
        "    \n",
        "    for index, (word, value) in enumerate(tf.items()):\n",
        "        # Add the tfidf to the array\n",
        "        tf_idf_array[index] = value*idf[word]\n",
        "    \n",
        "    return tf_idf_array"
      ],
      "execution_count": null,
      "outputs": []
    },
    {
      "cell_type": "code",
      "metadata": {
        "id": "XzOme9px5uks"
      },
      "source": [
        "def process_text(text_data):\n",
        "    # A list of all the cleaned reviews\n",
        "    doc_list = []\n",
        "    \n",
        "    # List of all the unique terms\n",
        "    unique_terms = []\n",
        "    \n",
        "    # A list of all the term frequencies\n",
        "    tf_list = []\n",
        "    \n",
        "    for review in text_data:\n",
        "        # First clean the review\n",
        "        clean_review = clean_text(review)\n",
        "        \n",
        "        # Keeps track of the term counts for each word\n",
        "        count_dict = {}\n",
        "        \n",
        "        # Now lets find the total count for each word\n",
        "        for token in clean_review:\n",
        "            if token not in count_dict:\n",
        "                count_dict[token] = 1\n",
        "            else:\n",
        "                count_dict[token] += 1\n",
        "        \n",
        "        # Caclulate the term frequencies for each document\n",
        "        tf_list.append(calc_tf(count_dict, clean_review))\n",
        "        \n",
        "        # Then add the dictionary of counts for each document to the list\n",
        "        doc_list.append(count_dict)\n",
        "        \n",
        "        # Then add the new unique terms\n",
        "        unique_terms = set(unique_terms).union(set(clean_review))\n",
        "    \n",
        "    # Calculate the inverse document frequency value\n",
        "    idf = calc_idf(unique_terms, doc_list)\n",
        "    \n",
        "    # This array will contain the tfidf values for each term in each review\n",
        "    tfidf_values = np.zeros((len(tf_list), len(unique_terms)))\n",
        "    \n",
        "    # Now we can get the TFIDF for each document\n",
        "    for index, term_freq in enumerate(tf_list):\n",
        "        # This will return an array of the tfidf values calculated.\n",
        "        # The length of the unique terms list is passed in so that the \n",
        "        # Array that is returned matches the tfidf array\n",
        "        tf_idf_array = calc_tf_idf(term_freq, idf, len(unique_terms))\n",
        "        # Add this to the overall tfidf values calculated\n",
        "        tfidf_values[index,:] = tf_idf_array\n",
        "    \n",
        "    return tfidf_values"
      ],
      "execution_count": null,
      "outputs": []
    },
    {
      "cell_type": "code",
      "metadata": {
        "id": "JUz1Vq_D6Ett"
      },
      "source": [
        "# Prepare the data\n",
        "def prepare_data():\n",
        "    print(\"=\"*50)\n",
        "\n",
        "    # Load the dataset\n",
        "    # imdb_df = pd.read_csv(\"IMDB Dataset.csv\")\n",
        "    imdb_df = pd.read_csv(\"/content/drive/MyDrive/CIT/FYP/ImplementationFiles/IMDB_Dataset.csv\")\n",
        "    print(\"Dataset loaded\")\n",
        "    print(\"=\"*50)\n",
        "\n",
        "    \n",
        "    # Change each positive and negative value to 1 and 0 respectively    \n",
        "    imdb_df['sentiment'] = imdb_df['sentiment'].map({'negative' : 0, 'positive' : 1})\n",
        "    \n",
        "    # For testing, a much smaller dataset is going to be used\n",
        "    imdb_df = imdb_df.head(5000)\n",
        "\n",
        "    # Group all the negative reviews and get the first 2500\n",
        "    imdb_df_neg = (imdb_df[imdb_df['sentiment'] == 0])[0:2500]\n",
        "    # Group all the positive and get the first 2500\n",
        "    imdb_df_pos = imdb_df[imdb_df['sentiment'] == 1]\n",
        "    \n",
        "    test_df = pd.concat([imdb_df_neg, imdb_df_pos]) \n",
        "    # print(test_df)\n",
        "    \n",
        "    # .values on a column of a dataframe returns a numpy array\n",
        "    # This is a numpy array of all the reviews\n",
        "    # initial_reviews = imdb_df['review'].values\n",
        "    initial_reviews = test_df['review'].values\n",
        "    \n",
        "    # This is a numpy array of all the positive and negativelabels\n",
        "    # labels = imdb_df['sentiment'].values\n",
        "    labels = test_df['sentiment'].values\n",
        "    \n",
        "    print(\"Creating Feature Vector\")\n",
        "    print(\"=\"*50)\n",
        "    start = time.time()\n",
        "    # Process the text data and create teh feature vector\n",
        "    feature_vector = process_text(initial_reviews)\n",
        "    end = time.time()\n",
        "    print(\"Feature Vector Created\")\n",
        "    print(f\"Execution time is {end - start} secs\")\n",
        "    print(\"=\"*50)\n",
        "    \n",
        "    # Shuffle the labesl and feature vector using sklearn shuffle\n",
        "    feature_vector, labels = shuffle(feature_vector, labels)\n",
        "    \n",
        "    # Creating train and test data\n",
        "    # The splits will be 80:20 \n",
        "    no_samples = 0.8\n",
        "    \n",
        "    # This gets the percentage of indexes from feature vector and uses those for training\n",
        "    X_train = feature_vector[0:int(no_samples*len(feature_vector))]\n",
        "    y_train = labels[0:int(no_samples*len(labels))]\n",
        "    \n",
        "    # Go from the index that was used for training to the final\n",
        "    X_test = feature_vector[int(no_samples*len(feature_vector)):len(feature_vector)]\n",
        "    y_test = labels[int(no_samples*len(labels)):len(labels)]\n",
        "\n",
        "    return X_train, y_train, X_test, y_test"
      ],
      "execution_count": null,
      "outputs": []
    }
  ]
}